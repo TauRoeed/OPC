{
 "cells": [
  {
   "cell_type": "code",
   "execution_count": 1,
   "metadata": {},
   "outputs": [
    {
     "name": "stdout",
     "output_type": "stream",
     "text": [
      "Using device: cpu\n",
      "Using device: cpu\n",
      "Using device: cpu\n"
     ]
    }
   ],
   "source": [
    "import warnings\n",
    "warnings.filterwarnings(\"ignore\")\n",
    "from copy import deepcopy\n",
    "from datetime import datetime\n",
    "from pathlib import Path\n",
    "\n",
    "import numpy as np\n",
    "import pandas as pd\n",
    "import sys\n",
    "\n",
    "sys.path.append(\"/code\")\n",
    "\n",
    "from tqdm import tqdm\n",
    "import torch\n",
    "# device = torch.device('cpu')\n",
    "device = torch.device(\"cuda\" if torch.cuda.is_available() else \"cpu\")\n",
    "print(f\"Using device: {device}\")\n",
    "# import gym\n",
    "# import recogym\n",
    "\n",
    "import torch.nn as nn\n",
    "import torch.nn.functional as F\n",
    "from torch.utils.data import DataLoader, Dataset\n",
    "import torch.optim as optim\n",
    "\n",
    "from sklearn.utils import check_random_state\n",
    "\n",
    "# implementing OPE of the IPWLearner using synthetic bandit data\n",
    "from sklearn.linear_model import LogisticRegression\n",
    "\n",
    "import matplotlib.pyplot as plt\n",
    "\n",
    "from scipy.special import softmax\n",
    "import optuna\n",
    "# from memory_profiler import profile\n",
    "\n",
    "\n",
    "from estimators import (\n",
    "    DirectMethod as DM\n",
    ")\n",
    "\n",
    "from simulation_utils import (\n",
    "    eval_policy,\n",
    "    generate_dataset,\n",
    "    create_simulation_data_from_pi,\n",
    "    get_train_data,\n",
    "    get_opl_results_dict,\n",
    "    CustomCFDataset,\n",
    "    calc_reward\n",
    ")\n",
    "\n",
    "from models import (    \n",
    "    CFModel,\n",
    "    NeighborhoodModel,\n",
    "    BPRModel, \n",
    "    RegressionModel\n",
    ")\n",
    "\n",
    "from training_utils import (\n",
    "    fit_bpr,\n",
    "    train,\n",
    "    validation_loop\n",
    " )\n",
    "\n",
    "from custom_losses import (\n",
    "    SNDRPolicyLoss,\n",
    "    BPRLoss\n",
    "    )\n",
    "\n",
    "random_state=12345\n",
    "random_ = check_random_state(random_state)"
   ]
  },
  {
   "cell_type": "code",
   "execution_count": 2,
   "metadata": {},
   "outputs": [],
   "source": [
    "pd.options.display.float_format = '{:,.4f}'.format"
   ]
  },
  {
   "cell_type": "markdown",
   "metadata": {},
   "source": [
    "## `trainer_trial` Function\n",
    "\n",
    "This function runs policy learning experiments using offline bandit data and evaluates various estimators.\n",
    "\n",
    "### Parameters\n",
    "- **num_runs** (int): Number of experimental runs per training size\n",
    "- **num_neighbors** (int): Number of neighbors to consider in the neighborhood model\n",
    "- **num_rounds_list** (list): List of training set sizes to evaluate\n",
    "- **dataset** (dict): Contains dataset information including embeddings, action probabilities, and reward probabilities\n",
    "- **batch_size** (int): Batch size for training the policy model\n",
    "- **num_epochs** (int): Number of training epochs for each experiment\n",
    "- **lr** (float, default=0.001): Learning rate for the optimizer\n",
    "\n",
    "### Process Flow\n",
    "1. Initializes result structures and retrieval models\n",
    "2. For each training size in `num_rounds_list`:\n",
    "   - Creates a uniform logging policy and simulates data\n",
    "   - Generates training data for offline learning\n",
    "   - Fits regression and neighborhood models for reward estimation\n",
    "   - Initializes and trains a counterfactual policy model\n",
    "   - Evaluates policy performance using various estimators\n",
    "   - Collects metrics on policy reward and embedding quality\n",
    "\n",
    "### Returns\n",
    "- **DataFrame**: Results table with rows indexed by training size and columns for various metrics:\n",
    "  - `policy_rewards`: True expected reward of the learned policy\n",
    "  - Various estimator errors (`ipw`, `reg_dm`, `conv_dm`, `conv_dr`, `conv_sndr`)\n",
    "  - Variance metrics for each estimator\n",
    "  - Embedding quality metrics comparing learned representations to ground truth\n",
    "\n",
    "### Implementation Notes\n",
    "- Uses uniform random logging policy for collecting offline data\n",
    "- Employs Self-Normalized Doubly Robust (SNDR) policy learning\n",
    "- Measures embedding quality via RMSE to original/ground truth embeddings"
   ]
  },
  {
   "cell_type": "code",
   "execution_count": null,
   "metadata": {},
   "outputs": [],
   "source": [
    "def trainer_trial(\n",
    "                  num_runs,\n",
    "                  num_neighbors,\n",
    "                  num_rounds_list,\n",
    "                  dataset,\n",
    "                  batch_size,\n",
    "                  val_size=2000\n",
    "                  ):\n",
    "    \n",
    "    # Define device at the beginning\n",
    "    # device = torch.device(\"cuda\" if torch.cuda.is_available() else \"cpu\")\n",
    "    def objective(trial):\n",
    "    \n",
    "        # Optuna objective function\n",
    "        lr = trial.suggest_loguniform(\"lr\", 1e-4, 1e-3)\n",
    "        epochs = trial.suggest_int(\"num_epochs\", 1, 10)\n",
    "\n",
    "        trial_neigh_model = NeighborhoodModel(\n",
    "                                                train_data['x_idx'],\n",
    "                                                train_data['a'], \n",
    "                                                our_a,\n",
    "                                                our_x, \n",
    "                                                train_data['r'], \n",
    "                                                num_neighbors=num_neighbors\n",
    "                                            )\n",
    "        \n",
    "\n",
    "        trial_model = CFModel(\n",
    "                        n_users, \n",
    "                        n_actions, \n",
    "                        emb_dim, \n",
    "                        initial_user_embeddings=torch.tensor(our_x, device=device), \n",
    "                        initial_actions_embeddings=torch.tensor(our_a, device=device)\n",
    "                        )\n",
    "        \n",
    "        # Training\n",
    "        train(trial_model, train_loader, trial_neigh_model, criterion=SNDRPolicyLoss(), num_epochs=epochs, lr=lr, device=device)\n",
    "        return validation_loop(trial_model, val_loader, trial_neigh_model)\n",
    "    \n",
    "    device = torch.device('cpu')\n",
    "\n",
    "    dm = DM()\n",
    "    results = {}\n",
    "\n",
    "    our_x, our_a = dataset[\"our_x\"], dataset[\"our_a\"]\n",
    "    emb_x, emb_a = dataset[\"emb_x\"], dataset[\"emb_a\"]\n",
    "    original_x, original_a = dataset[\"original_x\"], dataset[\"original_a\"]\n",
    "    n_users, n_actions, emb_dim = dataset[\"n_users\"], dataset[\"n_actions\"], dataset[\"emb_dim\"]\n",
    "    \n",
    "    first = True\n",
    "\n",
    "    for train_size in num_rounds_list:\n",
    "        reg_results, conv_results = [], []\n",
    "        \n",
    "        for run in range(num_runs):\n",
    "\n",
    "            pi_0 = softmax(our_x @ our_a.T, axis=1)\n",
    "            original_policy_prob = np.expand_dims(pi_0, -1)\n",
    "\n",
    "            simulation_data = create_simulation_data_from_pi(\n",
    "                                                            dataset,\n",
    "                                                            pi_0,\n",
    "                                                            train_size + val_size,\n",
    "                                                            random_state=(run + 1) * train_size\n",
    "                                                            )\n",
    "            # test_data = get_test_data(dataset, simulation_data, n_test_data)\n",
    "\n",
    "            # idx = np.arange(train_size) + n_test_data\n",
    "            idx = np.arange(train_size)\n",
    "\n",
    "            train_data = get_train_data(n_actions, train_size, simulation_data, idx, our_x)\n",
    "            val_data = get_train_data(n_actions, val_size, simulation_data, np.arange(val_size) + train_size, our_x)\n",
    "\n",
    "            regression_model = RegressionModel(\n",
    "                                    n_actions=n_actions,\n",
    "                                    action_context=our_x,\n",
    "                                    base_model=LogisticRegression(random_state=12345)\n",
    "                                    )\n",
    "            \n",
    "            regression_model.fit(\n",
    "                                train_data['x'], \n",
    "                                train_data['a'],\n",
    "                                train_data['r'],\n",
    "                                original_policy_prob[train_data['x_idx'],\n",
    "                                train_data['a']].squeeze()\n",
    "                                )\n",
    "            \n",
    "            neighberhoodmodel = NeighborhoodModel(\n",
    "                                                    train_data['x_idx'],\n",
    "                                                    train_data['a'], \n",
    "                                                    our_a,\n",
    "                                                    our_x, \n",
    "                                                    train_data['r'], \n",
    "                                                    num_neighbors=num_neighbors\n",
    "                                                )\n",
    "            \n",
    "\n",
    "            model = CFModel(\n",
    "                            n_users, \n",
    "                            n_actions, \n",
    "                            emb_dim, \n",
    "                            initial_user_embeddings=torch.tensor(our_x, device=device), \n",
    "                            initial_actions_embeddings=torch.tensor(our_a, device=device)\n",
    "                            )\n",
    "            \n",
    "            cf_dataset =  CustomCFDataset(\n",
    "                                       train_data['x_idx'], \n",
    "                                       train_data['a'], \n",
    "                                       train_data['r'], \n",
    "                                       original_policy_prob\n",
    "                                       )\n",
    "            \n",
    "            train_loader = DataLoader(cf_dataset, batch_size=batch_size, shuffle=True)\n",
    "\n",
    "            val_dataset =  CustomCFDataset(\n",
    "                            val_data['x_idx'], \n",
    "                            val_data['a'], \n",
    "                            val_data['r'], \n",
    "                            original_policy_prob\n",
    "                            )\n",
    "            \n",
    "            val_loader = DataLoader(val_dataset, batch_size=val_size, shuffle=True)\n",
    "\n",
    "            if first:\n",
    "                policy = np.expand_dims(softmax(our_x @ our_a.T, axis=1), -1)\n",
    "                conv_results.append(eval_policy(neighberhoodmodel, train_data, original_policy_prob, policy))\n",
    "                conv_results[-1] = np.append(calc_reward(dataset, policy), conv_results[-1])\n",
    "                conv_results[-1] = np.append(conv_results[-1], [np.sqrt(np.mean((emb_a-our_a)**2)), np.sqrt(np.mean((original_a-our_a)**2))])\n",
    "                conv_results[-1] = np.append(conv_results[-1], [np.sqrt(np.mean((emb_x-our_x)**2)), np.sqrt(np.mean((original_x-our_x)**2))])\n",
    "                # bpr_scores = bpr_model.calc_scores(torch.tensor(train_data['x_idx'], device=device, dtype=torch.long)).detach().cpu().numpy()\n",
    "                reg_dm = dm.estimate_policy_value(policy[train_data['x_idx']], regression_model.predict(train_data['x']))\n",
    "                reg_results.append(reg_dm)\n",
    "                first = False\n",
    "                reg_results = np.array(reg_results)\n",
    "                conv_results = np.array(conv_results)\n",
    "                results[0] = get_opl_results_dict(reg_results, conv_results)\n",
    "                reg_results, conv_results = [], []\n",
    "                \n",
    "            # Bloss = BPRLoss()\n",
    "            # bpr_model = BPRModel(\n",
    "            #                     n_users,\n",
    "            #                     n_actions,\n",
    "            #                     emb_x.shape[1], \n",
    "            #                     initial_user_embeddings=torch.tensor(our_x, device=device), \n",
    "            #                     initial_actions_embeddings=torch.tensor(our_a, device=device)\n",
    "            #                     )\n",
    "\n",
    "            study = optuna.create_study(direction=\"maximize\")\n",
    "            study.optimize(objective, n_trials=10, show_progress_bar=True)\n",
    "            best_params = study.best_params\n",
    "\n",
    "            neighberhoodmodel = NeighborhoodModel(\n",
    "                                                    train_data['x_idx'],\n",
    "                                                    train_data['a'], \n",
    "                                                    our_a,\n",
    "                                                    our_x, \n",
    "                                                    train_data['r'], \n",
    "                                                    num_neighbors=num_neighbors\n",
    "                                                )\n",
    "            \n",
    "\n",
    "            model = CFModel(\n",
    "                            n_users, \n",
    "                            n_actions, \n",
    "                            emb_dim, \n",
    "                            initial_user_embeddings=torch.tensor(our_x, device=device), \n",
    "                            initial_actions_embeddings=torch.tensor(our_a, device=device)\n",
    "                            )\n",
    "\n",
    "            train(model, train_loader, neighberhoodmodel, criterion=SNDRPolicyLoss(), num_epochs=best_params['num_epochs'], lr=best_params['lr'], device=device)\n",
    "            # fit_bpr(bpr_model, Bloss, train_loader, num_epochs=3, lr=0.001, device=device)\n",
    "            # neighborhood_model.update(model.get_params()[0].detach().numpy(), model.get_params()[1].detach().numpy())'\n",
    "\n",
    "            our_x, our_a = model.get_params()\n",
    "            our_a, our_x = our_a.detach().cpu().numpy(), our_x.detach().cpu().numpy()\n",
    "\n",
    "            policy = np.expand_dims(softmax(our_x @ our_a.T, axis=1), -1)\n",
    "\n",
    "            # bpr_scores = bpr_model.calc_scores(torch.tensor(train_data['x_idx'], device=device, dtype=torch.long)).detach().cpu().numpy()\n",
    "            # reg_dm = dm.estimate_policy_value(policy[train_data['x_idx']], bpr_scores)\n",
    "            reg_dm = dm.estimate_policy_value(policy[train_data['x_idx']], regression_model.predict(train_data['x']))\n",
    "\n",
    "            reg_results.append(reg_dm)\n",
    "\n",
    "            # conv_results.append(eval_policy(neighberhoodmodel, test_data, original_policy_prob[test_data['x_idx']], policy))\n",
    "            conv_results.append(eval_policy(neighberhoodmodel, train_data, original_policy_prob, policy))\n",
    "\n",
    "            conv_results[-1] = np.append(calc_reward(dataset, policy), conv_results[-1])\n",
    "            conv_results[-1] = np.append(conv_results[-1], [np.sqrt(np.mean((emb_a-our_a)**2)), np.sqrt(np.mean((original_a-our_a)**2))])\n",
    "\n",
    "            # temp.append(np.mean((emb_a-our_a)**2, axis=0))\n",
    "\n",
    "            conv_results[-1] = np.append(conv_results[-1], [np.sqrt(np.mean((emb_x-our_x)**2)), np.sqrt(np.mean((original_x-our_x)**2))])\n",
    "            \n",
    "            our_a, our_x = original_a.copy(), original_x.copy()\n",
    "\n",
    "        reg_results = np.array(reg_results)\n",
    "        conv_results = np.array(conv_results)\n",
    "\n",
    "        results[train_size] = get_opl_results_dict(reg_results, conv_results)\n",
    "    \n",
    "    return pd.DataFrame.from_dict(results, orient='index')"
   ]
  },
  {
   "cell_type": "markdown",
   "metadata": {},
   "source": [
    "## Learning"
   ]
  },
  {
   "cell_type": "markdown",
   "metadata": {},
   "source": [
    "We will run several simulations on a generated dataset, the dataset is generated like this:\n",
    "$$ \\text{We have users U and actions A } u_i \\sim N(0, I_{emb_dim}) \\ a_i \\sim N(0, I_{emb_dim})$$\n",
    "$$ p_{ij} = 1 / (5 + e^{-(u_i.T a_j)}) $$\n",
    "$$r_{ij} \\sim Bin(p_{ij})$$\n",
    "\n",
    "We have a policy $\\pi$\n",
    "and it's ground truth reward is calculated by\n",
    "$$R_{gt} = \\sum_{i}{\\sum_{j}{\\pi_{ij} * p_{ij}}} $$\n",
    "\n",
    "Our parameters for the dataset will be\n",
    "$$EmbDim = 5$$\n",
    "$$NumActions= 150$$\n",
    "$$NumUsers = 150$$\n",
    "$$NeighborhoodSize = 6$$\n",
    "\n",
    "to learn a new policy from $\\pi$ we will sample from:\n",
    "$$\\pi_{start} = (1-\\epsilon)*\\pi + \\epsilon * \\pi_{random}$$"
   ]
  },
  {
   "cell_type": "code",
   "execution_count": 4,
   "metadata": {},
   "outputs": [
    {
     "name": "stdout",
     "output_type": "stream",
     "text": [
      "Using device: cpu\n"
     ]
    }
   ],
   "source": [
    "device = torch.device('cuda' if torch.cuda.is_available() else 'cpu')\n",
    "print('Using device:', device)"
   ]
  },
  {
   "cell_type": "code",
   "execution_count": 5,
   "metadata": {},
   "outputs": [],
   "source": [
    "num_runs = 1"
   ]
  },
  {
   "cell_type": "code",
   "execution_count": 6,
   "metadata": {},
   "outputs": [
    {
     "name": "stdout",
     "output_type": "stream",
     "text": [
      "CTR: 0.01861246403332251\n"
     ]
    }
   ],
   "source": [
    "dataset_params = dict(\n",
    "                    n_actions= 500,\n",
    "                    n_users = 500,\n",
    "                    emb_dim = 4,\n",
    "                    # sigma = 0.1,\n",
    "                    eps = 0.2, # this is the epsilon for the noise in the ground truth policy representation\n",
    "                    ctr = 0.02\n",
    "                    )\n",
    "\n",
    "train_dataset = generate_dataset(dataset_params)"
   ]
  },
  {
   "cell_type": "code",
   "execution_count": 7,
   "metadata": {},
   "outputs": [
    {
     "data": {
      "text/plain": [
       "dict_keys(['emb_a', 'our_a', 'original_a', 'emb_x', 'our_x', 'original_x', 'q_x_a', 'n_actions', 'n_users', 'emb_dim', 'user_prior'])"
      ]
     },
     "execution_count": 7,
     "metadata": {},
     "output_type": "execute_result"
    }
   ],
   "source": [
    "train_dataset.keys()"
   ]
  },
  {
   "cell_type": "code",
   "execution_count": 8,
   "metadata": {},
   "outputs": [],
   "source": [
    "num_runs = 1\n",
    "batch_size = 200\n",
    "num_neighbors = 51\n",
    "num_rounds_list = [30000, 60000, 80000, 90000]"
   ]
  },
  {
   "cell_type": "markdown",
   "metadata": {},
   "source": [
    "### 1\n",
    "\n",
    "$$emb = 0.7 * gt + 0.3 * noise$$\n",
    "$$lr = 0.005$$\n",
    "$$n_{epochs} = 1$$\n",
    "$$BatchSize=50$$"
   ]
  },
  {
   "cell_type": "code",
   "execution_count": null,
   "metadata": {},
   "outputs": [
    {
     "name": "stderr",
     "output_type": "stream",
     "text": [
      "[I 2025-08-18 00:46:01,982] A new study created in memory with name: no-name-1686133b-49dd-4658-8ffa-e01ba0620026\n",
      "Best trial: 0. Best value: 0.0103668:  10%|█         | 1/10 [03:28<31:19, 208.79s/it]"
     ]
    },
    {
     "name": "stdout",
     "output_type": "stream",
     "text": [
      "[I 2025-08-18 00:49:30,770] Trial 0 finished with value: 0.01036684519920781 and parameters: {'lr': 0.00021998095044840113, 'num_epochs': 1}. Best is trial 0 with value: 0.01036684519920781.\n"
     ]
    },
    {
     "name": "stderr",
     "output_type": "stream",
     "text": [
      "Best trial: 0. Best value: 0.0103668:  20%|██        | 2/10 [03:34<11:55, 89.45s/it] "
     ]
    },
    {
     "name": "stdout",
     "output_type": "stream",
     "text": [
      "[I 2025-08-18 00:49:36,682] Trial 2 finished with value: 0.010365837663681828 and parameters: {'lr': 0.00020944807542242172, 'num_epochs': 3}. Best is trial 0 with value: 0.01036684519920781.\n",
      "[I 2025-08-18 00:49:36,687] Trial 1 finished with value: 0.010363003040643437 and parameters: {'lr': 0.0006597293469526339, 'num_epochs': 3}. Best is trial 0 with value: 0.01036684519920781.\n"
     ]
    },
    {
     "name": "stderr",
     "output_type": "stream",
     "text": [
      "Best trial: 0. Best value: 0.0103668:  40%|████      | 4/10 [06:47<09:22, 93.71s/it]"
     ]
    },
    {
     "name": "stdout",
     "output_type": "stream",
     "text": [
      "[I 2025-08-18 00:52:49,164] Trial 3 finished with value: 0.010362328807094319 and parameters: {'lr': 0.00044462930806082, 'num_epochs': 5}. Best is trial 0 with value: 0.01036684519920781.\n"
     ]
    },
    {
     "name": "stderr",
     "output_type": "stream",
     "text": [
      "Best trial: 4. Best value: 0.0103677:  50%|█████     | 5/10 [06:57<05:40, 68.02s/it]"
     ]
    },
    {
     "name": "stdout",
     "output_type": "stream",
     "text": [
      "[I 2025-08-18 00:52:59,830] Trial 4 finished with value: 0.010367662871983234 and parameters: {'lr': 0.00018196890332457217, 'num_epochs': 1}. Best is trial 4 with value: 0.010367662871983234.\n"
     ]
    },
    {
     "name": "stderr",
     "output_type": "stream",
     "text": [
      "Best trial: 4. Best value: 0.0103677:  60%|██████    | 6/10 [07:06<03:19, 49.85s/it]"
     ]
    },
    {
     "name": "stdout",
     "output_type": "stream",
     "text": [
      "[I 2025-08-18 00:53:08,565] Trial 5 finished with value: 0.010364870659039634 and parameters: {'lr': 0.00018888020593426397, 'num_epochs': 6}. Best is trial 4 with value: 0.010367662871983234.\n"
     ]
    },
    {
     "name": "stderr",
     "output_type": "stream",
     "text": [
      "Best trial: 6. Best value: 0.0103696:  70%|███████   | 7/10 [10:00<04:22, 87.56s/it]"
     ]
    },
    {
     "name": "stdout",
     "output_type": "stream",
     "text": [
      "[I 2025-08-18 00:56:02,255] Trial 6 finished with value: 0.010369596564941274 and parameters: {'lr': 0.0003006411130746048, 'num_epochs': 1}. Best is trial 6 with value: 0.010369596564941274.\n"
     ]
    },
    {
     "name": "stderr",
     "output_type": "stream",
     "text": [
      "Best trial: 6. Best value: 0.0103696:  80%|████████  | 8/10 [10:13<02:09, 64.89s/it]"
     ]
    },
    {
     "name": "stdout",
     "output_type": "stream",
     "text": [
      "[I 2025-08-18 00:56:15,020] Trial 7 finished with value: 0.010365924290088964 and parameters: {'lr': 0.0001293617525843229, 'num_epochs': 4}. Best is trial 6 with value: 0.010369596564941274.\n"
     ]
    },
    {
     "name": "stderr",
     "output_type": "stream",
     "text": [
      "Best trial: 8. Best value: 0.0103729:  90%|█████████ | 9/10 [10:32<00:51, 51.16s/it]"
     ]
    },
    {
     "name": "stdout",
     "output_type": "stream",
     "text": [
      "[I 2025-08-18 00:56:34,487] Trial 8 finished with value: 0.010372910396167757 and parameters: {'lr': 0.0003474050541067679, 'num_epochs': 4}. Best is trial 8 with value: 0.010372910396167757.\n"
     ]
    },
    {
     "name": "stderr",
     "output_type": "stream",
     "text": [
      "Best trial: 8. Best value: 0.0103729: 100%|██████████| 10/10 [11:41<00:00, 70.18s/it]\n"
     ]
    },
    {
     "name": "stdout",
     "output_type": "stream",
     "text": [
      "[I 2025-08-18 00:57:43,762] Trial 9 finished with value: 0.010368064860685176 and parameters: {'lr': 0.00011305947321108417, 'num_epochs': 7}. Best is trial 8 with value: 0.010372910396167757.\n"
     ]
    },
    {
     "name": "stderr",
     "output_type": "stream",
     "text": [
      "[I 2025-08-18 01:01:55,476] A new study created in memory with name: no-name-94d0b100-42e3-4d04-9eee-9f7a60b81f75\n",
      "Best trial: 0. Best value: 0.0105601:  10%|█         | 1/10 [07:48<1:10:15, 468.35s/it]"
     ]
    },
    {
     "name": "stdout",
     "output_type": "stream",
     "text": [
      "[I 2025-08-18 01:09:43,827] Trial 0 finished with value: 0.01056008354305044 and parameters: {'lr': 0.00015612399899248307, 'num_epochs': 6}. Best is trial 0 with value: 0.01056008354305044.\n"
     ]
    },
    {
     "name": "stderr",
     "output_type": "stream",
     "text": [
      "Best trial: 0. Best value: 0.0105601:  20%|██        | 2/10 [07:55<26:14, 196.87s/it]  "
     ]
    },
    {
     "name": "stdout",
     "output_type": "stream",
     "text": [
      "[I 2025-08-18 01:09:50,668] Trial 1 finished with value: 0.0007366250452178237 and parameters: {'lr': 0.0008145137498369256, 'num_epochs': 7}. Best is trial 0 with value: 0.01056008354305044.\n"
     ]
    },
    {
     "name": "stderr",
     "output_type": "stream",
     "text": [
      "Best trial: 2. Best value: 0.0105832:  30%|███       | 3/10 [07:59<12:41, 108.72s/it]"
     ]
    },
    {
     "name": "stdout",
     "output_type": "stream",
     "text": [
      "[I 2025-08-18 01:09:54,491] Trial 2 finished with value: 0.010583158933262709 and parameters: {'lr': 0.00010307696077706996, 'num_epochs': 7}. Best is trial 2 with value: 0.010583158933262709.\n"
     ]
    },
    {
     "name": "stderr",
     "output_type": "stream",
     "text": [
      "Best trial: 3. Best value: 0.0105873:  40%|████      | 4/10 [15:02<23:16, 232.82s/it]"
     ]
    },
    {
     "name": "stdout",
     "output_type": "stream",
     "text": [
      "[I 2025-08-18 01:16:57,542] Trial 3 finished with value: 0.010587282562991815 and parameters: {'lr': 0.000711824176650503, 'num_epochs': 1}. Best is trial 3 with value: 0.010587282562991815.\n"
     ]
    },
    {
     "name": "stderr",
     "output_type": "stream",
     "text": [
      "Best trial: 3. Best value: 0.0105873:  50%|█████     | 5/10 [15:21<12:58, 155.78s/it]"
     ]
    },
    {
     "name": "stdout",
     "output_type": "stream",
     "text": [
      "[I 2025-08-18 01:17:16,741] Trial 4 finished with value: 0.01051865419508811 and parameters: {'lr': 0.00020984050502020698, 'num_epochs': 6}. Best is trial 3 with value: 0.010587282562991815.\n"
     ]
    },
    {
     "name": "stderr",
     "output_type": "stream",
     "text": [
      "Best trial: 3. Best value: 0.0105873:  60%|██████    | 6/10 [15:58<07:41, 115.34s/it]"
     ]
    },
    {
     "name": "stdout",
     "output_type": "stream",
     "text": [
      "[I 2025-08-18 01:17:53,560] Trial 5 finished with value: 0.008754240368865598 and parameters: {'lr': 0.0003841863941807458, 'num_epochs': 8}. Best is trial 3 with value: 0.010587282562991815.\n"
     ]
    },
    {
     "name": "stderr",
     "output_type": "stream",
     "text": [
      "Best trial: 3. Best value: 0.0105873:  70%|███████   | 7/10 [22:21<10:09, 203.07s/it]"
     ]
    },
    {
     "name": "stdout",
     "output_type": "stream",
     "text": [
      "[I 2025-08-18 01:24:17,271] Trial 6 finished with value: 0.010573955104059247 and parameters: {'lr': 0.00012440977675262847, 'num_epochs': 7}. Best is trial 3 with value: 0.010587282562991815.\n"
     ]
    },
    {
     "name": "stderr",
     "output_type": "stream",
     "text": [
      "Best trial: 3. Best value: 0.0105873:  80%|████████  | 8/10 [22:32<04:43, 141.77s/it]"
     ]
    },
    {
     "name": "stdout",
     "output_type": "stream",
     "text": [
      "[I 2025-08-18 01:24:27,783] Trial 7 finished with value: 0.009555218239389904 and parameters: {'lr': 0.0005610960548209259, 'num_epochs': 4}. Best is trial 3 with value: 0.010587282562991815.\n"
     ]
    },
    {
     "name": "stderr",
     "output_type": "stream",
     "text": [
      "Best trial: 3. Best value: 0.0105873:  90%|█████████ | 9/10 [23:20<01:52, 112.65s/it]"
     ]
    },
    {
     "name": "stdout",
     "output_type": "stream",
     "text": [
      "[I 2025-08-18 01:25:16,393] Trial 8 finished with value: 0.010488506759005475 and parameters: {'lr': 0.0002499885177096407, 'num_epochs': 5}. Best is trial 3 with value: 0.010587282562991815.\n"
     ]
    },
    {
     "name": "stderr",
     "output_type": "stream",
     "text": [
      "Best trial: 3. Best value: 0.0105873: 100%|██████████| 10/10 [25:38<00:00, 153.86s/it]\n"
     ]
    },
    {
     "name": "stdout",
     "output_type": "stream",
     "text": [
      "[I 2025-08-18 01:27:34,040] Trial 9 finished with value: 0.007912739149983753 and parameters: {'lr': 0.0008247421354429188, 'num_epochs': 4}. Best is trial 3 with value: 0.010587282562991815.\n"
     ]
    },
    {
     "name": "stderr",
     "output_type": "stream",
     "text": [
      "[I 2025-08-18 01:34:06,011] A new study created in memory with name: no-name-94cc3a01-6135-401e-a646-36bfea6a84d3\n",
      "  0%|          | 0/10 [00:00<?, ?it/s]"
     ]
    }
   ],
   "source": [
    "df4 = trainer_trial(num_runs, num_neighbors, num_rounds_list, train_dataset, batch_size, val_size=35000)"
   ]
  },
  {
   "cell_type": "code",
   "execution_count": null,
   "metadata": {},
   "outputs": [
    {
     "data": {
      "text/html": [
       "<div>\n",
       "<style scoped>\n",
       "    .dataframe tbody tr th:only-of-type {\n",
       "        vertical-align: middle;\n",
       "    }\n",
       "\n",
       "    .dataframe tbody tr th {\n",
       "        vertical-align: top;\n",
       "    }\n",
       "\n",
       "    .dataframe thead th {\n",
       "        text-align: right;\n",
       "    }\n",
       "</style>\n",
       "<table border=\"1\" class=\"dataframe\">\n",
       "  <thead>\n",
       "    <tr style=\"text-align: right;\">\n",
       "      <th></th>\n",
       "      <th>policy_rewards</th>\n",
       "      <th>ipw</th>\n",
       "      <th>reg_dm</th>\n",
       "      <th>conv_dm</th>\n",
       "      <th>conv_dr</th>\n",
       "      <th>conv_sndr</th>\n",
       "      <th>action_diff_to_real</th>\n",
       "      <th>action_delta</th>\n",
       "      <th>context_diff_to_real</th>\n",
       "      <th>context_delta</th>\n",
       "    </tr>\n",
       "  </thead>\n",
       "  <tbody>\n",
       "    <tr>\n",
       "      <th>0</th>\n",
       "      <td>0.0198</td>\n",
       "      <td>0.0202</td>\n",
       "      <td>0.0200</td>\n",
       "      <td>0.0198</td>\n",
       "      <td>0.0200</td>\n",
       "      <td>0.0205</td>\n",
       "      <td>0.2784</td>\n",
       "      <td>0.0000</td>\n",
       "      <td>0.2374</td>\n",
       "      <td>0.0000</td>\n",
       "    </tr>\n",
       "    <tr>\n",
       "      <th>30000</th>\n",
       "      <td>0.0199</td>\n",
       "      <td>0.0205</td>\n",
       "      <td>0.0198</td>\n",
       "      <td>0.0173</td>\n",
       "      <td>0.0195</td>\n",
       "      <td>0.0199</td>\n",
       "      <td>0.4736</td>\n",
       "      <td>0.3790</td>\n",
       "      <td>0.3557</td>\n",
       "      <td>0.3496</td>\n",
       "    </tr>\n",
       "    <tr>\n",
       "      <th>60000</th>\n",
       "      <td>0.0199</td>\n",
       "      <td>0.0170</td>\n",
       "      <td>0.0197</td>\n",
       "      <td>0.0221</td>\n",
       "      <td>0.0176</td>\n",
       "      <td>0.0166</td>\n",
       "      <td>0.4546</td>\n",
       "      <td>0.3624</td>\n",
       "      <td>0.3900</td>\n",
       "      <td>0.3823</td>\n",
       "    </tr>\n",
       "    <tr>\n",
       "      <th>80000</th>\n",
       "      <td>0.0198</td>\n",
       "      <td>0.0198</td>\n",
       "      <td>0.0194</td>\n",
       "      <td>0.0189</td>\n",
       "      <td>0.0195</td>\n",
       "      <td>0.0202</td>\n",
       "      <td>0.2979</td>\n",
       "      <td>0.1149</td>\n",
       "      <td>0.2460</td>\n",
       "      <td>0.1062</td>\n",
       "    </tr>\n",
       "    <tr>\n",
       "      <th>90000</th>\n",
       "      <td>0.0199</td>\n",
       "      <td>0.0205</td>\n",
       "      <td>0.0191</td>\n",
       "      <td>0.0192</td>\n",
       "      <td>0.0199</td>\n",
       "      <td>0.0200</td>\n",
       "      <td>0.6269</td>\n",
       "      <td>0.5273</td>\n",
       "      <td>0.6198</td>\n",
       "      <td>0.6548</td>\n",
       "    </tr>\n",
       "  </tbody>\n",
       "</table>\n",
       "</div>"
      ],
      "text/plain": [
       "       policy_rewards    ipw  reg_dm  conv_dm  conv_dr  conv_sndr  \\\n",
       "0              0.0198 0.0202  0.0200   0.0198   0.0200     0.0205   \n",
       "30000          0.0199 0.0205  0.0198   0.0173   0.0195     0.0199   \n",
       "60000          0.0199 0.0170  0.0197   0.0221   0.0176     0.0166   \n",
       "80000          0.0198 0.0198  0.0194   0.0189   0.0195     0.0202   \n",
       "90000          0.0199 0.0205  0.0191   0.0192   0.0199     0.0200   \n",
       "\n",
       "       action_diff_to_real  action_delta  context_diff_to_real  context_delta  \n",
       "0                   0.2784        0.0000                0.2374         0.0000  \n",
       "30000               0.4736        0.3790                0.3557         0.3496  \n",
       "60000               0.4546        0.3624                0.3900         0.3823  \n",
       "80000               0.2979        0.1149                0.2460         0.1062  \n",
       "90000               0.6269        0.5273                0.6198         0.6548  "
      ]
     },
     "execution_count": 18,
     "metadata": {},
     "output_type": "execute_result"
    }
   ],
   "source": [
    "df4[['policy_rewards', 'ipw', 'reg_dm', 'conv_dm', 'conv_dr', 'conv_sndr', 'action_diff_to_real', 'action_delta', 'context_diff_to_real', 'context_delta']]"
   ]
  },
  {
   "cell_type": "code",
   "execution_count": null,
   "metadata": {},
   "outputs": [
    {
     "data": {
      "text/html": [
       "<div>\n",
       "<style scoped>\n",
       "    .dataframe tbody tr th:only-of-type {\n",
       "        vertical-align: middle;\n",
       "    }\n",
       "\n",
       "    .dataframe tbody tr th {\n",
       "        vertical-align: top;\n",
       "    }\n",
       "\n",
       "    .dataframe thead th {\n",
       "        text-align: right;\n",
       "    }\n",
       "</style>\n",
       "<table border=\"1\" class=\"dataframe\">\n",
       "  <thead>\n",
       "    <tr style=\"text-align: right;\">\n",
       "      <th></th>\n",
       "      <th>policy_rewards</th>\n",
       "      <th>ipw</th>\n",
       "      <th>reg_dm</th>\n",
       "      <th>conv_dm</th>\n",
       "      <th>conv_dr</th>\n",
       "      <th>conv_sndr</th>\n",
       "      <th>ipw_var</th>\n",
       "      <th>reg_dm_var</th>\n",
       "      <th>conv_dm_var</th>\n",
       "      <th>conv_dr_var</th>\n",
       "      <th>conv_sndr_var</th>\n",
       "      <th>action_diff_to_real</th>\n",
       "      <th>action_delta</th>\n",
       "      <th>context_diff_to_real</th>\n",
       "      <th>context_delta</th>\n",
       "    </tr>\n",
       "  </thead>\n",
       "  <tbody>\n",
       "    <tr>\n",
       "      <th>0</th>\n",
       "      <td>0.0198</td>\n",
       "      <td>0.0202</td>\n",
       "      <td>0.0200</td>\n",
       "      <td>0.0198</td>\n",
       "      <td>0.0200</td>\n",
       "      <td>0.0205</td>\n",
       "      <td>0.0000</td>\n",
       "      <td>0.0000</td>\n",
       "      <td>0.0000</td>\n",
       "      <td>0.0000</td>\n",
       "      <td>0.0000</td>\n",
       "      <td>0.2784</td>\n",
       "      <td>0.0000</td>\n",
       "      <td>0.2374</td>\n",
       "      <td>0.0000</td>\n",
       "    </tr>\n",
       "    <tr>\n",
       "      <th>30000</th>\n",
       "      <td>0.0199</td>\n",
       "      <td>0.0205</td>\n",
       "      <td>0.0198</td>\n",
       "      <td>0.0173</td>\n",
       "      <td>0.0195</td>\n",
       "      <td>0.0199</td>\n",
       "      <td>0.0000</td>\n",
       "      <td>0.0000</td>\n",
       "      <td>0.0000</td>\n",
       "      <td>0.0000</td>\n",
       "      <td>0.0000</td>\n",
       "      <td>0.4736</td>\n",
       "      <td>0.3790</td>\n",
       "      <td>0.3557</td>\n",
       "      <td>0.3496</td>\n",
       "    </tr>\n",
       "    <tr>\n",
       "      <th>60000</th>\n",
       "      <td>0.0199</td>\n",
       "      <td>0.0170</td>\n",
       "      <td>0.0197</td>\n",
       "      <td>0.0221</td>\n",
       "      <td>0.0176</td>\n",
       "      <td>0.0166</td>\n",
       "      <td>0.0000</td>\n",
       "      <td>0.0000</td>\n",
       "      <td>0.0000</td>\n",
       "      <td>0.0000</td>\n",
       "      <td>0.0000</td>\n",
       "      <td>0.4546</td>\n",
       "      <td>0.3624</td>\n",
       "      <td>0.3900</td>\n",
       "      <td>0.3823</td>\n",
       "    </tr>\n",
       "    <tr>\n",
       "      <th>80000</th>\n",
       "      <td>0.0198</td>\n",
       "      <td>0.0198</td>\n",
       "      <td>0.0194</td>\n",
       "      <td>0.0189</td>\n",
       "      <td>0.0195</td>\n",
       "      <td>0.0202</td>\n",
       "      <td>0.0000</td>\n",
       "      <td>0.0000</td>\n",
       "      <td>0.0000</td>\n",
       "      <td>0.0000</td>\n",
       "      <td>0.0000</td>\n",
       "      <td>0.2979</td>\n",
       "      <td>0.1149</td>\n",
       "      <td>0.2460</td>\n",
       "      <td>0.1062</td>\n",
       "    </tr>\n",
       "    <tr>\n",
       "      <th>90000</th>\n",
       "      <td>0.0199</td>\n",
       "      <td>0.0205</td>\n",
       "      <td>0.0191</td>\n",
       "      <td>0.0192</td>\n",
       "      <td>0.0199</td>\n",
       "      <td>0.0200</td>\n",
       "      <td>0.0000</td>\n",
       "      <td>0.0000</td>\n",
       "      <td>0.0000</td>\n",
       "      <td>0.0000</td>\n",
       "      <td>0.0000</td>\n",
       "      <td>0.6269</td>\n",
       "      <td>0.5273</td>\n",
       "      <td>0.6198</td>\n",
       "      <td>0.6548</td>\n",
       "    </tr>\n",
       "  </tbody>\n",
       "</table>\n",
       "</div>"
      ],
      "text/plain": [
       "       policy_rewards    ipw  reg_dm  conv_dm  conv_dr  conv_sndr  ipw_var  \\\n",
       "0              0.0198 0.0202  0.0200   0.0198   0.0200     0.0205   0.0000   \n",
       "30000          0.0199 0.0205  0.0198   0.0173   0.0195     0.0199   0.0000   \n",
       "60000          0.0199 0.0170  0.0197   0.0221   0.0176     0.0166   0.0000   \n",
       "80000          0.0198 0.0198  0.0194   0.0189   0.0195     0.0202   0.0000   \n",
       "90000          0.0199 0.0205  0.0191   0.0192   0.0199     0.0200   0.0000   \n",
       "\n",
       "       reg_dm_var  conv_dm_var  conv_dr_var  conv_sndr_var  \\\n",
       "0          0.0000       0.0000       0.0000         0.0000   \n",
       "30000      0.0000       0.0000       0.0000         0.0000   \n",
       "60000      0.0000       0.0000       0.0000         0.0000   \n",
       "80000      0.0000       0.0000       0.0000         0.0000   \n",
       "90000      0.0000       0.0000       0.0000         0.0000   \n",
       "\n",
       "       action_diff_to_real  action_delta  context_diff_to_real  context_delta  \n",
       "0                   0.2784        0.0000                0.2374         0.0000  \n",
       "30000               0.4736        0.3790                0.3557         0.3496  \n",
       "60000               0.4546        0.3624                0.3900         0.3823  \n",
       "80000               0.2979        0.1149                0.2460         0.1062  \n",
       "90000               0.6269        0.5273                0.6198         0.6548  "
      ]
     },
     "execution_count": 19,
     "metadata": {},
     "output_type": "execute_result"
    }
   ],
   "source": [
    "df4"
   ]
  },
  {
   "cell_type": "code",
   "execution_count": null,
   "metadata": {},
   "outputs": [],
   "source": [
    "num_rounds_list = [3000, 6000, 8000, 9000]"
   ]
  },
  {
   "cell_type": "markdown",
   "metadata": {},
   "source": [
    "### 2\n",
    "\n",
    "$$emb = 0.7 * gt + 0.3 * noise$$\n",
    "$$lr = 0.001$$\n",
    "$$n_{epochs} = 1$$\n",
    "$$BatchSize=50$$"
   ]
  },
  {
   "cell_type": "code",
   "execution_count": null,
   "metadata": {},
   "outputs": [
    {
     "name": "stderr",
     "output_type": "stream",
     "text": [
      "[I 2025-08-17 18:59:47,813] A new study created in memory with name: no-name-da278b4b-2e05-4978-b549-0ee7a31d906a\n",
      "Best trial: 0. Best value: 0.0055823:  10%|█         | 1/10 [00:13<01:58, 13.20s/it]"
     ]
    },
    {
     "name": "stdout",
     "output_type": "stream",
     "text": [
      "[I 2025-08-17 19:00:01,010] Trial 0 finished with value: 0.005582304033634449 and parameters: {'lr': 0.00013239533643429304, 'num_epochs': 3}. Best is trial 0 with value: 0.005582304033634449.\n",
      "[I 2025-08-17 19:00:01,210] Trial 1 finished with value: 0.005557379902794693 and parameters: {'lr': 0.0005547548817794695, 'num_epochs': 5}. Best is trial 0 with value: 0.005582304033634449.\n"
     ]
    },
    {
     "name": "stderr",
     "output_type": "stream",
     "text": [
      "Best trial: 0. Best value: 0.0055823:  30%|███       | 3/10 [00:25<01:01,  8.75s/it]"
     ]
    },
    {
     "name": "stdout",
     "output_type": "stream",
     "text": [
      "[I 2025-08-17 19:00:13,770] Trial 2 finished with value: 0.00556623068617111 and parameters: {'lr': 0.000718531569169898, 'num_epochs': 2}. Best is trial 0 with value: 0.005582304033634449.\n"
     ]
    },
    {
     "name": "stderr",
     "output_type": "stream",
     "text": [
      "Best trial: 0. Best value: 0.0055823:  40%|████      | 4/10 [00:26<00:34,  5.68s/it]"
     ]
    },
    {
     "name": "stdout",
     "output_type": "stream",
     "text": [
      "[I 2025-08-17 19:00:14,744] Trial 3 finished with value: 0.005569562361360523 and parameters: {'lr': 0.0002723759725933621, 'num_epochs': 8}. Best is trial 0 with value: 0.005582304033634449.\n"
     ]
    },
    {
     "name": "stderr",
     "output_type": "stream",
     "text": [
      "Best trial: 4. Best value: 0.00558643:  50%|█████     | 5/10 [00:38<00:39,  7.87s/it]"
     ]
    },
    {
     "name": "stdout",
     "output_type": "stream",
     "text": [
      "[I 2025-08-17 19:00:26,481] Trial 4 finished with value: 0.005586427873099138 and parameters: {'lr': 0.00010945278586730512, 'num_epochs': 1}. Best is trial 4 with value: 0.005586427873099138.\n"
     ]
    },
    {
     "name": "stderr",
     "output_type": "stream",
     "text": [
      "Best trial: 4. Best value: 0.00558643:  60%|██████    | 6/10 [00:40<00:23,  5.77s/it]"
     ]
    },
    {
     "name": "stdout",
     "output_type": "stream",
     "text": [
      "[I 2025-08-17 19:00:28,196] Trial 5 finished with value: 0.0055616076295547535 and parameters: {'lr': 0.00030938126605713835, 'num_epochs': 8}. Best is trial 4 with value: 0.005586427873099138.\n"
     ]
    },
    {
     "name": "stderr",
     "output_type": "stream",
     "text": [
      "Best trial: 4. Best value: 0.00558643:  70%|███████   | 7/10 [00:52<00:23,  7.71s/it]"
     ]
    },
    {
     "name": "stdout",
     "output_type": "stream",
     "text": [
      "[I 2025-08-17 19:00:39,878] Trial 6 finished with value: 0.005577139448007883 and parameters: {'lr': 0.00010621311979313267, 'num_epochs': 9}. Best is trial 4 with value: 0.005586427873099138.\n"
     ]
    },
    {
     "name": "stderr",
     "output_type": "stream",
     "text": [
      "Best trial: 4. Best value: 0.00558643:  80%|████████  | 8/10 [00:52<00:11,  5.53s/it]"
     ]
    },
    {
     "name": "stdout",
     "output_type": "stream",
     "text": [
      "[I 2025-08-17 19:00:40,735] Trial 7 finished with value: 0.005579764558941724 and parameters: {'lr': 0.000667388225032928, 'num_epochs': 2}. Best is trial 4 with value: 0.005586427873099138.\n"
     ]
    },
    {
     "name": "stderr",
     "output_type": "stream",
     "text": [
      "Best trial: 4. Best value: 0.00558643:  90%|█████████ | 9/10 [01:05<00:07,  7.59s/it]"
     ]
    },
    {
     "name": "stdout",
     "output_type": "stream",
     "text": [
      "[I 2025-08-17 19:00:52,861] Trial 8 finished with value: 0.005574484286551209 and parameters: {'lr': 0.0005599136329743947, 'num_epochs': 3}. Best is trial 4 with value: 0.005586427873099138.\n"
     ]
    },
    {
     "name": "stderr",
     "output_type": "stream",
     "text": [
      "Best trial: 4. Best value: 0.00558643: 100%|██████████| 10/10 [01:05<00:00,  6.59s/it]\n"
     ]
    },
    {
     "name": "stdout",
     "output_type": "stream",
     "text": [
      "[I 2025-08-17 19:00:53,674] Trial 9 finished with value: 0.0055633257032295345 and parameters: {'lr': 0.0005879020960134675, 'num_epochs': 5}. Best is trial 4 with value: 0.005586427873099138.\n"
     ]
    },
    {
     "name": "stderr",
     "output_type": "stream",
     "text": [
      "[I 2025-08-17 19:01:25,168] A new study created in memory with name: no-name-69c9288b-e37b-4d33-8b5a-10904ae041f8\n",
      "Best trial: 0. Best value: 0.00907487:  10%|█         | 1/10 [00:25<03:50, 25.56s/it]"
     ]
    },
    {
     "name": "stdout",
     "output_type": "stream",
     "text": [
      "[I 2025-08-17 19:01:50,726] Trial 0 finished with value: 0.009074871543366364 and parameters: {'lr': 0.0006491577954358776, 'num_epochs': 1}. Best is trial 0 with value: 0.009074871543366364.\n"
     ]
    },
    {
     "name": "stderr",
     "output_type": "stream",
     "text": [
      "Best trial: 1. Best value: 0.009076:  20%|██        | 2/10 [00:25<01:25, 10.74s/it]  "
     ]
    },
    {
     "name": "stdout",
     "output_type": "stream",
     "text": [
      "[I 2025-08-17 19:01:51,087] Trial 1 finished with value: 0.00907600345401617 and parameters: {'lr': 0.00032938005976856097, 'num_epochs': 3}. Best is trial 1 with value: 0.00907600345401617.\n"
     ]
    },
    {
     "name": "stderr",
     "output_type": "stream",
     "text": [
      "Best trial: 1. Best value: 0.009076:  30%|███       | 3/10 [00:52<02:04, 17.81s/it]"
     ]
    },
    {
     "name": "stdout",
     "output_type": "stream",
     "text": [
      "[I 2025-08-17 19:02:17,316] Trial 2 finished with value: 0.009058915392535474 and parameters: {'lr': 0.0008016158389025671, 'num_epochs': 2}. Best is trial 1 with value: 0.00907600345401617.\n"
     ]
    },
    {
     "name": "stderr",
     "output_type": "stream",
     "text": [
      "Best trial: 1. Best value: 0.009076:  40%|████      | 4/10 [00:56<01:15, 12.59s/it]"
     ]
    },
    {
     "name": "stdout",
     "output_type": "stream",
     "text": [
      "[I 2025-08-17 19:02:21,896] Trial 3 finished with value: 0.009050563696855102 and parameters: {'lr': 0.00025430011172084937, 'num_epochs': 10}. Best is trial 1 with value: 0.00907600345401617.\n"
     ]
    },
    {
     "name": "stderr",
     "output_type": "stream",
     "text": [
      "Best trial: 4. Best value: 0.00908259:  50%|█████     | 5/10 [01:17<01:17, 15.59s/it]"
     ]
    },
    {
     "name": "stdout",
     "output_type": "stream",
     "text": [
      "[I 2025-08-17 19:02:42,801] Trial 4 finished with value: 0.009082588342473313 and parameters: {'lr': 0.00045441683264452486, 'num_epochs': 1}. Best is trial 4 with value: 0.009082588342473313.\n"
     ]
    },
    {
     "name": "stderr",
     "output_type": "stream",
     "text": [
      "Best trial: 4. Best value: 0.00908259:  60%|██████    | 6/10 [01:25<00:51, 12.85s/it]"
     ]
    },
    {
     "name": "stdout",
     "output_type": "stream",
     "text": [
      "[I 2025-08-17 19:02:50,334] Trial 5 finished with value: 0.00907537603616786 and parameters: {'lr': 0.0007585397701519196, 'num_epochs': 1}. Best is trial 4 with value: 0.009082588342473313.\n"
     ]
    },
    {
     "name": "stderr",
     "output_type": "stream",
     "text": [
      "Best trial: 4. Best value: 0.00908259:  70%|███████   | 7/10 [01:44<00:44, 14.82s/it]"
     ]
    },
    {
     "name": "stdout",
     "output_type": "stream",
     "text": [
      "[I 2025-08-17 19:03:09,219] Trial 6 finished with value: 0.009080095613630703 and parameters: {'lr': 0.0002805873454925688, 'num_epochs': 2}. Best is trial 4 with value: 0.009082588342473313.\n"
     ]
    },
    {
     "name": "stderr",
     "output_type": "stream",
     "text": [
      "Best trial: 4. Best value: 0.00908259:  80%|████████  | 8/10 [01:56<00:27, 13.96s/it]"
     ]
    },
    {
     "name": "stdout",
     "output_type": "stream",
     "text": [
      "[I 2025-08-17 19:03:21,335] Trial 7 finished with value: 0.009023550013484457 and parameters: {'lr': 0.000500044881828388, 'num_epochs': 8}. Best is trial 4 with value: 0.009082588342473313.\n"
     ]
    },
    {
     "name": "stderr",
     "output_type": "stream",
     "text": [
      "Best trial: 4. Best value: 0.00908259:  90%|█████████ | 9/10 [02:09<00:13, 13.92s/it]"
     ]
    },
    {
     "name": "stdout",
     "output_type": "stream",
     "text": [
      "[I 2025-08-17 19:03:35,150] Trial 8 finished with value: 0.009081998781899836 and parameters: {'lr': 0.00011135127157027648, 'num_epochs': 2}. Best is trial 4 with value: 0.009082588342473313.\n"
     ]
    },
    {
     "name": "stderr",
     "output_type": "stream",
     "text": [
      "Best trial: 4. Best value: 0.00908259: 100%|██████████| 10/10 [02:20<00:00, 14.01s/it]\n"
     ]
    },
    {
     "name": "stdout",
     "output_type": "stream",
     "text": [
      "[I 2025-08-17 19:03:45,270] Trial 9 finished with value: 0.009076007019957845 and parameters: {'lr': 0.00033839243696348283, 'num_epochs': 3}. Best is trial 4 with value: 0.009082588342473313.\n"
     ]
    },
    {
     "name": "stderr",
     "output_type": "stream",
     "text": [
      "[I 2025-08-17 19:04:28,060] A new study created in memory with name: no-name-14d65acd-a76b-48fb-ad5c-13b4e62dadc3\n",
      "Best trial: 0. Best value: 0.00890418:  10%|█         | 1/10 [00:38<05:43, 38.17s/it]"
     ]
    },
    {
     "name": "stdout",
     "output_type": "stream",
     "text": [
      "[I 2025-08-17 19:05:06,225] Trial 0 finished with value: 0.008904176321507383 and parameters: {'lr': 0.00025436494695784366, 'num_epochs': 6}. Best is trial 0 with value: 0.008904176321507383.\n"
     ]
    },
    {
     "name": "stderr",
     "output_type": "stream",
     "text": [
      "Best trial: 0. Best value: 0.00890418:  20%|██        | 2/10 [00:38<02:07, 15.96s/it]"
     ]
    },
    {
     "name": "stdout",
     "output_type": "stream",
     "text": [
      "[I 2025-08-17 19:05:06,646] Trial 1 finished with value: 0.00877625858881576 and parameters: {'lr': 0.0007061237834580604, 'num_epochs': 8}. Best is trial 0 with value: 0.008904176321507383.\n"
     ]
    },
    {
     "name": "stderr",
     "output_type": "stream",
     "text": [
      "Best trial: 2. Best value: 0.00890443:  30%|███       | 3/10 [01:15<02:58, 25.49s/it]"
     ]
    },
    {
     "name": "stdout",
     "output_type": "stream",
     "text": [
      "[I 2025-08-17 19:05:43,473] Trial 2 finished with value: 0.008904432931301996 and parameters: {'lr': 0.00018862467069973078, 'num_epochs': 7}. Best is trial 2 with value: 0.008904432931301996.\n"
     ]
    },
    {
     "name": "stderr",
     "output_type": "stream",
     "text": [
      "Best trial: 2. Best value: 0.00890443:  40%|████      | 4/10 [01:15<01:33, 15.54s/it]"
     ]
    },
    {
     "name": "stdout",
     "output_type": "stream",
     "text": [
      "[I 2025-08-17 19:05:43,768] Trial 3 finished with value: 0.008781133009322466 and parameters: {'lr': 0.0008591024496732168, 'num_epochs': 6}. Best is trial 2 with value: 0.008904432931301996.\n"
     ]
    },
    {
     "name": "stderr",
     "output_type": "stream",
     "text": [
      "Best trial: 2. Best value: 0.00890443:  50%|█████     | 5/10 [01:51<01:54, 22.97s/it]"
     ]
    },
    {
     "name": "stdout",
     "output_type": "stream",
     "text": [
      "[I 2025-08-17 19:06:19,908] Trial 4 finished with value: 0.008824613514615812 and parameters: {'lr': 0.0007030094378923832, 'num_epochs': 7}. Best is trial 2 with value: 0.008904432931301996.\n"
     ]
    },
    {
     "name": "stderr",
     "output_type": "stream",
     "text": [
      "Best trial: 5. Best value: 0.00890875:  60%|██████    | 6/10 [01:56<01:07, 16.79s/it]"
     ]
    },
    {
     "name": "stdout",
     "output_type": "stream",
     "text": [
      "[I 2025-08-17 19:06:24,712] Trial 5 finished with value: 0.008908751776037076 and parameters: {'lr': 0.00034650787033943195, 'num_epochs': 5}. Best is trial 5 with value: 0.008908751776037076.\n"
     ]
    },
    {
     "name": "stderr",
     "output_type": "stream",
     "text": [
      "Best trial: 5. Best value: 0.00890875:  70%|███████   | 7/10 [02:29<01:06, 22.04s/it]"
     ]
    },
    {
     "name": "stdout",
     "output_type": "stream",
     "text": [
      "[I 2025-08-17 19:06:57,547] Trial 6 finished with value: 0.008892385311027418 and parameters: {'lr': 0.0002051268705543595, 'num_epochs': 10}. Best is trial 5 with value: 0.008908751776037076.\n"
     ]
    },
    {
     "name": "stderr",
     "output_type": "stream",
     "text": [
      "Best trial: 5. Best value: 0.00890875:  80%|████████  | 8/10 [02:37<00:35, 17.72s/it]"
     ]
    },
    {
     "name": "stdout",
     "output_type": "stream",
     "text": [
      "[I 2025-08-17 19:07:06,021] Trial 7 finished with value: 0.008839976575358803 and parameters: {'lr': 0.0005941811370654618, 'num_epochs': 7}. Best is trial 5 with value: 0.008908751776037076.\n"
     ]
    },
    {
     "name": "stderr",
     "output_type": "stream",
     "text": [
      "Best trial: 5. Best value: 0.00890875:  90%|█████████ | 9/10 [03:05<00:20, 20.80s/it]"
     ]
    },
    {
     "name": "stdout",
     "output_type": "stream",
     "text": [
      "[I 2025-08-17 19:07:33,593] Trial 8 finished with value: 0.008849741107019958 and parameters: {'lr': 0.0005213344711314894, 'num_epochs': 7}. Best is trial 5 with value: 0.008908751776037076.\n"
     ]
    },
    {
     "name": "stderr",
     "output_type": "stream",
     "text": [
      "Best trial: 9. Best value: 0.0089264: 100%|██████████| 10/10 [03:14<00:00, 19.43s/it]\n"
     ]
    },
    {
     "name": "stdout",
     "output_type": "stream",
     "text": [
      "[I 2025-08-17 19:07:42,320] Trial 9 finished with value: 0.008926396188774643 and parameters: {'lr': 0.00018480937932340735, 'num_epochs': 2}. Best is trial 9 with value: 0.008926396188774643.\n"
     ]
    },
    {
     "name": "stderr",
     "output_type": "stream",
     "text": [
      "[I 2025-08-17 19:08:29,141] A new study created in memory with name: no-name-ffe9a439-9cb8-4b4c-8171-3b3b5d5f0915\n",
      "Best trial: 1. Best value: 0.00910607:  10%|█         | 1/10 [00:40<06:00, 40.06s/it]"
     ]
    },
    {
     "name": "stdout",
     "output_type": "stream",
     "text": [
      "[I 2025-08-17 19:09:09,199] Trial 1 finished with value: 0.009106073182299973 and parameters: {'lr': 0.0007509754319561484, 'num_epochs': 2}. Best is trial 1 with value: 0.009106073182299973.\n"
     ]
    },
    {
     "name": "stderr",
     "output_type": "stream",
     "text": [
      "Best trial: 0. Best value: 0.00911675:  20%|██        | 2/10 [00:41<02:17, 17.21s/it]"
     ]
    },
    {
     "name": "stdout",
     "output_type": "stream",
     "text": [
      "[I 2025-08-17 19:09:10,413] Trial 0 finished with value: 0.00911674941153962 and parameters: {'lr': 0.00014688442288042814, 'num_epochs': 6}. Best is trial 0 with value: 0.00911674941153962.\n"
     ]
    },
    {
     "name": "stderr",
     "output_type": "stream",
     "text": [
      "Best trial: 2. Best value: 0.00912185:  30%|███       | 3/10 [01:19<03:09, 27.03s/it]"
     ]
    },
    {
     "name": "stdout",
     "output_type": "stream",
     "text": [
      "[I 2025-08-17 19:09:49,119] Trial 2 finished with value: 0.009121849405102554 and parameters: {'lr': 0.0006661976193777732, 'num_epochs': 4}. Best is trial 2 with value: 0.009121849405102554.\n"
     ]
    },
    {
     "name": "stderr",
     "output_type": "stream",
     "text": [
      "Best trial: 2. Best value: 0.00912185:  40%|████      | 4/10 [01:28<01:57, 19.60s/it]"
     ]
    },
    {
     "name": "stdout",
     "output_type": "stream",
     "text": [
      "[I 2025-08-17 19:09:57,328] Trial 3 finished with value: 0.009119872026727241 and parameters: {'lr': 0.0002535703990452961, 'num_epochs': 7}. Best is trial 2 with value: 0.009121849405102554.\n"
     ]
    },
    {
     "name": "stderr",
     "output_type": "stream",
     "text": [
      "Best trial: 2. Best value: 0.00912185:  50%|█████     | 5/10 [02:04<02:08, 25.78s/it]"
     ]
    },
    {
     "name": "stdout",
     "output_type": "stream",
     "text": [
      "[I 2025-08-17 19:10:34,072] Trial 4 finished with value: 0.009117957720723092 and parameters: {'lr': 0.00015494665977641123, 'num_epochs': 4}. Best is trial 2 with value: 0.009121849405102554.\n"
     ]
    },
    {
     "name": "stderr",
     "output_type": "stream",
     "text": [
      "Best trial: 5. Best value: 0.00914043:  60%|██████    | 6/10 [02:14<01:21, 20.41s/it]"
     ]
    },
    {
     "name": "stdout",
     "output_type": "stream",
     "text": [
      "[I 2025-08-17 19:10:44,058] Trial 5 finished with value: 0.009140427565767958 and parameters: {'lr': 0.0009312069592979441, 'num_epochs': 7}. Best is trial 5 with value: 0.009140427565767958.\n"
     ]
    },
    {
     "name": "stderr",
     "output_type": "stream",
     "text": [
      "Best trial: 5. Best value: 0.00914043:  70%|███████   | 7/10 [02:44<01:10, 23.54s/it]"
     ]
    },
    {
     "name": "stdout",
     "output_type": "stream",
     "text": [
      "[I 2025-08-17 19:11:14,029] Trial 6 finished with value: 0.009114119790104944 and parameters: {'lr': 0.00014316238181249753, 'num_epochs': 3}. Best is trial 5 with value: 0.009140427565767958.\n"
     ]
    },
    {
     "name": "stderr",
     "output_type": "stream",
     "text": [
      "Best trial: 5. Best value: 0.00914043:  80%|████████  | 8/10 [03:01<00:42, 21.38s/it]"
     ]
    },
    {
     "name": "stdout",
     "output_type": "stream",
     "text": [
      "[I 2025-08-17 19:11:30,806] Trial 7 finished with value: 0.009127868076393845 and parameters: {'lr': 0.0006385589919752676, 'num_epochs': 6}. Best is trial 5 with value: 0.009140427565767958.\n"
     ]
    },
    {
     "name": "stderr",
     "output_type": "stream",
     "text": [
      "Best trial: 5. Best value: 0.00914043:  90%|█████████ | 9/10 [03:30<00:23, 23.65s/it]"
     ]
    },
    {
     "name": "stdout",
     "output_type": "stream",
     "text": [
      "[I 2025-08-17 19:11:59,451] Trial 8 finished with value: 0.009113317619059215 and parameters: {'lr': 0.00016551277217555124, 'num_epochs': 2}. Best is trial 5 with value: 0.009140427565767958.\n"
     ]
    },
    {
     "name": "stderr",
     "output_type": "stream",
     "text": [
      "Best trial: 5. Best value: 0.00914043: 100%|██████████| 10/10 [03:43<00:00, 22.34s/it]\n"
     ]
    },
    {
     "name": "stdout",
     "output_type": "stream",
     "text": [
      "[I 2025-08-17 19:12:12,589] Trial 9 finished with value: 0.009119895306215898 and parameters: {'lr': 0.0008896592064285964, 'num_epochs': 8}. Best is trial 5 with value: 0.009140427565767958.\n"
     ]
    }
   ],
   "source": [
    "df5 = trainer_trial(num_runs, num_neighbors, num_rounds_list, train_dataset, batch_size, val_size=3500)"
   ]
  },
  {
   "cell_type": "code",
   "execution_count": null,
   "metadata": {},
   "outputs": [
    {
     "data": {
      "text/html": [
       "<div>\n",
       "<style scoped>\n",
       "    .dataframe tbody tr th:only-of-type {\n",
       "        vertical-align: middle;\n",
       "    }\n",
       "\n",
       "    .dataframe tbody tr th {\n",
       "        vertical-align: top;\n",
       "    }\n",
       "\n",
       "    .dataframe thead th {\n",
       "        text-align: right;\n",
       "    }\n",
       "</style>\n",
       "<table border=\"1\" class=\"dataframe\">\n",
       "  <thead>\n",
       "    <tr style=\"text-align: right;\">\n",
       "      <th></th>\n",
       "      <th>policy_rewards</th>\n",
       "      <th>ipw</th>\n",
       "      <th>reg_dm</th>\n",
       "      <th>conv_dm</th>\n",
       "      <th>conv_dr</th>\n",
       "      <th>conv_sndr</th>\n",
       "      <th>ipw_var</th>\n",
       "      <th>reg_dm_var</th>\n",
       "      <th>conv_dm_var</th>\n",
       "      <th>conv_dr_var</th>\n",
       "      <th>conv_sndr_var</th>\n",
       "      <th>action_diff_to_real</th>\n",
       "      <th>action_delta</th>\n",
       "      <th>context_diff_to_real</th>\n",
       "      <th>context_delta</th>\n",
       "    </tr>\n",
       "  </thead>\n",
       "  <tbody>\n",
       "    <tr>\n",
       "      <th>0</th>\n",
       "      <td>0.0198</td>\n",
       "      <td>0.0191</td>\n",
       "      <td>0.0196</td>\n",
       "      <td>0.0197</td>\n",
       "      <td>0.0197</td>\n",
       "      <td>0.0196</td>\n",
       "      <td>0.0000</td>\n",
       "      <td>0.0000</td>\n",
       "      <td>0.0000</td>\n",
       "      <td>0.0000</td>\n",
       "      <td>0.0000</td>\n",
       "      <td>0.2784</td>\n",
       "      <td>0.0000</td>\n",
       "      <td>0.2374</td>\n",
       "      <td>0.0000</td>\n",
       "    </tr>\n",
       "    <tr>\n",
       "      <th>3000</th>\n",
       "      <td>0.0198</td>\n",
       "      <td>0.0191</td>\n",
       "      <td>0.0196</td>\n",
       "      <td>0.0197</td>\n",
       "      <td>0.0197</td>\n",
       "      <td>0.0196</td>\n",
       "      <td>0.0000</td>\n",
       "      <td>0.0000</td>\n",
       "      <td>0.0000</td>\n",
       "      <td>0.0000</td>\n",
       "      <td>0.0000</td>\n",
       "      <td>0.2783</td>\n",
       "      <td>0.0006</td>\n",
       "      <td>0.2374</td>\n",
       "      <td>0.0004</td>\n",
       "    </tr>\n",
       "    <tr>\n",
       "      <th>6000</th>\n",
       "      <td>0.0198</td>\n",
       "      <td>0.0225</td>\n",
       "      <td>0.0224</td>\n",
       "      <td>0.0229</td>\n",
       "      <td>0.0226</td>\n",
       "      <td>0.0215</td>\n",
       "      <td>0.0000</td>\n",
       "      <td>0.0000</td>\n",
       "      <td>0.0000</td>\n",
       "      <td>0.0000</td>\n",
       "      <td>0.0000</td>\n",
       "      <td>0.2780</td>\n",
       "      <td>0.0037</td>\n",
       "      <td>0.2375</td>\n",
       "      <td>0.0024</td>\n",
       "    </tr>\n",
       "    <tr>\n",
       "      <th>8000</th>\n",
       "      <td>0.0198</td>\n",
       "      <td>0.0167</td>\n",
       "      <td>0.0202</td>\n",
       "      <td>0.0197</td>\n",
       "      <td>0.0193</td>\n",
       "      <td>0.0179</td>\n",
       "      <td>0.0000</td>\n",
       "      <td>0.0000</td>\n",
       "      <td>0.0000</td>\n",
       "      <td>0.0000</td>\n",
       "      <td>0.0000</td>\n",
       "      <td>0.2779</td>\n",
       "      <td>0.0033</td>\n",
       "      <td>0.2374</td>\n",
       "      <td>0.0022</td>\n",
       "    </tr>\n",
       "    <tr>\n",
       "      <th>9000</th>\n",
       "      <td>0.0198</td>\n",
       "      <td>0.0248</td>\n",
       "      <td>0.0213</td>\n",
       "      <td>0.0210</td>\n",
       "      <td>0.0215</td>\n",
       "      <td>0.0230</td>\n",
       "      <td>0.0000</td>\n",
       "      <td>0.0000</td>\n",
       "      <td>0.0000</td>\n",
       "      <td>0.0000</td>\n",
       "      <td>0.0000</td>\n",
       "      <td>0.2743</td>\n",
       "      <td>0.0588</td>\n",
       "      <td>0.2376</td>\n",
       "      <td>0.0420</td>\n",
       "    </tr>\n",
       "  </tbody>\n",
       "</table>\n",
       "</div>"
      ],
      "text/plain": [
       "      policy_rewards    ipw  reg_dm  conv_dm  conv_dr  conv_sndr  ipw_var  \\\n",
       "0             0.0198 0.0191  0.0196   0.0197   0.0197     0.0196   0.0000   \n",
       "3000          0.0198 0.0191  0.0196   0.0197   0.0197     0.0196   0.0000   \n",
       "6000          0.0198 0.0225  0.0224   0.0229   0.0226     0.0215   0.0000   \n",
       "8000          0.0198 0.0167  0.0202   0.0197   0.0193     0.0179   0.0000   \n",
       "9000          0.0198 0.0248  0.0213   0.0210   0.0215     0.0230   0.0000   \n",
       "\n",
       "      reg_dm_var  conv_dm_var  conv_dr_var  conv_sndr_var  \\\n",
       "0         0.0000       0.0000       0.0000         0.0000   \n",
       "3000      0.0000       0.0000       0.0000         0.0000   \n",
       "6000      0.0000       0.0000       0.0000         0.0000   \n",
       "8000      0.0000       0.0000       0.0000         0.0000   \n",
       "9000      0.0000       0.0000       0.0000         0.0000   \n",
       "\n",
       "      action_diff_to_real  action_delta  context_diff_to_real  context_delta  \n",
       "0                  0.2784        0.0000                0.2374         0.0000  \n",
       "3000               0.2783        0.0006                0.2374         0.0004  \n",
       "6000               0.2780        0.0037                0.2375         0.0024  \n",
       "8000               0.2779        0.0033                0.2374         0.0022  \n",
       "9000               0.2743        0.0588                0.2376         0.0420  "
      ]
     },
     "execution_count": 27,
     "metadata": {},
     "output_type": "execute_result"
    }
   ],
   "source": [
    "df5"
   ]
  },
  {
   "cell_type": "markdown",
   "metadata": {},
   "source": [
    "### 3\n",
    "\n",
    "$$emb = 0.7 * gt + 0.3 * noise$$\n",
    "$$lr = 0.003$$\n",
    "$$n_{epochs} = 10$$\n",
    "$$BatchSize=50$$"
   ]
  },
  {
   "cell_type": "code",
   "execution_count": null,
   "metadata": {},
   "outputs": [
    {
     "name": "stderr",
     "output_type": "stream",
     "text": [
      "[I 2025-08-17 18:49:28,153] A new study created in memory with name: no-name-d5061523-9cad-4d43-a177-edb90d613796\n",
      "Best trial: 1. Best value: 0.114287:  20%|██        | 2/10 [00:13<00:43,  5.42s/it]  "
     ]
    },
    {
     "name": "stdout",
     "output_type": "stream",
     "text": [
      "[I 2025-08-17 18:49:41,075] Trial 0 finished with value: -0.04472256198718548 and parameters: {'lr': 0.07127227807002877, 'num_epochs': 5}. Best is trial 0 with value: -0.04472256198718548.\n",
      "[I 2025-08-17 18:49:41,251] Trial 1 finished with value: 0.1142872512698241 and parameters: {'lr': 0.011825759151589394, 'num_epochs': 7}. Best is trial 1 with value: 0.1142872512698241.\n"
     ]
    },
    {
     "name": "stderr",
     "output_type": "stream",
     "text": [
      "Best trial: 1. Best value: 0.114287:  30%|███       | 3/10 [00:26<01:03,  9.06s/it]"
     ]
    },
    {
     "name": "stdout",
     "output_type": "stream",
     "text": [
      "[I 2025-08-17 18:49:54,627] Trial 2 finished with value: 0.045004589209512315 and parameters: {'lr': 0.014394419357596071, 'num_epochs': 10}. Best is trial 1 with value: 0.1142872512698241.\n"
     ]
    },
    {
     "name": "stderr",
     "output_type": "stream",
     "text": [
      "Best trial: 3. Best value: 0.135547:  40%|████      | 4/10 [00:27<00:34,  5.69s/it]"
     ]
    },
    {
     "name": "stdout",
     "output_type": "stream",
     "text": [
      "[I 2025-08-17 18:49:55,153] Trial 3 finished with value: 0.1355472436777312 and parameters: {'lr': 0.0013464932403186058, 'num_epochs': 6}. Best is trial 3 with value: 0.1355472436777312.\n"
     ]
    },
    {
     "name": "stderr",
     "output_type": "stream",
     "text": [
      "Best trial: 3. Best value: 0.135547:  50%|█████     | 5/10 [00:39<00:40,  8.03s/it]"
     ]
    },
    {
     "name": "stdout",
     "output_type": "stream",
     "text": [
      "[I 2025-08-17 18:50:07,338] Trial 4 finished with value: 0.13150393664579516 and parameters: {'lr': 0.02359040984327493, 'num_epochs': 2}. Best is trial 3 with value: 0.1355472436777312.\n"
     ]
    },
    {
     "name": "stderr",
     "output_type": "stream",
     "text": [
      "Best trial: 3. Best value: 0.135547:  60%|██████    | 6/10 [00:40<00:22,  5.75s/it]"
     ]
    },
    {
     "name": "stdout",
     "output_type": "stream",
     "text": [
      "[I 2025-08-17 18:50:08,652] Trial 5 finished with value: -0.04957683777459038 and parameters: {'lr': 0.0337470417117592, 'num_epochs': 9}. Best is trial 3 with value: 0.1355472436777312.\n"
     ]
    },
    {
     "name": "stderr",
     "output_type": "stream",
     "text": [
      "Best trial: 3. Best value: 0.135547:  70%|███████   | 7/10 [00:52<00:23,  7.72s/it]"
     ]
    },
    {
     "name": "stdout",
     "output_type": "stream",
     "text": [
      "[I 2025-08-17 18:50:20,425] Trial 6 finished with value: 0.11547923480129461 and parameters: {'lr': 0.008080131035353195, 'num_epochs': 10}. Best is trial 3 with value: 0.1355472436777312.\n"
     ]
    },
    {
     "name": "stderr",
     "output_type": "stream",
     "text": [
      "Best trial: 3. Best value: 0.135547:  80%|████████  | 8/10 [00:54<00:12,  6.04s/it]"
     ]
    },
    {
     "name": "stdout",
     "output_type": "stream",
     "text": [
      "[I 2025-08-17 18:50:22,874] Trial 7 finished with value: 0.1267705194945704 and parameters: {'lr': 0.006831979864790386, 'num_epochs': 9}. Best is trial 3 with value: 0.1355472436777312.\n"
     ]
    },
    {
     "name": "stderr",
     "output_type": "stream",
     "text": [
      "Best trial: 3. Best value: 0.135547:  90%|█████████ | 9/10 [01:04<00:07,  7.34s/it]"
     ]
    },
    {
     "name": "stdout",
     "output_type": "stream",
     "text": [
      "[I 2025-08-17 18:50:33,078] Trial 8 finished with value: 0.1355434279117786 and parameters: {'lr': 0.004372015093996474, 'num_epochs': 4}. Best is trial 3 with value: 0.1355472436777312.\n"
     ]
    },
    {
     "name": "stderr",
     "output_type": "stream",
     "text": [
      "Best trial: 3. Best value: 0.135547: 100%|██████████| 10/10 [01:07<00:00,  6.78s/it]\n"
     ]
    },
    {
     "name": "stdout",
     "output_type": "stream",
     "text": [
      "[I 2025-08-17 18:50:35,906] Trial 9 finished with value: 0.13546888605663238 and parameters: {'lr': 0.001492647045490235, 'num_epochs': 7}. Best is trial 3 with value: 0.1355472436777312.\n"
     ]
    },
    {
     "name": "stderr",
     "output_type": "stream",
     "text": [
      "[I 2025-08-17 18:50:59,603] A new study created in memory with name: no-name-7646701b-8975-4845-9019-3644c110a3e4\n",
      " 10%|█         | 1/10 [00:24<03:43, 24.80s/it]"
     ]
    },
    {
     "name": "stdout",
     "output_type": "stream",
     "text": [
      "[W 2025-08-17 18:51:24,398] Trial 1 failed with parameters: {'lr': 0.09437849269881586, 'num_epochs': 5} because of the following error: The value nan is not acceptable.\n",
      "[W 2025-08-17 18:51:24,399] Trial 1 failed with value nan.\n"
     ]
    },
    {
     "name": "stderr",
     "output_type": "stream",
     "text": [
      "Best trial: 0. Best value: 0.0907204:  20%|██        | 2/10 [00:25<01:24, 10.53s/it]"
     ]
    },
    {
     "name": "stdout",
     "output_type": "stream",
     "text": [
      "[I 2025-08-17 18:51:24,943] Trial 0 finished with value: 0.09072042998759373 and parameters: {'lr': 0.0010379728733970212, 'num_epochs': 7}. Best is trial 0 with value: 0.09072042998759373.\n"
     ]
    },
    {
     "name": "stderr",
     "output_type": "stream",
     "text": [
      "Best trial: 0. Best value: 0.0907204:  30%|███       | 3/10 [00:51<02:03, 17.64s/it]"
     ]
    },
    {
     "name": "stdout",
     "output_type": "stream",
     "text": [
      "[I 2025-08-17 18:51:51,036] Trial 2 finished with value: 0.04690063559993854 and parameters: {'lr': 0.005387872846022235, 'num_epochs': 8}. Best is trial 0 with value: 0.09072042998759373.\n"
     ]
    },
    {
     "name": "stderr",
     "output_type": "stream",
     "text": [
      "Best trial: 0. Best value: 0.0907204:  40%|████      | 4/10 [00:52<01:05, 10.96s/it]"
     ]
    },
    {
     "name": "stdout",
     "output_type": "stream",
     "text": [
      "[I 2025-08-17 18:51:51,749] Trial 3 finished with value: 0.090543620574664 and parameters: {'lr': 0.0014846283927581049, 'num_epochs': 8}. Best is trial 0 with value: 0.09072042998759373.\n"
     ]
    },
    {
     "name": "stderr",
     "output_type": "stream",
     "text": [
      "Best trial: 0. Best value: 0.0907204:  50%|█████     | 5/10 [01:16<01:19, 15.96s/it]"
     ]
    },
    {
     "name": "stdout",
     "output_type": "stream",
     "text": [
      "[I 2025-08-17 18:52:16,584] Trial 4 finished with value: 0.08984474991916688 and parameters: {'lr': 0.0033925528225261866, 'num_epochs': 4}. Best is trial 0 with value: 0.09072042998759373.\n"
     ]
    },
    {
     "name": "stderr",
     "output_type": "stream",
     "text": [
      "Best trial: 0. Best value: 0.0907204:  60%|██████    | 6/10 [01:18<00:44, 11.21s/it]"
     ]
    },
    {
     "name": "stdout",
     "output_type": "stream",
     "text": [
      "[I 2025-08-17 18:52:18,568] Trial 5 finished with value: -0.023466562351199267 and parameters: {'lr': 0.06060954632498749, 'num_epochs': 1}. Best is trial 0 with value: 0.09072042998759373.\n"
     ]
    },
    {
     "name": "stderr",
     "output_type": "stream",
     "text": [
      "Best trial: 0. Best value: 0.0907204:  70%|███████   | 7/10 [01:44<00:47, 15.92s/it]"
     ]
    },
    {
     "name": "stdout",
     "output_type": "stream",
     "text": [
      "[I 2025-08-17 18:52:44,184] Trial 6 finished with value: 0.08501539990662584 and parameters: {'lr': 0.005776895640798584, 'num_epochs': 4}. Best is trial 0 with value: 0.09072042998759373.\n"
     ]
    },
    {
     "name": "stderr",
     "output_type": "stream",
     "text": [
      "Best trial: 0. Best value: 0.0907204:  80%|████████  | 8/10 [01:44<00:21, 10.94s/it]"
     ]
    },
    {
     "name": "stdout",
     "output_type": "stream",
     "text": [
      "[I 2025-08-17 18:52:44,463] Trial 7 finished with value: 0.08784684172470424 and parameters: {'lr': 0.008920015594635834, 'num_epochs': 2}. Best is trial 0 with value: 0.09072042998759373.\n"
     ]
    },
    {
     "name": "stderr",
     "output_type": "stream",
     "text": [
      "Best trial: 0. Best value: 0.0907204:  90%|█████████ | 9/10 [02:11<00:15, 15.77s/it]"
     ]
    },
    {
     "name": "stdout",
     "output_type": "stream",
     "text": [
      "[I 2025-08-17 18:53:10,853] Trial 9 finished with value: 0.05786944371201447 and parameters: {'lr': 0.012302764724565911, 'num_epochs': 3}. Best is trial 0 with value: 0.09072042998759373.\n"
     ]
    },
    {
     "name": "stderr",
     "output_type": "stream",
     "text": [
      "Best trial: 0. Best value: 0.0907204: 100%|██████████| 10/10 [02:11<00:00, 13.15s/it]\n"
     ]
    },
    {
     "name": "stdout",
     "output_type": "stream",
     "text": [
      "[I 2025-08-17 18:53:11,118] Trial 8 finished with value: -0.10155643825261661 and parameters: {'lr': 0.020503730819531513, 'num_epochs': 10}. Best is trial 0 with value: 0.09072042998759373.\n"
     ]
    },
    {
     "name": "stderr",
     "output_type": "stream",
     "text": [
      "[I 2025-08-17 18:53:48,342] A new study created in memory with name: no-name-9847ed0a-6652-42e5-bb23-228394a67fab\n",
      "Best trial: 1. Best value: 0.0412514:  10%|█         | 1/10 [00:34<05:13, 34.84s/it]"
     ]
    },
    {
     "name": "stdout",
     "output_type": "stream",
     "text": [
      "[I 2025-08-17 18:54:23,179] Trial 1 finished with value: 0.04125140694042286 and parameters: {'lr': 0.009370035704828939, 'num_epochs': 3}. Best is trial 1 with value: 0.04125140694042286.\n"
     ]
    },
    {
     "name": "stderr",
     "output_type": "stream",
     "text": [
      "Best trial: 0. Best value: 0.0709456:  20%|██        | 2/10 [00:35<01:57, 14.64s/it]"
     ]
    },
    {
     "name": "stdout",
     "output_type": "stream",
     "text": [
      "[I 2025-08-17 18:54:23,677] Trial 0 finished with value: 0.07094556804245737 and parameters: {'lr': 0.0011211348394267325, 'num_epochs': 5}. Best is trial 0 with value: 0.07094556804245737.\n"
     ]
    },
    {
     "name": "stderr",
     "output_type": "stream",
     "text": [
      "Best trial: 2. Best value: 0.0719043:  30%|███       | 3/10 [01:07<02:39, 22.80s/it]"
     ]
    },
    {
     "name": "stdout",
     "output_type": "stream",
     "text": [
      "[I 2025-08-17 18:54:56,195] Trial 2 finished with value: 0.07190425393452309 and parameters: {'lr': 0.001053252444532054, 'num_epochs': 1}. Best is trial 2 with value: 0.07190425393452309.\n"
     ]
    },
    {
     "name": "stderr",
     "output_type": "stream",
     "text": [
      "Best trial: 2. Best value: 0.0719043:  40%|████      | 4/10 [01:09<01:25, 14.32s/it]"
     ]
    },
    {
     "name": "stdout",
     "output_type": "stream",
     "text": [
      "[I 2025-08-17 18:54:57,516] Trial 3 finished with value: 0.06493458239475818 and parameters: {'lr': 0.004822117781513079, 'num_epochs': 4}. Best is trial 2 with value: 0.07190425393452309.\n"
     ]
    },
    {
     "name": "stderr",
     "output_type": "stream",
     "text": [
      "Best trial: 2. Best value: 0.0719043:  50%|█████     | 5/10 [01:43<01:48, 21.62s/it]"
     ]
    },
    {
     "name": "stdout",
     "output_type": "stream",
     "text": [
      "[I 2025-08-17 18:55:32,082] Trial 4 finished with value: 0.07018113747888728 and parameters: {'lr': 0.0021706302038442585, 'num_epochs': 2}. Best is trial 2 with value: 0.07190425393452309.\n"
     ]
    },
    {
     "name": "stderr",
     "output_type": "stream",
     "text": [
      "Best trial: 2. Best value: 0.0719043:  60%|██████    | 6/10 [01:45<00:58, 14.72s/it]"
     ]
    },
    {
     "name": "stdout",
     "output_type": "stream",
     "text": [
      "[I 2025-08-17 18:55:33,400] Trial 5 finished with value: 0.032881778544321213 and parameters: {'lr': 0.030590521561647196, 'num_epochs': 1}. Best is trial 2 with value: 0.07190425393452309.\n"
     ]
    },
    {
     "name": "stderr",
     "output_type": "stream",
     "text": [
      "Best trial: 2. Best value: 0.0719043:  70%|███████   | 7/10 [02:21<01:05, 21.98s/it]"
     ]
    },
    {
     "name": "stdout",
     "output_type": "stream",
     "text": [
      "[I 2025-08-17 18:56:10,319] Trial 6 finished with value: -0.0051989051297017565 and parameters: {'lr': 0.006225043298701339, 'num_epochs': 8}. Best is trial 2 with value: 0.07190425393452309.\n"
     ]
    },
    {
     "name": "stderr",
     "output_type": "stream",
     "text": [
      "Best trial: 2. Best value: 0.0719043:  80%|████████  | 8/10 [02:23<00:35, 17.92s/it]"
     ]
    },
    {
     "name": "stdout",
     "output_type": "stream",
     "text": [
      "[I 2025-08-17 18:56:11,729] Trial 7 finished with value: 0.06390395626225005 and parameters: {'lr': 0.0026362426348245987, 'num_epochs': 7}. Best is trial 2 with value: 0.07190425393452309.\n"
     ]
    },
    {
     "name": "stderr",
     "output_type": "stream",
     "text": [
      "\n"
     ]
    },
    {
     "ename": "KeyboardInterrupt",
     "evalue": "",
     "output_type": "error",
     "traceback": [
      "\u001b[31m---------------------------------------------------------------------------\u001b[39m",
      "\u001b[31mKeyboardInterrupt\u001b[39m                         Traceback (most recent call last)",
      "\u001b[36mCell\u001b[39m\u001b[36m \u001b[39m\u001b[32mIn[17]\u001b[39m\u001b[32m, line 1\u001b[39m\n\u001b[32m----> \u001b[39m\u001b[32m1\u001b[39m df6 = \u001b[43mtrainer_trial\u001b[49m\u001b[43m(\u001b[49m\u001b[43mnum_runs\u001b[49m\u001b[43m,\u001b[49m\u001b[43m \u001b[49m\u001b[43mnum_neighbors\u001b[49m\u001b[43m,\u001b[49m\u001b[43m \u001b[49m\u001b[43mnum_rounds_list\u001b[49m\u001b[43m,\u001b[49m\u001b[43m \u001b[49m\u001b[43mtrain_dataset\u001b[49m\u001b[43m,\u001b[49m\u001b[43m \u001b[49m\u001b[43mbatch_size\u001b[49m\u001b[43m)\u001b[49m\n",
      "\u001b[36mCell\u001b[39m\u001b[36m \u001b[39m\u001b[32mIn[5]\u001b[39m\u001b[32m, line 149\u001b[39m, in \u001b[36mtrainer_trial\u001b[39m\u001b[34m(num_runs, num_neighbors, num_rounds_list, dataset, batch_size, val_size)\u001b[39m\n\u001b[32m    139\u001b[39m \u001b[38;5;66;03m# Bloss = BPRLoss()\u001b[39;00m\n\u001b[32m    140\u001b[39m \u001b[38;5;66;03m# bpr_model = BPRModel(\u001b[39;00m\n\u001b[32m    141\u001b[39m \u001b[38;5;66;03m#                     n_users,\u001b[39;00m\n\u001b[32m   (...)\u001b[39m\u001b[32m    145\u001b[39m \u001b[38;5;66;03m#                     initial_actions_embeddings=torch.tensor(our_a, device=device)\u001b[39;00m\n\u001b[32m    146\u001b[39m \u001b[38;5;66;03m#                     )\u001b[39;00m\n\u001b[32m    148\u001b[39m study = optuna.create_study(direction=\u001b[33m\"\u001b[39m\u001b[33mmaximize\u001b[39m\u001b[33m\"\u001b[39m)\n\u001b[32m--> \u001b[39m\u001b[32m149\u001b[39m \u001b[43mstudy\u001b[49m\u001b[43m.\u001b[49m\u001b[43moptimize\u001b[49m\u001b[43m(\u001b[49m\u001b[43mobjective\u001b[49m\u001b[43m,\u001b[49m\u001b[43m \u001b[49m\u001b[43mn_trials\u001b[49m\u001b[43m=\u001b[49m\u001b[32;43m10\u001b[39;49m\u001b[43m,\u001b[49m\u001b[43m \u001b[49m\u001b[43mn_jobs\u001b[49m\u001b[43m=\u001b[49m\u001b[32;43m2\u001b[39;49m\u001b[43m,\u001b[49m\u001b[43m \u001b[49m\u001b[43mshow_progress_bar\u001b[49m\u001b[43m=\u001b[49m\u001b[38;5;28;43;01mTrue\u001b[39;49;00m\u001b[43m)\u001b[49m\n\u001b[32m    150\u001b[39m best_params = study.best_params\n\u001b[32m    152\u001b[39m neighberhoodmodel = NeighborhoodModel(\n\u001b[32m    153\u001b[39m                                         train_data[\u001b[33m'\u001b[39m\u001b[33mx_idx\u001b[39m\u001b[33m'\u001b[39m],\n\u001b[32m    154\u001b[39m                                         train_data[\u001b[33m'\u001b[39m\u001b[33ma\u001b[39m\u001b[33m'\u001b[39m], \n\u001b[32m   (...)\u001b[39m\u001b[32m    158\u001b[39m                                         num_neighbors=num_neighbors\n\u001b[32m    159\u001b[39m                                     )\n",
      "\u001b[36mFile \u001b[39m\u001b[32m~/Documents/code/OPC/.venv/lib/python3.12/site-packages/optuna/study/study.py:489\u001b[39m, in \u001b[36mStudy.optimize\u001b[39m\u001b[34m(self, func, n_trials, timeout, n_jobs, catch, callbacks, gc_after_trial, show_progress_bar)\u001b[39m\n\u001b[32m    387\u001b[39m \u001b[38;5;28;01mdef\u001b[39;00m\u001b[38;5;250m \u001b[39m\u001b[34moptimize\u001b[39m(\n\u001b[32m    388\u001b[39m     \u001b[38;5;28mself\u001b[39m,\n\u001b[32m    389\u001b[39m     func: ObjectiveFuncType,\n\u001b[32m   (...)\u001b[39m\u001b[32m    396\u001b[39m     show_progress_bar: \u001b[38;5;28mbool\u001b[39m = \u001b[38;5;28;01mFalse\u001b[39;00m,\n\u001b[32m    397\u001b[39m ) -> \u001b[38;5;28;01mNone\u001b[39;00m:\n\u001b[32m    398\u001b[39m \u001b[38;5;250m    \u001b[39m\u001b[33;03m\"\"\"Optimize an objective function.\u001b[39;00m\n\u001b[32m    399\u001b[39m \n\u001b[32m    400\u001b[39m \u001b[33;03m    Optimization is done by choosing a suitable set of hyperparameter values from a given\u001b[39;00m\n\u001b[32m   (...)\u001b[39m\u001b[32m    487\u001b[39m \u001b[33;03m            If nested invocation of this method occurs.\u001b[39;00m\n\u001b[32m    488\u001b[39m \u001b[33;03m    \"\"\"\u001b[39;00m\n\u001b[32m--> \u001b[39m\u001b[32m489\u001b[39m     \u001b[43m_optimize\u001b[49m\u001b[43m(\u001b[49m\n\u001b[32m    490\u001b[39m \u001b[43m        \u001b[49m\u001b[43mstudy\u001b[49m\u001b[43m=\u001b[49m\u001b[38;5;28;43mself\u001b[39;49m\u001b[43m,\u001b[49m\n\u001b[32m    491\u001b[39m \u001b[43m        \u001b[49m\u001b[43mfunc\u001b[49m\u001b[43m=\u001b[49m\u001b[43mfunc\u001b[49m\u001b[43m,\u001b[49m\n\u001b[32m    492\u001b[39m \u001b[43m        \u001b[49m\u001b[43mn_trials\u001b[49m\u001b[43m=\u001b[49m\u001b[43mn_trials\u001b[49m\u001b[43m,\u001b[49m\n\u001b[32m    493\u001b[39m \u001b[43m        \u001b[49m\u001b[43mtimeout\u001b[49m\u001b[43m=\u001b[49m\u001b[43mtimeout\u001b[49m\u001b[43m,\u001b[49m\n\u001b[32m    494\u001b[39m \u001b[43m        \u001b[49m\u001b[43mn_jobs\u001b[49m\u001b[43m=\u001b[49m\u001b[43mn_jobs\u001b[49m\u001b[43m,\u001b[49m\n\u001b[32m    495\u001b[39m \u001b[43m        \u001b[49m\u001b[43mcatch\u001b[49m\u001b[43m=\u001b[49m\u001b[38;5;28;43mtuple\u001b[39;49m\u001b[43m(\u001b[49m\u001b[43mcatch\u001b[49m\u001b[43m)\u001b[49m\u001b[43m \u001b[49m\u001b[38;5;28;43;01mif\u001b[39;49;00m\u001b[43m \u001b[49m\u001b[38;5;28;43misinstance\u001b[39;49m\u001b[43m(\u001b[49m\u001b[43mcatch\u001b[49m\u001b[43m,\u001b[49m\u001b[43m \u001b[49m\u001b[43mIterable\u001b[49m\u001b[43m)\u001b[49m\u001b[43m \u001b[49m\u001b[38;5;28;43;01melse\u001b[39;49;00m\u001b[43m \u001b[49m\u001b[43m(\u001b[49m\u001b[43mcatch\u001b[49m\u001b[43m,\u001b[49m\u001b[43m)\u001b[49m\u001b[43m,\u001b[49m\n\u001b[32m    496\u001b[39m \u001b[43m        \u001b[49m\u001b[43mcallbacks\u001b[49m\u001b[43m=\u001b[49m\u001b[43mcallbacks\u001b[49m\u001b[43m,\u001b[49m\n\u001b[32m    497\u001b[39m \u001b[43m        \u001b[49m\u001b[43mgc_after_trial\u001b[49m\u001b[43m=\u001b[49m\u001b[43mgc_after_trial\u001b[49m\u001b[43m,\u001b[49m\n\u001b[32m    498\u001b[39m \u001b[43m        \u001b[49m\u001b[43mshow_progress_bar\u001b[49m\u001b[43m=\u001b[49m\u001b[43mshow_progress_bar\u001b[49m\u001b[43m,\u001b[49m\n\u001b[32m    499\u001b[39m \u001b[43m    \u001b[49m\u001b[43m)\u001b[49m\n",
      "\u001b[36mFile \u001b[39m\u001b[32m~/Documents/code/OPC/.venv/lib/python3.12/site-packages/optuna/study/_optimize.py:98\u001b[39m, in \u001b[36m_optimize\u001b[39m\u001b[34m(study, func, n_trials, timeout, n_jobs, catch, callbacks, gc_after_trial, show_progress_bar)\u001b[39m\n\u001b[32m     95\u001b[39m     \u001b[38;5;28;01mbreak\u001b[39;00m\n\u001b[32m     97\u001b[39m \u001b[38;5;28;01mif\u001b[39;00m \u001b[38;5;28mlen\u001b[39m(futures) >= n_jobs:\n\u001b[32m---> \u001b[39m\u001b[32m98\u001b[39m     completed, futures = \u001b[43mwait\u001b[49m\u001b[43m(\u001b[49m\u001b[43mfutures\u001b[49m\u001b[43m,\u001b[49m\u001b[43m \u001b[49m\u001b[43mreturn_when\u001b[49m\u001b[43m=\u001b[49m\u001b[43mFIRST_COMPLETED\u001b[49m\u001b[43m)\u001b[49m\n\u001b[32m     99\u001b[39m     \u001b[38;5;66;03m# Raise if exception occurred in executing the completed futures.\u001b[39;00m\n\u001b[32m    100\u001b[39m     \u001b[38;5;28;01mfor\u001b[39;00m f \u001b[38;5;129;01min\u001b[39;00m completed:\n",
      "\u001b[36mFile \u001b[39m\u001b[32m/usr/lib/python3.12/concurrent/futures/_base.py:305\u001b[39m, in \u001b[36mwait\u001b[39m\u001b[34m(fs, timeout, return_when)\u001b[39m\n\u001b[32m    301\u001b[39m         \u001b[38;5;28;01mreturn\u001b[39;00m DoneAndNotDoneFutures(done, not_done)\n\u001b[32m    303\u001b[39m     waiter = _create_and_install_waiters(fs, return_when)\n\u001b[32m--> \u001b[39m\u001b[32m305\u001b[39m \u001b[43mwaiter\u001b[49m\u001b[43m.\u001b[49m\u001b[43mevent\u001b[49m\u001b[43m.\u001b[49m\u001b[43mwait\u001b[49m\u001b[43m(\u001b[49m\u001b[43mtimeout\u001b[49m\u001b[43m)\u001b[49m\n\u001b[32m    306\u001b[39m \u001b[38;5;28;01mfor\u001b[39;00m f \u001b[38;5;129;01min\u001b[39;00m fs:\n\u001b[32m    307\u001b[39m     \u001b[38;5;28;01mwith\u001b[39;00m f._condition:\n",
      "\u001b[36mFile \u001b[39m\u001b[32m/usr/lib/python3.12/threading.py:655\u001b[39m, in \u001b[36mEvent.wait\u001b[39m\u001b[34m(self, timeout)\u001b[39m\n\u001b[32m    653\u001b[39m signaled = \u001b[38;5;28mself\u001b[39m._flag\n\u001b[32m    654\u001b[39m \u001b[38;5;28;01mif\u001b[39;00m \u001b[38;5;129;01mnot\u001b[39;00m signaled:\n\u001b[32m--> \u001b[39m\u001b[32m655\u001b[39m     signaled = \u001b[38;5;28;43mself\u001b[39;49m\u001b[43m.\u001b[49m\u001b[43m_cond\u001b[49m\u001b[43m.\u001b[49m\u001b[43mwait\u001b[49m\u001b[43m(\u001b[49m\u001b[43mtimeout\u001b[49m\u001b[43m)\u001b[49m\n\u001b[32m    656\u001b[39m \u001b[38;5;28;01mreturn\u001b[39;00m signaled\n",
      "\u001b[36mFile \u001b[39m\u001b[32m/usr/lib/python3.12/threading.py:355\u001b[39m, in \u001b[36mCondition.wait\u001b[39m\u001b[34m(self, timeout)\u001b[39m\n\u001b[32m    353\u001b[39m \u001b[38;5;28;01mtry\u001b[39;00m:    \u001b[38;5;66;03m# restore state no matter what (e.g., KeyboardInterrupt)\u001b[39;00m\n\u001b[32m    354\u001b[39m     \u001b[38;5;28;01mif\u001b[39;00m timeout \u001b[38;5;129;01mis\u001b[39;00m \u001b[38;5;28;01mNone\u001b[39;00m:\n\u001b[32m--> \u001b[39m\u001b[32m355\u001b[39m         \u001b[43mwaiter\u001b[49m\u001b[43m.\u001b[49m\u001b[43macquire\u001b[49m\u001b[43m(\u001b[49m\u001b[43m)\u001b[49m\n\u001b[32m    356\u001b[39m         gotit = \u001b[38;5;28;01mTrue\u001b[39;00m\n\u001b[32m    357\u001b[39m     \u001b[38;5;28;01melse\u001b[39;00m:\n",
      "\u001b[31mKeyboardInterrupt\u001b[39m: "
     ]
    }
   ],
   "source": [
    "df6 = trainer_trial(num_runs, num_neighbors, num_rounds_list, train_dataset, batch_size)"
   ]
  },
  {
   "cell_type": "code",
   "execution_count": null,
   "metadata": {},
   "outputs": [
    {
     "data": {
      "text/html": [
       "<div>\n",
       "<style scoped>\n",
       "    .dataframe tbody tr th:only-of-type {\n",
       "        vertical-align: middle;\n",
       "    }\n",
       "\n",
       "    .dataframe tbody tr th {\n",
       "        vertical-align: top;\n",
       "    }\n",
       "\n",
       "    .dataframe thead th {\n",
       "        text-align: right;\n",
       "    }\n",
       "</style>\n",
       "<table border=\"1\" class=\"dataframe\">\n",
       "  <thead>\n",
       "    <tr style=\"text-align: right;\">\n",
       "      <th></th>\n",
       "      <th>policy_rewards</th>\n",
       "      <th>ipw</th>\n",
       "      <th>reg_dm</th>\n",
       "      <th>conv_dm</th>\n",
       "      <th>conv_dr</th>\n",
       "      <th>conv_sndr</th>\n",
       "      <th>ipw_var</th>\n",
       "      <th>reg_dm_var</th>\n",
       "      <th>conv_dm_var</th>\n",
       "      <th>conv_dr_var</th>\n",
       "      <th>conv_sndr_var</th>\n",
       "      <th>action_diff_to_real</th>\n",
       "      <th>action_delta</th>\n",
       "      <th>context_diff_to_real</th>\n",
       "      <th>context_delta</th>\n",
       "    </tr>\n",
       "  </thead>\n",
       "  <tbody>\n",
       "    <tr>\n",
       "      <th>0</th>\n",
       "      <td>0.0140</td>\n",
       "      <td>0.0206</td>\n",
       "      <td>0.0158</td>\n",
       "      <td>0.0163</td>\n",
       "      <td>0.0170</td>\n",
       "      <td>0.0190</td>\n",
       "      <td>0.0000</td>\n",
       "      <td>0.0000</td>\n",
       "      <td>0.0000</td>\n",
       "      <td>0.0000</td>\n",
       "      <td>0.0000</td>\n",
       "      <td>0.2189</td>\n",
       "      <td>0.0000</td>\n",
       "      <td>0.3154</td>\n",
       "      <td>0.0000</td>\n",
       "    </tr>\n",
       "    <tr>\n",
       "      <th>3000</th>\n",
       "      <td>0.0139</td>\n",
       "      <td>0.0206</td>\n",
       "      <td>0.0158</td>\n",
       "      <td>0.0163</td>\n",
       "      <td>0.0170</td>\n",
       "      <td>0.0190</td>\n",
       "      <td>0.0000</td>\n",
       "      <td>0.0000</td>\n",
       "      <td>0.0000</td>\n",
       "      <td>0.0000</td>\n",
       "      <td>0.0000</td>\n",
       "      <td>0.2189</td>\n",
       "      <td>0.0000</td>\n",
       "      <td>0.3154</td>\n",
       "      <td>0.0000</td>\n",
       "    </tr>\n",
       "    <tr>\n",
       "      <th>6000</th>\n",
       "      <td>0.0140</td>\n",
       "      <td>0.0156</td>\n",
       "      <td>0.0129</td>\n",
       "      <td>0.0135</td>\n",
       "      <td>0.0135</td>\n",
       "      <td>0.0136</td>\n",
       "      <td>0.0000</td>\n",
       "      <td>0.0000</td>\n",
       "      <td>0.0000</td>\n",
       "      <td>0.0000</td>\n",
       "      <td>0.0000</td>\n",
       "      <td>0.2079</td>\n",
       "      <td>0.0600</td>\n",
       "      <td>0.3195</td>\n",
       "      <td>0.0415</td>\n",
       "    </tr>\n",
       "    <tr>\n",
       "      <th>8000</th>\n",
       "      <td>0.0138</td>\n",
       "      <td>0.0194</td>\n",
       "      <td>0.0155</td>\n",
       "      <td>0.0168</td>\n",
       "      <td>0.0167</td>\n",
       "      <td>0.0163</td>\n",
       "      <td>0.0000</td>\n",
       "      <td>0.0000</td>\n",
       "      <td>0.0000</td>\n",
       "      <td>0.0000</td>\n",
       "      <td>0.0000</td>\n",
       "      <td>0.2189</td>\n",
       "      <td>0.0001</td>\n",
       "      <td>0.3154</td>\n",
       "      <td>0.0001</td>\n",
       "    </tr>\n",
       "    <tr>\n",
       "      <th>9000</th>\n",
       "      <td>0.0143</td>\n",
       "      <td>0.0164</td>\n",
       "      <td>0.0150</td>\n",
       "      <td>0.0165</td>\n",
       "      <td>0.0160</td>\n",
       "      <td>0.0146</td>\n",
       "      <td>0.0000</td>\n",
       "      <td>0.0000</td>\n",
       "      <td>0.0000</td>\n",
       "      <td>0.0000</td>\n",
       "      <td>0.0000</td>\n",
       "      <td>0.2155</td>\n",
       "      <td>0.0121</td>\n",
       "      <td>0.3156</td>\n",
       "      <td>0.0089</td>\n",
       "    </tr>\n",
       "  </tbody>\n",
       "</table>\n",
       "</div>"
      ],
      "text/plain": [
       "      policy_rewards    ipw  reg_dm  conv_dm  conv_dr  conv_sndr  ipw_var  \\\n",
       "0             0.0140 0.0206  0.0158   0.0163   0.0170     0.0190   0.0000   \n",
       "3000          0.0139 0.0206  0.0158   0.0163   0.0170     0.0190   0.0000   \n",
       "6000          0.0140 0.0156  0.0129   0.0135   0.0135     0.0136   0.0000   \n",
       "8000          0.0138 0.0194  0.0155   0.0168   0.0167     0.0163   0.0000   \n",
       "9000          0.0143 0.0164  0.0150   0.0165   0.0160     0.0146   0.0000   \n",
       "\n",
       "      reg_dm_var  conv_dm_var  conv_dr_var  conv_sndr_var  \\\n",
       "0         0.0000       0.0000       0.0000         0.0000   \n",
       "3000      0.0000       0.0000       0.0000         0.0000   \n",
       "6000      0.0000       0.0000       0.0000         0.0000   \n",
       "8000      0.0000       0.0000       0.0000         0.0000   \n",
       "9000      0.0000       0.0000       0.0000         0.0000   \n",
       "\n",
       "      action_diff_to_real  action_delta  context_diff_to_real  context_delta  \n",
       "0                  0.2189        0.0000                0.3154         0.0000  \n",
       "3000               0.2189        0.0000                0.3154         0.0000  \n",
       "6000               0.2079        0.0600                0.3195         0.0415  \n",
       "8000               0.2189        0.0001                0.3154         0.0001  \n",
       "9000               0.2155        0.0121                0.3156         0.0089  "
      ]
     },
     "execution_count": 15,
     "metadata": {},
     "output_type": "execute_result"
    }
   ],
   "source": [
    "df6"
   ]
  },
  {
   "cell_type": "markdown",
   "metadata": {},
   "source": [
    "### 4\n",
    "\n",
    "$$emb = 0.7 * gt + 0.3 * noise$$\n",
    "$$lr = 0.05$$\n",
    "$$n_{epochs} = 10$$\n",
    "$$BatchSize=150$$"
   ]
  },
  {
   "cell_type": "code",
   "execution_count": null,
   "metadata": {},
   "outputs": [
    {
     "ename": "TypeError",
     "evalue": "trainer_trial() got an unexpected keyword argument 'num_epochs'",
     "output_type": "error",
     "traceback": [
      "\u001b[0;31m---------------------------------------------------------------------------\u001b[0m",
      "\u001b[0;31mTypeError\u001b[0m                                 Traceback (most recent call last)",
      "Cell \u001b[0;32mIn[16], line 1\u001b[0m\n\u001b[0;32m----> 1\u001b[0m df7 \u001b[38;5;241m=\u001b[39m \u001b[43mtrainer_trial\u001b[49m\u001b[43m(\u001b[49m\u001b[43mnum_runs\u001b[49m\u001b[43m,\u001b[49m\u001b[43m \u001b[49m\u001b[43mnum_neighbors\u001b[49m\u001b[43m,\u001b[49m\u001b[43m \u001b[49m\u001b[43mnum_rounds_list\u001b[49m\u001b[43m[\u001b[49m\u001b[43m:\u001b[49m\u001b[38;5;241;43m-\u001b[39;49m\u001b[38;5;241;43m3\u001b[39;49m\u001b[43m]\u001b[49m\u001b[43m,\u001b[49m\u001b[43m \u001b[49m\u001b[43mtrain_dataset\u001b[49m\u001b[43m,\u001b[49m\u001b[43m \u001b[49m\u001b[43mbatch_size\u001b[49m\u001b[38;5;241;43m+\u001b[39;49m\u001b[38;5;241;43m100\u001b[39;49m\u001b[43m,\u001b[49m\u001b[43m \u001b[49m\u001b[43mnum_epochs\u001b[49m\u001b[38;5;241;43m=\u001b[39;49m\u001b[38;5;241;43m10\u001b[39;49m\u001b[43m,\u001b[49m\u001b[43m \u001b[49m\u001b[43mlr\u001b[49m\u001b[38;5;241;43m=\u001b[39;49m\u001b[38;5;241;43m0.05\u001b[39;49m\u001b[43m)\u001b[49m\n",
      "\u001b[0;31mTypeError\u001b[0m: trainer_trial() got an unexpected keyword argument 'num_epochs'"
     ]
    }
   ],
   "source": [
    "df7 = trainer_trial(num_runs, num_neighbors, num_rounds_list[:-3], train_dataset, batch_size+100, num_epochs=10, lr=0.05)"
   ]
  },
  {
   "cell_type": "code",
   "execution_count": null,
   "metadata": {},
   "outputs": [],
   "source": [
    "df7"
   ]
  }
 ],
 "metadata": {
  "kernelspec": {
   "display_name": ".venv",
   "language": "python",
   "name": "python3"
  },
  "language_info": {
   "codemirror_mode": {
    "name": "ipython",
    "version": 3
   },
   "file_extension": ".py",
   "mimetype": "text/x-python",
   "name": "python",
   "nbconvert_exporter": "python",
   "pygments_lexer": "ipython3",
   "version": "3.12.3"
  }
 },
 "nbformat": 4,
 "nbformat_minor": 2
}
