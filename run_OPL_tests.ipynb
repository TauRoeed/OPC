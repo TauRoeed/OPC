{
 "cells": [
  {
   "cell_type": "code",
   "execution_count": 1,
   "metadata": {},
   "outputs": [
    {
     "name": "stdout",
     "output_type": "stream",
     "text": [
      "Using device: cuda\n",
      "Using device: cuda\n",
      "Using device: cuda\n"
     ]
    }
   ],
   "source": [
    "import warnings\n",
    "warnings.filterwarnings(\"ignore\")\n",
    "from copy import deepcopy\n",
    "from datetime import datetime\n",
    "from pathlib import Path\n",
    "\n",
    "import numpy as np\n",
    "import pandas as pd\n",
    "import sys\n",
    "\n",
    "sys.path.append(\"/code\")\n",
    "\n",
    "from tqdm import tqdm\n",
    "import torch\n",
    "# device = torch.device('cpu')\n",
    "device = torch.device(\"cuda\" if torch.cuda.is_available() else \"cpu\")\n",
    "print(f\"Using device: {device}\")\n",
    "# import gym\n",
    "# import recogym\n",
    "\n",
    "import torch.nn as nn\n",
    "import torch.nn.functional as F\n",
    "from torch.utils.data import DataLoader, Dataset\n",
    "import torch.optim as optim\n",
    "\n",
    "torch.backends.cudnn.benchmark = torch.cuda.is_available()\n",
    "if torch.cuda.is_available():\n",
    "    torch.set_float32_matmul_precision(\"high\")  # TF32 = big speedup on Ada\n",
    "\n",
    "\n",
    "from sklearn.utils import check_random_state\n",
    "\n",
    "# implementing OPE of the IPWLearner using synthetic bandit data\n",
    "from sklearn.linear_model import LogisticRegression\n",
    "\n",
    "import matplotlib.pyplot as plt\n",
    "\n",
    "from scipy.special import softmax\n",
    "import optuna\n",
    "# from memory_profiler import profile\n",
    "\n",
    "\n",
    "from estimators import (\n",
    "    DirectMethod as DM\n",
    ")\n",
    "\n",
    "from simulation_utils import (\n",
    "    eval_policy,\n",
    "    generate_dataset,\n",
    "    create_simulation_data_from_pi,\n",
    "    get_train_data,\n",
    "    get_opl_results_dict,\n",
    "    CustomCFDataset,\n",
    "    calc_reward\n",
    ")\n",
    "\n",
    "from models import (    \n",
    "    CFModel,\n",
    "    NeighborhoodModel,\n",
    "    BPRModel, \n",
    "    RegressionModel\n",
    ")\n",
    "\n",
    "from training_utils import (\n",
    "    fit_bpr,\n",
    "    train,\n",
    "    validation_loop\n",
    " )\n",
    "\n",
    "from custom_losses import (\n",
    "    SNDRPolicyLoss,\n",
    "    BPRLoss\n",
    "    )\n",
    "\n",
    "random_state=12345\n",
    "random_ = check_random_state(random_state)\n",
    "\n",
    "pd.options.display.float_format = '{:,.8f}'.format"
   ]
  },
  {
   "cell_type": "markdown",
   "metadata": {},
   "source": [
    "## `trainer_trial` Function\n",
    "\n",
    "This function runs policy learning experiments using offline bandit data and evaluates various estimators.\n",
    "\n",
    "### Parameters\n",
    "- **num_runs** (int): Number of experimental runs per training size\n",
    "- **num_neighbors** (int): Number of neighbors to consider in the neighborhood model\n",
    "- **num_rounds_list** (list): List of training set sizes to evaluate\n",
    "- **dataset** (dict): Contains dataset information including embeddings, action probabilities, and reward probabilities\n",
    "- **batch_size** (int): Batch size for training the policy model\n",
    "- **num_epochs** (int): Number of training epochs for each experiment\n",
    "- **lr** (float, default=0.001): Learning rate for the optimizer\n",
    "\n",
    "### Process Flow\n",
    "1. Initializes result structures and retrieval models\n",
    "2. For each training size in `num_rounds_list`:\n",
    "   - Creates a uniform logging policy and simulates data\n",
    "   - Generates training data for offline learning\n",
    "   - Fits regression and neighborhood models for reward estimation\n",
    "   - Initializes and trains a counterfactual policy model\n",
    "   - Evaluates policy performance using various estimators\n",
    "   - Collects metrics on policy reward and embedding quality\n",
    "\n",
    "### Returns\n",
    "- **DataFrame**: Results table with rows indexed by training size and columns for various metrics:\n",
    "  - `policy_rewards`: True expected reward of the learned policy\n",
    "  - Various estimator errors (`ipw`, `reg_dm`, `conv_dm`, `conv_dr`, `conv_sndr`)\n",
    "  - Variance metrics for each estimator\n",
    "  - Embedding quality metrics comparing learned representations to ground truth\n",
    "\n",
    "### Implementation Notes\n",
    "- Uses uniform random logging policy for collecting offline data\n",
    "- Employs Self-Normalized Doubly Robust (SNDR) policy learning\n",
    "- Measures embedding quality via RMSE to original/ground truth embeddings"
   ]
  },
  {
   "cell_type": "code",
   "execution_count": null,
   "metadata": {},
   "outputs": [],
   "source": [
    "def trainer_trial(\n",
    "    num_runs,\n",
    "    num_neighbors,\n",
    "    num_rounds_list,\n",
    "    dataset,\n",
    "    batch_size,\n",
    "    val_size=2000\n",
    "):\n",
    "    import torch\n",
    "    from torch.utils.data import DataLoader\n",
    "\n",
    "    # ---- Device & CUDA fast-paths ----\n",
    "    device = torch.device(\"cuda\" if torch.cuda.is_available() else \"cpu\")\n",
    "    torch.backends.cudnn.benchmark = torch.cuda.is_available()\n",
    "    if torch.cuda.is_available():\n",
    "        torch.set_float32_matmul_precision(\"high\")  # TF32 on Ada\n",
    "\n",
    "    dm = DM()\n",
    "    results = {}\n",
    "\n",
    "    our_x, our_a = dataset[\"our_x\"], dataset[\"our_a\"]\n",
    "    emb_x, emb_a = dataset[\"emb_x\"], dataset[\"emb_a\"]\n",
    "    original_x, original_a = dataset[\"original_x\"], dataset[\"original_a\"]\n",
    "    n_users, n_actions, emb_dim = dataset[\"n_users\"], dataset[\"n_actions\"], dataset[\"emb_dim\"]\n",
    "\n",
    "    ### NEW: indices once\n",
    "    all_user_indices = np.arange(n_users, dtype=np.int64)\n",
    "\n",
    "    def T(x):\n",
    "        return torch.as_tensor(x, device=device, dtype=torch.float32)\n",
    "\n",
    "    # ---- Optuna objective uses train/val loaders from outer scope ----\n",
    "    def objective(trial):\n",
    "        lr = trial.suggest_float(\"lr\", 1e-4, 1e-2, log=True)\n",
    "        epochs = trial.suggest_int(\"num_epochs\", 1, 10)\n",
    "\n",
    "        trial_neigh_model = NeighborhoodModel(\n",
    "            train_data['x_idx'], train_data['a'],\n",
    "            our_a, our_x, train_data['r'],\n",
    "            num_neighbors=num_neighbors\n",
    "        )\n",
    "\n",
    "        ### NEW: build trial_scores_all ONCE and keep on device\n",
    "        trial_scores_all = torch.as_tensor(\n",
    "            trial_neigh_model.predict(all_user_indices),   # shape [n_users, n_actions]\n",
    "            device=device, dtype=torch.float32\n",
    "        )\n",
    "\n",
    "        trial_model = CFModel(\n",
    "            n_users, n_actions, emb_dim,\n",
    "            initial_user_embeddings=T(our_x),\n",
    "            initial_actions_embeddings=T(our_a)\n",
    "        ).to(device)\n",
    "\n",
    "        assert (not torch.cuda.is_available()) or next(trial_model.parameters()).is_cuda\n",
    "\n",
    "        ### CHANGED: pass trial_scores_all\n",
    "        train(\n",
    "            trial_model, train_loader, trial_neigh_model, trial_scores_all,\n",
    "            criterion=SNDRPolicyLoss(), num_epochs=epochs, lr=lr, device=device\n",
    "        )\n",
    "        val =  validation_loop(trial_model, val_loader, trial_neigh_model, trial_scores_all, device=device)\n",
    "        if not torch.isfinite(torch.tensor(val)):\n",
    "            raise optuna.TrialPruned()  # or return a sentinel very-low score\n",
    "        return val\n",
    "\n",
    "    first = True\n",
    "\n",
    "    for train_size in num_rounds_list:\n",
    "        reg_results, conv_results = [], []\n",
    "\n",
    "        for run in range(num_runs):\n",
    "            pi_0 = softmax(our_x @ our_a.T, axis=1)\n",
    "            original_policy_prob = np.expand_dims(pi_0, -1)\n",
    "\n",
    "            simulation_data = create_simulation_data_from_pi(\n",
    "                dataset, pi_0, train_size + val_size,\n",
    "                random_state=(run + 1) * train_size\n",
    "            )\n",
    "\n",
    "            idx = np.arange(train_size)\n",
    "\n",
    "            train_data = get_train_data(n_actions, train_size, simulation_data, idx, our_x)\n",
    "            val_data   = get_train_data(n_actions, val_size, simulation_data, np.arange(val_size) + train_size, our_x)\n",
    "\n",
    "            regression_model = RegressionModel(\n",
    "                n_actions=n_actions, action_context=our_x,\n",
    "                base_model=LogisticRegression(random_state=12345)\n",
    "            )\n",
    "            regression_model.fit(\n",
    "                train_data['x'], train_data['a'], train_data['r'],\n",
    "                original_policy_prob[train_data['x_idx'], train_data['a']].squeeze()\n",
    "            )\n",
    "\n",
    "            neighberhoodmodel = NeighborhoodModel(\n",
    "                train_data['x_idx'], train_data['a'],\n",
    "                our_a, our_x, train_data['r'],\n",
    "                num_neighbors=num_neighbors\n",
    "            )\n",
    "\n",
    "            ### NEW: build scores_all ONCE per NeighborhoodModel and keep it on device\n",
    "            scores_all = torch.as_tensor(\n",
    "                neighberhoodmodel.predict(all_user_indices),   # [n_users, n_actions]\n",
    "                device=device, dtype=torch.float32\n",
    "            )\n",
    "\n",
    "            model = CFModel(\n",
    "                n_users, n_actions, emb_dim,\n",
    "                initial_user_embeddings=T(our_x),\n",
    "                initial_actions_embeddings=T(our_a)\n",
    "            ).to(device)\n",
    "\n",
    "            # DataLoaders: feed the GPU\n",
    "            num_workers = 4 if torch.cuda.is_available() else 0\n",
    "            cf_dataset = CustomCFDataset(\n",
    "                train_data['x_idx'], train_data['a'], train_data['r'], original_policy_prob\n",
    "            )\n",
    "            train_loader = DataLoader(\n",
    "                cf_dataset, batch_size=batch_size, shuffle=True,\n",
    "                pin_memory=torch.cuda.is_available(),\n",
    "                num_workers=num_workers, persistent_workers=bool(num_workers)\n",
    "            )\n",
    "\n",
    "            val_dataset = CustomCFDataset(\n",
    "                val_data['x_idx'], val_data['a'], val_data['r'], original_policy_prob\n",
    "            )\n",
    "            val_loader = DataLoader(\n",
    "                val_dataset, batch_size=val_size, shuffle=False,\n",
    "                pin_memory=torch.cuda.is_available(),\n",
    "                num_workers=num_workers, persistent_workers=bool(num_workers)\n",
    "            )\n",
    "\n",
    "            if first:\n",
    "                policy = np.expand_dims(softmax(our_x @ our_a.T, axis=1), -1)\n",
    "                conv_results.append(eval_policy(neighberhoodmodel, train_data, original_policy_prob, policy))\n",
    "                conv_results[-1] = np.append(calc_reward(dataset, policy), conv_results[-1])\n",
    "                conv_results[-1] = np.append(conv_results[-1], [np.sqrt(np.mean((emb_a-our_a)**2)), np.sqrt(np.mean((original_a-our_a)**2))])\n",
    "                conv_results[-1] = np.append(conv_results[-1], [np.sqrt(np.mean((emb_x-our_x)**2)), np.sqrt(np.mean((original_x-our_x)**2))])\n",
    "                reg_dm = dm.estimate_policy_value(policy[train_data['x_idx']], regression_model.predict(train_data['x']))\n",
    "                reg_results.append(reg_dm)\n",
    "                first = False\n",
    "                reg_results = np.array(reg_results)\n",
    "                conv_results = np.array(conv_results)\n",
    "                results[0] = get_opl_results_dict(reg_results, conv_results)\n",
    "                reg_results, conv_results = [], []\n",
    "\n",
    "            # ---- Hyperparam search ----\n",
    "            study = optuna.create_study(direction=\"maximize\")\n",
    "            study.optimize(objective, n_trials=10, show_progress_bar=True)\n",
    "            best_params = study.best_params\n",
    "\n",
    "            # ---- Retrain with best params ----\n",
    "            neighberhoodmodel = NeighborhoodModel(\n",
    "                train_data['x_idx'], train_data['a'],\n",
    "                our_a, our_x, train_data['r'],\n",
    "                num_neighbors=num_neighbors\n",
    "            )\n",
    "            scores_all = torch.as_tensor(\n",
    "                neighberhoodmodel.predict(all_user_indices),\n",
    "                device=device, dtype=torch.float32\n",
    "            )\n",
    "\n",
    "            model = CFModel(\n",
    "                n_users, n_actions, emb_dim,\n",
    "                initial_user_embeddings=T(our_x),\n",
    "                initial_actions_embeddings=T(our_a)\n",
    "            ).to(device)\n",
    "            assert (not torch.cuda.is_available()) or next(model.parameters()).is_cuda\n",
    "\n",
    "            ### CHANGED: pass scores_all\n",
    "            train(\n",
    "                model, train_loader, neighberhoodmodel, scores_all,\n",
    "                criterion=SNDRPolicyLoss(),\n",
    "                num_epochs=best_params['num_epochs'], lr=best_params['lr'],\n",
    "                device=device\n",
    "            )\n",
    "\n",
    "            # Pull updated params back to CPU numpy\n",
    "            our_x_t, our_a_t = model.get_params()\n",
    "            our_a, our_x = our_a_t.detach().cpu().numpy(), our_x_t.detach().cpu().numpy()\n",
    "\n",
    "            policy = np.expand_dims(softmax(our_x @ our_a.T, axis=1), -1)\n",
    "            reg_dm = dm.estimate_policy_value(policy[train_data['x_idx']], regression_model.predict(train_data['x']))\n",
    "            reg_results.append(reg_dm)\n",
    "\n",
    "            conv_results.append(eval_policy(neighberhoodmodel, train_data, original_policy_prob, policy))\n",
    "            conv_results[-1] = np.append(calc_reward(dataset, policy), conv_results[-1])\n",
    "            conv_results[-1] = np.append(conv_results[-1], [np.sqrt(np.mean((emb_a-our_a)**2)), np.sqrt(np.mean((original_a-our_a)**2))])\n",
    "            conv_results[-1] = np.append(conv_results[-1], [np.sqrt(np.mean((emb_x-our_x)**2)), np.sqrt(np.mean((original_x-our_x)**2))])\n",
    "\n",
    "            # reset the working embeddings for next run\n",
    "            our_a, our_x = original_a.copy(), original_x.copy()\n",
    "\n",
    "        torch.cuda.empty_cache()\n",
    "        reg_results = np.array(reg_results)\n",
    "        conv_results = np.array(conv_results)\n",
    "        results[train_size] = get_opl_results_dict(reg_results, conv_results)\n",
    "\n",
    "    return pd.DataFrame.from_dict(results, orient='index')\n"
   ]
  },
  {
   "cell_type": "markdown",
   "metadata": {},
   "source": [
    "## Learning"
   ]
  },
  {
   "cell_type": "markdown",
   "metadata": {},
   "source": [
    "We will run several simulations on a generated dataset, the dataset is generated like this:\n",
    "$$ \\text{We have users U and actions A } u_i \\sim N(0, I_{emb_dim}) \\ a_i \\sim N(0, I_{emb_dim})$$\n",
    "$$ p_{ij} = 1 / (5 + e^{-(u_i.T a_j)}) $$\n",
    "$$r_{ij} \\sim Bin(p_{ij})$$\n",
    "\n",
    "We have a policy $\\pi$\n",
    "and it's ground truth reward is calculated by\n",
    "$$R_{gt} = \\sum_{i}{\\sum_{j}{\\pi_{ij} * p_{ij}}} $$\n",
    "\n",
    "Our parameters for the dataset will be\n",
    "$$EmbDim = 5$$\n",
    "$$NumActions= 150$$\n",
    "$$NumUsers = 150$$\n",
    "$$NeighborhoodSize = 6$$\n",
    "\n",
    "to learn a new policy from $\\pi$ we will sample from:\n",
    "$$\\pi_{start} = (1-\\epsilon)*\\pi + \\epsilon * \\pi_{random}$$"
   ]
  },
  {
   "cell_type": "code",
   "execution_count": 3,
   "metadata": {},
   "outputs": [
    {
     "name": "stdout",
     "output_type": "stream",
     "text": [
      "Random Item CTR: 0.12972795060603162\n",
      "Optimal greedy CTR: 0.19999707792821972\n",
      "Optimal Stochastic CTR: 0.19982996880994605\n",
      "Our Initial CTR: 0.1646085673501415\n"
     ]
    }
   ],
   "source": [
    "dataset_params = dict(\n",
    "                    n_actions= 500,\n",
    "                    n_users = 500,\n",
    "                    emb_dim = 16,\n",
    "                    # sigma = 0.1,\n",
    "                    eps = 0.6, # this is the epsilon for the noise in the ground truth policy representation\n",
    "                    ctr = 0.2\n",
    "                    )\n",
    "\n",
    "train_dataset = generate_dataset(dataset_params)"
   ]
  },
  {
   "cell_type": "code",
   "execution_count": 4,
   "metadata": {},
   "outputs": [
    {
     "data": {
      "text/plain": [
       "dict_keys(['emb_a', 'our_a', 'original_a', 'emb_x', 'our_x', 'original_x', 'q_x_a', 'n_actions', 'n_users', 'emb_dim', 'user_prior'])"
      ]
     },
     "execution_count": 4,
     "metadata": {},
     "output_type": "execute_result"
    }
   ],
   "source": [
    "train_dataset.keys()"
   ]
  },
  {
   "cell_type": "code",
   "execution_count": 5,
   "metadata": {},
   "outputs": [],
   "source": [
    "num_runs = 1\n",
    "batch_size = 200\n",
    "num_neighbors = 6\n",
    "num_rounds_list = [100, 1000, 5000]"
   ]
  },
  {
   "cell_type": "markdown",
   "metadata": {},
   "source": [
    "### 1\n",
    "\n",
    "$$emb = 0.7 * gt + 0.3 * noise$$\n",
    "$$lr = 0.005$$\n",
    "$$n_{epochs} = 1$$\n",
    "$$BatchSize=50$$"
   ]
  },
  {
   "cell_type": "code",
   "execution_count": null,
   "metadata": {},
   "outputs": [
    {
     "name": "stdout",
     "output_type": "stream",
     "text": [
      "Type of num_rounds_list: <class 'list'>\n",
      "Value of num_rounds_list: [100, 1000, 5000]\n"
     ]
    },
    {
     "name": "stderr",
     "output_type": "stream",
     "text": [
      "[I 2025-08-20 10:58:13,524] A new study created in memory with name: no-name-8815933b-afdf-41e7-b27a-13d00d3f623a\n",
      "  0%|          | 0/10 [00:01<?, ?it/s]"
     ]
    },
    {
     "name": "stdout",
     "output_type": "stream",
     "text": [
      "[epoch ? step 1/1] alloc=19MB reserved=24MB\n",
      "[epoch 1/9] alloc=18MB peak=19MB\n"
     ]
    },
    {
     "name": "stderr",
     "output_type": "stream",
     "text": [
      "  0%|          | 0/10 [00:01<?, ?it/s]"
     ]
    },
    {
     "name": "stdout",
     "output_type": "stream",
     "text": [
      "[epoch ? step 1/1] alloc=19MB reserved=24MB\n",
      "[epoch 2/9] alloc=18MB peak=20MB\n"
     ]
    },
    {
     "name": "stderr",
     "output_type": "stream",
     "text": [
      "  0%|          | 0/10 [00:01<?, ?it/s]"
     ]
    },
    {
     "name": "stdout",
     "output_type": "stream",
     "text": [
      "[epoch ? step 1/1] alloc=19MB reserved=24MB\n",
      "[epoch 3/9] alloc=18MB peak=20MB\n"
     ]
    },
    {
     "name": "stderr",
     "output_type": "stream",
     "text": [
      "  0%|          | 0/10 [00:01<?, ?it/s]"
     ]
    },
    {
     "name": "stdout",
     "output_type": "stream",
     "text": [
      "[epoch ? step 1/1] alloc=19MB reserved=24MB\n",
      "[epoch 4/9] alloc=18MB peak=20MB\n"
     ]
    },
    {
     "name": "stderr",
     "output_type": "stream",
     "text": [
      "  0%|          | 0/10 [00:01<?, ?it/s]"
     ]
    },
    {
     "name": "stdout",
     "output_type": "stream",
     "text": [
      "[epoch ? step 1/1] alloc=19MB reserved=24MB\n",
      "[epoch 5/9] alloc=18MB peak=20MB\n"
     ]
    },
    {
     "name": "stderr",
     "output_type": "stream",
     "text": [
      "  0%|          | 0/10 [00:01<?, ?it/s]"
     ]
    },
    {
     "name": "stdout",
     "output_type": "stream",
     "text": [
      "[epoch ? step 1/1] alloc=19MB reserved=24MB\n",
      "[epoch 6/9] alloc=18MB peak=20MB\n"
     ]
    },
    {
     "name": "stderr",
     "output_type": "stream",
     "text": [
      "  0%|          | 0/10 [00:01<?, ?it/s]"
     ]
    },
    {
     "name": "stdout",
     "output_type": "stream",
     "text": [
      "[epoch ? step 1/1] alloc=19MB reserved=24MB\n",
      "[epoch 7/9] alloc=18MB peak=20MB\n"
     ]
    },
    {
     "name": "stderr",
     "output_type": "stream",
     "text": [
      "  0%|          | 0/10 [00:01<?, ?it/s]"
     ]
    },
    {
     "name": "stdout",
     "output_type": "stream",
     "text": [
      "[epoch ? step 1/1] alloc=19MB reserved=24MB\n",
      "[epoch 8/9] alloc=18MB peak=20MB\n"
     ]
    },
    {
     "name": "stderr",
     "output_type": "stream",
     "text": [
      "  0%|          | 0/10 [00:01<?, ?it/s]"
     ]
    },
    {
     "name": "stdout",
     "output_type": "stream",
     "text": [
      "[epoch ? step 1/1] alloc=19MB reserved=24MB\n",
      "[epoch 9/9] alloc=18MB peak=20MB\n"
     ]
    },
    {
     "name": "stderr",
     "output_type": "stream",
     "text": [
      "Best trial: 0. Best value: 0.0982897:  10%|█         | 1/10 [00:02<00:24,  2.68s/it]"
     ]
    },
    {
     "name": "stdout",
     "output_type": "stream",
     "text": [
      "[I 2025-08-20 10:58:16,202] Trial 0 finished with value: 0.09828965160854504 and parameters: {'lr': 0.00018632551501299353, 'num_epochs': 9}. Best is trial 0 with value: 0.09828965160854504.\n"
     ]
    },
    {
     "name": "stderr",
     "output_type": "stream",
     "text": [
      "Best trial: 0. Best value: 0.0982897:  10%|█         | 1/10 [00:03<00:24,  2.68s/it]"
     ]
    },
    {
     "name": "stdout",
     "output_type": "stream",
     "text": [
      "[epoch ? step 1/1] alloc=19MB reserved=9712MB\n",
      "[epoch 1/9] alloc=18MB peak=20MB\n"
     ]
    },
    {
     "name": "stderr",
     "output_type": "stream",
     "text": [
      "Best trial: 0. Best value: 0.0982897:  10%|█         | 1/10 [00:03<00:24,  2.68s/it]"
     ]
    },
    {
     "name": "stdout",
     "output_type": "stream",
     "text": [
      "[epoch ? step 1/1] alloc=19MB reserved=9712MB\n",
      "[epoch 2/9] alloc=18MB peak=20MB\n"
     ]
    },
    {
     "name": "stderr",
     "output_type": "stream",
     "text": [
      "Best trial: 0. Best value: 0.0982897:  10%|█         | 1/10 [00:03<00:24,  2.68s/it]"
     ]
    },
    {
     "name": "stdout",
     "output_type": "stream",
     "text": [
      "[epoch ? step 1/1] alloc=19MB reserved=9712MB\n",
      "[epoch 3/9] alloc=18MB peak=20MB\n"
     ]
    },
    {
     "name": "stderr",
     "output_type": "stream",
     "text": [
      "Best trial: 0. Best value: 0.0982897:  10%|█         | 1/10 [00:03<00:24,  2.68s/it]"
     ]
    },
    {
     "name": "stdout",
     "output_type": "stream",
     "text": [
      "[epoch ? step 1/1] alloc=19MB reserved=9712MB\n",
      "[epoch 4/9] alloc=18MB peak=20MB\n"
     ]
    },
    {
     "name": "stderr",
     "output_type": "stream",
     "text": [
      "Best trial: 0. Best value: 0.0982897:  10%|█         | 1/10 [00:03<00:24,  2.68s/it]"
     ]
    },
    {
     "name": "stdout",
     "output_type": "stream",
     "text": [
      "[epoch ? step 1/1] alloc=19MB reserved=9712MB\n",
      "[epoch 5/9] alloc=18MB peak=20MB\n"
     ]
    },
    {
     "name": "stderr",
     "output_type": "stream",
     "text": [
      "Best trial: 0. Best value: 0.0982897:  10%|█         | 1/10 [00:03<00:24,  2.68s/it]"
     ]
    },
    {
     "name": "stdout",
     "output_type": "stream",
     "text": [
      "[epoch ? step 1/1] alloc=19MB reserved=9712MB\n",
      "[epoch 6/9] alloc=18MB peak=20MB\n"
     ]
    },
    {
     "name": "stderr",
     "output_type": "stream",
     "text": [
      "Best trial: 0. Best value: 0.0982897:  10%|█         | 1/10 [00:03<00:24,  2.68s/it]"
     ]
    },
    {
     "name": "stdout",
     "output_type": "stream",
     "text": [
      "[epoch ? step 1/1] alloc=19MB reserved=9712MB\n",
      "[epoch 7/9] alloc=18MB peak=20MB\n"
     ]
    },
    {
     "name": "stderr",
     "output_type": "stream",
     "text": [
      "Best trial: 0. Best value: 0.0982897:  10%|█         | 1/10 [00:03<00:24,  2.68s/it]"
     ]
    },
    {
     "name": "stdout",
     "output_type": "stream",
     "text": [
      "[epoch ? step 1/1] alloc=19MB reserved=9712MB\n",
      "[epoch 8/9] alloc=18MB peak=20MB\n"
     ]
    },
    {
     "name": "stderr",
     "output_type": "stream",
     "text": [
      "Best trial: 0. Best value: 0.0982897:  10%|█         | 1/10 [00:03<00:24,  2.68s/it]"
     ]
    },
    {
     "name": "stdout",
     "output_type": "stream",
     "text": [
      "[epoch ? step 1/1] alloc=19MB reserved=9712MB\n",
      "[epoch 9/9] alloc=18MB peak=20MB\n"
     ]
    },
    {
     "name": "stderr",
     "output_type": "stream",
     "text": [
      "Best trial: 1. Best value: 0.0984057:  20%|██        | 2/10 [00:04<00:15,  1.95s/it]"
     ]
    },
    {
     "name": "stdout",
     "output_type": "stream",
     "text": [
      "[I 2025-08-20 10:58:17,638] Trial 1 finished with value: 0.09840568597558488 and parameters: {'lr': 0.00042678306840104917, 'num_epochs': 9}. Best is trial 1 with value: 0.09840568597558488.\n"
     ]
    },
    {
     "name": "stderr",
     "output_type": "stream",
     "text": [
      "Best trial: 1. Best value: 0.0984057:  20%|██        | 2/10 [00:04<00:15,  1.95s/it]"
     ]
    },
    {
     "name": "stdout",
     "output_type": "stream",
     "text": [
      "[epoch ? step 1/1] alloc=19MB reserved=9712MB\n",
      "[epoch 1/8] alloc=18MB peak=20MB\n"
     ]
    },
    {
     "name": "stderr",
     "output_type": "stream",
     "text": [
      "Best trial: 1. Best value: 0.0984057:  20%|██        | 2/10 [00:04<00:15,  1.95s/it]"
     ]
    },
    {
     "name": "stdout",
     "output_type": "stream",
     "text": [
      "[epoch ? step 1/1] alloc=19MB reserved=9712MB\n",
      "[epoch 2/8] alloc=18MB peak=20MB\n"
     ]
    },
    {
     "name": "stderr",
     "output_type": "stream",
     "text": [
      "Best trial: 1. Best value: 0.0984057:  20%|██        | 2/10 [00:04<00:15,  1.95s/it]"
     ]
    },
    {
     "name": "stdout",
     "output_type": "stream",
     "text": [
      "[epoch ? step 1/1] alloc=19MB reserved=9712MB\n",
      "[epoch 3/8] alloc=18MB peak=20MB\n"
     ]
    },
    {
     "name": "stderr",
     "output_type": "stream",
     "text": [
      "Best trial: 1. Best value: 0.0984057:  20%|██        | 2/10 [00:04<00:15,  1.95s/it]"
     ]
    },
    {
     "name": "stdout",
     "output_type": "stream",
     "text": [
      "[epoch ? step 1/1] alloc=19MB reserved=9712MB\n",
      "[epoch 4/8] alloc=18MB peak=20MB\n"
     ]
    },
    {
     "name": "stderr",
     "output_type": "stream",
     "text": [
      "Best trial: 1. Best value: 0.0984057:  20%|██        | 2/10 [00:04<00:15,  1.95s/it]"
     ]
    },
    {
     "name": "stdout",
     "output_type": "stream",
     "text": [
      "[epoch ? step 1/1] alloc=19MB reserved=9712MB\n",
      "[epoch 5/8] alloc=18MB peak=20MB\n"
     ]
    },
    {
     "name": "stderr",
     "output_type": "stream",
     "text": [
      "Best trial: 1. Best value: 0.0984057:  20%|██        | 2/10 [00:04<00:15,  1.95s/it]"
     ]
    },
    {
     "name": "stdout",
     "output_type": "stream",
     "text": [
      "[epoch ? step 1/1] alloc=19MB reserved=9712MB\n",
      "[epoch 6/8] alloc=18MB peak=20MB\n"
     ]
    },
    {
     "name": "stderr",
     "output_type": "stream",
     "text": [
      "Best trial: 1. Best value: 0.0984057:  20%|██        | 2/10 [00:04<00:15,  1.95s/it]"
     ]
    },
    {
     "name": "stdout",
     "output_type": "stream",
     "text": [
      "[epoch ? step 1/1] alloc=19MB reserved=9712MB\n",
      "[epoch 7/8] alloc=18MB peak=20MB\n"
     ]
    },
    {
     "name": "stderr",
     "output_type": "stream",
     "text": [
      "Best trial: 1. Best value: 0.0984057:  20%|██        | 2/10 [00:04<00:15,  1.95s/it]"
     ]
    },
    {
     "name": "stdout",
     "output_type": "stream",
     "text": [
      "[epoch ? step 1/1] alloc=19MB reserved=9712MB\n",
      "[epoch 8/8] alloc=18MB peak=20MB\n"
     ]
    },
    {
     "name": "stderr",
     "output_type": "stream",
     "text": [
      "Best trial: 2. Best value: 0.099169:  30%|███       | 3/10 [00:05<00:11,  1.64s/it] "
     ]
    },
    {
     "name": "stdout",
     "output_type": "stream",
     "text": [
      "[I 2025-08-20 10:58:18,915] Trial 2 finished with value: 0.09916896121025877 and parameters: {'lr': 0.0024157381162940115, 'num_epochs': 8}. Best is trial 2 with value: 0.09916896121025877.\n"
     ]
    },
    {
     "name": "stderr",
     "output_type": "stream",
     "text": [
      "Best trial: 2. Best value: 0.099169:  30%|███       | 3/10 [00:05<00:11,  1.64s/it]"
     ]
    },
    {
     "name": "stdout",
     "output_type": "stream",
     "text": [
      "[epoch ? step 1/1] alloc=19MB reserved=9712MB\n",
      "[epoch 1/1] alloc=18MB peak=20MB\n"
     ]
    },
    {
     "name": "stderr",
     "output_type": "stream",
     "text": [
      "Best trial: 2. Best value: 0.099169:  40%|████      | 4/10 [00:06<00:09,  1.54s/it]"
     ]
    },
    {
     "name": "stdout",
     "output_type": "stream",
     "text": [
      "[I 2025-08-20 10:58:20,293] Trial 3 finished with value: 0.09820372741364942 and parameters: {'lr': 0.00010413841557080899, 'num_epochs': 1}. Best is trial 2 with value: 0.09916896121025877.\n"
     ]
    },
    {
     "name": "stderr",
     "output_type": "stream",
     "text": [
      "Best trial: 2. Best value: 0.099169:  40%|████      | 4/10 [00:07<00:09,  1.54s/it]"
     ]
    },
    {
     "name": "stdout",
     "output_type": "stream",
     "text": [
      "[epoch ? step 1/1] alloc=19MB reserved=9712MB\n",
      "[epoch 1/4] alloc=18MB peak=20MB\n"
     ]
    },
    {
     "name": "stderr",
     "output_type": "stream",
     "text": [
      "Best trial: 2. Best value: 0.099169:  40%|████      | 4/10 [00:07<00:09,  1.54s/it]"
     ]
    },
    {
     "name": "stdout",
     "output_type": "stream",
     "text": [
      "[epoch ? step 1/1] alloc=19MB reserved=9712MB\n",
      "[epoch 2/4] alloc=18MB peak=20MB\n"
     ]
    },
    {
     "name": "stderr",
     "output_type": "stream",
     "text": [
      "Best trial: 2. Best value: 0.099169:  40%|████      | 4/10 [00:07<00:09,  1.54s/it]"
     ]
    },
    {
     "name": "stdout",
     "output_type": "stream",
     "text": [
      "[epoch ? step 1/1] alloc=19MB reserved=9712MB\n",
      "[epoch 3/4] alloc=18MB peak=20MB\n"
     ]
    },
    {
     "name": "stderr",
     "output_type": "stream",
     "text": [
      "Best trial: 2. Best value: 0.099169:  40%|████      | 4/10 [00:07<00:09,  1.54s/it]"
     ]
    },
    {
     "name": "stdout",
     "output_type": "stream",
     "text": [
      "[epoch ? step 1/1] alloc=19MB reserved=9712MB\n",
      "[epoch 4/4] alloc=18MB peak=20MB\n"
     ]
    },
    {
     "name": "stderr",
     "output_type": "stream",
     "text": [
      "Best trial: 2. Best value: 0.099169:  50%|█████     | 5/10 [00:08<00:07,  1.43s/it]"
     ]
    },
    {
     "name": "stdout",
     "output_type": "stream",
     "text": [
      "[I 2025-08-20 10:58:21,545] Trial 4 finished with value: 0.09822887805585759 and parameters: {'lr': 0.0001407200035644622, 'num_epochs': 4}. Best is trial 2 with value: 0.09916896121025877.\n"
     ]
    },
    {
     "name": "stderr",
     "output_type": "stream",
     "text": [
      "Best trial: 2. Best value: 0.099169:  50%|█████     | 5/10 [00:08<00:07,  1.43s/it]"
     ]
    },
    {
     "name": "stdout",
     "output_type": "stream",
     "text": [
      "[epoch ? step 1/1] alloc=19MB reserved=9712MB\n",
      "[epoch 1/7] alloc=18MB peak=20MB\n"
     ]
    },
    {
     "name": "stderr",
     "output_type": "stream",
     "text": [
      "Best trial: 2. Best value: 0.099169:  50%|█████     | 5/10 [00:08<00:07,  1.43s/it]"
     ]
    },
    {
     "name": "stdout",
     "output_type": "stream",
     "text": [
      "[epoch ? step 1/1] alloc=19MB reserved=9712MB\n",
      "[epoch 2/7] alloc=18MB peak=20MB\n"
     ]
    },
    {
     "name": "stderr",
     "output_type": "stream",
     "text": [
      "Best trial: 2. Best value: 0.099169:  50%|█████     | 5/10 [00:08<00:07,  1.43s/it]"
     ]
    },
    {
     "name": "stdout",
     "output_type": "stream",
     "text": [
      "[epoch ? step 1/1] alloc=19MB reserved=9712MB\n",
      "[epoch 3/7] alloc=18MB peak=20MB\n"
     ]
    },
    {
     "name": "stderr",
     "output_type": "stream",
     "text": [
      "Best trial: 2. Best value: 0.099169:  50%|█████     | 5/10 [00:08<00:07,  1.43s/it]"
     ]
    },
    {
     "name": "stdout",
     "output_type": "stream",
     "text": [
      "[epoch ? step 1/1] alloc=19MB reserved=9712MB\n",
      "[epoch 4/7] alloc=18MB peak=20MB\n"
     ]
    },
    {
     "name": "stderr",
     "output_type": "stream",
     "text": [
      "Best trial: 2. Best value: 0.099169:  50%|█████     | 5/10 [00:08<00:07,  1.43s/it]"
     ]
    },
    {
     "name": "stdout",
     "output_type": "stream",
     "text": [
      "[epoch ? step 1/1] alloc=19MB reserved=9712MB\n",
      "[epoch 5/7] alloc=18MB peak=20MB\n"
     ]
    },
    {
     "name": "stderr",
     "output_type": "stream",
     "text": [
      "Best trial: 2. Best value: 0.099169:  50%|█████     | 5/10 [00:08<00:07,  1.43s/it]"
     ]
    },
    {
     "name": "stdout",
     "output_type": "stream",
     "text": [
      "[epoch ? step 1/1] alloc=19MB reserved=9712MB\n",
      "[epoch 6/7] alloc=18MB peak=20MB\n"
     ]
    },
    {
     "name": "stderr",
     "output_type": "stream",
     "text": [
      "Best trial: 2. Best value: 0.099169:  50%|█████     | 5/10 [00:08<00:07,  1.43s/it]"
     ]
    },
    {
     "name": "stdout",
     "output_type": "stream",
     "text": [
      "[epoch ? step 1/1] alloc=19MB reserved=9712MB\n",
      "[epoch 7/7] alloc=18MB peak=20MB\n"
     ]
    },
    {
     "name": "stderr",
     "output_type": "stream",
     "text": [
      "Best trial: 5. Best value: 0.10107:  60%|██████    | 6/10 [00:09<00:05,  1.42s/it] "
     ]
    },
    {
     "name": "stdout",
     "output_type": "stream",
     "text": [
      "[I 2025-08-20 10:58:22,937] Trial 5 finished with value: 0.10106996922215514 and parameters: {'lr': 0.009798447513508737, 'num_epochs': 7}. Best is trial 5 with value: 0.10106996922215514.\n"
     ]
    },
    {
     "name": "stderr",
     "output_type": "stream",
     "text": [
      "Best trial: 5. Best value: 0.10107:  60%|██████    | 6/10 [00:09<00:05,  1.42s/it]"
     ]
    },
    {
     "name": "stdout",
     "output_type": "stream",
     "text": [
      "[epoch ? step 1/1] alloc=19MB reserved=9712MB\n",
      "[epoch 1/8] alloc=18MB peak=20MB\n"
     ]
    },
    {
     "name": "stderr",
     "output_type": "stream",
     "text": [
      "Best trial: 5. Best value: 0.10107:  60%|██████    | 6/10 [00:09<00:05,  1.42s/it]"
     ]
    },
    {
     "name": "stdout",
     "output_type": "stream",
     "text": [
      "[epoch ? step 1/1] alloc=19MB reserved=9712MB\n",
      "[epoch 2/8] alloc=18MB peak=20MB\n"
     ]
    },
    {
     "name": "stderr",
     "output_type": "stream",
     "text": [
      "Best trial: 5. Best value: 0.10107:  60%|██████    | 6/10 [00:09<00:05,  1.42s/it]"
     ]
    },
    {
     "name": "stdout",
     "output_type": "stream",
     "text": [
      "[epoch ? step 1/1] alloc=19MB reserved=9712MB\n",
      "[epoch 3/8] alloc=18MB peak=20MB\n"
     ]
    },
    {
     "name": "stderr",
     "output_type": "stream",
     "text": [
      "Best trial: 5. Best value: 0.10107:  60%|██████    | 6/10 [00:09<00:05,  1.42s/it]"
     ]
    },
    {
     "name": "stdout",
     "output_type": "stream",
     "text": [
      "[epoch ? step 1/1] alloc=19MB reserved=9712MB\n",
      "[epoch 4/8] alloc=18MB peak=20MB\n"
     ]
    },
    {
     "name": "stderr",
     "output_type": "stream",
     "text": [
      "Best trial: 5. Best value: 0.10107:  60%|██████    | 6/10 [00:09<00:05,  1.42s/it]"
     ]
    },
    {
     "name": "stdout",
     "output_type": "stream",
     "text": [
      "[epoch ? step 1/1] alloc=19MB reserved=9712MB\n",
      "[epoch 5/8] alloc=18MB peak=20MB\n"
     ]
    },
    {
     "name": "stderr",
     "output_type": "stream",
     "text": [
      "Best trial: 5. Best value: 0.10107:  60%|██████    | 6/10 [00:09<00:05,  1.42s/it]"
     ]
    },
    {
     "name": "stdout",
     "output_type": "stream",
     "text": [
      "[epoch ? step 1/1] alloc=19MB reserved=9712MB\n",
      "[epoch 6/8] alloc=18MB peak=20MB\n"
     ]
    },
    {
     "name": "stderr",
     "output_type": "stream",
     "text": [
      "Best trial: 5. Best value: 0.10107:  60%|██████    | 6/10 [00:09<00:05,  1.42s/it]"
     ]
    },
    {
     "name": "stdout",
     "output_type": "stream",
     "text": [
      "[epoch ? step 1/1] alloc=19MB reserved=9712MB\n",
      "[epoch 7/8] alloc=18MB peak=20MB\n"
     ]
    },
    {
     "name": "stderr",
     "output_type": "stream",
     "text": [
      "Best trial: 5. Best value: 0.10107:  60%|██████    | 6/10 [00:09<00:05,  1.42s/it]"
     ]
    },
    {
     "name": "stdout",
     "output_type": "stream",
     "text": [
      "[epoch ? step 1/1] alloc=19MB reserved=9712MB\n",
      "[epoch 8/8] alloc=18MB peak=20MB\n"
     ]
    },
    {
     "name": "stderr",
     "output_type": "stream",
     "text": [
      "Best trial: 5. Best value: 0.10107:  70%|███████   | 7/10 [00:10<00:04,  1.40s/it]"
     ]
    },
    {
     "name": "stdout",
     "output_type": "stream",
     "text": [
      "[I 2025-08-20 10:58:24,290] Trial 6 finished with value: 0.10022385572271185 and parameters: {'lr': 0.005526320727452254, 'num_epochs': 8}. Best is trial 5 with value: 0.10106996922215514.\n"
     ]
    },
    {
     "name": "stderr",
     "output_type": "stream",
     "text": [
      "Best trial: 5. Best value: 0.10107:  70%|███████   | 7/10 [00:11<00:04,  1.40s/it]"
     ]
    },
    {
     "name": "stdout",
     "output_type": "stream",
     "text": [
      "[epoch ? step 1/1] alloc=19MB reserved=9712MB\n",
      "[epoch 1/9] alloc=18MB peak=20MB\n"
     ]
    },
    {
     "name": "stderr",
     "output_type": "stream",
     "text": [
      "Best trial: 5. Best value: 0.10107:  70%|███████   | 7/10 [00:11<00:04,  1.40s/it]"
     ]
    },
    {
     "name": "stdout",
     "output_type": "stream",
     "text": [
      "[epoch ? step 1/1] alloc=19MB reserved=9712MB\n",
      "[epoch 2/9] alloc=18MB peak=20MB\n"
     ]
    },
    {
     "name": "stderr",
     "output_type": "stream",
     "text": [
      "Best trial: 5. Best value: 0.10107:  70%|███████   | 7/10 [00:11<00:04,  1.40s/it]"
     ]
    },
    {
     "name": "stdout",
     "output_type": "stream",
     "text": [
      "[epoch ? step 1/1] alloc=19MB reserved=9712MB\n",
      "[epoch 3/9] alloc=18MB peak=20MB\n"
     ]
    },
    {
     "name": "stderr",
     "output_type": "stream",
     "text": [
      "Best trial: 5. Best value: 0.10107:  70%|███████   | 7/10 [00:11<00:04,  1.40s/it]"
     ]
    },
    {
     "name": "stdout",
     "output_type": "stream",
     "text": [
      "[epoch ? step 1/1] alloc=19MB reserved=9712MB\n",
      "[epoch 4/9] alloc=18MB peak=20MB\n"
     ]
    },
    {
     "name": "stderr",
     "output_type": "stream",
     "text": [
      "Best trial: 5. Best value: 0.10107:  70%|███████   | 7/10 [00:11<00:04,  1.40s/it]"
     ]
    },
    {
     "name": "stdout",
     "output_type": "stream",
     "text": [
      "[epoch ? step 1/1] alloc=19MB reserved=9712MB\n",
      "[epoch 5/9] alloc=18MB peak=20MB\n"
     ]
    },
    {
     "name": "stderr",
     "output_type": "stream",
     "text": [
      "Best trial: 5. Best value: 0.10107:  70%|███████   | 7/10 [00:11<00:04,  1.40s/it]"
     ]
    },
    {
     "name": "stdout",
     "output_type": "stream",
     "text": [
      "[epoch ? step 1/1] alloc=19MB reserved=9712MB\n",
      "[epoch 6/9] alloc=18MB peak=20MB\n"
     ]
    },
    {
     "name": "stderr",
     "output_type": "stream",
     "text": [
      "Best trial: 5. Best value: 0.10107:  70%|███████   | 7/10 [00:11<00:04,  1.40s/it]"
     ]
    },
    {
     "name": "stdout",
     "output_type": "stream",
     "text": [
      "[epoch ? step 1/1] alloc=19MB reserved=9712MB\n",
      "[epoch 7/9] alloc=18MB peak=20MB\n"
     ]
    },
    {
     "name": "stderr",
     "output_type": "stream",
     "text": [
      "Best trial: 5. Best value: 0.10107:  70%|███████   | 7/10 [00:11<00:04,  1.40s/it]"
     ]
    },
    {
     "name": "stdout",
     "output_type": "stream",
     "text": [
      "[epoch ? step 1/1] alloc=19MB reserved=9712MB\n",
      "[epoch 8/9] alloc=18MB peak=20MB\n"
     ]
    },
    {
     "name": "stderr",
     "output_type": "stream",
     "text": [
      "Best trial: 5. Best value: 0.10107:  70%|███████   | 7/10 [00:11<00:04,  1.40s/it]"
     ]
    },
    {
     "name": "stdout",
     "output_type": "stream",
     "text": [
      "[epoch ? step 1/1] alloc=19MB reserved=9712MB\n",
      "[epoch 9/9] alloc=18MB peak=20MB\n"
     ]
    },
    {
     "name": "stderr",
     "output_type": "stream",
     "text": [
      "Best trial: 5. Best value: 0.10107:  80%|████████  | 8/10 [00:12<00:02,  1.46s/it]"
     ]
    },
    {
     "name": "stdout",
     "output_type": "stream",
     "text": [
      "[I 2025-08-20 10:58:25,885] Trial 7 finished with value: 0.0982491752454279 and parameters: {'lr': 0.00010378484468406, 'num_epochs': 9}. Best is trial 5 with value: 0.10106996922215514.\n"
     ]
    },
    {
     "name": "stderr",
     "output_type": "stream",
     "text": [
      "Best trial: 5. Best value: 0.10107:  80%|████████  | 8/10 [00:12<00:02,  1.46s/it]"
     ]
    },
    {
     "name": "stdout",
     "output_type": "stream",
     "text": [
      "[epoch ? step 1/1] alloc=19MB reserved=9712MB\n",
      "[epoch 1/1] alloc=18MB peak=20MB\n"
     ]
    },
    {
     "name": "stderr",
     "output_type": "stream",
     "text": [
      "Best trial: 5. Best value: 0.10107:  90%|█████████ | 9/10 [00:13<00:01,  1.43s/it]"
     ]
    },
    {
     "name": "stdout",
     "output_type": "stream",
     "text": [
      "[I 2025-08-20 10:58:27,247] Trial 8 finished with value: 0.0984472404502675 and parameters: {'lr': 0.004607773631272484, 'num_epochs': 1}. Best is trial 5 with value: 0.10106996922215514.\n"
     ]
    },
    {
     "name": "stderr",
     "output_type": "stream",
     "text": [
      "Best trial: 5. Best value: 0.10107:  90%|█████████ | 9/10 [00:14<00:01,  1.43s/it]"
     ]
    },
    {
     "name": "stdout",
     "output_type": "stream",
     "text": [
      "[epoch ? step 1/1] alloc=19MB reserved=9712MB\n",
      "[epoch 1/8] alloc=18MB peak=20MB\n"
     ]
    },
    {
     "name": "stderr",
     "output_type": "stream",
     "text": [
      "Best trial: 5. Best value: 0.10107:  90%|█████████ | 9/10 [00:14<00:01,  1.43s/it]"
     ]
    },
    {
     "name": "stdout",
     "output_type": "stream",
     "text": [
      "[epoch ? step 1/1] alloc=19MB reserved=9712MB\n",
      "[epoch 2/8] alloc=18MB peak=20MB\n"
     ]
    },
    {
     "name": "stderr",
     "output_type": "stream",
     "text": [
      "Best trial: 5. Best value: 0.10107:  90%|█████████ | 9/10 [00:14<00:01,  1.43s/it]"
     ]
    },
    {
     "name": "stdout",
     "output_type": "stream",
     "text": [
      "[epoch ? step 1/1] alloc=19MB reserved=9712MB\n",
      "[epoch 3/8] alloc=18MB peak=20MB\n"
     ]
    },
    {
     "name": "stderr",
     "output_type": "stream",
     "text": [
      "Best trial: 5. Best value: 0.10107:  90%|█████████ | 9/10 [00:14<00:01,  1.43s/it]"
     ]
    },
    {
     "name": "stdout",
     "output_type": "stream",
     "text": [
      "[epoch ? step 1/1] alloc=19MB reserved=9712MB\n",
      "[epoch 4/8] alloc=18MB peak=20MB\n"
     ]
    },
    {
     "name": "stderr",
     "output_type": "stream",
     "text": [
      "Best trial: 5. Best value: 0.10107:  90%|█████████ | 9/10 [00:14<00:01,  1.43s/it]"
     ]
    },
    {
     "name": "stdout",
     "output_type": "stream",
     "text": [
      "[epoch ? step 1/1] alloc=19MB reserved=9712MB\n",
      "[epoch 5/8] alloc=18MB peak=20MB\n"
     ]
    },
    {
     "name": "stderr",
     "output_type": "stream",
     "text": [
      "Best trial: 5. Best value: 0.10107:  90%|█████████ | 9/10 [00:14<00:01,  1.43s/it]"
     ]
    },
    {
     "name": "stdout",
     "output_type": "stream",
     "text": [
      "[epoch ? step 1/1] alloc=19MB reserved=9712MB\n",
      "[epoch 6/8] alloc=18MB peak=20MB\n"
     ]
    },
    {
     "name": "stderr",
     "output_type": "stream",
     "text": [
      "Best trial: 5. Best value: 0.10107:  90%|█████████ | 9/10 [00:14<00:01,  1.43s/it]"
     ]
    },
    {
     "name": "stdout",
     "output_type": "stream",
     "text": [
      "[epoch ? step 1/1] alloc=19MB reserved=9712MB\n",
      "[epoch 7/8] alloc=18MB peak=20MB\n"
     ]
    },
    {
     "name": "stderr",
     "output_type": "stream",
     "text": [
      "Best trial: 5. Best value: 0.10107:  90%|█████████ | 9/10 [00:14<00:01,  1.43s/it]"
     ]
    },
    {
     "name": "stdout",
     "output_type": "stream",
     "text": [
      "[epoch ? step 1/1] alloc=19MB reserved=9712MB\n",
      "[epoch 8/8] alloc=18MB peak=20MB\n"
     ]
    },
    {
     "name": "stderr",
     "output_type": "stream",
     "text": [
      "Best trial: 5. Best value: 0.10107: 100%|██████████| 10/10 [00:15<00:00,  1.52s/it]\n"
     ]
    },
    {
     "name": "stdout",
     "output_type": "stream",
     "text": [
      "[I 2025-08-20 10:58:28,716] Trial 9 finished with value: 0.09859082173407516 and parameters: {'lr': 0.0009210143324717334, 'num_epochs': 8}. Best is trial 5 with value: 0.10106996922215514.\n",
      "[epoch ? step 1/1] alloc=18MB reserved=9712MB\n",
      "[epoch 1/7] alloc=17MB peak=19MB\n",
      "[epoch ? step 1/1] alloc=18MB reserved=9712MB\n",
      "[epoch 2/7] alloc=17MB peak=19MB\n",
      "[epoch ? step 1/1] alloc=18MB reserved=9712MB\n",
      "[epoch 3/7] alloc=17MB peak=19MB\n",
      "[epoch ? step 1/1] alloc=18MB reserved=9712MB\n",
      "[epoch 4/7] alloc=17MB peak=19MB\n",
      "[epoch ? step 1/1] alloc=18MB reserved=9712MB\n",
      "[epoch 5/7] alloc=17MB peak=19MB\n",
      "[epoch ? step 1/1] alloc=18MB reserved=9712MB\n",
      "[epoch 6/7] alloc=17MB peak=19MB\n",
      "[epoch ? step 1/1] alloc=18MB reserved=9712MB\n",
      "[epoch 7/7] alloc=17MB peak=19MB\n"
     ]
    },
    {
     "name": "stderr",
     "output_type": "stream",
     "text": [
      "[I 2025-08-20 10:58:32,805] A new study created in memory with name: no-name-c3cb5c12-6671-4f00-b248-47254fd87e81\n",
      "  0%|          | 0/10 [00:03<?, ?it/s]"
     ]
    },
    {
     "name": "stdout",
     "output_type": "stream",
     "text": [
      "[epoch ? step 1/5] alloc=20MB reserved=9712MB\n",
      "[epoch ? step 5/5] alloc=20MB reserved=9714MB\n",
      "[epoch 1/1] alloc=19MB peak=23MB\n"
     ]
    },
    {
     "name": "stderr",
     "output_type": "stream",
     "text": [
      "Best trial: 0. Best value: 0.115507:  10%|█         | 1/10 [00:04<00:42,  4.77s/it]"
     ]
    },
    {
     "name": "stdout",
     "output_type": "stream",
     "text": [
      "[I 2025-08-20 10:58:37,577] Trial 0 finished with value: 0.11550736842234559 and parameters: {'lr': 0.0026408706692873, 'num_epochs': 1}. Best is trial 0 with value: 0.11550736842234559.\n"
     ]
    },
    {
     "name": "stderr",
     "output_type": "stream",
     "text": [
      "Best trial: 0. Best value: 0.115507:  10%|█         | 1/10 [00:08<00:42,  4.77s/it]"
     ]
    },
    {
     "name": "stdout",
     "output_type": "stream",
     "text": [
      "[epoch ? step 1/5] alloc=20MB reserved=9714MB\n",
      "[epoch ? step 5/5] alloc=20MB reserved=9714MB\n",
      "[epoch 1/7] alloc=19MB peak=23MB\n"
     ]
    },
    {
     "name": "stderr",
     "output_type": "stream",
     "text": [
      "Best trial: 0. Best value: 0.115507:  10%|█         | 1/10 [00:08<00:42,  4.77s/it]"
     ]
    },
    {
     "name": "stdout",
     "output_type": "stream",
     "text": [
      "[epoch ? step 1/5] alloc=20MB reserved=9714MB\n",
      "[epoch ? step 5/5] alloc=20MB reserved=9714MB\n",
      "[epoch 2/7] alloc=19MB peak=23MB\n"
     ]
    },
    {
     "name": "stderr",
     "output_type": "stream",
     "text": [
      "Best trial: 0. Best value: 0.115507:  10%|█         | 1/10 [00:08<00:42,  4.77s/it]"
     ]
    },
    {
     "name": "stdout",
     "output_type": "stream",
     "text": [
      "[epoch ? step 1/5] alloc=20MB reserved=9714MB\n",
      "[epoch ? step 5/5] alloc=20MB reserved=9714MB\n",
      "[epoch 3/7] alloc=19MB peak=23MB\n"
     ]
    },
    {
     "name": "stderr",
     "output_type": "stream",
     "text": [
      "Best trial: 0. Best value: 0.115507:  10%|█         | 1/10 [00:08<00:42,  4.77s/it]"
     ]
    },
    {
     "name": "stdout",
     "output_type": "stream",
     "text": [
      "[epoch ? step 1/5] alloc=20MB reserved=9714MB\n",
      "[epoch ? step 5/5] alloc=20MB reserved=9714MB\n",
      "[epoch 4/7] alloc=19MB peak=23MB\n"
     ]
    },
    {
     "name": "stderr",
     "output_type": "stream",
     "text": [
      "Best trial: 0. Best value: 0.115507:  10%|█         | 1/10 [00:08<00:42,  4.77s/it]"
     ]
    },
    {
     "name": "stdout",
     "output_type": "stream",
     "text": [
      "[epoch ? step 1/5] alloc=20MB reserved=9714MB\n",
      "[epoch ? step 5/5] alloc=20MB reserved=9714MB\n",
      "[epoch 5/7] alloc=19MB peak=23MB\n"
     ]
    },
    {
     "name": "stderr",
     "output_type": "stream",
     "text": [
      "Best trial: 0. Best value: 0.115507:  10%|█         | 1/10 [00:08<00:42,  4.77s/it]"
     ]
    },
    {
     "name": "stdout",
     "output_type": "stream",
     "text": [
      "[epoch ? step 1/5] alloc=20MB reserved=9714MB\n",
      "[epoch ? step 5/5] alloc=20MB reserved=9714MB\n",
      "[epoch 6/7] alloc=19MB peak=23MB\n"
     ]
    },
    {
     "name": "stderr",
     "output_type": "stream",
     "text": [
      "Best trial: 0. Best value: 0.115507:  10%|█         | 1/10 [00:08<00:42,  4.77s/it]"
     ]
    },
    {
     "name": "stdout",
     "output_type": "stream",
     "text": [
      "[epoch ? step 1/5] alloc=20MB reserved=9714MB\n",
      "[epoch ? step 5/5] alloc=20MB reserved=9714MB\n",
      "[epoch 7/7] alloc=19MB peak=23MB\n"
     ]
    },
    {
     "name": "stderr",
     "output_type": "stream",
     "text": [
      "Best trial: 0. Best value: 0.115507:  20%|██        | 2/10 [00:09<00:37,  4.64s/it]"
     ]
    },
    {
     "name": "stdout",
     "output_type": "stream",
     "text": [
      "[I 2025-08-20 10:58:42,123] Trial 1 finished with value: 0.10631400200951979 and parameters: {'lr': 0.004336219920393354, 'num_epochs': 7}. Best is trial 0 with value: 0.11550736842234559.\n"
     ]
    },
    {
     "name": "stderr",
     "output_type": "stream",
     "text": [
      "Best trial: 0. Best value: 0.115507:  20%|██        | 2/10 [00:12<00:37,  4.64s/it]"
     ]
    },
    {
     "name": "stdout",
     "output_type": "stream",
     "text": [
      "[epoch ? step 1/5] alloc=20MB reserved=9714MB\n",
      "[epoch ? step 5/5] alloc=20MB reserved=9714MB\n",
      "[epoch 1/4] alloc=19MB peak=23MB\n"
     ]
    },
    {
     "name": "stderr",
     "output_type": "stream",
     "text": [
      "Best trial: 0. Best value: 0.115507:  20%|██        | 2/10 [00:12<00:37,  4.64s/it]"
     ]
    },
    {
     "name": "stdout",
     "output_type": "stream",
     "text": [
      "[epoch ? step 1/5] alloc=20MB reserved=9714MB\n",
      "[epoch ? step 5/5] alloc=20MB reserved=9714MB\n",
      "[epoch 2/4] alloc=19MB peak=23MB\n"
     ]
    },
    {
     "name": "stderr",
     "output_type": "stream",
     "text": [
      "Best trial: 0. Best value: 0.115507:  20%|██        | 2/10 [00:12<00:37,  4.64s/it]"
     ]
    },
    {
     "name": "stdout",
     "output_type": "stream",
     "text": [
      "[epoch ? step 1/5] alloc=20MB reserved=9714MB\n",
      "[epoch ? step 5/5] alloc=20MB reserved=9714MB\n",
      "[epoch 3/4] alloc=19MB peak=23MB\n"
     ]
    },
    {
     "name": "stderr",
     "output_type": "stream",
     "text": [
      "Best trial: 0. Best value: 0.115507:  20%|██        | 2/10 [00:12<00:37,  4.64s/it]"
     ]
    },
    {
     "name": "stdout",
     "output_type": "stream",
     "text": [
      "[epoch ? step 1/5] alloc=20MB reserved=9714MB\n",
      "[epoch ? step 5/5] alloc=20MB reserved=9714MB\n",
      "[epoch 4/4] alloc=19MB peak=23MB\n"
     ]
    },
    {
     "name": "stderr",
     "output_type": "stream",
     "text": [
      "Best trial: 0. Best value: 0.115507:  30%|███       | 3/10 [00:13<00:31,  4.50s/it]"
     ]
    },
    {
     "name": "stdout",
     "output_type": "stream",
     "text": [
      "[I 2025-08-20 10:58:46,455] Trial 2 finished with value: 0.11054289904044144 and parameters: {'lr': 0.003911484359994595, 'num_epochs': 4}. Best is trial 0 with value: 0.11550736842234559.\n"
     ]
    },
    {
     "name": "stderr",
     "output_type": "stream",
     "text": [
      "Best trial: 0. Best value: 0.115507:  30%|███       | 3/10 [00:16<00:31,  4.50s/it]"
     ]
    },
    {
     "name": "stdout",
     "output_type": "stream",
     "text": [
      "[epoch ? step 1/5] alloc=20MB reserved=9714MB\n",
      "[epoch ? step 5/5] alloc=20MB reserved=9714MB\n",
      "[epoch 1/7] alloc=19MB peak=23MB\n"
     ]
    },
    {
     "name": "stderr",
     "output_type": "stream",
     "text": [
      "Best trial: 0. Best value: 0.115507:  30%|███       | 3/10 [00:16<00:31,  4.50s/it]"
     ]
    },
    {
     "name": "stdout",
     "output_type": "stream",
     "text": [
      "[epoch ? step 1/5] alloc=20MB reserved=9714MB\n",
      "[epoch ? step 5/5] alloc=20MB reserved=9714MB\n",
      "[epoch 2/7] alloc=19MB peak=23MB\n"
     ]
    },
    {
     "name": "stderr",
     "output_type": "stream",
     "text": [
      "Best trial: 0. Best value: 0.115507:  30%|███       | 3/10 [00:16<00:31,  4.50s/it]"
     ]
    },
    {
     "name": "stdout",
     "output_type": "stream",
     "text": [
      "[epoch ? step 1/5] alloc=20MB reserved=9714MB\n",
      "[epoch ? step 5/5] alloc=20MB reserved=9714MB\n",
      "[epoch 3/7] alloc=19MB peak=23MB\n"
     ]
    },
    {
     "name": "stderr",
     "output_type": "stream",
     "text": [
      "Best trial: 0. Best value: 0.115507:  30%|███       | 3/10 [00:16<00:31,  4.50s/it]"
     ]
    },
    {
     "name": "stdout",
     "output_type": "stream",
     "text": [
      "[epoch ? step 1/5] alloc=20MB reserved=9714MB\n",
      "[epoch ? step 5/5] alloc=20MB reserved=9714MB\n",
      "[epoch 4/7] alloc=19MB peak=23MB\n"
     ]
    },
    {
     "name": "stderr",
     "output_type": "stream",
     "text": [
      "Best trial: 0. Best value: 0.115507:  30%|███       | 3/10 [00:16<00:31,  4.50s/it]"
     ]
    },
    {
     "name": "stdout",
     "output_type": "stream",
     "text": [
      "[epoch ? step 1/5] alloc=20MB reserved=9714MB\n",
      "[epoch ? step 5/5] alloc=20MB reserved=9714MB\n",
      "[epoch 5/7] alloc=19MB peak=23MB\n"
     ]
    },
    {
     "name": "stderr",
     "output_type": "stream",
     "text": [
      "Best trial: 0. Best value: 0.115507:  30%|███       | 3/10 [00:17<00:31,  4.50s/it]"
     ]
    },
    {
     "name": "stdout",
     "output_type": "stream",
     "text": [
      "[epoch ? step 1/5] alloc=20MB reserved=9714MB\n",
      "[epoch ? step 5/5] alloc=20MB reserved=9714MB\n",
      "[epoch 6/7] alloc=19MB peak=23MB\n"
     ]
    },
    {
     "name": "stderr",
     "output_type": "stream",
     "text": [
      "Best trial: 0. Best value: 0.115507:  30%|███       | 3/10 [00:17<00:31,  4.50s/it]"
     ]
    },
    {
     "name": "stdout",
     "output_type": "stream",
     "text": [
      "[epoch ? step 1/5] alloc=20MB reserved=9714MB\n",
      "[epoch ? step 5/5] alloc=20MB reserved=9714MB\n",
      "[epoch 7/7] alloc=19MB peak=23MB\n"
     ]
    },
    {
     "name": "stderr",
     "output_type": "stream",
     "text": [
      "Best trial: 0. Best value: 0.115507:  40%|████      | 4/10 [00:18<00:27,  4.52s/it]"
     ]
    },
    {
     "name": "stdout",
     "output_type": "stream",
     "text": [
      "[I 2025-08-20 10:58:51,015] Trial 3 finished with value: 0.11220508264399948 and parameters: {'lr': 0.002043528375134717, 'num_epochs': 7}. Best is trial 0 with value: 0.11550736842234559.\n"
     ]
    },
    {
     "name": "stderr",
     "output_type": "stream",
     "text": [
      "Best trial: 0. Best value: 0.115507:  40%|████      | 4/10 [00:21<00:27,  4.52s/it]"
     ]
    },
    {
     "name": "stdout",
     "output_type": "stream",
     "text": [
      "[epoch ? step 1/5] alloc=20MB reserved=9714MB\n",
      "[epoch ? step 5/5] alloc=20MB reserved=9714MB\n",
      "[epoch 1/8] alloc=19MB peak=23MB\n"
     ]
    },
    {
     "name": "stderr",
     "output_type": "stream",
     "text": [
      "Best trial: 0. Best value: 0.115507:  40%|████      | 4/10 [00:21<00:27,  4.52s/it]"
     ]
    },
    {
     "name": "stdout",
     "output_type": "stream",
     "text": [
      "[epoch ? step 1/5] alloc=20MB reserved=9714MB\n",
      "[epoch ? step 5/5] alloc=20MB reserved=9714MB\n",
      "[epoch 2/8] alloc=19MB peak=23MB\n"
     ]
    },
    {
     "name": "stderr",
     "output_type": "stream",
     "text": [
      "Best trial: 0. Best value: 0.115507:  40%|████      | 4/10 [00:21<00:27,  4.52s/it]"
     ]
    },
    {
     "name": "stdout",
     "output_type": "stream",
     "text": [
      "[epoch ? step 1/5] alloc=20MB reserved=9714MB\n",
      "[epoch ? step 5/5] alloc=20MB reserved=9714MB\n",
      "[epoch 3/8] alloc=19MB peak=23MB\n"
     ]
    },
    {
     "name": "stderr",
     "output_type": "stream",
     "text": [
      "Best trial: 0. Best value: 0.115507:  40%|████      | 4/10 [00:21<00:27,  4.52s/it]"
     ]
    },
    {
     "name": "stdout",
     "output_type": "stream",
     "text": [
      "[epoch ? step 1/5] alloc=20MB reserved=9714MB\n",
      "[epoch ? step 5/5] alloc=20MB reserved=9714MB\n",
      "[epoch 4/8] alloc=19MB peak=23MB\n"
     ]
    },
    {
     "name": "stderr",
     "output_type": "stream",
     "text": [
      "Best trial: 0. Best value: 0.115507:  40%|████      | 4/10 [00:21<00:27,  4.52s/it]"
     ]
    },
    {
     "name": "stdout",
     "output_type": "stream",
     "text": [
      "[epoch ? step 1/5] alloc=20MB reserved=9714MB\n",
      "[epoch ? step 5/5] alloc=20MB reserved=9714MB\n",
      "[epoch 5/8] alloc=19MB peak=23MB\n"
     ]
    },
    {
     "name": "stderr",
     "output_type": "stream",
     "text": [
      "Best trial: 0. Best value: 0.115507:  40%|████      | 4/10 [00:21<00:27,  4.52s/it]"
     ]
    },
    {
     "name": "stdout",
     "output_type": "stream",
     "text": [
      "[epoch ? step 1/5] alloc=20MB reserved=9714MB\n",
      "[epoch ? step 5/5] alloc=20MB reserved=9714MB\n",
      "[epoch 6/8] alloc=19MB peak=23MB\n"
     ]
    },
    {
     "name": "stderr",
     "output_type": "stream",
     "text": [
      "Best trial: 0. Best value: 0.115507:  40%|████      | 4/10 [00:21<00:27,  4.52s/it]"
     ]
    },
    {
     "name": "stdout",
     "output_type": "stream",
     "text": [
      "[epoch ? step 1/5] alloc=20MB reserved=9714MB\n",
      "[epoch ? step 5/5] alloc=20MB reserved=9714MB\n",
      "[epoch 7/8] alloc=19MB peak=23MB\n"
     ]
    },
    {
     "name": "stderr",
     "output_type": "stream",
     "text": [
      "Best trial: 0. Best value: 0.115507:  40%|████      | 4/10 [00:21<00:27,  4.52s/it]"
     ]
    },
    {
     "name": "stdout",
     "output_type": "stream",
     "text": [
      "[epoch ? step 1/5] alloc=20MB reserved=9714MB\n",
      "[epoch ? step 5/5] alloc=20MB reserved=9714MB\n",
      "[epoch 8/8] alloc=19MB peak=23MB\n"
     ]
    },
    {
     "name": "stderr",
     "output_type": "stream",
     "text": [
      "Best trial: 4. Best value: 0.116332:  50%|█████     | 5/10 [00:22<00:22,  4.52s/it]"
     ]
    },
    {
     "name": "stdout",
     "output_type": "stream",
     "text": [
      "[I 2025-08-20 10:58:55,533] Trial 4 finished with value: 0.1163316601758147 and parameters: {'lr': 0.00012708360463032007, 'num_epochs': 8}. Best is trial 4 with value: 0.1163316601758147.\n"
     ]
    },
    {
     "name": "stderr",
     "output_type": "stream",
     "text": [
      "Best trial: 4. Best value: 0.116332:  50%|█████     | 5/10 [00:26<00:22,  4.52s/it]"
     ]
    },
    {
     "name": "stdout",
     "output_type": "stream",
     "text": [
      "[epoch ? step 1/5] alloc=20MB reserved=9714MB\n",
      "[epoch ? step 5/5] alloc=20MB reserved=9714MB\n",
      "[epoch 1/2] alloc=19MB peak=23MB\n"
     ]
    },
    {
     "name": "stderr",
     "output_type": "stream",
     "text": [
      "Best trial: 4. Best value: 0.116332:  50%|█████     | 5/10 [00:26<00:22,  4.52s/it]"
     ]
    },
    {
     "name": "stdout",
     "output_type": "stream",
     "text": [
      "[epoch ? step 1/5] alloc=20MB reserved=9714MB\n",
      "[epoch ? step 5/5] alloc=20MB reserved=9714MB\n",
      "[epoch 2/2] alloc=19MB peak=23MB\n"
     ]
    },
    {
     "name": "stderr",
     "output_type": "stream",
     "text": [
      "Best trial: 4. Best value: 0.116332:  60%|██████    | 6/10 [00:27<00:17,  4.49s/it]"
     ]
    },
    {
     "name": "stdout",
     "output_type": "stream",
     "text": [
      "[I 2025-08-20 10:58:59,964] Trial 5 finished with value: 0.11436965504905104 and parameters: {'lr': 0.00319745944713041, 'num_epochs': 2}. Best is trial 4 with value: 0.1163316601758147.\n"
     ]
    },
    {
     "name": "stderr",
     "output_type": "stream",
     "text": [
      "Best trial: 4. Best value: 0.116332:  60%|██████    | 6/10 [00:30<00:17,  4.49s/it]"
     ]
    },
    {
     "name": "stdout",
     "output_type": "stream",
     "text": [
      "[epoch ? step 1/5] alloc=20MB reserved=9714MB\n",
      "[epoch ? step 5/5] alloc=20MB reserved=9714MB\n",
      "[epoch 1/9] alloc=19MB peak=23MB\n"
     ]
    },
    {
     "name": "stderr",
     "output_type": "stream",
     "text": [
      "Best trial: 4. Best value: 0.116332:  60%|██████    | 6/10 [00:30<00:17,  4.49s/it]"
     ]
    },
    {
     "name": "stdout",
     "output_type": "stream",
     "text": [
      "[epoch ? step 1/5] alloc=20MB reserved=9714MB\n",
      "[epoch ? step 5/5] alloc=20MB reserved=9714MB\n",
      "[epoch 2/9] alloc=19MB peak=23MB\n"
     ]
    },
    {
     "name": "stderr",
     "output_type": "stream",
     "text": [
      "Best trial: 4. Best value: 0.116332:  60%|██████    | 6/10 [00:30<00:17,  4.49s/it]"
     ]
    },
    {
     "name": "stdout",
     "output_type": "stream",
     "text": [
      "[epoch ? step 1/5] alloc=20MB reserved=9714MB\n",
      "[epoch ? step 5/5] alloc=20MB reserved=9714MB\n",
      "[epoch 3/9] alloc=19MB peak=23MB\n"
     ]
    },
    {
     "name": "stderr",
     "output_type": "stream",
     "text": [
      "Best trial: 4. Best value: 0.116332:  60%|██████    | 6/10 [00:30<00:17,  4.49s/it]"
     ]
    },
    {
     "name": "stdout",
     "output_type": "stream",
     "text": [
      "[epoch ? step 1/5] alloc=20MB reserved=9714MB\n",
      "[epoch ? step 5/5] alloc=20MB reserved=9714MB\n",
      "[epoch 4/9] alloc=19MB peak=23MB\n"
     ]
    },
    {
     "name": "stderr",
     "output_type": "stream",
     "text": [
      "Best trial: 4. Best value: 0.116332:  60%|██████    | 6/10 [00:30<00:17,  4.49s/it]"
     ]
    },
    {
     "name": "stdout",
     "output_type": "stream",
     "text": [
      "[epoch ? step 1/5] alloc=20MB reserved=9714MB\n",
      "[epoch ? step 5/5] alloc=20MB reserved=9714MB\n",
      "[epoch 5/9] alloc=19MB peak=23MB\n"
     ]
    },
    {
     "name": "stderr",
     "output_type": "stream",
     "text": [
      "Best trial: 4. Best value: 0.116332:  60%|██████    | 6/10 [00:30<00:17,  4.49s/it]"
     ]
    },
    {
     "name": "stdout",
     "output_type": "stream",
     "text": [
      "[epoch ? step 1/5] alloc=20MB reserved=9714MB\n",
      "[epoch ? step 5/5] alloc=20MB reserved=9714MB\n",
      "[epoch 6/9] alloc=19MB peak=23MB\n"
     ]
    },
    {
     "name": "stderr",
     "output_type": "stream",
     "text": [
      "Best trial: 4. Best value: 0.116332:  60%|██████    | 6/10 [00:30<00:17,  4.49s/it]"
     ]
    },
    {
     "name": "stdout",
     "output_type": "stream",
     "text": [
      "[epoch ? step 1/5] alloc=20MB reserved=9714MB\n",
      "[epoch ? step 5/5] alloc=20MB reserved=9714MB\n",
      "[epoch 7/9] alloc=19MB peak=23MB\n"
     ]
    },
    {
     "name": "stderr",
     "output_type": "stream",
     "text": [
      "Best trial: 4. Best value: 0.116332:  60%|██████    | 6/10 [00:30<00:17,  4.49s/it]"
     ]
    },
    {
     "name": "stdout",
     "output_type": "stream",
     "text": [
      "[epoch ? step 1/5] alloc=20MB reserved=9714MB\n",
      "[epoch ? step 5/5] alloc=20MB reserved=9714MB\n",
      "[epoch 8/9] alloc=19MB peak=23MB\n"
     ]
    },
    {
     "name": "stderr",
     "output_type": "stream",
     "text": [
      "Best trial: 4. Best value: 0.116332:  60%|██████    | 6/10 [00:30<00:17,  4.49s/it]"
     ]
    },
    {
     "name": "stdout",
     "output_type": "stream",
     "text": [
      "[epoch ? step 1/5] alloc=20MB reserved=9714MB\n",
      "[epoch ? step 5/5] alloc=20MB reserved=9714MB\n",
      "[epoch 9/9] alloc=19MB peak=23MB\n"
     ]
    },
    {
     "name": "stderr",
     "output_type": "stream",
     "text": [
      "Best trial: 4. Best value: 0.116332:  70%|███████   | 7/10 [00:31<00:13,  4.48s/it]"
     ]
    },
    {
     "name": "stdout",
     "output_type": "stream",
     "text": [
      "[I 2025-08-20 10:59:04,432] Trial 6 finished with value: 0.11347632261019927 and parameters: {'lr': 0.0012893739101606707, 'num_epochs': 9}. Best is trial 4 with value: 0.1163316601758147.\n"
     ]
    },
    {
     "name": "stderr",
     "output_type": "stream",
     "text": [
      "Best trial: 4. Best value: 0.116332:  70%|███████   | 7/10 [00:34<00:13,  4.48s/it]"
     ]
    },
    {
     "name": "stdout",
     "output_type": "stream",
     "text": [
      "[epoch ? step 1/5] alloc=20MB reserved=9714MB\n",
      "[epoch ? step 5/5] alloc=20MB reserved=9714MB\n",
      "[epoch 1/7] alloc=19MB peak=23MB\n"
     ]
    },
    {
     "name": "stderr",
     "output_type": "stream",
     "text": [
      "Best trial: 4. Best value: 0.116332:  70%|███████   | 7/10 [00:34<00:13,  4.48s/it]"
     ]
    },
    {
     "name": "stdout",
     "output_type": "stream",
     "text": [
      "[epoch ? step 1/5] alloc=20MB reserved=9714MB\n",
      "[epoch ? step 5/5] alloc=20MB reserved=9714MB\n",
      "[epoch 2/7] alloc=19MB peak=23MB\n"
     ]
    },
    {
     "name": "stderr",
     "output_type": "stream",
     "text": [
      "Best trial: 4. Best value: 0.116332:  70%|███████   | 7/10 [00:35<00:13,  4.48s/it]"
     ]
    },
    {
     "name": "stdout",
     "output_type": "stream",
     "text": [
      "[epoch ? step 1/5] alloc=20MB reserved=9714MB\n",
      "[epoch ? step 5/5] alloc=20MB reserved=9714MB\n",
      "[epoch 3/7] alloc=19MB peak=23MB\n"
     ]
    },
    {
     "name": "stderr",
     "output_type": "stream",
     "text": [
      "Best trial: 4. Best value: 0.116332:  70%|███████   | 7/10 [00:35<00:13,  4.48s/it]"
     ]
    },
    {
     "name": "stdout",
     "output_type": "stream",
     "text": [
      "[epoch ? step 1/5] alloc=20MB reserved=9714MB\n",
      "[epoch ? step 5/5] alloc=20MB reserved=9714MB\n",
      "[epoch 4/7] alloc=19MB peak=23MB\n"
     ]
    },
    {
     "name": "stderr",
     "output_type": "stream",
     "text": [
      "Best trial: 4. Best value: 0.116332:  70%|███████   | 7/10 [00:35<00:13,  4.48s/it]"
     ]
    },
    {
     "name": "stdout",
     "output_type": "stream",
     "text": [
      "[epoch ? step 1/5] alloc=20MB reserved=9714MB\n",
      "[epoch ? step 5/5] alloc=20MB reserved=9714MB\n",
      "[epoch 5/7] alloc=19MB peak=23MB\n"
     ]
    },
    {
     "name": "stderr",
     "output_type": "stream",
     "text": [
      "Best trial: 4. Best value: 0.116332:  70%|███████   | 7/10 [00:35<00:13,  4.48s/it]"
     ]
    },
    {
     "name": "stdout",
     "output_type": "stream",
     "text": [
      "[epoch ? step 1/5] alloc=20MB reserved=9714MB\n",
      "[epoch ? step 5/5] alloc=20MB reserved=9714MB\n",
      "[epoch 6/7] alloc=19MB peak=23MB\n"
     ]
    },
    {
     "name": "stderr",
     "output_type": "stream",
     "text": [
      "Best trial: 4. Best value: 0.116332:  70%|███████   | 7/10 [00:35<00:13,  4.48s/it]"
     ]
    },
    {
     "name": "stdout",
     "output_type": "stream",
     "text": [
      "[epoch ? step 1/5] alloc=20MB reserved=9714MB\n",
      "[epoch ? step 5/5] alloc=20MB reserved=9714MB\n",
      "[epoch 7/7] alloc=19MB peak=23MB\n"
     ]
    },
    {
     "name": "stderr",
     "output_type": "stream",
     "text": [
      "Best trial: 4. Best value: 0.116332:  80%|████████  | 8/10 [00:36<00:08,  4.50s/it]"
     ]
    },
    {
     "name": "stdout",
     "output_type": "stream",
     "text": [
      "[I 2025-08-20 10:59:08,962] Trial 7 finished with value: 0.11600292486605954 and parameters: {'lr': 0.000299253442728398, 'num_epochs': 7}. Best is trial 4 with value: 0.1163316601758147.\n"
     ]
    },
    {
     "name": "stderr",
     "output_type": "stream",
     "text": [
      "Best trial: 4. Best value: 0.116332:  80%|████████  | 8/10 [00:39<00:08,  4.50s/it]"
     ]
    },
    {
     "name": "stdout",
     "output_type": "stream",
     "text": [
      "[epoch ? step 1/5] alloc=20MB reserved=9714MB\n",
      "[epoch ? step 5/5] alloc=20MB reserved=9714MB\n",
      "[epoch 1/4] alloc=19MB peak=23MB\n"
     ]
    },
    {
     "name": "stderr",
     "output_type": "stream",
     "text": [
      "Best trial: 4. Best value: 0.116332:  80%|████████  | 8/10 [00:39<00:08,  4.50s/it]"
     ]
    },
    {
     "name": "stdout",
     "output_type": "stream",
     "text": [
      "[epoch ? step 1/5] alloc=20MB reserved=9714MB\n",
      "[epoch ? step 5/5] alloc=20MB reserved=9714MB\n",
      "[epoch 2/4] alloc=19MB peak=23MB\n"
     ]
    },
    {
     "name": "stderr",
     "output_type": "stream",
     "text": [
      "Best trial: 4. Best value: 0.116332:  80%|████████  | 8/10 [00:39<00:08,  4.50s/it]"
     ]
    },
    {
     "name": "stdout",
     "output_type": "stream",
     "text": [
      "[epoch ? step 1/5] alloc=20MB reserved=9714MB\n",
      "[epoch ? step 5/5] alloc=20MB reserved=9714MB\n",
      "[epoch 3/4] alloc=19MB peak=23MB\n"
     ]
    },
    {
     "name": "stderr",
     "output_type": "stream",
     "text": [
      "Best trial: 4. Best value: 0.116332:  80%|████████  | 8/10 [00:39<00:08,  4.50s/it]"
     ]
    },
    {
     "name": "stdout",
     "output_type": "stream",
     "text": [
      "[epoch ? step 1/5] alloc=20MB reserved=9714MB\n",
      "[epoch ? step 5/5] alloc=20MB reserved=9714MB\n",
      "[epoch 4/4] alloc=19MB peak=23MB\n"
     ]
    },
    {
     "name": "stderr",
     "output_type": "stream",
     "text": [
      "Best trial: 8. Best value: 0.116422:  90%|█████████ | 9/10 [00:40<00:04,  4.45s/it]"
     ]
    },
    {
     "name": "stdout",
     "output_type": "stream",
     "text": [
      "[I 2025-08-20 10:59:13,308] Trial 8 finished with value: 0.11642219786399444 and parameters: {'lr': 0.00015678858799164923, 'num_epochs': 4}. Best is trial 8 with value: 0.11642219786399444.\n"
     ]
    },
    {
     "name": "stderr",
     "output_type": "stream",
     "text": [
      "Best trial: 8. Best value: 0.116422:  90%|█████████ | 9/10 [00:43<00:04,  4.45s/it]"
     ]
    },
    {
     "name": "stdout",
     "output_type": "stream",
     "text": [
      "[epoch ? step 1/5] alloc=20MB reserved=9714MB\n",
      "[epoch ? step 5/5] alloc=20MB reserved=9714MB\n",
      "[epoch 1/9] alloc=19MB peak=23MB\n"
     ]
    },
    {
     "name": "stderr",
     "output_type": "stream",
     "text": [
      "Best trial: 8. Best value: 0.116422:  90%|█████████ | 9/10 [00:43<00:04,  4.45s/it]"
     ]
    },
    {
     "name": "stdout",
     "output_type": "stream",
     "text": [
      "[epoch ? step 1/5] alloc=20MB reserved=9714MB\n",
      "[epoch ? step 5/5] alloc=20MB reserved=9714MB\n",
      "[epoch 2/9] alloc=19MB peak=23MB\n"
     ]
    },
    {
     "name": "stderr",
     "output_type": "stream",
     "text": [
      "Best trial: 8. Best value: 0.116422:  90%|█████████ | 9/10 [00:43<00:04,  4.45s/it]"
     ]
    },
    {
     "name": "stdout",
     "output_type": "stream",
     "text": [
      "[epoch ? step 1/5] alloc=20MB reserved=9714MB\n",
      "[epoch ? step 5/5] alloc=20MB reserved=9714MB\n",
      "[epoch 3/9] alloc=19MB peak=23MB\n"
     ]
    },
    {
     "name": "stderr",
     "output_type": "stream",
     "text": [
      "Best trial: 8. Best value: 0.116422:  90%|█████████ | 9/10 [00:43<00:04,  4.45s/it]"
     ]
    },
    {
     "name": "stdout",
     "output_type": "stream",
     "text": [
      "[epoch ? step 1/5] alloc=20MB reserved=9714MB\n",
      "[epoch ? step 5/5] alloc=20MB reserved=9714MB\n",
      "[epoch 4/9] alloc=19MB peak=23MB\n"
     ]
    },
    {
     "name": "stderr",
     "output_type": "stream",
     "text": [
      "Best trial: 8. Best value: 0.116422:  90%|█████████ | 9/10 [00:43<00:04,  4.45s/it]"
     ]
    },
    {
     "name": "stdout",
     "output_type": "stream",
     "text": [
      "[epoch ? step 1/5] alloc=20MB reserved=9714MB\n",
      "[epoch ? step 5/5] alloc=20MB reserved=9714MB\n",
      "[epoch 5/9] alloc=19MB peak=23MB\n"
     ]
    },
    {
     "name": "stderr",
     "output_type": "stream",
     "text": [
      "Best trial: 8. Best value: 0.116422:  90%|█████████ | 9/10 [00:43<00:04,  4.45s/it]"
     ]
    },
    {
     "name": "stdout",
     "output_type": "stream",
     "text": [
      "[epoch ? step 1/5] alloc=20MB reserved=9714MB\n",
      "[epoch ? step 5/5] alloc=20MB reserved=9714MB\n",
      "[epoch 6/9] alloc=19MB peak=23MB\n"
     ]
    },
    {
     "name": "stderr",
     "output_type": "stream",
     "text": [
      "Best trial: 8. Best value: 0.116422:  90%|█████████ | 9/10 [00:43<00:04,  4.45s/it]"
     ]
    },
    {
     "name": "stdout",
     "output_type": "stream",
     "text": [
      "[epoch ? step 1/5] alloc=20MB reserved=9714MB\n",
      "[epoch ? step 5/5] alloc=20MB reserved=9714MB\n",
      "[epoch 7/9] alloc=19MB peak=23MB\n"
     ]
    },
    {
     "name": "stderr",
     "output_type": "stream",
     "text": [
      "Best trial: 8. Best value: 0.116422:  90%|█████████ | 9/10 [00:43<00:04,  4.45s/it]"
     ]
    },
    {
     "name": "stdout",
     "output_type": "stream",
     "text": [
      "[epoch ? step 1/5] alloc=20MB reserved=9714MB\n",
      "[epoch ? step 5/5] alloc=20MB reserved=9714MB\n",
      "[epoch 8/9] alloc=19MB peak=23MB\n"
     ]
    },
    {
     "name": "stderr",
     "output_type": "stream",
     "text": [
      "                                                                                   "
     ]
    },
    {
     "name": "stdout",
     "output_type": "stream",
     "text": [
      "[epoch ? step 1/5] alloc=20MB reserved=9714MB\n"
     ]
    },
    {
     "name": "stderr",
     "output_type": "stream",
     "text": [
      "Best trial: 8. Best value: 0.116422:  90%|█████████ | 9/10 [00:44<00:04,  4.45s/it]"
     ]
    },
    {
     "name": "stdout",
     "output_type": "stream",
     "text": [
      "[epoch ? step 5/5] alloc=20MB reserved=9714MB\n",
      "[epoch 9/9] alloc=19MB peak=23MB\n"
     ]
    },
    {
     "name": "stderr",
     "output_type": "stream",
     "text": [
      "Best trial: 8. Best value: 0.116422: 100%|██████████| 10/10 [00:45<00:00,  4.51s/it]\n"
     ]
    },
    {
     "name": "stdout",
     "output_type": "stream",
     "text": [
      "[I 2025-08-20 10:59:17,858] Trial 9 finished with value: 0.11614491771122008 and parameters: {'lr': 0.0001512147498320837, 'num_epochs': 9}. Best is trial 8 with value: 0.11642219786399444.\n",
      "[epoch ? step 1/5] alloc=19MB reserved=9714MB\n",
      "[epoch ? step 5/5] alloc=19MB reserved=9714MB\n",
      "[epoch 1/4] alloc=18MB peak=22MB\n",
      "[epoch ? step 1/5] alloc=19MB reserved=9714MB\n",
      "[epoch ? step 5/5] alloc=19MB reserved=9714MB\n",
      "[epoch 2/4] alloc=18MB peak=22MB\n",
      "[epoch ? step 1/5] alloc=19MB reserved=9714MB\n",
      "[epoch ? step 5/5] alloc=19MB reserved=9714MB\n",
      "[epoch 3/4] alloc=18MB peak=22MB\n",
      "[epoch ? step 1/5] alloc=19MB reserved=9714MB\n",
      "[epoch ? step 5/5] alloc=19MB reserved=9714MB\n",
      "[epoch 4/4] alloc=18MB peak=22MB\n"
     ]
    },
    {
     "name": "stderr",
     "output_type": "stream",
     "text": [
      "[I 2025-08-20 10:59:41,897] A new study created in memory with name: no-name-27d32265-7cd2-42ed-b44f-fb350ca911e2\n",
      "  0%|          | 0/10 [00:20<?, ?it/s]"
     ]
    },
    {
     "name": "stdout",
     "output_type": "stream",
     "text": [
      "[epoch ? step 1/25] alloc=20MB reserved=9714MB\n",
      "[epoch ? step 5/25] alloc=20MB reserved=9714MB\n",
      "[epoch ? step 10/25] alloc=20MB reserved=9714MB\n",
      "[epoch ? step 15/25] alloc=20MB reserved=9714MB\n",
      "[epoch ? step 20/25] alloc=20MB reserved=9714MB\n",
      "[epoch ? step 25/25] alloc=20MB reserved=9714MB\n",
      "[epoch 1/9] alloc=19MB peak=23MB\n"
     ]
    },
    {
     "name": "stderr",
     "output_type": "stream",
     "text": [
      "  0%|          | 0/10 [00:20<?, ?it/s]"
     ]
    },
    {
     "name": "stdout",
     "output_type": "stream",
     "text": [
      "[epoch ? step 1/25] alloc=20MB reserved=9714MB\n",
      "[epoch ? step 5/25] alloc=20MB reserved=9714MB\n",
      "[epoch ? step 10/25] alloc=20MB reserved=9714MB\n",
      "[epoch ? step 15/25] alloc=20MB reserved=9714MB\n"
     ]
    },
    {
     "name": "stderr",
     "output_type": "stream",
     "text": [
      "  0%|          | 0/10 [00:20<?, ?it/s]"
     ]
    },
    {
     "name": "stdout",
     "output_type": "stream",
     "text": [
      "[epoch ? step 20/25] alloc=20MB reserved=9714MB\n",
      "[epoch ? step 25/25] alloc=20MB reserved=9714MB\n",
      "[epoch 2/9] alloc=19MB peak=23MB\n"
     ]
    },
    {
     "name": "stderr",
     "output_type": "stream",
     "text": [
      "  0%|          | 0/10 [00:20<?, ?it/s]"
     ]
    },
    {
     "name": "stdout",
     "output_type": "stream",
     "text": [
      "[epoch ? step 1/25] alloc=20MB reserved=9714MB\n",
      "[epoch ? step 5/25] alloc=20MB reserved=9714MB\n",
      "[epoch ? step 10/25] alloc=20MB reserved=9714MB\n",
      "[epoch ? step 15/25] alloc=20MB reserved=9714MB\n"
     ]
    },
    {
     "name": "stderr",
     "output_type": "stream",
     "text": [
      "  0%|          | 0/10 [00:20<?, ?it/s]"
     ]
    },
    {
     "name": "stdout",
     "output_type": "stream",
     "text": [
      "[epoch ? step 20/25] alloc=20MB reserved=9714MB\n",
      "[epoch ? step 25/25] alloc=20MB reserved=9714MB\n",
      "[epoch 3/9] alloc=19MB peak=23MB\n"
     ]
    },
    {
     "name": "stderr",
     "output_type": "stream",
     "text": [
      "  0%|          | 0/10 [00:20<?, ?it/s]"
     ]
    },
    {
     "name": "stdout",
     "output_type": "stream",
     "text": [
      "[epoch ? step 1/25] alloc=20MB reserved=9714MB\n",
      "[epoch ? step 5/25] alloc=20MB reserved=9714MB\n"
     ]
    },
    {
     "name": "stderr",
     "output_type": "stream",
     "text": [
      "  0%|          | 0/10 [00:20<?, ?it/s]"
     ]
    },
    {
     "name": "stdout",
     "output_type": "stream",
     "text": [
      "[epoch ? step 10/25] alloc=20MB reserved=9714MB\n",
      "[epoch ? step 15/25] alloc=20MB reserved=9714MB\n"
     ]
    },
    {
     "name": "stderr",
     "output_type": "stream",
     "text": [
      "  0%|          | 0/10 [00:20<?, ?it/s]"
     ]
    },
    {
     "name": "stdout",
     "output_type": "stream",
     "text": [
      "[epoch ? step 20/25] alloc=20MB reserved=9714MB\n",
      "[epoch ? step 25/25] alloc=20MB reserved=9714MB\n",
      "[epoch 4/9] alloc=19MB peak=23MB\n"
     ]
    },
    {
     "name": "stderr",
     "output_type": "stream",
     "text": [
      "  0%|          | 0/10 [00:20<?, ?it/s]"
     ]
    },
    {
     "name": "stdout",
     "output_type": "stream",
     "text": [
      "[epoch ? step 1/25] alloc=20MB reserved=9714MB\n",
      "[epoch ? step 5/25] alloc=20MB reserved=9714MB\n",
      "[epoch ? step 10/25] alloc=20MB reserved=9714MB\n"
     ]
    },
    {
     "name": "stderr",
     "output_type": "stream",
     "text": [
      "  0%|          | 0/10 [00:20<?, ?it/s]"
     ]
    },
    {
     "name": "stdout",
     "output_type": "stream",
     "text": [
      "[epoch ? step 15/25] alloc=20MB reserved=9714MB\n",
      "[epoch ? step 20/25] alloc=20MB reserved=9714MB\n"
     ]
    },
    {
     "name": "stderr",
     "output_type": "stream",
     "text": [
      "  0%|          | 0/10 [00:20<?, ?it/s]"
     ]
    },
    {
     "name": "stdout",
     "output_type": "stream",
     "text": [
      "[epoch ? step 25/25] alloc=20MB reserved=9714MB\n",
      "[epoch 5/9] alloc=19MB peak=23MB\n"
     ]
    },
    {
     "name": "stderr",
     "output_type": "stream",
     "text": [
      "  0%|          | 0/10 [00:20<?, ?it/s]"
     ]
    },
    {
     "name": "stdout",
     "output_type": "stream",
     "text": [
      "[epoch ? step 1/25] alloc=20MB reserved=9714MB\n"
     ]
    },
    {
     "name": "stderr",
     "output_type": "stream",
     "text": [
      "  0%|          | 0/10 [00:20<?, ?it/s]"
     ]
    },
    {
     "name": "stdout",
     "output_type": "stream",
     "text": [
      "[epoch ? step 5/25] alloc=20MB reserved=9714MB\n"
     ]
    },
    {
     "name": "stderr",
     "output_type": "stream",
     "text": [
      "  0%|          | 0/10 [00:21<?, ?it/s]"
     ]
    },
    {
     "name": "stdout",
     "output_type": "stream",
     "text": [
      "[epoch ? step 10/25] alloc=20MB reserved=9714MB\n",
      "[epoch ? step 15/25] alloc=20MB reserved=9714MB\n"
     ]
    },
    {
     "name": "stderr",
     "output_type": "stream",
     "text": [
      "  0%|          | 0/10 [00:21<?, ?it/s]"
     ]
    },
    {
     "name": "stdout",
     "output_type": "stream",
     "text": [
      "[epoch ? step 20/25] alloc=20MB reserved=9714MB\n",
      "[epoch ? step 25/25] alloc=20MB reserved=9714MB\n",
      "[epoch 6/9] alloc=19MB peak=23MB\n"
     ]
    },
    {
     "name": "stderr",
     "output_type": "stream",
     "text": [
      "  0%|          | 0/10 [00:21<?, ?it/s]"
     ]
    },
    {
     "name": "stdout",
     "output_type": "stream",
     "text": [
      "[epoch ? step 1/25] alloc=20MB reserved=9714MB\n",
      "[epoch ? step 5/25] alloc=20MB reserved=9714MB\n"
     ]
    },
    {
     "name": "stderr",
     "output_type": "stream",
     "text": [
      "  0%|          | 0/10 [00:21<?, ?it/s]"
     ]
    },
    {
     "name": "stdout",
     "output_type": "stream",
     "text": [
      "[epoch ? step 10/25] alloc=20MB reserved=9714MB\n",
      "[epoch ? step 15/25] alloc=20MB reserved=9714MB\n"
     ]
    },
    {
     "name": "stderr",
     "output_type": "stream",
     "text": [
      "  0%|          | 0/10 [00:21<?, ?it/s]"
     ]
    },
    {
     "name": "stdout",
     "output_type": "stream",
     "text": [
      "[epoch ? step 20/25] alloc=20MB reserved=9714MB\n"
     ]
    },
    {
     "name": "stderr",
     "output_type": "stream",
     "text": [
      "  0%|          | 0/10 [00:21<?, ?it/s]"
     ]
    },
    {
     "name": "stdout",
     "output_type": "stream",
     "text": [
      "[epoch ? step 25/25] alloc=20MB reserved=9714MB\n",
      "[epoch 7/9] alloc=19MB peak=23MB\n"
     ]
    },
    {
     "name": "stderr",
     "output_type": "stream",
     "text": [
      "  0%|          | 0/10 [00:21<?, ?it/s]"
     ]
    },
    {
     "name": "stdout",
     "output_type": "stream",
     "text": [
      "[epoch ? step 1/25] alloc=20MB reserved=9714MB\n"
     ]
    },
    {
     "name": "stderr",
     "output_type": "stream",
     "text": [
      "  0%|          | 0/10 [00:21<?, ?it/s]"
     ]
    },
    {
     "name": "stdout",
     "output_type": "stream",
     "text": [
      "[epoch ? step 5/25] alloc=20MB reserved=9714MB\n"
     ]
    },
    {
     "name": "stderr",
     "output_type": "stream",
     "text": [
      "  0%|          | 0/10 [00:21<?, ?it/s]"
     ]
    },
    {
     "name": "stdout",
     "output_type": "stream",
     "text": [
      "[epoch ? step 10/25] alloc=20MB reserved=9714MB\n",
      "[epoch ? step 15/25] alloc=20MB reserved=9714MB\n"
     ]
    },
    {
     "name": "stderr",
     "output_type": "stream",
     "text": [
      "  0%|          | 0/10 [00:21<?, ?it/s]"
     ]
    },
    {
     "name": "stdout",
     "output_type": "stream",
     "text": [
      "[epoch ? step 20/25] alloc=20MB reserved=9714MB\n",
      "[epoch ? step 25/25] alloc=20MB reserved=9714MB\n",
      "[epoch 8/9] alloc=19MB peak=23MB\n"
     ]
    },
    {
     "name": "stderr",
     "output_type": "stream",
     "text": [
      "  0%|          | 0/10 [00:21<?, ?it/s]"
     ]
    },
    {
     "name": "stdout",
     "output_type": "stream",
     "text": [
      "[epoch ? step 1/25] alloc=20MB reserved=9714MB\n",
      "[epoch ? step 5/25] alloc=20MB reserved=9714MB\n"
     ]
    },
    {
     "name": "stderr",
     "output_type": "stream",
     "text": [
      "  0%|          | 0/10 [00:21<?, ?it/s]"
     ]
    },
    {
     "name": "stdout",
     "output_type": "stream",
     "text": [
      "[epoch ? step 10/25] alloc=20MB reserved=9714MB\n",
      "[epoch ? step 15/25] alloc=20MB reserved=9714MB\n"
     ]
    },
    {
     "name": "stderr",
     "output_type": "stream",
     "text": [
      "                                      \r"
     ]
    },
    {
     "name": "stdout",
     "output_type": "stream",
     "text": [
      "[epoch ? step 20/25] alloc=20MB reserved=9714MB\n"
     ]
    },
    {
     "name": "stderr",
     "output_type": "stream",
     "text": [
      "  0%|          | 0/10 [00:21<?, ?it/s]"
     ]
    },
    {
     "name": "stdout",
     "output_type": "stream",
     "text": [
      "[epoch ? step 25/25] alloc=20MB reserved=9714MB\n",
      "[epoch 9/9] alloc=19MB peak=23MB\n"
     ]
    },
    {
     "name": "stderr",
     "output_type": "stream",
     "text": [
      "Best trial: 0. Best value: 0.00408808:  10%|█         | 1/10 [00:22<03:25, 22.87s/it]"
     ]
    },
    {
     "name": "stdout",
     "output_type": "stream",
     "text": [
      "[I 2025-08-20 11:00:04,762] Trial 0 finished with value: 0.004088083119638958 and parameters: {'lr': 0.006110114471666909, 'num_epochs': 9}. Best is trial 0 with value: 0.004088083119638958.\n"
     ]
    },
    {
     "name": "stderr",
     "output_type": "stream",
     "text": [
      "Best trial: 0. Best value: 0.00408808:  10%|█         | 1/10 [00:43<03:25, 22.87s/it]"
     ]
    },
    {
     "name": "stdout",
     "output_type": "stream",
     "text": [
      "[epoch ? step 1/25] alloc=20MB reserved=9714MB\n",
      "[epoch ? step 5/25] alloc=20MB reserved=9714MB\n",
      "[epoch ? step 10/25] alloc=20MB reserved=9714MB\n",
      "[epoch ? step 15/25] alloc=20MB reserved=9714MB\n",
      "[epoch ? step 20/25] alloc=20MB reserved=9714MB\n",
      "[epoch ? step 25/25] alloc=20MB reserved=9714MB\n",
      "[epoch 1/5] alloc=19MB peak=23MB\n"
     ]
    },
    {
     "name": "stderr",
     "output_type": "stream",
     "text": [
      "Best trial: 0. Best value: 0.00408808:  10%|█         | 1/10 [00:43<03:25, 22.87s/it]"
     ]
    },
    {
     "name": "stdout",
     "output_type": "stream",
     "text": [
      "[epoch ? step 1/25] alloc=20MB reserved=9714MB\n",
      "[epoch ? step 5/25] alloc=20MB reserved=9714MB\n",
      "[epoch ? step 10/25] alloc=20MB reserved=9714MB\n",
      "[epoch ? step 15/25] alloc=20MB reserved=9714MB\n",
      "[epoch ? step 20/25] alloc=20MB reserved=9714MB\n"
     ]
    },
    {
     "name": "stderr",
     "output_type": "stream",
     "text": [
      "Best trial: 0. Best value: 0.00408808:  10%|█         | 1/10 [00:43<03:25, 22.87s/it]"
     ]
    },
    {
     "name": "stdout",
     "output_type": "stream",
     "text": [
      "[epoch ? step 25/25] alloc=20MB reserved=9714MB\n",
      "[epoch 2/5] alloc=19MB peak=23MB\n"
     ]
    },
    {
     "name": "stderr",
     "output_type": "stream",
     "text": [
      "Best trial: 0. Best value: 0.00408808:  10%|█         | 1/10 [00:43<03:25, 22.87s/it]"
     ]
    },
    {
     "name": "stdout",
     "output_type": "stream",
     "text": [
      "[epoch ? step 1/25] alloc=20MB reserved=9714MB\n",
      "[epoch ? step 5/25] alloc=20MB reserved=9714MB\n",
      "[epoch ? step 10/25] alloc=20MB reserved=9714MB\n",
      "[epoch ? step 15/25] alloc=20MB reserved=9714MB\n",
      "[epoch ? step 20/25] alloc=20MB reserved=9714MB\n"
     ]
    },
    {
     "name": "stderr",
     "output_type": "stream",
     "text": [
      "Best trial: 0. Best value: 0.00408808:  10%|█         | 1/10 [00:43<03:25, 22.87s/it]"
     ]
    },
    {
     "name": "stdout",
     "output_type": "stream",
     "text": [
      "[epoch ? step 25/25] alloc=20MB reserved=9714MB\n",
      "[epoch 3/5] alloc=19MB peak=23MB\n"
     ]
    },
    {
     "name": "stderr",
     "output_type": "stream",
     "text": [
      "Best trial: 0. Best value: 0.00408808:  10%|█         | 1/10 [00:43<03:25, 22.87s/it]"
     ]
    },
    {
     "name": "stdout",
     "output_type": "stream",
     "text": [
      "[epoch ? step 1/25] alloc=20MB reserved=9714MB\n",
      "[epoch ? step 5/25] alloc=20MB reserved=9714MB\n",
      "[epoch ? step 10/25] alloc=20MB reserved=9714MB\n",
      "[epoch ? step 15/25] alloc=20MB reserved=9714MB\n"
     ]
    },
    {
     "name": "stderr",
     "output_type": "stream",
     "text": [
      "Best trial: 0. Best value: 0.00408808:  10%|█         | 1/10 [00:43<03:25, 22.87s/it]"
     ]
    },
    {
     "name": "stdout",
     "output_type": "stream",
     "text": [
      "[epoch ? step 20/25] alloc=20MB reserved=9714MB\n"
     ]
    },
    {
     "name": "stderr",
     "output_type": "stream",
     "text": [
      "Best trial: 0. Best value: 0.00408808:  10%|█         | 1/10 [00:43<03:25, 22.87s/it]"
     ]
    },
    {
     "name": "stdout",
     "output_type": "stream",
     "text": [
      "[epoch ? step 25/25] alloc=20MB reserved=9714MB\n",
      "[epoch 4/5] alloc=19MB peak=23MB\n"
     ]
    },
    {
     "name": "stderr",
     "output_type": "stream",
     "text": [
      "Best trial: 0. Best value: 0.00408808:  10%|█         | 1/10 [00:43<03:25, 22.87s/it]"
     ]
    },
    {
     "name": "stdout",
     "output_type": "stream",
     "text": [
      "[epoch ? step 1/25] alloc=20MB reserved=9714MB\n",
      "[epoch ? step 5/25] alloc=20MB reserved=9714MB\n",
      "[epoch ? step 10/25] alloc=20MB reserved=9714MB\n",
      "[epoch ? step 15/25] alloc=20MB reserved=9714MB\n"
     ]
    },
    {
     "name": "stderr",
     "output_type": "stream",
     "text": [
      "Best trial: 0. Best value: 0.00408808:  10%|█         | 1/10 [00:43<03:25, 22.87s/it]"
     ]
    },
    {
     "name": "stdout",
     "output_type": "stream",
     "text": [
      "[epoch ? step 20/25] alloc=20MB reserved=9714MB\n",
      "[epoch ? step 25/25] alloc=20MB reserved=9714MB\n",
      "[epoch 5/5] alloc=19MB peak=23MB\n"
     ]
    },
    {
     "name": "stderr",
     "output_type": "stream",
     "text": [
      "Best trial: 1. Best value: 0.123479:  20%|██        | 2/10 [00:44<02:58, 22.32s/it]  "
     ]
    },
    {
     "name": "stdout",
     "output_type": "stream",
     "text": [
      "[I 2025-08-20 11:00:26,700] Trial 1 finished with value: 0.12347927916005907 and parameters: {'lr': 0.00120054715403662, 'num_epochs': 5}. Best is trial 1 with value: 0.12347927916005907.\n"
     ]
    },
    {
     "name": "stderr",
     "output_type": "stream",
     "text": [
      "Best trial: 1. Best value: 0.123479:  20%|██        | 2/10 [01:05<02:58, 22.32s/it]"
     ]
    },
    {
     "name": "stdout",
     "output_type": "stream",
     "text": [
      "[epoch ? step 1/25] alloc=20MB reserved=9714MB\n",
      "[epoch ? step 5/25] alloc=20MB reserved=9714MB\n",
      "[epoch ? step 10/25] alloc=20MB reserved=9714MB\n",
      "[epoch ? step 15/25] alloc=20MB reserved=9714MB\n",
      "[epoch ? step 20/25] alloc=20MB reserved=9714MB\n",
      "[epoch ? step 25/25] alloc=20MB reserved=9714MB\n",
      "[epoch 1/1] alloc=19MB peak=23MB\n"
     ]
    },
    {
     "name": "stderr",
     "output_type": "stream",
     "text": [
      "Best trial: 2. Best value: 0.127729:  30%|███       | 3/10 [01:06<02:33, 21.96s/it]"
     ]
    },
    {
     "name": "stdout",
     "output_type": "stream",
     "text": [
      "[I 2025-08-20 11:00:48,223] Trial 2 finished with value: 0.12772926185143915 and parameters: {'lr': 0.0010195129140882042, 'num_epochs': 1}. Best is trial 2 with value: 0.12772926185143915.\n"
     ]
    },
    {
     "name": "stderr",
     "output_type": "stream",
     "text": [
      "Best trial: 2. Best value: 0.127729:  30%|███       | 3/10 [01:25<02:33, 21.96s/it]"
     ]
    },
    {
     "name": "stdout",
     "output_type": "stream",
     "text": [
      "[epoch ? step 1/25] alloc=20MB reserved=9714MB\n",
      "[epoch ? step 5/25] alloc=20MB reserved=9714MB\n",
      "[epoch ? step 10/25] alloc=20MB reserved=9714MB\n",
      "[epoch ? step 15/25] alloc=20MB reserved=9714MB\n",
      "[epoch ? step 20/25] alloc=20MB reserved=9714MB\n",
      "[epoch ? step 25/25] alloc=20MB reserved=9714MB\n",
      "[epoch 1/3] alloc=19MB peak=23MB\n"
     ]
    },
    {
     "name": "stderr",
     "output_type": "stream",
     "text": [
      "Best trial: 2. Best value: 0.127729:  30%|███       | 3/10 [01:26<02:33, 21.96s/it]"
     ]
    },
    {
     "name": "stdout",
     "output_type": "stream",
     "text": [
      "[epoch ? step 1/25] alloc=20MB reserved=9714MB\n",
      "[epoch ? step 5/25] alloc=20MB reserved=9714MB\n",
      "[epoch ? step 10/25] alloc=20MB reserved=9714MB\n",
      "[epoch ? step 15/25] alloc=20MB reserved=9714MB\n",
      "[epoch ? step 20/25] alloc=20MB reserved=9714MB\n",
      "[epoch ? step 25/25] alloc=20MB reserved=9714MB\n",
      "[epoch 2/3] alloc=19MB peak=23MB\n"
     ]
    },
    {
     "name": "stderr",
     "output_type": "stream",
     "text": [
      "Best trial: 2. Best value: 0.127729:  30%|███       | 3/10 [01:26<02:33, 21.96s/it]"
     ]
    },
    {
     "name": "stdout",
     "output_type": "stream",
     "text": [
      "[epoch ? step 1/25] alloc=20MB reserved=9714MB\n",
      "[epoch ? step 5/25] alloc=20MB reserved=9714MB\n",
      "[epoch ? step 10/25] alloc=20MB reserved=9714MB\n",
      "[epoch ? step 15/25] alloc=20MB reserved=9714MB\n",
      "[epoch ? step 20/25] alloc=20MB reserved=9714MB\n",
      "[epoch ? step 25/25] alloc=20MB reserved=9714MB\n",
      "[epoch 3/3] alloc=19MB peak=23MB\n"
     ]
    },
    {
     "name": "stderr",
     "output_type": "stream",
     "text": [
      "Best trial: 2. Best value: 0.127729:  40%|████      | 4/10 [01:27<02:09, 21.54s/it]"
     ]
    },
    {
     "name": "stdout",
     "output_type": "stream",
     "text": [
      "[I 2025-08-20 11:01:09,123] Trial 3 finished with value: 0.12723917130187964 and parameters: {'lr': 0.0006127738048752158, 'num_epochs': 3}. Best is trial 2 with value: 0.12772926185143915.\n"
     ]
    },
    {
     "name": "stderr",
     "output_type": "stream",
     "text": [
      "Best trial: 2. Best value: 0.127729:  40%|████      | 4/10 [01:46<02:09, 21.54s/it]"
     ]
    },
    {
     "name": "stdout",
     "output_type": "stream",
     "text": [
      "[epoch ? step 1/25] alloc=20MB reserved=9714MB\n",
      "[epoch ? step 5/25] alloc=20MB reserved=9714MB\n",
      "[epoch ? step 10/25] alloc=20MB reserved=9714MB\n",
      "[epoch ? step 15/25] alloc=20MB reserved=9714MB\n",
      "[epoch ? step 20/25] alloc=20MB reserved=9714MB\n",
      "[epoch ? step 25/25] alloc=20MB reserved=9714MB\n",
      "[epoch 1/2] alloc=19MB peak=23MB\n"
     ]
    },
    {
     "name": "stderr",
     "output_type": "stream",
     "text": [
      "Best trial: 2. Best value: 0.127729:  40%|████      | 4/10 [01:46<02:09, 21.54s/it]"
     ]
    },
    {
     "name": "stdout",
     "output_type": "stream",
     "text": [
      "[epoch ? step 1/25] alloc=20MB reserved=9714MB\n",
      "[epoch ? step 5/25] alloc=20MB reserved=9714MB\n",
      "[epoch ? step 10/25] alloc=20MB reserved=9714MB\n",
      "[epoch ? step 15/25] alloc=20MB reserved=9714MB\n"
     ]
    },
    {
     "name": "stderr",
     "output_type": "stream",
     "text": [
      "Best trial: 2. Best value: 0.127729:  40%|████      | 4/10 [01:46<02:09, 21.54s/it]"
     ]
    },
    {
     "name": "stdout",
     "output_type": "stream",
     "text": [
      "[epoch ? step 20/25] alloc=20MB reserved=9714MB\n",
      "[epoch ? step 25/25] alloc=20MB reserved=9714MB\n",
      "[epoch 2/2] alloc=19MB peak=23MB\n"
     ]
    },
    {
     "name": "stderr",
     "output_type": "stream",
     "text": [
      "Best trial: 4. Best value: 0.128348:  50%|█████     | 5/10 [01:48<01:46, 21.28s/it]"
     ]
    },
    {
     "name": "stdout",
     "output_type": "stream",
     "text": [
      "[I 2025-08-20 11:01:29,933] Trial 4 finished with value: 0.12834802027837242 and parameters: {'lr': 0.00022003841286405263, 'num_epochs': 2}. Best is trial 4 with value: 0.12834802027837242.\n"
     ]
    },
    {
     "name": "stderr",
     "output_type": "stream",
     "text": [
      "Best trial: 4. Best value: 0.128348:  50%|█████     | 5/10 [02:07<01:46, 21.28s/it]"
     ]
    },
    {
     "name": "stdout",
     "output_type": "stream",
     "text": [
      "[epoch ? step 1/25] alloc=20MB reserved=9714MB\n",
      "[epoch ? step 5/25] alloc=20MB reserved=9714MB\n",
      "[epoch ? step 10/25] alloc=20MB reserved=9714MB\n",
      "[epoch ? step 15/25] alloc=20MB reserved=9714MB\n",
      "[epoch ? step 20/25] alloc=20MB reserved=9714MB\n",
      "[epoch ? step 25/25] alloc=20MB reserved=9714MB\n",
      "[epoch 1/5] alloc=19MB peak=23MB\n"
     ]
    },
    {
     "name": "stderr",
     "output_type": "stream",
     "text": [
      "Best trial: 4. Best value: 0.128348:  50%|█████     | 5/10 [02:07<01:46, 21.28s/it]"
     ]
    },
    {
     "name": "stdout",
     "output_type": "stream",
     "text": [
      "[epoch ? step 1/25] alloc=20MB reserved=9714MB\n",
      "[epoch ? step 5/25] alloc=20MB reserved=9714MB\n",
      "[epoch ? step 10/25] alloc=20MB reserved=9714MB\n",
      "[epoch ? step 15/25] alloc=20MB reserved=9714MB\n"
     ]
    },
    {
     "name": "stderr",
     "output_type": "stream",
     "text": [
      "Best trial: 4. Best value: 0.128348:  50%|█████     | 5/10 [02:07<01:46, 21.28s/it]"
     ]
    },
    {
     "name": "stdout",
     "output_type": "stream",
     "text": [
      "[epoch ? step 20/25] alloc=20MB reserved=9714MB\n",
      "[epoch ? step 25/25] alloc=20MB reserved=9714MB\n",
      "[epoch 2/5] alloc=19MB peak=23MB\n"
     ]
    },
    {
     "name": "stderr",
     "output_type": "stream",
     "text": [
      "Best trial: 4. Best value: 0.128348:  50%|█████     | 5/10 [02:07<01:46, 21.28s/it]"
     ]
    },
    {
     "name": "stdout",
     "output_type": "stream",
     "text": [
      "[epoch ? step 1/25] alloc=20MB reserved=9714MB\n",
      "[epoch ? step 5/25] alloc=20MB reserved=9714MB\n",
      "[epoch ? step 10/25] alloc=20MB reserved=9714MB\n",
      "[epoch ? step 15/25] alloc=20MB reserved=9714MB\n"
     ]
    },
    {
     "name": "stderr",
     "output_type": "stream",
     "text": [
      "Best trial: 4. Best value: 0.128348:  50%|█████     | 5/10 [02:07<01:46, 21.28s/it]"
     ]
    },
    {
     "name": "stdout",
     "output_type": "stream",
     "text": [
      "[epoch ? step 20/25] alloc=20MB reserved=9714MB\n",
      "[epoch ? step 25/25] alloc=20MB reserved=9714MB\n",
      "[epoch 3/5] alloc=19MB peak=23MB\n"
     ]
    },
    {
     "name": "stderr",
     "output_type": "stream",
     "text": [
      "Best trial: 4. Best value: 0.128348:  50%|█████     | 5/10 [02:07<01:46, 21.28s/it]"
     ]
    },
    {
     "name": "stdout",
     "output_type": "stream",
     "text": [
      "[epoch ? step 1/25] alloc=20MB reserved=9714MB\n",
      "[epoch ? step 5/25] alloc=20MB reserved=9714MB\n",
      "[epoch ? step 10/25] alloc=20MB reserved=9714MB\n"
     ]
    },
    {
     "name": "stderr",
     "output_type": "stream",
     "text": [
      "Best trial: 4. Best value: 0.128348:  50%|█████     | 5/10 [02:07<01:46, 21.28s/it]"
     ]
    },
    {
     "name": "stdout",
     "output_type": "stream",
     "text": [
      "[epoch ? step 15/25] alloc=20MB reserved=9714MB\n"
     ]
    },
    {
     "name": "stderr",
     "output_type": "stream",
     "text": [
      "Best trial: 4. Best value: 0.128348:  50%|█████     | 5/10 [02:07<01:46, 21.28s/it]"
     ]
    },
    {
     "name": "stdout",
     "output_type": "stream",
     "text": [
      "[epoch ? step 20/25] alloc=20MB reserved=9714MB\n",
      "[epoch ? step 25/25] alloc=20MB reserved=9714MB\n",
      "[epoch 4/5] alloc=19MB peak=23MB\n"
     ]
    },
    {
     "name": "stderr",
     "output_type": "stream",
     "text": [
      "Best trial: 4. Best value: 0.128348:  50%|█████     | 5/10 [02:07<01:46, 21.28s/it]"
     ]
    },
    {
     "name": "stdout",
     "output_type": "stream",
     "text": [
      "[epoch ? step 1/25] alloc=20MB reserved=9714MB\n",
      "[epoch ? step 5/25] alloc=20MB reserved=9714MB\n",
      "[epoch ? step 10/25] alloc=20MB reserved=9714MB\n"
     ]
    },
    {
     "name": "stderr",
     "output_type": "stream",
     "text": [
      "Best trial: 4. Best value: 0.128348:  50%|█████     | 5/10 [02:08<01:46, 21.28s/it]"
     ]
    },
    {
     "name": "stdout",
     "output_type": "stream",
     "text": [
      "[epoch ? step 15/25] alloc=20MB reserved=9714MB\n",
      "[epoch ? step 20/25] alloc=20MB reserved=9714MB\n"
     ]
    },
    {
     "name": "stderr",
     "output_type": "stream",
     "text": [
      "Best trial: 4. Best value: 0.128348:  50%|█████     | 5/10 [02:08<01:46, 21.28s/it]"
     ]
    },
    {
     "name": "stdout",
     "output_type": "stream",
     "text": [
      "[epoch ? step 25/25] alloc=20MB reserved=9714MB\n",
      "[epoch 5/5] alloc=19MB peak=23MB\n"
     ]
    },
    {
     "name": "stderr",
     "output_type": "stream",
     "text": [
      "Best trial: 4. Best value: 0.128348:  60%|██████    | 6/10 [02:09<01:24, 21.20s/it]"
     ]
    },
    {
     "name": "stdout",
     "output_type": "stream",
     "text": [
      "[I 2025-08-20 11:01:50,973] Trial 5 finished with value: 0.04869703128693274 and parameters: {'lr': 0.006968603563395147, 'num_epochs': 5}. Best is trial 4 with value: 0.12834802027837242.\n"
     ]
    },
    {
     "name": "stderr",
     "output_type": "stream",
     "text": [
      "Best trial: 4. Best value: 0.128348:  60%|██████    | 6/10 [02:28<01:24, 21.20s/it]"
     ]
    },
    {
     "name": "stdout",
     "output_type": "stream",
     "text": [
      "[epoch ? step 1/25] alloc=20MB reserved=9714MB\n",
      "[epoch ? step 5/25] alloc=20MB reserved=9714MB\n",
      "[epoch ? step 10/25] alloc=20MB reserved=9714MB\n",
      "[epoch ? step 15/25] alloc=20MB reserved=9714MB\n",
      "[epoch ? step 20/25] alloc=20MB reserved=9714MB\n",
      "[epoch ? step 25/25] alloc=20MB reserved=9714MB\n",
      "[epoch 1/5] alloc=19MB peak=23MB\n"
     ]
    },
    {
     "name": "stderr",
     "output_type": "stream",
     "text": [
      "Best trial: 4. Best value: 0.128348:  60%|██████    | 6/10 [02:28<01:24, 21.20s/it]"
     ]
    },
    {
     "name": "stdout",
     "output_type": "stream",
     "text": [
      "[epoch ? step 1/25] alloc=20MB reserved=9714MB\n",
      "[epoch ? step 5/25] alloc=20MB reserved=9714MB\n",
      "[epoch ? step 10/25] alloc=20MB reserved=9714MB\n",
      "[epoch ? step 15/25] alloc=20MB reserved=9714MB\n",
      "[epoch ? step 20/25] alloc=20MB reserved=9714MB\n",
      "[epoch ? step 25/25] alloc=20MB reserved=9714MB\n",
      "[epoch 2/5] alloc=19MB peak=23MB\n"
     ]
    },
    {
     "name": "stderr",
     "output_type": "stream",
     "text": [
      "Best trial: 4. Best value: 0.128348:  60%|██████    | 6/10 [02:28<01:24, 21.20s/it]"
     ]
    },
    {
     "name": "stdout",
     "output_type": "stream",
     "text": [
      "[epoch ? step 1/25] alloc=20MB reserved=9714MB\n",
      "[epoch ? step 5/25] alloc=20MB reserved=9714MB\n",
      "[epoch ? step 10/25] alloc=20MB reserved=9714MB\n",
      "[epoch ? step 15/25] alloc=20MB reserved=9714MB\n",
      "[epoch ? step 20/25] alloc=20MB reserved=9714MB\n",
      "[epoch ? step 25/25] alloc=20MB reserved=9714MB\n",
      "[epoch 3/5] alloc=19MB peak=23MB\n"
     ]
    },
    {
     "name": "stderr",
     "output_type": "stream",
     "text": [
      "Best trial: 4. Best value: 0.128348:  60%|██████    | 6/10 [02:28<01:24, 21.20s/it]"
     ]
    },
    {
     "name": "stdout",
     "output_type": "stream",
     "text": [
      "[epoch ? step 1/25] alloc=20MB reserved=9714MB\n",
      "[epoch ? step 5/25] alloc=20MB reserved=9714MB\n",
      "[epoch ? step 10/25] alloc=20MB reserved=9714MB\n",
      "[epoch ? step 15/25] alloc=20MB reserved=9714MB\n",
      "[epoch ? step 20/25] alloc=20MB reserved=9714MB\n"
     ]
    },
    {
     "name": "stderr",
     "output_type": "stream",
     "text": [
      "Best trial: 4. Best value: 0.128348:  60%|██████    | 6/10 [02:29<01:24, 21.20s/it]"
     ]
    },
    {
     "name": "stdout",
     "output_type": "stream",
     "text": [
      "[epoch ? step 25/25] alloc=20MB reserved=9714MB\n",
      "[epoch 4/5] alloc=19MB peak=23MB\n"
     ]
    },
    {
     "name": "stderr",
     "output_type": "stream",
     "text": [
      "Best trial: 4. Best value: 0.128348:  60%|██████    | 6/10 [02:29<01:24, 21.20s/it]"
     ]
    },
    {
     "name": "stdout",
     "output_type": "stream",
     "text": [
      "[epoch ? step 1/25] alloc=20MB reserved=9714MB\n",
      "[epoch ? step 5/25] alloc=20MB reserved=9714MB\n",
      "[epoch ? step 10/25] alloc=20MB reserved=9714MB\n",
      "[epoch ? step 15/25] alloc=20MB reserved=9714MB\n",
      "[epoch ? step 20/25] alloc=20MB reserved=9714MB\n",
      "[epoch ? step 25/25] alloc=20MB reserved=9714MB\n",
      "[epoch 5/5] alloc=19MB peak=23MB\n"
     ]
    },
    {
     "name": "stderr",
     "output_type": "stream",
     "text": [
      "Best trial: 4. Best value: 0.128348:  70%|███████   | 7/10 [02:30<01:03, 21.17s/it]"
     ]
    },
    {
     "name": "stdout",
     "output_type": "stream",
     "text": [
      "[I 2025-08-20 11:02:12,100] Trial 6 finished with value: 0.11407722386242616 and parameters: {'lr': 0.002083660393410668, 'num_epochs': 5}. Best is trial 4 with value: 0.12834802027837242.\n"
     ]
    },
    {
     "name": "stderr",
     "output_type": "stream",
     "text": [
      "Best trial: 4. Best value: 0.128348:  70%|███████   | 7/10 [02:49<01:03, 21.17s/it]"
     ]
    },
    {
     "name": "stdout",
     "output_type": "stream",
     "text": [
      "[epoch ? step 1/25] alloc=20MB reserved=9714MB\n",
      "[epoch ? step 5/25] alloc=20MB reserved=9714MB\n",
      "[epoch ? step 10/25] alloc=20MB reserved=9714MB\n",
      "[epoch ? step 15/25] alloc=20MB reserved=9714MB\n",
      "[epoch ? step 20/25] alloc=20MB reserved=9714MB\n",
      "[epoch ? step 25/25] alloc=20MB reserved=9714MB\n",
      "[epoch 1/9] alloc=19MB peak=23MB\n"
     ]
    },
    {
     "name": "stderr",
     "output_type": "stream",
     "text": [
      "Best trial: 4. Best value: 0.128348:  70%|███████   | 7/10 [02:49<01:03, 21.17s/it]"
     ]
    },
    {
     "name": "stdout",
     "output_type": "stream",
     "text": [
      "[epoch ? step 1/25] alloc=20MB reserved=9714MB\n",
      "[epoch ? step 5/25] alloc=20MB reserved=9714MB\n",
      "[epoch ? step 10/25] alloc=20MB reserved=9714MB\n",
      "[epoch ? step 15/25] alloc=20MB reserved=9714MB\n"
     ]
    },
    {
     "name": "stderr",
     "output_type": "stream",
     "text": [
      "Best trial: 4. Best value: 0.128348:  70%|███████   | 7/10 [02:49<01:03, 21.17s/it]"
     ]
    },
    {
     "name": "stdout",
     "output_type": "stream",
     "text": [
      "[epoch ? step 20/25] alloc=20MB reserved=9714MB\n",
      "[epoch ? step 25/25] alloc=20MB reserved=9714MB\n",
      "[epoch 2/9] alloc=19MB peak=23MB\n"
     ]
    },
    {
     "name": "stderr",
     "output_type": "stream",
     "text": [
      "Best trial: 4. Best value: 0.128348:  70%|███████   | 7/10 [02:50<01:03, 21.17s/it]"
     ]
    },
    {
     "name": "stdout",
     "output_type": "stream",
     "text": [
      "[epoch ? step 1/25] alloc=20MB reserved=9714MB\n",
      "[epoch ? step 5/25] alloc=20MB reserved=9714MB\n",
      "[epoch ? step 10/25] alloc=20MB reserved=9714MB\n",
      "[epoch ? step 15/25] alloc=20MB reserved=9714MB\n"
     ]
    },
    {
     "name": "stderr",
     "output_type": "stream",
     "text": [
      "Best trial: 4. Best value: 0.128348:  70%|███████   | 7/10 [02:50<01:03, 21.17s/it]"
     ]
    },
    {
     "name": "stdout",
     "output_type": "stream",
     "text": [
      "[epoch ? step 20/25] alloc=20MB reserved=9714MB\n",
      "[epoch ? step 25/25] alloc=20MB reserved=9714MB\n",
      "[epoch 3/9] alloc=19MB peak=23MB\n"
     ]
    },
    {
     "name": "stderr",
     "output_type": "stream",
     "text": [
      "Best trial: 4. Best value: 0.128348:  70%|███████   | 7/10 [02:50<01:03, 21.17s/it]"
     ]
    },
    {
     "name": "stdout",
     "output_type": "stream",
     "text": [
      "[epoch ? step 1/25] alloc=20MB reserved=9714MB\n",
      "[epoch ? step 5/25] alloc=20MB reserved=9714MB\n",
      "[epoch ? step 10/25] alloc=20MB reserved=9714MB\n"
     ]
    },
    {
     "name": "stderr",
     "output_type": "stream",
     "text": [
      "Best trial: 4. Best value: 0.128348:  70%|███████   | 7/10 [02:50<01:03, 21.17s/it]"
     ]
    },
    {
     "name": "stdout",
     "output_type": "stream",
     "text": [
      "[epoch ? step 15/25] alloc=20MB reserved=9714MB\n",
      "[epoch ? step 20/25] alloc=20MB reserved=9714MB\n"
     ]
    },
    {
     "name": "stderr",
     "output_type": "stream",
     "text": [
      "Best trial: 4. Best value: 0.128348:  70%|███████   | 7/10 [02:50<01:03, 21.17s/it]"
     ]
    },
    {
     "name": "stdout",
     "output_type": "stream",
     "text": [
      "[epoch ? step 25/25] alloc=20MB reserved=9714MB\n",
      "[epoch 4/9] alloc=19MB peak=23MB\n"
     ]
    },
    {
     "name": "stderr",
     "output_type": "stream",
     "text": [
      "Best trial: 4. Best value: 0.128348:  70%|███████   | 7/10 [02:50<01:03, 21.17s/it]"
     ]
    },
    {
     "name": "stdout",
     "output_type": "stream",
     "text": [
      "[epoch ? step 1/25] alloc=20MB reserved=9714MB\n",
      "[epoch ? step 5/25] alloc=20MB reserved=9714MB\n",
      "[epoch ? step 10/25] alloc=20MB reserved=9714MB\n"
     ]
    },
    {
     "name": "stderr",
     "output_type": "stream",
     "text": [
      "Best trial: 4. Best value: 0.128348:  70%|███████   | 7/10 [02:50<01:03, 21.17s/it]"
     ]
    },
    {
     "name": "stdout",
     "output_type": "stream",
     "text": [
      "[epoch ? step 15/25] alloc=20MB reserved=9714MB\n",
      "[epoch ? step 20/25] alloc=20MB reserved=9714MB\n"
     ]
    },
    {
     "name": "stderr",
     "output_type": "stream",
     "text": [
      "Best trial: 4. Best value: 0.128348:  70%|███████   | 7/10 [02:50<01:03, 21.17s/it]"
     ]
    },
    {
     "name": "stdout",
     "output_type": "stream",
     "text": [
      "[epoch ? step 25/25] alloc=20MB reserved=9714MB\n",
      "[epoch 5/9] alloc=19MB peak=23MB\n"
     ]
    },
    {
     "name": "stderr",
     "output_type": "stream",
     "text": [
      "Best trial: 4. Best value: 0.128348:  70%|███████   | 7/10 [02:50<01:03, 21.17s/it]"
     ]
    },
    {
     "name": "stdout",
     "output_type": "stream",
     "text": [
      "[epoch ? step 1/25] alloc=20MB reserved=9714MB\n",
      "[epoch ? step 5/25] alloc=20MB reserved=9714MB\n",
      "[epoch ? step 10/25] alloc=20MB reserved=9714MB\n"
     ]
    },
    {
     "name": "stderr",
     "output_type": "stream",
     "text": [
      "                                                                                   \r"
     ]
    },
    {
     "name": "stdout",
     "output_type": "stream",
     "text": [
      "[epoch ? step 15/25] alloc=20MB reserved=9714MB\n",
      "[epoch ? step 20/25] alloc=20MB reserved=9714MB\n"
     ]
    },
    {
     "name": "stderr",
     "output_type": "stream",
     "text": [
      "Best trial: 4. Best value: 0.128348:  70%|███████   | 7/10 [02:50<01:03, 21.17s/it]"
     ]
    },
    {
     "name": "stdout",
     "output_type": "stream",
     "text": [
      "[epoch ? step 25/25] alloc=20MB reserved=9714MB\n",
      "[epoch 6/9] alloc=19MB peak=23MB\n"
     ]
    },
    {
     "name": "stderr",
     "output_type": "stream",
     "text": [
      "Best trial: 4. Best value: 0.128348:  70%|███████   | 7/10 [02:50<01:03, 21.17s/it]"
     ]
    },
    {
     "name": "stdout",
     "output_type": "stream",
     "text": [
      "[epoch ? step 1/25] alloc=20MB reserved=9714MB\n",
      "[epoch ? step 5/25] alloc=20MB reserved=9714MB\n",
      "[epoch ? step 10/25] alloc=20MB reserved=9714MB\n"
     ]
    },
    {
     "name": "stderr",
     "output_type": "stream",
     "text": [
      "Best trial: 4. Best value: 0.128348:  70%|███████   | 7/10 [02:50<01:03, 21.17s/it]"
     ]
    },
    {
     "name": "stdout",
     "output_type": "stream",
     "text": [
      "[epoch ? step 15/25] alloc=20MB reserved=9714MB\n",
      "[epoch ? step 20/25] alloc=20MB reserved=9714MB\n",
      "[epoch ? step 25/25] alloc=20MB reserved=9714MB\n",
      "[epoch 7/9] alloc=19MB peak=23MB\n"
     ]
    },
    {
     "name": "stderr",
     "output_type": "stream",
     "text": [
      "Best trial: 4. Best value: 0.128348:  70%|███████   | 7/10 [02:50<01:03, 21.17s/it]"
     ]
    },
    {
     "name": "stdout",
     "output_type": "stream",
     "text": [
      "[epoch ? step 1/25] alloc=20MB reserved=9714MB\n"
     ]
    },
    {
     "name": "stderr",
     "output_type": "stream",
     "text": [
      "Best trial: 4. Best value: 0.128348:  70%|███████   | 7/10 [02:50<01:03, 21.17s/it]"
     ]
    },
    {
     "name": "stdout",
     "output_type": "stream",
     "text": [
      "[epoch ? step 5/25] alloc=20MB reserved=9714MB\n",
      "[epoch ? step 10/25] alloc=20MB reserved=9714MB\n",
      "[epoch ? step 15/25] alloc=20MB reserved=9714MB\n"
     ]
    },
    {
     "name": "stderr",
     "output_type": "stream",
     "text": [
      "Best trial: 4. Best value: 0.128348:  70%|███████   | 7/10 [02:50<01:03, 21.17s/it]"
     ]
    },
    {
     "name": "stdout",
     "output_type": "stream",
     "text": [
      "[epoch ? step 20/25] alloc=20MB reserved=9714MB\n",
      "[epoch ? step 25/25] alloc=20MB reserved=9714MB\n",
      "[epoch 8/9] alloc=19MB peak=23MB\n"
     ]
    },
    {
     "name": "stderr",
     "output_type": "stream",
     "text": [
      "Best trial: 4. Best value: 0.128348:  70%|███████   | 7/10 [02:50<01:03, 21.17s/it]"
     ]
    },
    {
     "name": "stdout",
     "output_type": "stream",
     "text": [
      "[epoch ? step 1/25] alloc=20MB reserved=9714MB\n"
     ]
    },
    {
     "name": "stderr",
     "output_type": "stream",
     "text": [
      "Best trial: 4. Best value: 0.128348:  70%|███████   | 7/10 [02:50<01:03, 21.17s/it]"
     ]
    },
    {
     "name": "stdout",
     "output_type": "stream",
     "text": [
      "[epoch ? step 5/25] alloc=20MB reserved=9714MB\n",
      "[epoch ? step 10/25] alloc=20MB reserved=9714MB\n",
      "[epoch ? step 15/25] alloc=20MB reserved=9714MB\n"
     ]
    },
    {
     "name": "stderr",
     "output_type": "stream",
     "text": [
      "Best trial: 4. Best value: 0.128348:  70%|███████   | 7/10 [02:50<01:03, 21.17s/it]"
     ]
    },
    {
     "name": "stdout",
     "output_type": "stream",
     "text": [
      "[epoch ? step 20/25] alloc=20MB reserved=9714MB\n",
      "[epoch ? step 25/25] alloc=20MB reserved=9714MB\n",
      "[epoch 9/9] alloc=19MB peak=23MB\n"
     ]
    },
    {
     "name": "stderr",
     "output_type": "stream",
     "text": [
      "Best trial: 4. Best value: 0.128348:  80%|████████  | 8/10 [02:51<00:42, 21.32s/it]"
     ]
    },
    {
     "name": "stdout",
     "output_type": "stream",
     "text": [
      "[I 2025-08-20 11:02:33,736] Trial 7 finished with value: 0.12357727098954935 and parameters: {'lr': 0.0006307439008766593, 'num_epochs': 9}. Best is trial 4 with value: 0.12834802027837242.\n"
     ]
    },
    {
     "name": "stderr",
     "output_type": "stream",
     "text": [
      "Best trial: 4. Best value: 0.128348:  80%|████████  | 8/10 [03:11<00:42, 21.32s/it]"
     ]
    },
    {
     "name": "stdout",
     "output_type": "stream",
     "text": [
      "[epoch ? step 1/25] alloc=20MB reserved=9714MB\n",
      "[epoch ? step 5/25] alloc=20MB reserved=9714MB\n",
      "[epoch ? step 10/25] alloc=20MB reserved=9714MB\n",
      "[epoch ? step 15/25] alloc=20MB reserved=9714MB\n",
      "[epoch ? step 20/25] alloc=20MB reserved=9714MB\n",
      "[epoch ? step 25/25] alloc=20MB reserved=9714MB\n",
      "[epoch 1/2] alloc=19MB peak=23MB\n"
     ]
    },
    {
     "name": "stderr",
     "output_type": "stream",
     "text": [
      "                                                                                   "
     ]
    },
    {
     "name": "stdout",
     "output_type": "stream",
     "text": [
      "[epoch ? step 1/25] alloc=20MB reserved=9714MB\n",
      "[epoch ? step 5/25] alloc=20MB reserved=9714MB\n",
      "[epoch ? step 10/25] alloc=20MB reserved=9714MB\n",
      "[epoch ? step 15/25] alloc=20MB reserved=9714MB\n",
      "[epoch ? step 20/25] alloc=20MB reserved=9714MB\n"
     ]
    },
    {
     "name": "stderr",
     "output_type": "stream",
     "text": [
      "Best trial: 4. Best value: 0.128348:  80%|████████  | 8/10 [03:11<00:42, 21.32s/it]"
     ]
    },
    {
     "name": "stdout",
     "output_type": "stream",
     "text": [
      "[epoch ? step 25/25] alloc=20MB reserved=9714MB\n",
      "[epoch 2/2] alloc=19MB peak=23MB\n"
     ]
    },
    {
     "name": "stderr",
     "output_type": "stream",
     "text": [
      "Best trial: 4. Best value: 0.128348:  90%|█████████ | 9/10 [03:12<00:21, 21.09s/it]"
     ]
    },
    {
     "name": "stdout",
     "output_type": "stream",
     "text": [
      "[I 2025-08-20 11:02:54,319] Trial 8 finished with value: 0.1061451463843841 and parameters: {'lr': 0.006132607522126743, 'num_epochs': 2}. Best is trial 4 with value: 0.12834802027837242.\n"
     ]
    }
   ],
   "source": [
    "print(\"Type of num_rounds_list:\", type(num_rounds_list))\n",
    "print(\"Value of num_rounds_list:\", num_rounds_list)\n",
    "df4 = trainer_trial(num_runs, num_neighbors, num_rounds_list, train_dataset, batch_size, val_size=35000)"
   ]
  },
  {
   "cell_type": "code",
   "execution_count": null,
   "metadata": {},
   "outputs": [],
   "source": [
    "df4[['policy_rewards', 'ipw', 'reg_dm', 'conv_dm', 'conv_dr', 'conv_sndr', 'action_diff_to_real', 'action_delta', 'context_diff_to_real', 'context_delta']]"
   ]
  },
  {
   "cell_type": "code",
   "execution_count": null,
   "metadata": {},
   "outputs": [],
   "source": [
    "df4"
   ]
  },
  {
   "cell_type": "code",
   "execution_count": null,
   "metadata": {},
   "outputs": [],
   "source": [
    "num_rounds_list = [3000, 6000, 8000, 9000]"
   ]
  },
  {
   "cell_type": "markdown",
   "metadata": {},
   "source": [
    "### 2\n",
    "\n",
    "$$emb = 0.7 * gt + 0.3 * noise$$\n",
    "$$lr = 0.001$$\n",
    "$$n_{epochs} = 1$$\n",
    "$$BatchSize=50$$"
   ]
  },
  {
   "cell_type": "code",
   "execution_count": null,
   "metadata": {},
   "outputs": [],
   "source": [
    "df5 = trainer_trial(num_runs, num_neighbors, num_rounds_list, train_dataset, batch_size, val_size=3500)"
   ]
  },
  {
   "cell_type": "code",
   "execution_count": null,
   "metadata": {},
   "outputs": [],
   "source": []
  },
  {
   "cell_type": "code",
   "execution_count": null,
   "metadata": {},
   "outputs": [],
   "source": [
    "df5"
   ]
  },
  {
   "cell_type": "markdown",
   "metadata": {},
   "source": [
    "### 3\n",
    "\n",
    "$$emb = 0.7 * gt + 0.3 * noise$$\n",
    "$$lr = 0.003$$\n",
    "$$n_{epochs} = 10$$\n",
    "$$BatchSize=50$$"
   ]
  },
  {
   "cell_type": "code",
   "execution_count": null,
   "metadata": {},
   "outputs": [],
   "source": [
    "df6 = trainer_trial(num_runs, num_neighbors, num_rounds_list, train_dataset, batch_size)"
   ]
  },
  {
   "cell_type": "code",
   "execution_count": null,
   "metadata": {},
   "outputs": [],
   "source": [
    "df6"
   ]
  },
  {
   "cell_type": "markdown",
   "metadata": {},
   "source": [
    "### 4\n",
    "\n",
    "$$emb = 0.7 * gt + 0.3 * noise$$\n",
    "$$lr = 0.05$$\n",
    "$$n_{epochs} = 10$$\n",
    "$$BatchSize=150$$"
   ]
  },
  {
   "cell_type": "code",
   "execution_count": null,
   "metadata": {},
   "outputs": [],
   "source": [
    "df7 = trainer_trial(num_runs, num_neighbors, num_rounds_list[:-3], train_dataset, batch_size+100, num_epochs=10, lr=0.05)"
   ]
  },
  {
   "cell_type": "code",
   "execution_count": null,
   "metadata": {},
   "outputs": [],
   "source": [
    "df7"
   ]
  }
 ],
 "metadata": {
  "kernelspec": {
   "display_name": "gpuEnv",
   "language": "python",
   "name": "python3"
  },
  "language_info": {
   "codemirror_mode": {
    "name": "ipython",
    "version": 3
   },
   "file_extension": ".py",
   "mimetype": "text/x-python",
   "name": "python",
   "nbconvert_exporter": "python",
   "pygments_lexer": "ipython3",
   "version": "3.10.12"
  }
 },
 "nbformat": 4,
 "nbformat_minor": 2
}
