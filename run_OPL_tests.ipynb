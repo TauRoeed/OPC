{
 "cells": [
  {
   "cell_type": "code",
   "execution_count": 1,
   "metadata": {},
   "outputs": [
    {
     "name": "stdout",
     "output_type": "stream",
     "text": [
      "Using device: cuda\n",
      "Using device: cuda\n",
      "Using device: cuda\n"
     ]
    }
   ],
   "source": [
    "import warnings\n",
    "warnings.filterwarnings(\"ignore\")\n",
    "from copy import deepcopy\n",
    "from datetime import datetime\n",
    "from pathlib import Path\n",
    "\n",
    "import numpy as np\n",
    "import pandas as pd\n",
    "import sys\n",
    "\n",
    "sys.path.append(\"/code\")\n",
    "\n",
    "from tqdm import tqdm\n",
    "import torch\n",
    "# device = torch.device('cpu')\n",
    "device = torch.device(\"cuda\" if torch.cuda.is_available() else \"cpu\")\n",
    "print(f\"Using device: {device}\")\n",
    "# import gym\n",
    "# import recogym\n",
    "\n",
    "import torch.nn as nn\n",
    "import torch.nn.functional as F\n",
    "from torch.utils.data import DataLoader, Dataset\n",
    "import torch.optim as optim\n",
    "\n",
    "torch.backends.cudnn.benchmark = torch.cuda.is_available()\n",
    "if torch.cuda.is_available():\n",
    "    torch.set_float32_matmul_precision(\"high\")  # TF32 = big speedup on Ada\n",
    "\n",
    "\n",
    "from sklearn.utils import check_random_state\n",
    "\n",
    "# implementing OPE of the IPWLearner using synthetic bandit data\n",
    "from sklearn.linear_model import LogisticRegression\n",
    "\n",
    "import matplotlib.pyplot as plt\n",
    "\n",
    "from scipy.special import softmax\n",
    "import optuna\n",
    "# from memory_profiler import profile\n",
    "\n",
    "\n",
    "from estimators import (\n",
    "    DirectMethod as DM\n",
    ")\n",
    "\n",
    "from simulation_utils import (\n",
    "    eval_policy,\n",
    "    generate_dataset,\n",
    "    create_simulation_data_from_pi,\n",
    "    get_train_data,\n",
    "    get_opl_results_dict,\n",
    "    CustomCFDataset,\n",
    "    calc_reward\n",
    ")\n",
    "\n",
    "from models import (    \n",
    "    CFModel,\n",
    "    NeighborhoodModel,\n",
    "    BPRModel, \n",
    "    RegressionModel\n",
    ")\n",
    "\n",
    "from training_utils import (\n",
    "    fit_bpr,\n",
    "    train,\n",
    "    validation_loop\n",
    " )\n",
    "\n",
    "from custom_losses import (\n",
    "    SNDRPolicyLoss,\n",
    "    BPRLoss\n",
    "    )\n",
    "\n",
    "random_state=12345\n",
    "random_ = check_random_state(random_state)\n",
    "\n",
    "pd.options.display.float_format = '{:,.8f}'.format"
   ]
  },
  {
   "cell_type": "markdown",
   "metadata": {},
   "source": [
    "## `trainer_trial` Function\n",
    "\n",
    "This function runs policy learning experiments using offline bandit data and evaluates various estimators.\n",
    "\n",
    "### Parameters\n",
    "- **num_runs** (int): Number of experimental runs per training size\n",
    "- **num_neighbors** (int): Number of neighbors to consider in the neighborhood model\n",
    "- **num_rounds_list** (list): List of training set sizes to evaluate\n",
    "- **dataset** (dict): Contains dataset information including embeddings, action probabilities, and reward probabilities\n",
    "- **batch_size** (int): Batch size for training the policy model\n",
    "- **num_epochs** (int): Number of training epochs for each experiment\n",
    "- **lr** (float, default=0.001): Learning rate for the optimizer\n",
    "\n",
    "### Process Flow\n",
    "1. Initializes result structures and retrieval models\n",
    "2. For each training size in `num_rounds_list`:\n",
    "   - Creates a uniform logging policy and simulates data\n",
    "   - Generates training data for offline learning\n",
    "   - Fits regression and neighborhood models for reward estimation\n",
    "   - Initializes and trains a counterfactual policy model\n",
    "   - Evaluates policy performance using various estimators\n",
    "   - Collects metrics on policy reward and embedding quality\n",
    "\n",
    "### Returns\n",
    "- **DataFrame**: Results table with rows indexed by training size and columns for various metrics:\n",
    "  - `policy_rewards`: True expected reward of the learned policy\n",
    "  - Various estimator errors (`ipw`, `reg_dm`, `conv_dm`, `conv_dr`, `conv_sndr`)\n",
    "  - Variance metrics for each estimator\n",
    "  - Embedding quality metrics comparing learned representations to ground truth\n",
    "\n",
    "### Implementation Notes\n",
    "- Uses uniform random logging policy for collecting offline data\n",
    "- Employs Self-Normalized Doubly Robust (SNDR) policy learning\n",
    "- Measures embedding quality via RMSE to original/ground truth embeddings"
   ]
  },
  {
   "cell_type": "code",
   "execution_count": 2,
   "metadata": {},
   "outputs": [],
   "source": [
    "def trainer_trial(\n",
    "    num_runs,\n",
    "    num_neighbors,\n",
    "    num_rounds_list,\n",
    "    dataset,\n",
    "    batch_size,\n",
    "    val_size=2000,\n",
    "    n_trials=10,    \n",
    "    prev_best_params=None\n",
    "):\n",
    "    import torch\n",
    "    from torch.utils.data import DataLoader\n",
    "\n",
    "    device = torch.device(\"cuda\" if torch.cuda.is_available() else \"cpu\")\n",
    "    torch.backends.cudnn.benchmark = torch.cuda.is_available()\n",
    "    if torch.cuda.is_available():\n",
    "        torch.set_float32_matmul_precision(\"high\")\n",
    "\n",
    "    dm = DM()\n",
    "    results = {}\n",
    "\n",
    "    our_x, our_a = dataset[\"our_x\"], dataset[\"our_a\"]\n",
    "    emb_x, emb_a = dataset[\"emb_x\"], dataset[\"emb_a\"]\n",
    "    original_x, original_a = dataset[\"original_x\"], dataset[\"original_a\"]\n",
    "    n_users, n_actions, emb_dim = dataset[\"n_users\"], dataset[\"n_actions\"], dataset[\"emb_dim\"]\n",
    "\n",
    "    all_user_indices = np.arange(n_users, dtype=np.int64)\n",
    "\n",
    "    def T(x):\n",
    "        return torch.as_tensor(x, device=device, dtype=torch.float32)\n",
    "\n",
    "    best_hyperparams_by_size = {}\n",
    "    best_reward = -float('inf')\n",
    "    overall_best_params = {}\n",
    "\n",
    "    last_best_params = prev_best_params if prev_best_params is not None else None\n",
    "\n",
    "     # ---- Add baseline row for sample size = 0 ----\n",
    "    pi_0 = softmax(our_x @ our_a.T, axis=1)\n",
    "    original_policy_prob = np.expand_dims(pi_0, -1)\n",
    "    # Use a dummy simulation for baseline\n",
    "    simulation_data = create_simulation_data_from_pi(\n",
    "        dataset, pi_0, val_size, random_state=0\n",
    "    )\n",
    "\n",
    "    train_data = get_train_data(n_actions, val_size, simulation_data, np.arange(val_size), our_x)\n",
    "    val_data = get_train_data(n_actions, val_size, simulation_data, np.arange(val_size), our_x)\n",
    "\n",
    "    regression_model = RegressionModel(\n",
    "        n_actions=n_actions, action_context=our_x,\n",
    "        base_model=LogisticRegression(random_state=12345)\n",
    "    )\n",
    "    regression_model.fit(train_data['x'], train_data['a'], train_data['r'])\n",
    "\n",
    "    neighberhoodmodel = NeighborhoodModel(\n",
    "        train_data['x_idx'], train_data['a'],\n",
    "        our_a, our_x, train_data['r'],\n",
    "        num_neighbors=num_neighbors\n",
    "    )\n",
    "    scores_all = torch.as_tensor(\n",
    "        neighberhoodmodel.predict(all_user_indices),\n",
    "        device=device, dtype=torch.float32\n",
    "    )\n",
    "    model = CFModel(\n",
    "        n_users, n_actions, emb_dim,\n",
    "        initial_user_embeddings=T(our_x),\n",
    "        initial_actions_embeddings=T(our_a)\n",
    "    ).to(device)\n",
    "\n",
    "    policy = np.expand_dims(softmax(our_x @ our_a.T, axis=1), -1)\n",
    "    policy_reward = calc_reward(dataset, policy)\n",
    "    eval_metrics = eval_policy(neighberhoodmodel, val_data, original_policy_prob, policy)\n",
    "    action_diff_to_real = np.sqrt(np.mean((emb_a - our_a) ** 2))\n",
    "    action_delta = np.sqrt(np.mean((original_a - our_a) ** 2))\n",
    "    context_diff_to_real = np.sqrt(np.mean((emb_x - our_x) ** 2))\n",
    "    context_delta = np.sqrt(np.mean((original_x - our_x) ** 2))\n",
    "\n",
    "    row = np.concatenate([\n",
    "        np.atleast_1d(policy_reward),\n",
    "        np.atleast_1d(eval_metrics),\n",
    "        np.atleast_1d(action_diff_to_real),\n",
    "        np.atleast_1d(action_delta),\n",
    "        np.atleast_1d(context_diff_to_real),\n",
    "        np.atleast_1d(context_delta)\n",
    "    ])\n",
    "    reg_dm = dm.estimate_policy_value(policy[val_data['x_idx']], regression_model.predict(val_data['x']))\n",
    "    reg_results = np.array([reg_dm])\n",
    "    conv_results = np.array([row])\n",
    "    results[0] = get_opl_results_dict(reg_results, conv_results)\n",
    "\n",
    "    # ---- Main training size loop ----\n",
    "    for train_size in num_rounds_list:\n",
    "        # Generate initial data for Optuna search\n",
    "        pi_0 = softmax(our_x @ our_a.T, axis=1)\n",
    "        original_policy_prob = np.expand_dims(pi_0, -1)\n",
    "        simulation_data = create_simulation_data_from_pi(\n",
    "            dataset, pi_0, train_size + val_size,\n",
    "            random_state=train_size\n",
    "        )\n",
    "        idx = np.arange(train_size)\n",
    "        train_data = get_train_data(n_actions, train_size, simulation_data, idx, our_x)\n",
    "        num_workers = 4 if torch.cuda.is_available() else 0\n",
    "        cf_dataset = CustomCFDataset(\n",
    "            train_data['x_idx'], train_data['a'], train_data['r'], original_policy_prob\n",
    "        )\n",
    "\n",
    "        # Define Optuna objective inside the loop so it can access train_data and cf_dataset\n",
    "        def objective(trial):\n",
    "            lr = trial.suggest_float(\"lr\", 1e-4, 1e-2, log=True)\n",
    "            epochs = trial.suggest_int(\"num_epochs\", 1, 10)\n",
    "            trial_batch_size = trial.suggest_categorical(\"batch_size\", [64, 128, 256, 512])\n",
    "            trial_num_neighbors = trial.suggest_int(\"num_neighbors\", 3, 15)\n",
    "            lr_decay = trial.suggest_float(\"lr_decay\", 0.8, 1.0)\n",
    "\n",
    "            trial_neigh_model = NeighborhoodModel(\n",
    "                train_data['x_idx'], train_data['a'],\n",
    "                our_a, our_x, train_data['r'],\n",
    "                num_neighbors=trial_num_neighbors\n",
    "            )\n",
    "            trial_scores_all = torch.as_tensor(\n",
    "                trial_neigh_model.predict(all_user_indices),\n",
    "                device=device, dtype=torch.float32\n",
    "            )\n",
    "            trial_model = CFModel(\n",
    "                n_users, n_actions, emb_dim,\n",
    "                initial_user_embeddings=T(our_x),\n",
    "                initial_actions_embeddings=T(our_a)\n",
    "            ).to(device)\n",
    "            assert (not torch.cuda.is_available()) or next(trial_model.parameters()).is_cuda\n",
    "\n",
    "            final_train_loader = DataLoader(\n",
    "                cf_dataset, batch_size=trial_batch_size, shuffle=True,\n",
    "                pin_memory=torch.cuda.is_available(),\n",
    "                num_workers=num_workers, persistent_workers=bool(num_workers)\n",
    "            )\n",
    "\n",
    "            current_lr = lr\n",
    "            for epoch in range(epochs):\n",
    "                if epoch > 0:\n",
    "                    current_lr *= lr_decay\n",
    "                train(\n",
    "                    trial_model, final_train_loader, trial_neigh_model, trial_scores_all,\n",
    "                    criterion=SNDRPolicyLoss(), num_epochs=1, lr=current_lr, device=str(device)\n",
    "                )\n",
    "\n",
    "            trial_x_t, trial_a_t = trial_model.get_params()\n",
    "            trial_x = trial_x_t.detach().cpu().numpy()\n",
    "            trial_a = trial_a_t.detach().cpu().numpy()\n",
    "            trial_policy = np.expand_dims(softmax(trial_x @ trial_a.T, axis=1), -1)\n",
    "            trial_policy_reward = calc_reward(dataset, trial_policy)\n",
    "            return trial_policy_reward\n",
    "\n",
    "        # ---- Hyperparam search ----\n",
    "        study = optuna.create_study(direction=\"maximize\")\n",
    "        if last_best_params is not None:\n",
    "            study.enqueue_trial(last_best_params)\n",
    "        study.optimize(objective, n_trials=n_trials, show_progress_bar=True)\n",
    "\n",
    "        best_params = study.best_params\n",
    "        best_reward_for_size = study.best_value\n",
    "        best_hyperparams_by_size[train_size] = {\n",
    "            \"params\": best_params,\n",
    "            \"reward\": best_reward_for_size\n",
    "        }\n",
    "        last_best_params = best_params\n",
    "\n",
    "        # ---- Final evaluation loop ----\n",
    "        reg_results, conv_results = [], []\n",
    "        for run in range(num_runs):\n",
    "            pi_0 = softmax(our_x @ our_a.T, axis=1)\n",
    "            original_policy_prob = np.expand_dims(pi_0, -1)\n",
    "            simulation_data = create_simulation_data_from_pi(\n",
    "                dataset, pi_0, train_size + val_size,\n",
    "                random_state=(run + 1) * train_size\n",
    "            )\n",
    "            idx = np.arange(train_size)\n",
    "            train_data = get_train_data(n_actions, train_size, simulation_data, idx, our_x)\n",
    "            val_data = get_train_data(n_actions, val_size, simulation_data, np.arange(val_size) + train_size, our_x)\n",
    "\n",
    "            regression_model = RegressionModel(\n",
    "                n_actions=n_actions, action_context=our_x,\n",
    "                base_model=LogisticRegression(random_state=12345)\n",
    "            )\n",
    "            regression_model.fit(\n",
    "                train_data['x'], train_data['a'], train_data['r'],\n",
    "                original_policy_prob[train_data['x_idx'], train_data['a']].squeeze()\n",
    "            )\n",
    "\n",
    "            neighberhoodmodel = NeighborhoodModel(\n",
    "                train_data['x_idx'], train_data['a'],\n",
    "                our_a, our_x, train_data['r'],\n",
    "                num_neighbors=best_params['num_neighbors']\n",
    "            )\n",
    "            scores_all = torch.as_tensor(\n",
    "                neighberhoodmodel.predict(all_user_indices),\n",
    "                device=device, dtype=torch.float32\n",
    "            )\n",
    "            model = CFModel(\n",
    "                n_users, n_actions, emb_dim,\n",
    "                initial_user_embeddings=T(our_x),\n",
    "                initial_actions_embeddings=T(our_a)\n",
    "            ).to(device)\n",
    "            assert (not torch.cuda.is_available()) or next(model.parameters()).is_cuda\n",
    "\n",
    "            cf_dataset = CustomCFDataset(\n",
    "                train_data['x_idx'], train_data['a'], train_data['r'], original_policy_prob\n",
    "            )\n",
    "            train_loader = DataLoader(\n",
    "                cf_dataset, batch_size=batch_size, shuffle=True,\n",
    "                pin_memory=torch.cuda.is_available(),\n",
    "                num_workers=num_workers, persistent_workers=bool(num_workers)\n",
    "            )\n",
    "\n",
    "            val_dataset = CustomCFDataset(\n",
    "                val_data['x_idx'], val_data['a'], val_data['r'], original_policy_prob\n",
    "            )\n",
    "            val_loader = DataLoader(\n",
    "                val_dataset, batch_size=val_size, shuffle=False,\n",
    "                pin_memory=torch.cuda.is_available(),\n",
    "                num_workers=num_workers, persistent_workers=bool(num_workers)\n",
    "            )\n",
    "\n",
    "            current_lr = best_params['lr']\n",
    "            for epoch in range(best_params['num_epochs']):\n",
    "                if epoch > 0:\n",
    "                    current_lr *= best_params['lr_decay']\n",
    "                train(\n",
    "                    model, train_loader, neighberhoodmodel, scores_all,\n",
    "                    criterion=SNDRPolicyLoss(),\n",
    "                    num_epochs=1, lr=current_lr,\n",
    "                    device=str(device)\n",
    "                )\n",
    "\n",
    "            our_x_t, our_a_t = model.get_params()\n",
    "            our_a, our_x = our_a_t.detach().cpu().numpy(), our_x_t.detach().cpu().numpy()\n",
    "            policy = np.expand_dims(softmax(our_x @ our_a.T, axis=1), -1)\n",
    "            policy_reward = calc_reward(dataset, policy)\n",
    "            eval_metrics = eval_policy(neighberhoodmodel, train_data, original_policy_prob, policy)\n",
    "            action_diff_to_real = np.sqrt(np.mean((emb_a - our_a) ** 2))\n",
    "            action_delta = np.sqrt(np.mean((original_a - our_a) ** 2))\n",
    "            context_diff_to_real = np.sqrt(np.mean((emb_x - our_x) ** 2))\n",
    "            context_delta = np.sqrt(np.mean((original_x - our_x) ** 2))\n",
    "\n",
    "            row = np.concatenate([\n",
    "                np.atleast_1d(policy_reward),\n",
    "                np.atleast_1d(eval_metrics),\n",
    "                np.atleast_1d(action_diff_to_real),\n",
    "                np.atleast_1d(action_delta),\n",
    "                np.atleast_1d(context_diff_to_real),\n",
    "                np.atleast_1d(context_delta)\n",
    "            ])\n",
    "            conv_results.append(row)\n",
    "\n",
    "        torch.cuda.empty_cache()\n",
    "        reg_results = np.array(reg_results)\n",
    "        conv_results = np.array(conv_results)\n",
    "        results[train_size] = get_opl_results_dict(reg_results, conv_results)\n",
    "\n",
    "    return pd.DataFrame.from_dict(results, orient='index'), best_hyperparams_by_size"
   ]
  },
  {
   "cell_type": "markdown",
   "metadata": {},
   "source": [
    "## Learning"
   ]
  },
  {
   "cell_type": "markdown",
   "metadata": {},
   "source": [
    "We will run several simulations on a generated dataset, the dataset is generated like this:\n",
    "$$ \\text{We have users U and actions A } u_i \\sim N(0, I_{emb_dim}) \\ a_i \\sim N(0, I_{emb_dim})$$\n",
    "$$ p_{ij} = 1 / (5 + e^{-(u_i.T a_j)}) $$\n",
    "$$r_{ij} \\sim Bin(p_{ij})$$\n",
    "\n",
    "We have a policy $\\pi$\n",
    "and it's ground truth reward is calculated by\n",
    "$$R_{gt} = \\sum_{i}{\\sum_{j}{\\pi_{ij} * p_{ij}}} $$\n",
    "\n",
    "Our parameters for the dataset will be\n",
    "$$EmbDim = 5$$\n",
    "$$NumActions= 150$$\n",
    "$$NumUsers = 150$$\n",
    "$$NeighborhoodSize = 6$$\n",
    "\n",
    "to learn a new policy from $\\pi$ we will sample from:\n",
    "$$\\pi_{start} = (1-\\epsilon)*\\pi + \\epsilon * \\pi_{random}$$"
   ]
  },
  {
   "cell_type": "code",
   "execution_count": 3,
   "metadata": {},
   "outputs": [
    {
     "name": "stdout",
     "output_type": "stream",
     "text": [
      "Random Item CTR: 0.07066414727263938\n",
      "Optimal greedy CTR: 0.09999926940951757\n",
      "Optimal Stochastic CTR: 0.09995326955796031\n",
      "Our Initial CTR: 0.08610747363354625\n"
     ]
    }
   ],
   "source": [
    "dataset_params = dict(\n",
    "                    n_actions= 500,\n",
    "                    n_users = 500,\n",
    "                    emb_dim = 16,\n",
    "                    # sigma = 0.1,\n",
    "                    eps = 0.6, # this is the epsilon for the noise in the ground truth policy representation\n",
    "                    ctr = 0.1\n",
    "                    )\n",
    "\n",
    "train_dataset = generate_dataset(dataset_params)"
   ]
  },
  {
   "cell_type": "code",
   "execution_count": 4,
   "metadata": {},
   "outputs": [
    {
     "data": {
      "text/plain": [
       "dict_keys(['emb_a', 'our_a', 'original_a', 'emb_x', 'our_x', 'original_x', 'q_x_a', 'n_actions', 'n_users', 'emb_dim', 'user_prior'])"
      ]
     },
     "execution_count": 4,
     "metadata": {},
     "output_type": "execute_result"
    }
   ],
   "source": [
    "train_dataset.keys()"
   ]
  },
  {
   "cell_type": "code",
   "execution_count": 5,
   "metadata": {},
   "outputs": [],
   "source": [
    "num_runs = 5\n",
    "batch_size = 200\n",
    "num_neighbors = 6\n",
    "n_trials_for_optuna = 50\n",
    "num_rounds_list = [500, 1000, 2000, 10000, 20000]\n",
    "\n",
    "# Manually define your best parameters\n",
    "best_params_to_use = {\n",
    "    \"lr\": 0.0095,  # Learning rate\n",
    "    \"num_epochs\": 5,  # Number of training epochs\n",
    "    \"batch_size\": 64,  # Batch size for training\n",
    "    \"num_neighbors\": 8,  # Number of neighbors for neighborhood model\n",
    "    \"lr_decay\": 0.85  # Learning rate decay factor\n",
    "}"
   ]
  },
  {
   "cell_type": "markdown",
   "metadata": {},
   "source": [
    "### 1\n",
    "\n",
    "$$emb = 0.7 * gt + 0.3 * noise$$\n",
    "$$lr = 0.005$$\n",
    "$$n_{epochs} = 1$$\n",
    "$$BatchSize=50$$"
   ]
  },
  {
   "cell_type": "code",
   "execution_count": 6,
   "metadata": {},
   "outputs": [
    {
     "name": "stdout",
     "output_type": "stream",
     "text": [
      "Value of num_rounds_list: [500, 1000, 2000, 10000, 20000]\n"
     ]
    },
    {
     "name": "stderr",
     "output_type": "stream",
     "text": [
      "[I 2025-08-21 00:26:47,931] A new study created in memory with name: no-name-66fbd95b-2d09-4f1c-888c-5c7a78e1929e\n",
      "Best trial: 0. Best value: 0.0868784:   2%|▏         | 1/50 [00:02<02:24,  2.95s/it]"
     ]
    },
    {
     "name": "stdout",
     "output_type": "stream",
     "text": [
      "[I 2025-08-21 00:26:50,886] Trial 0 finished with value: 0.08687836423560025 and parameters: {'lr': 0.0095, 'num_epochs': 5, 'batch_size': 64, 'num_neighbors': 8, 'lr_decay': 0.85}. Best is trial 0 with value: 0.08687836423560025.\n"
     ]
    },
    {
     "name": "stderr",
     "output_type": "stream",
     "text": [
      "Best trial: 0. Best value: 0.0868784:   4%|▍         | 2/50 [00:05<02:05,  2.61s/it]"
     ]
    },
    {
     "name": "stdout",
     "output_type": "stream",
     "text": [
      "[I 2025-08-21 00:26:53,254] Trial 1 finished with value: 0.08613172091669856 and parameters: {'lr': 0.0015185651229776276, 'num_epochs': 3, 'batch_size': 128, 'num_neighbors': 14, 'lr_decay': 0.887338884161619}. Best is trial 0 with value: 0.08687836423560025.\n"
     ]
    },
    {
     "name": "stderr",
     "output_type": "stream",
     "text": [
      "Best trial: 0. Best value: 0.0868784:   6%|▌         | 3/50 [00:07<01:57,  2.49s/it]"
     ]
    },
    {
     "name": "stdout",
     "output_type": "stream",
     "text": [
      "[I 2025-08-21 00:26:55,607] Trial 2 finished with value: 0.0861257565527305 and parameters: {'lr': 0.0059007657020029546, 'num_epochs': 3, 'batch_size': 512, 'num_neighbors': 12, 'lr_decay': 0.8038431897244951}. Best is trial 0 with value: 0.08687836423560025.\n"
     ]
    },
    {
     "name": "stderr",
     "output_type": "stream",
     "text": [
      "Best trial: 0. Best value: 0.0868784:   8%|▊         | 4/50 [00:10<01:53,  2.46s/it]"
     ]
    },
    {
     "name": "stdout",
     "output_type": "stream",
     "text": [
      "[I 2025-08-21 00:26:58,015] Trial 3 finished with value: 0.08611526886241469 and parameters: {'lr': 0.0001447573839910145, 'num_epochs': 4, 'batch_size': 64, 'num_neighbors': 10, 'lr_decay': 0.9863621921772512}. Best is trial 0 with value: 0.08687836423560025.\n"
     ]
    },
    {
     "name": "stderr",
     "output_type": "stream",
     "text": [
      "Best trial: 0. Best value: 0.0868784:  10%|█         | 5/50 [00:12<01:51,  2.48s/it]"
     ]
    },
    {
     "name": "stdout",
     "output_type": "stream",
     "text": [
      "[I 2025-08-21 00:27:00,527] Trial 4 finished with value: 0.08615349673074255 and parameters: {'lr': 0.0004602626065049824, 'num_epochs': 8, 'batch_size': 64, 'num_neighbors': 3, 'lr_decay': 0.9984839338294103}. Best is trial 0 with value: 0.08687836423560025.\n"
     ]
    },
    {
     "name": "stderr",
     "output_type": "stream",
     "text": [
      "Best trial: 0. Best value: 0.0868784:  12%|█▏        | 6/50 [00:16<02:05,  2.86s/it]"
     ]
    },
    {
     "name": "stdout",
     "output_type": "stream",
     "text": [
      "[I 2025-08-21 00:27:04,122] Trial 5 finished with value: 0.08610864499203674 and parameters: {'lr': 0.00021071336373654532, 'num_epochs': 9, 'batch_size': 512, 'num_neighbors': 11, 'lr_decay': 0.8366582697376264}. Best is trial 0 with value: 0.08687836423560025.\n"
     ]
    },
    {
     "name": "stderr",
     "output_type": "stream",
     "text": [
      "Best trial: 0. Best value: 0.0868784:  14%|█▍        | 7/50 [00:18<01:56,  2.71s/it]"
     ]
    },
    {
     "name": "stdout",
     "output_type": "stream",
     "text": [
      "[I 2025-08-21 00:27:06,539] Trial 6 finished with value: 0.08617369734169171 and parameters: {'lr': 0.004334776677342343, 'num_epochs': 7, 'batch_size': 256, 'num_neighbors': 15, 'lr_decay': 0.8698487051036687}. Best is trial 0 with value: 0.08687836423560025.\n"
     ]
    },
    {
     "name": "stderr",
     "output_type": "stream",
     "text": [
      "Best trial: 0. Best value: 0.0868784:  16%|█▌        | 8/50 [00:20<01:49,  2.61s/it]"
     ]
    },
    {
     "name": "stdout",
     "output_type": "stream",
     "text": [
      "[I 2025-08-21 00:27:08,911] Trial 7 finished with value: 0.08616052243450184 and parameters: {'lr': 0.005964325385912795, 'num_epochs': 7, 'batch_size': 512, 'num_neighbors': 3, 'lr_decay': 0.9203494141139817}. Best is trial 0 with value: 0.08687836423560025.\n"
     ]
    },
    {
     "name": "stderr",
     "output_type": "stream",
     "text": [
      "Best trial: 0. Best value: 0.0868784:  18%|█▊        | 9/50 [00:23<01:44,  2.55s/it]"
     ]
    },
    {
     "name": "stdout",
     "output_type": "stream",
     "text": [
      "[I 2025-08-21 00:27:11,345] Trial 8 finished with value: 0.08612630060173025 and parameters: {'lr': 0.0002812842399849579, 'num_epochs': 5, 'batch_size': 64, 'num_neighbors': 8, 'lr_decay': 0.9424845745216883}. Best is trial 0 with value: 0.08687836423560025.\n"
     ]
    },
    {
     "name": "stderr",
     "output_type": "stream",
     "text": [
      "Best trial: 0. Best value: 0.0868784:  20%|██        | 10/50 [00:25<01:40,  2.51s/it]"
     ]
    },
    {
     "name": "stdout",
     "output_type": "stream",
     "text": [
      "[I 2025-08-21 00:27:13,769] Trial 9 finished with value: 0.08611330191101597 and parameters: {'lr': 0.0009714470327952075, 'num_epochs': 8, 'batch_size': 512, 'num_neighbors': 15, 'lr_decay': 0.8638566929937198}. Best is trial 0 with value: 0.08687836423560025.\n"
     ]
    },
    {
     "name": "stderr",
     "output_type": "stream",
     "text": [
      "Best trial: 0. Best value: 0.0868784:  22%|██▏       | 11/50 [00:28<01:35,  2.45s/it]"
     ]
    },
    {
     "name": "stdout",
     "output_type": "stream",
     "text": [
      "[I 2025-08-21 00:27:16,070] Trial 10 finished with value: 0.08611561315605858 and parameters: {'lr': 0.002792954352808599, 'num_epochs': 1, 'batch_size': 256, 'num_neighbors': 6, 'lr_decay': 0.8107651577509707}. Best is trial 0 with value: 0.08687836423560025.\n"
     ]
    },
    {
     "name": "stderr",
     "output_type": "stream",
     "text": [
      "Best trial: 0. Best value: 0.0868784:  24%|██▍       | 12/50 [00:30<01:32,  2.43s/it]"
     ]
    },
    {
     "name": "stdout",
     "output_type": "stream",
     "text": [
      "[I 2025-08-21 00:27:18,448] Trial 11 finished with value: 0.08629901691988785 and parameters: {'lr': 0.009772551565259349, 'num_epochs': 6, 'batch_size': 256, 'num_neighbors': 7, 'lr_decay': 0.8638998100464091}. Best is trial 0 with value: 0.08687836423560025.\n"
     ]
    },
    {
     "name": "stderr",
     "output_type": "stream",
     "text": [
      "Best trial: 0. Best value: 0.0868784:  26%|██▌       | 13/50 [00:32<01:29,  2.42s/it]"
     ]
    },
    {
     "name": "stdout",
     "output_type": "stream",
     "text": [
      "[I 2025-08-21 00:27:20,837] Trial 12 finished with value: 0.0862623589586629 and parameters: {'lr': 0.009597832126274845, 'num_epochs': 6, 'batch_size': 256, 'num_neighbors': 7, 'lr_decay': 0.8466885259923489}. Best is trial 0 with value: 0.08687836423560025.\n"
     ]
    },
    {
     "name": "stderr",
     "output_type": "stream",
     "text": [
      "Best trial: 0. Best value: 0.0868784:  28%|██▊       | 14/50 [00:35<01:27,  2.43s/it]"
     ]
    },
    {
     "name": "stdout",
     "output_type": "stream",
     "text": [
      "[I 2025-08-21 00:27:23,297] Trial 13 finished with value: 0.08622287380464166 and parameters: {'lr': 0.0024792030617660572, 'num_epochs': 10, 'batch_size': 128, 'num_neighbors': 5, 'lr_decay': 0.9064020495865776}. Best is trial 0 with value: 0.08687836423560025.\n"
     ]
    },
    {
     "name": "stderr",
     "output_type": "stream",
     "text": [
      "Best trial: 14. Best value: 0.0869019:  30%|███       | 15/50 [00:37<01:25,  2.44s/it]"
     ]
    },
    {
     "name": "stdout",
     "output_type": "stream",
     "text": [
      "[I 2025-08-21 00:27:25,747] Trial 14 finished with value: 0.08690193569217339 and parameters: {'lr': 0.00959451457756781, 'num_epochs': 5, 'batch_size': 64, 'num_neighbors': 9, 'lr_decay': 0.8336910083411757}. Best is trial 14 with value: 0.08690193569217339.\n"
     ]
    },
    {
     "name": "stderr",
     "output_type": "stream",
     "text": [
      "Best trial: 14. Best value: 0.0869019:  32%|███▏      | 16/50 [00:40<01:22,  2.42s/it]"
     ]
    },
    {
     "name": "stdout",
     "output_type": "stream",
     "text": [
      "[I 2025-08-21 00:27:28,147] Trial 15 finished with value: 0.08614455590129902 and parameters: {'lr': 0.0008000700867462324, 'num_epochs': 4, 'batch_size': 64, 'num_neighbors': 9, 'lr_decay': 0.8279209755580115}. Best is trial 14 with value: 0.08690193569217339.\n"
     ]
    },
    {
     "name": "stderr",
     "output_type": "stream",
     "text": [
      "Best trial: 14. Best value: 0.0869019:  34%|███▍      | 17/50 [00:42<01:20,  2.42s/it]"
     ]
    },
    {
     "name": "stdout",
     "output_type": "stream",
     "text": [
      "[I 2025-08-21 00:27:30,573] Trial 16 finished with value: 0.08618371789070411 and parameters: {'lr': 0.0034772309990085837, 'num_epochs': 2, 'batch_size': 64, 'num_neighbors': 12, 'lr_decay': 0.8304802391001491}. Best is trial 14 with value: 0.08690193569217339.\n"
     ]
    },
    {
     "name": "stderr",
     "output_type": "stream",
     "text": [
      "Best trial: 14. Best value: 0.0869019:  36%|███▌      | 18/50 [00:46<01:28,  2.77s/it]"
     ]
    },
    {
     "name": "stdout",
     "output_type": "stream",
     "text": [
      "[I 2025-08-21 00:27:34,155] Trial 17 finished with value: 0.08621799464190898 and parameters: {'lr': 0.0016850946570458347, 'num_epochs': 5, 'batch_size': 64, 'num_neighbors': 9, 'lr_decay': 0.8896019344314223}. Best is trial 14 with value: 0.08690193569217339.\n"
     ]
    },
    {
     "name": "stderr",
     "output_type": "stream",
     "text": [
      "Best trial: 14. Best value: 0.0869019:  38%|███▊      | 19/50 [00:48<01:23,  2.68s/it]"
     ]
    },
    {
     "name": "stdout",
     "output_type": "stream",
     "text": [
      "[I 2025-08-21 00:27:36,618] Trial 18 finished with value: 0.0864310451321567 and parameters: {'lr': 0.006161380872994324, 'num_epochs': 4, 'batch_size': 64, 'num_neighbors': 5, 'lr_decay': 0.8501221884764083}. Best is trial 14 with value: 0.08690193569217339.\n"
     ]
    },
    {
     "name": "stderr",
     "output_type": "stream",
     "text": [
      "Best trial: 14. Best value: 0.0869019:  40%|████      | 20/50 [00:51<01:17,  2.58s/it]"
     ]
    },
    {
     "name": "stdout",
     "output_type": "stream",
     "text": [
      "[I 2025-08-21 00:27:38,980] Trial 19 finished with value: 0.0861448250452918 and parameters: {'lr': 0.001875711013751948, 'num_epochs': 1, 'batch_size': 64, 'num_neighbors': 10, 'lr_decay': 0.9468889907223608}. Best is trial 14 with value: 0.08690193569217339.\n"
     ]
    },
    {
     "name": "stderr",
     "output_type": "stream",
     "text": [
      "Best trial: 14. Best value: 0.0869019:  42%|████▏     | 21/50 [00:53<01:13,  2.55s/it]"
     ]
    },
    {
     "name": "stdout",
     "output_type": "stream",
     "text": [
      "[I 2025-08-21 00:27:41,435] Trial 20 finished with value: 0.08612253276672924 and parameters: {'lr': 0.0005485320926771421, 'num_epochs': 7, 'batch_size': 128, 'num_neighbors': 13, 'lr_decay': 0.8194424055067687}. Best is trial 14 with value: 0.08690193569217339.\n"
     ]
    },
    {
     "name": "stderr",
     "output_type": "stream",
     "text": [
      "Best trial: 14. Best value: 0.0869019:  44%|████▍     | 22/50 [00:55<01:10,  2.50s/it]"
     ]
    },
    {
     "name": "stdout",
     "output_type": "stream",
     "text": [
      "[I 2025-08-21 00:27:43,836] Trial 21 finished with value: 0.08645936058586925 and parameters: {'lr': 0.006292141815766407, 'num_epochs': 4, 'batch_size': 64, 'num_neighbors': 4, 'lr_decay': 0.850950700467213}. Best is trial 14 with value: 0.08690193569217339.\n"
     ]
    },
    {
     "name": "stderr",
     "output_type": "stream",
     "text": [
      "Best trial: 22. Best value: 0.0869784:  46%|████▌     | 23/50 [00:58<01:06,  2.47s/it]"
     ]
    },
    {
     "name": "stdout",
     "output_type": "stream",
     "text": [
      "[I 2025-08-21 00:27:46,234] Trial 22 finished with value: 0.08697836210645667 and parameters: {'lr': 0.00973126320749487, 'num_epochs': 5, 'batch_size': 64, 'num_neighbors': 4, 'lr_decay': 0.8744503542251927}. Best is trial 22 with value: 0.08697836210645667.\n"
     ]
    },
    {
     "name": "stderr",
     "output_type": "stream",
     "text": [
      "Best trial: 22. Best value: 0.0869784:  48%|████▊     | 24/50 [01:00<01:04,  2.47s/it]"
     ]
    },
    {
     "name": "stdout",
     "output_type": "stream",
     "text": [
      "[I 2025-08-21 00:27:48,688] Trial 23 finished with value: 0.086973065565481 and parameters: {'lr': 0.009813912311849554, 'num_epochs': 5, 'batch_size': 64, 'num_neighbors': 7, 'lr_decay': 0.8792281952104241}. Best is trial 22 with value: 0.08697836210645667.\n"
     ]
    },
    {
     "name": "stderr",
     "output_type": "stream",
     "text": [
      "Best trial: 22. Best value: 0.0869784:  50%|█████     | 25/50 [01:03<01:01,  2.47s/it]"
     ]
    },
    {
     "name": "stdout",
     "output_type": "stream",
     "text": [
      "[I 2025-08-21 00:27:51,158] Trial 24 finished with value: 0.08639606168101688 and parameters: {'lr': 0.003844742266374329, 'num_epochs': 6, 'batch_size': 64, 'num_neighbors': 6, 'lr_decay': 0.8845702014320321}. Best is trial 22 with value: 0.08697836210645667.\n"
     ]
    },
    {
     "name": "stderr",
     "output_type": "stream",
     "text": [
      "Best trial: 22. Best value: 0.0869784:  52%|█████▏    | 26/50 [01:05<00:58,  2.43s/it]"
     ]
    },
    {
     "name": "stdout",
     "output_type": "stream",
     "text": [
      "[I 2025-08-21 00:27:53,514] Trial 25 finished with value: 0.08646592040555605 and parameters: {'lr': 0.007219176799784673, 'num_epochs': 3, 'batch_size': 64, 'num_neighbors': 5, 'lr_decay': 0.9121436951493175}. Best is trial 22 with value: 0.08697836210645667.\n"
     ]
    },
    {
     "name": "stderr",
     "output_type": "stream",
     "text": [
      "Best trial: 22. Best value: 0.0869784:  54%|█████▍    | 27/50 [01:08<00:56,  2.45s/it]"
     ]
    },
    {
     "name": "stdout",
     "output_type": "stream",
     "text": [
      "[I 2025-08-21 00:27:55,994] Trial 26 finished with value: 0.08644912949231272 and parameters: {'lr': 0.0045941331048204, 'num_epochs': 5, 'batch_size': 64, 'num_neighbors': 7, 'lr_decay': 0.9288695284349047}. Best is trial 22 with value: 0.08697836210645667.\n"
     ]
    },
    {
     "name": "stderr",
     "output_type": "stream",
     "text": [
      "Best trial: 22. Best value: 0.0869784:  56%|█████▌    | 28/50 [01:10<00:53,  2.44s/it]"
     ]
    },
    {
     "name": "stdout",
     "output_type": "stream",
     "text": [
      "[I 2025-08-21 00:27:58,422] Trial 27 finished with value: 0.08629233662721768 and parameters: {'lr': 0.0027205438206819575, 'num_epochs': 6, 'batch_size': 64, 'num_neighbors': 4, 'lr_decay': 0.8761121853190741}. Best is trial 22 with value: 0.08697836210645667.\n"
     ]
    },
    {
     "name": "stderr",
     "output_type": "stream",
     "text": [
      "Best trial: 22. Best value: 0.0869784:  58%|█████▊    | 29/50 [01:12<00:50,  2.42s/it]"
     ]
    },
    {
     "name": "stdout",
     "output_type": "stream",
     "text": [
      "[I 2025-08-21 00:28:00,781] Trial 28 finished with value: 0.08620127276184714 and parameters: {'lr': 0.007660071527124885, 'num_epochs': 2, 'batch_size': 128, 'num_neighbors': 8, 'lr_decay': 0.8968860207204833}. Best is trial 22 with value: 0.08697836210645667.\n"
     ]
    },
    {
     "name": "stderr",
     "output_type": "stream",
     "text": [
      "Best trial: 22. Best value: 0.0869784:  60%|██████    | 30/50 [01:15<00:48,  2.43s/it]"
     ]
    },
    {
     "name": "stdout",
     "output_type": "stream",
     "text": [
      "[I 2025-08-21 00:28:03,246] Trial 29 finished with value: 0.0864161328130699 and parameters: {'lr': 0.004410154112156355, 'num_epochs': 5, 'batch_size': 64, 'num_neighbors': 8, 'lr_decay': 0.8576901784565358}. Best is trial 22 with value: 0.08697836210645667.\n"
     ]
    },
    {
     "name": "stderr",
     "output_type": "stream",
     "text": [
      "Best trial: 22. Best value: 0.0869784:  62%|██████▏   | 31/50 [01:18<00:53,  2.80s/it]"
     ]
    },
    {
     "name": "stdout",
     "output_type": "stream",
     "text": [
      "[I 2025-08-21 00:28:06,900] Trial 30 finished with value: 0.08678399080586006 and parameters: {'lr': 0.009620926926366059, 'num_epochs': 4, 'batch_size': 64, 'num_neighbors': 10, 'lr_decay': 0.8422802674648946}. Best is trial 22 with value: 0.08697836210645667.\n"
     ]
    },
    {
     "name": "stderr",
     "output_type": "stream",
     "text": [
      "Best trial: 22. Best value: 0.0869784:  64%|██████▍   | 32/50 [01:21<00:48,  2.70s/it]"
     ]
    },
    {
     "name": "stdout",
     "output_type": "stream",
     "text": [
      "[I 2025-08-21 00:28:09,389] Trial 31 finished with value: 0.08694273158839307 and parameters: {'lr': 0.009718659710606396, 'num_epochs': 5, 'batch_size': 64, 'num_neighbors': 9, 'lr_decay': 0.8783609611732189}. Best is trial 22 with value: 0.08697836210645667.\n"
     ]
    },
    {
     "name": "stderr",
     "output_type": "stream",
     "text": [
      "Best trial: 22. Best value: 0.0869784:  66%|██████▌   | 33/50 [01:23<00:44,  2.62s/it]"
     ]
    },
    {
     "name": "stdout",
     "output_type": "stream",
     "text": [
      "[I 2025-08-21 00:28:11,821] Trial 32 finished with value: 0.08677544794731941 and parameters: {'lr': 0.007660709689551404, 'num_epochs': 5, 'batch_size': 64, 'num_neighbors': 9, 'lr_decay': 0.8785039947579129}. Best is trial 22 with value: 0.08697836210645667.\n"
     ]
    },
    {
     "name": "stderr",
     "output_type": "stream",
     "text": [
      "Best trial: 22. Best value: 0.0869784:  68%|██████▊   | 34/50 [01:26<00:41,  2.57s/it]"
     ]
    },
    {
     "name": "stdout",
     "output_type": "stream",
     "text": [
      "[I 2025-08-21 00:28:14,257] Trial 33 finished with value: 0.08635375169349817 and parameters: {'lr': 0.005164251313025838, 'num_epochs': 3, 'batch_size': 64, 'num_neighbors': 11, 'lr_decay': 0.89593244746066}. Best is trial 22 with value: 0.08697836210645667.\n"
     ]
    },
    {
     "name": "stderr",
     "output_type": "stream",
     "text": [
      "Best trial: 22. Best value: 0.0869784:  70%|███████   | 35/50 [01:28<00:37,  2.53s/it]"
     ]
    },
    {
     "name": "stdout",
     "output_type": "stream",
     "text": [
      "[I 2025-08-21 00:28:16,705] Trial 34 finished with value: 0.0861140251164895 and parameters: {'lr': 0.0001007706093832729, 'num_epochs': 6, 'batch_size': 64, 'num_neighbors': 6, 'lr_decay': 0.873649506468079}. Best is trial 22 with value: 0.08697836210645667.\n"
     ]
    },
    {
     "name": "stderr",
     "output_type": "stream",
     "text": [
      "Best trial: 22. Best value: 0.0869784:  72%|███████▏  | 36/50 [01:31<00:34,  2.49s/it]"
     ]
    },
    {
     "name": "stdout",
     "output_type": "stream",
     "text": [
      "[I 2025-08-21 00:28:19,099] Trial 35 finished with value: 0.08652251580095857 and parameters: {'lr': 0.008050190304398123, 'num_epochs': 5, 'batch_size': 128, 'num_neighbors': 9, 'lr_decay': 0.9731972864235509}. Best is trial 22 with value: 0.08697836210645667.\n"
     ]
    },
    {
     "name": "stderr",
     "output_type": "stream",
     "text": [
      "Best trial: 22. Best value: 0.0869784:  74%|███████▍  | 37/50 [01:33<00:32,  2.47s/it]"
     ]
    },
    {
     "name": "stdout",
     "output_type": "stream",
     "text": [
      "[I 2025-08-21 00:28:21,533] Trial 36 finished with value: 0.0861252025832346 and parameters: {'lr': 0.003333779681217572, 'num_epochs': 7, 'batch_size': 512, 'num_neighbors': 11, 'lr_decay': 0.8190766593410547}. Best is trial 22 with value: 0.08697836210645667.\n"
     ]
    },
    {
     "name": "stderr",
     "output_type": "stream",
     "text": [
      "Best trial: 22. Best value: 0.0869784:  76%|███████▌  | 38/50 [01:35<00:29,  2.45s/it]"
     ]
    },
    {
     "name": "stdout",
     "output_type": "stream",
     "text": [
      "[I 2025-08-21 00:28:23,915] Trial 37 finished with value: 0.08641237415945378 and parameters: {'lr': 0.005572344705758176, 'num_epochs': 4, 'batch_size': 64, 'num_neighbors': 7, 'lr_decay': 0.906738338508155}. Best is trial 22 with value: 0.08697836210645667.\n"
     ]
    },
    {
     "name": "stderr",
     "output_type": "stream",
     "text": [
      "Best trial: 22. Best value: 0.0869784:  78%|███████▊  | 39/50 [01:38<00:26,  2.43s/it]"
     ]
    },
    {
     "name": "stdout",
     "output_type": "stream",
     "text": [
      "[I 2025-08-21 00:28:26,295] Trial 38 finished with value: 0.08640590981269536 and parameters: {'lr': 0.007147306673896247, 'num_epochs': 3, 'batch_size': 64, 'num_neighbors': 10, 'lr_decay': 0.8035470284757872}. Best is trial 22 with value: 0.08697836210645667.\n"
     ]
    },
    {
     "name": "stderr",
     "output_type": "stream",
     "text": [
      "Best trial: 22. Best value: 0.0869784:  80%|████████  | 40/50 [01:40<00:24,  2.43s/it]"
     ]
    },
    {
     "name": "stdout",
     "output_type": "stream",
     "text": [
      "[I 2025-08-21 00:28:28,724] Trial 39 finished with value: 0.08611523970197285 and parameters: {'lr': 0.0012196199948059702, 'num_epochs': 8, 'batch_size': 512, 'num_neighbors': 8, 'lr_decay': 0.8860187171632233}. Best is trial 22 with value: 0.08697836210645667.\n"
     ]
    },
    {
     "name": "stderr",
     "output_type": "stream",
     "text": [
      "Best trial: 40. Best value: 0.0872363:  82%|████████▏ | 41/50 [01:43<00:21,  2.44s/it]"
     ]
    },
    {
     "name": "stdout",
     "output_type": "stream",
     "text": [
      "[I 2025-08-21 00:28:31,197] Trial 40 finished with value: 0.08723632815048198 and parameters: {'lr': 0.009990841725756792, 'num_epochs': 7, 'batch_size': 64, 'num_neighbors': 3, 'lr_decay': 0.8652288284853829}. Best is trial 40 with value: 0.08723632815048198.\n"
     ]
    },
    {
     "name": "stderr",
     "output_type": "stream",
     "text": [
      "Best trial: 41. Best value: 0.087315:  84%|████████▍ | 42/50 [01:45<00:19,  2.45s/it] "
     ]
    },
    {
     "name": "stdout",
     "output_type": "stream",
     "text": [
      "[I 2025-08-21 00:28:33,664] Trial 41 finished with value: 0.08731502967544212 and parameters: {'lr': 0.009772096330768315, 'num_epochs': 7, 'batch_size': 64, 'num_neighbors': 3, 'lr_decay': 0.8620535157262116}. Best is trial 41 with value: 0.08731502967544212.\n"
     ]
    },
    {
     "name": "stderr",
     "output_type": "stream",
     "text": [
      "Best trial: 41. Best value: 0.087315:  86%|████████▌ | 43/50 [01:49<00:19,  2.79s/it]"
     ]
    },
    {
     "name": "stdout",
     "output_type": "stream",
     "text": [
      "[I 2025-08-21 00:28:37,255] Trial 42 finished with value: 0.08706595679581162 and parameters: {'lr': 0.007897692852490023, 'num_epochs': 8, 'batch_size': 64, 'num_neighbors': 3, 'lr_decay': 0.8633518310877284}. Best is trial 41 with value: 0.08731502967544212.\n"
     ]
    },
    {
     "name": "stderr",
     "output_type": "stream",
     "text": [
      "Best trial: 41. Best value: 0.087315:  88%|████████▊ | 44/50 [01:51<00:16,  2.69s/it]"
     ]
    },
    {
     "name": "stdout",
     "output_type": "stream",
     "text": [
      "[I 2025-08-21 00:28:39,723] Trial 43 finished with value: 0.0866613300132189 and parameters: {'lr': 0.005175179888545857, 'num_epochs': 9, 'batch_size': 64, 'num_neighbors': 3, 'lr_decay': 0.8631348934307246}. Best is trial 41 with value: 0.08731502967544212.\n"
     ]
    },
    {
     "name": "stderr",
     "output_type": "stream",
     "text": [
      "Best trial: 41. Best value: 0.087315:  90%|█████████ | 45/50 [01:54<00:12,  2.59s/it]"
     ]
    },
    {
     "name": "stdout",
     "output_type": "stream",
     "text": [
      "[I 2025-08-21 00:28:42,072] Trial 44 finished with value: 0.08622972740447887 and parameters: {'lr': 0.007311315528545196, 'num_epochs': 8, 'batch_size': 256, 'num_neighbors': 4, 'lr_decay': 0.8561484258599807}. Best is trial 41 with value: 0.08731502967544212.\n"
     ]
    },
    {
     "name": "stderr",
     "output_type": "stream",
     "text": [
      "Best trial: 41. Best value: 0.087315:  92%|█████████▏| 46/50 [01:56<00:10,  2.57s/it]"
     ]
    },
    {
     "name": "stdout",
     "output_type": "stream",
     "text": [
      "[I 2025-08-21 00:28:44,578] Trial 45 finished with value: 0.08689944525244925 and parameters: {'lr': 0.006425363894686638, 'num_epochs': 9, 'batch_size': 64, 'num_neighbors': 3, 'lr_decay': 0.8679104495320124}. Best is trial 41 with value: 0.08731502967544212.\n"
     ]
    },
    {
     "name": "stderr",
     "output_type": "stream",
     "text": [
      "Best trial: 41. Best value: 0.087315:  94%|█████████▍| 47/50 [01:59<00:07,  2.52s/it]"
     ]
    },
    {
     "name": "stdout",
     "output_type": "stream",
     "text": [
      "[I 2025-08-21 00:28:46,980] Trial 46 finished with value: 0.08612703414311702 and parameters: {'lr': 0.0002836802006939429, 'num_epochs': 7, 'batch_size': 64, 'num_neighbors': 4, 'lr_decay': 0.8592247442396482}. Best is trial 41 with value: 0.08731502967544212.\n"
     ]
    },
    {
     "name": "stderr",
     "output_type": "stream",
     "text": [
      "Best trial: 41. Best value: 0.087315:  96%|█████████▌| 48/50 [02:01<00:04,  2.48s/it]"
     ]
    },
    {
     "name": "stdout",
     "output_type": "stream",
     "text": [
      "[I 2025-08-21 00:28:49,371] Trial 47 finished with value: 0.08627328900803269 and parameters: {'lr': 0.008458753067834019, 'num_epochs': 8, 'batch_size': 256, 'num_neighbors': 3, 'lr_decay': 0.8404146342699129}. Best is trial 41 with value: 0.08731502967544212.\n"
     ]
    },
    {
     "name": "stderr",
     "output_type": "stream",
     "text": [
      "Best trial: 41. Best value: 0.087315:  98%|█████████▊| 49/50 [02:03<00:02,  2.47s/it]"
     ]
    },
    {
     "name": "stdout",
     "output_type": "stream",
     "text": [
      "[I 2025-08-21 00:28:51,836] Trial 48 finished with value: 0.08676052569873569 and parameters: {'lr': 0.004846343997901102, 'num_epochs': 10, 'batch_size': 64, 'num_neighbors': 3, 'lr_decay': 0.8893846638485776}. Best is trial 41 with value: 0.08731502967544212.\n"
     ]
    },
    {
     "name": "stderr",
     "output_type": "stream",
     "text": [
      "Best trial: 41. Best value: 0.087315: 100%|██████████| 50/50 [02:06<00:00,  2.52s/it]\n"
     ]
    },
    {
     "name": "stdout",
     "output_type": "stream",
     "text": [
      "[I 2025-08-21 00:28:54,179] Trial 49 finished with value: 0.0861319223757617 and parameters: {'lr': 0.0038094533111043844, 'num_epochs': 7, 'batch_size': 512, 'num_neighbors': 4, 'lr_decay': 0.871282686787768}. Best is trial 41 with value: 0.08731502967544212.\n"
     ]
    },
    {
     "name": "stderr",
     "output_type": "stream",
     "text": [
      "[I 2025-08-21 00:29:02,388] A new study created in memory with name: no-name-a3e23fe7-1ed3-476e-bfcb-d9cce8c229e7\n",
      "Best trial: 0. Best value: 0.0901278:   2%|▏         | 1/50 [00:02<02:23,  2.92s/it]"
     ]
    },
    {
     "name": "stdout",
     "output_type": "stream",
     "text": [
      "[I 2025-08-21 00:29:05,314] Trial 0 finished with value: 0.09012776069251736 and parameters: {'lr': 0.009772096330768315, 'num_epochs': 7, 'batch_size': 64, 'num_neighbors': 3, 'lr_decay': 0.8620535157262116}. Best is trial 0 with value: 0.09012776069251736.\n"
     ]
    },
    {
     "name": "stderr",
     "output_type": "stream",
     "text": [
      "Best trial: 0. Best value: 0.0901278:   4%|▍         | 2/50 [00:06<02:48,  3.52s/it]"
     ]
    },
    {
     "name": "stdout",
     "output_type": "stream",
     "text": [
      "[I 2025-08-21 00:29:09,251] Trial 1 finished with value: 0.08766473794251269 and parameters: {'lr': 0.000510355092032466, 'num_epochs': 3, 'batch_size': 256, 'num_neighbors': 15, 'lr_decay': 0.9639973124059245}. Best is trial 0 with value: 0.09012776069251736.\n"
     ]
    },
    {
     "name": "stderr",
     "output_type": "stream",
     "text": [
      "Best trial: 0. Best value: 0.0901278:   6%|▌         | 3/50 [00:09<02:33,  3.27s/it]"
     ]
    },
    {
     "name": "stdout",
     "output_type": "stream",
     "text": [
      "[I 2025-08-21 00:29:12,219] Trial 2 finished with value: 0.08773977143277666 and parameters: {'lr': 0.0025040845723548447, 'num_epochs': 10, 'batch_size': 128, 'num_neighbors': 7, 'lr_decay': 0.8238126330481405}. Best is trial 0 with value: 0.09012776069251736.\n"
     ]
    },
    {
     "name": "stderr",
     "output_type": "stream",
     "text": [
      "Best trial: 0. Best value: 0.0901278:   8%|▊         | 4/50 [00:12<02:22,  3.09s/it]"
     ]
    },
    {
     "name": "stdout",
     "output_type": "stream",
     "text": [
      "[I 2025-08-21 00:29:15,035] Trial 3 finished with value: 0.08768849881351545 and parameters: {'lr': 0.004471582453840446, 'num_epochs': 8, 'batch_size': 512, 'num_neighbors': 12, 'lr_decay': 0.8765279392624417}. Best is trial 0 with value: 0.09012776069251736.\n"
     ]
    },
    {
     "name": "stderr",
     "output_type": "stream",
     "text": [
      "Best trial: 0. Best value: 0.0901278:  10%|█         | 5/50 [00:15<02:14,  2.98s/it]"
     ]
    },
    {
     "name": "stdout",
     "output_type": "stream",
     "text": [
      "[I 2025-08-21 00:29:17,819] Trial 4 finished with value: 0.08846218013774707 and parameters: {'lr': 0.009123447988159122, 'num_epochs': 3, 'batch_size': 64, 'num_neighbors': 3, 'lr_decay': 0.8285088161683771}. Best is trial 0 with value: 0.09012776069251736.\n"
     ]
    },
    {
     "name": "stderr",
     "output_type": "stream",
     "text": [
      "Best trial: 0. Best value: 0.0901278:  12%|█▏        | 6/50 [00:18<02:07,  2.89s/it]"
     ]
    },
    {
     "name": "stdout",
     "output_type": "stream",
     "text": [
      "[I 2025-08-21 00:29:20,547] Trial 5 finished with value: 0.08765994469945969 and parameters: {'lr': 0.00045471656701201, 'num_epochs': 4, 'batch_size': 512, 'num_neighbors': 11, 'lr_decay': 0.9569451075891965}. Best is trial 0 with value: 0.09012776069251736.\n"
     ]
    },
    {
     "name": "stderr",
     "output_type": "stream",
     "text": [
      "Best trial: 0. Best value: 0.0901278:  14%|█▍        | 7/50 [00:21<02:04,  2.91s/it]"
     ]
    },
    {
     "name": "stdout",
     "output_type": "stream",
     "text": [
      "[I 2025-08-21 00:29:23,473] Trial 6 finished with value: 0.087666814925442 and parameters: {'lr': 0.00043266129616697466, 'num_epochs': 8, 'batch_size': 128, 'num_neighbors': 15, 'lr_decay': 0.8531380687126134}. Best is trial 0 with value: 0.09012776069251736.\n"
     ]
    },
    {
     "name": "stderr",
     "output_type": "stream",
     "text": [
      "Best trial: 0. Best value: 0.0901278:  16%|█▌        | 8/50 [00:23<01:59,  2.84s/it]"
     ]
    },
    {
     "name": "stdout",
     "output_type": "stream",
     "text": [
      "[I 2025-08-21 00:29:26,185] Trial 7 finished with value: 0.08768369852373155 and parameters: {'lr': 0.002863096070756654, 'num_epochs': 2, 'batch_size': 128, 'num_neighbors': 3, 'lr_decay': 0.8363856929341007}. Best is trial 0 with value: 0.09012776069251736.\n"
     ]
    },
    {
     "name": "stderr",
     "output_type": "stream",
     "text": [
      "Best trial: 0. Best value: 0.0901278:  18%|█▊        | 9/50 [00:26<01:56,  2.83s/it]"
     ]
    },
    {
     "name": "stdout",
     "output_type": "stream",
     "text": [
      "[I 2025-08-21 00:29:29,000] Trial 8 finished with value: 0.08769798389474277 and parameters: {'lr': 0.0014433402720685409, 'num_epochs': 7, 'batch_size': 128, 'num_neighbors': 4, 'lr_decay': 0.862519900293959}. Best is trial 0 with value: 0.09012776069251736.\n"
     ]
    },
    {
     "name": "stderr",
     "output_type": "stream",
     "text": [
      "Best trial: 0. Best value: 0.0901278:  20%|██        | 10/50 [00:29<01:55,  2.88s/it]"
     ]
    },
    {
     "name": "stdout",
     "output_type": "stream",
     "text": [
      "[I 2025-08-21 00:29:31,978] Trial 9 finished with value: 0.08880643645037939 and parameters: {'lr': 0.0060558730501245476, 'num_epochs': 7, 'batch_size': 64, 'num_neighbors': 11, 'lr_decay': 0.8803424451419557}. Best is trial 0 with value: 0.09012776069251736.\n"
     ]
    },
    {
     "name": "stderr",
     "output_type": "stream",
     "text": [
      "Best trial: 0. Best value: 0.0901278:  22%|██▏       | 11/50 [00:32<01:52,  2.89s/it]"
     ]
    },
    {
     "name": "stdout",
     "output_type": "stream",
     "text": [
      "[I 2025-08-21 00:29:34,882] Trial 10 finished with value: 0.08766617201046029 and parameters: {'lr': 0.0001566862274774943, 'num_epochs': 5, 'batch_size': 64, 'num_neighbors': 7, 'lr_decay': 0.9273465524426973}. Best is trial 0 with value: 0.09012776069251736.\n"
     ]
    },
    {
     "name": "stderr",
     "output_type": "stream",
     "text": [
      "Best trial: 11. Best value: 0.0901534:  24%|██▍       | 12/50 [00:36<02:03,  3.26s/it]"
     ]
    },
    {
     "name": "stdout",
     "output_type": "stream",
     "text": [
      "[I 2025-08-21 00:29:38,992] Trial 11 finished with value: 0.09015338703910307 and parameters: {'lr': 0.009533827532366463, 'num_epochs': 6, 'batch_size': 64, 'num_neighbors': 10, 'lr_decay': 0.9045224007171291}. Best is trial 11 with value: 0.09015338703910307.\n"
     ]
    },
    {
     "name": "stderr",
     "output_type": "stream",
     "text": [
      "Best trial: 11. Best value: 0.0901534:  26%|██▌       | 13/50 [00:39<01:56,  3.16s/it]"
     ]
    },
    {
     "name": "stdout",
     "output_type": "stream",
     "text": [
      "[I 2025-08-21 00:29:41,916] Trial 12 finished with value: 0.08993411742440056 and parameters: {'lr': 0.009210735567817659, 'num_epochs': 6, 'batch_size': 64, 'num_neighbors': 8, 'lr_decay': 0.9079555674444595}. Best is trial 11 with value: 0.09015338703910307.\n"
     ]
    },
    {
     "name": "stderr",
     "output_type": "stream",
     "text": [
      "Best trial: 11. Best value: 0.0901534:  28%|██▊       | 14/50 [00:42<01:53,  3.14s/it]"
     ]
    },
    {
     "name": "stdout",
     "output_type": "stream",
     "text": [
      "[I 2025-08-21 00:29:45,018] Trial 13 finished with value: 0.08865563675086222 and parameters: {'lr': 0.0036938507694221166, 'num_epochs': 10, 'batch_size': 64, 'num_neighbors': 5, 'lr_decay': 0.9203968514007205}. Best is trial 11 with value: 0.09015338703910307.\n"
     ]
    },
    {
     "name": "stderr",
     "output_type": "stream",
     "text": [
      "Best trial: 11. Best value: 0.0901534:  30%|███       | 15/50 [00:45<01:46,  3.03s/it]"
     ]
    },
    {
     "name": "stdout",
     "output_type": "stream",
     "text": [
      "[I 2025-08-21 00:29:47,790] Trial 14 finished with value: 0.08766004916099904 and parameters: {'lr': 0.0014663468782937965, 'num_epochs': 5, 'batch_size': 256, 'num_neighbors': 9, 'lr_decay': 0.8006235593472701}. Best is trial 11 with value: 0.09015338703910307.\n"
     ]
    },
    {
     "name": "stderr",
     "output_type": "stream",
     "text": [
      "Best trial: 11. Best value: 0.0901534:  32%|███▏      | 16/50 [00:48<01:39,  2.94s/it]"
     ]
    },
    {
     "name": "stdout",
     "output_type": "stream",
     "text": [
      "[I 2025-08-21 00:29:50,526] Trial 15 finished with value: 0.08782540231763918 and parameters: {'lr': 0.00951438436949524, 'num_epochs': 1, 'batch_size': 64, 'num_neighbors': 13, 'lr_decay': 0.9988546466209416}. Best is trial 11 with value: 0.09015338703910307.\n"
     ]
    },
    {
     "name": "stderr",
     "output_type": "stream",
     "text": [
      "Best trial: 11. Best value: 0.0901534:  34%|███▍      | 17/50 [00:51<01:37,  2.96s/it]"
     ]
    },
    {
     "name": "stdout",
     "output_type": "stream",
     "text": [
      "[I 2025-08-21 00:29:53,530] Trial 16 finished with value: 0.08766624772713197 and parameters: {'lr': 0.00011314074442140941, 'num_epochs': 8, 'batch_size': 64, 'num_neighbors': 6, 'lr_decay': 0.8874484156386382}. Best is trial 11 with value: 0.09015338703910307.\n"
     ]
    },
    {
     "name": "stderr",
     "output_type": "stream",
     "text": [
      "Best trial: 11. Best value: 0.0901534:  36%|███▌      | 18/50 [00:54<01:34,  2.95s/it]"
     ]
    },
    {
     "name": "stdout",
     "output_type": "stream",
     "text": [
      "[I 2025-08-21 00:29:56,466] Trial 17 finished with value: 0.0886771241314457 and parameters: {'lr': 0.005390898506218449, 'num_epochs': 6, 'batch_size': 64, 'num_neighbors': 10, 'lr_decay': 0.9412223117548904}. Best is trial 11 with value: 0.09015338703910307.\n"
     ]
    },
    {
     "name": "stderr",
     "output_type": "stream",
     "text": [
      "Best trial: 11. Best value: 0.0901534:  38%|███▊      | 19/50 [00:56<01:30,  2.91s/it]"
     ]
    },
    {
     "name": "stdout",
     "output_type": "stream",
     "text": [
      "[I 2025-08-21 00:29:59,263] Trial 18 finished with value: 0.08766771680371771 and parameters: {'lr': 0.0017966209590329608, 'num_epochs': 9, 'batch_size': 512, 'num_neighbors': 9, 'lr_decay': 0.8973297303392962}. Best is trial 11 with value: 0.09015338703910307.\n"
     ]
    },
    {
     "name": "stderr",
     "output_type": "stream",
     "text": [
      "Best trial: 11. Best value: 0.0901534:  40%|████      | 20/50 [00:59<01:26,  2.89s/it]"
     ]
    },
    {
     "name": "stdout",
     "output_type": "stream",
     "text": [
      "[I 2025-08-21 00:30:02,113] Trial 19 finished with value: 0.08766448733095726 and parameters: {'lr': 0.0008053535984208369, 'num_epochs': 7, 'batch_size': 256, 'num_neighbors': 13, 'lr_decay': 0.8509284705930529}. Best is trial 11 with value: 0.09015338703910307.\n"
     ]
    },
    {
     "name": "stderr",
     "output_type": "stream",
     "text": [
      "Best trial: 11. Best value: 0.0901534:  42%|████▏     | 21/50 [01:02<01:23,  2.88s/it]"
     ]
    },
    {
     "name": "stdout",
     "output_type": "stream",
     "text": [
      "[I 2025-08-21 00:30:04,988] Trial 20 finished with value: 0.08766993185659254 and parameters: {'lr': 0.0002491597484855289, 'num_epochs': 4, 'batch_size': 64, 'num_neighbors': 5, 'lr_decay': 0.908889762806388}. Best is trial 11 with value: 0.09015338703910307.\n"
     ]
    },
    {
     "name": "stderr",
     "output_type": "stream",
     "text": [
      "Best trial: 11. Best value: 0.0901534:  44%|████▍     | 22/50 [01:06<01:26,  3.07s/it]"
     ]
    },
    {
     "name": "stdout",
     "output_type": "stream",
     "text": [
      "[I 2025-08-21 00:30:08,500] Trial 21 finished with value: 0.09010684037112536 and parameters: {'lr': 0.009931346606131203, 'num_epochs': 6, 'batch_size': 64, 'num_neighbors': 8, 'lr_decay': 0.9091445162713407}. Best is trial 11 with value: 0.09015338703910307.\n"
     ]
    },
    {
     "name": "stderr",
     "output_type": "stream",
     "text": [
      "Best trial: 11. Best value: 0.0901534:  46%|████▌     | 23/50 [01:09<01:27,  3.22s/it]"
     ]
    },
    {
     "name": "stdout",
     "output_type": "stream",
     "text": [
      "[I 2025-08-21 00:30:12,075] Trial 22 finished with value: 0.0888191484829155 and parameters: {'lr': 0.0061278542596398065, 'num_epochs': 6, 'batch_size': 64, 'num_neighbors': 8, 'lr_decay': 0.8680530753731159}. Best is trial 11 with value: 0.09015338703910307.\n"
     ]
    },
    {
     "name": "stderr",
     "output_type": "stream",
     "text": [
      "Best trial: 11. Best value: 0.0901534:  48%|████▊     | 24/50 [01:12<01:21,  3.14s/it]"
     ]
    },
    {
     "name": "stdout",
     "output_type": "stream",
     "text": [
      "[I 2025-08-21 00:30:15,023] Trial 23 finished with value: 0.08896917071244893 and parameters: {'lr': 0.00674656620900955, 'num_epochs': 5, 'batch_size': 64, 'num_neighbors': 10, 'lr_decay': 0.9301080463869041}. Best is trial 11 with value: 0.09015338703910307.\n"
     ]
    },
    {
     "name": "stderr",
     "output_type": "stream",
     "text": [
      "Best trial: 11. Best value: 0.0901534:  50%|█████     | 25/50 [01:15<01:17,  3.10s/it]"
     ]
    },
    {
     "name": "stdout",
     "output_type": "stream",
     "text": [
      "[I 2025-08-21 00:30:18,021] Trial 24 finished with value: 0.08824177735295376 and parameters: {'lr': 0.0034411878100844206, 'num_epochs': 7, 'batch_size': 64, 'num_neighbors': 7, 'lr_decay': 0.9029003819917024}. Best is trial 11 with value: 0.09015338703910307.\n"
     ]
    },
    {
     "name": "stderr",
     "output_type": "stream",
     "text": [
      "Best trial: 11. Best value: 0.0901534:  52%|█████▏    | 26/50 [01:18<01:14,  3.08s/it]"
     ]
    },
    {
     "name": "stdout",
     "output_type": "stream",
     "text": [
      "[I 2025-08-21 00:30:21,071] Trial 25 finished with value: 0.08983461082153542 and parameters: {'lr': 0.006885991492778163, 'num_epochs': 9, 'batch_size': 64, 'num_neighbors': 4, 'lr_decay': 0.8907628742321991}. Best is trial 11 with value: 0.09015338703910307.\n"
     ]
    },
    {
     "name": "stderr",
     "output_type": "stream",
     "text": [
      "Best trial: 11. Best value: 0.0901534:  54%|█████▍    | 27/50 [01:21<01:09,  3.02s/it]"
     ]
    },
    {
     "name": "stdout",
     "output_type": "stream",
     "text": [
      "[I 2025-08-21 00:30:23,945] Trial 26 finished with value: 0.08935196528213654 and parameters: {'lr': 0.009693705838657628, 'num_epochs': 4, 'batch_size': 64, 'num_neighbors': 13, 'lr_decay': 0.9482127488841198}. Best is trial 11 with value: 0.09015338703910307.\n"
     ]
    },
    {
     "name": "stderr",
     "output_type": "stream",
     "text": [
      "Best trial: 11. Best value: 0.0901534:  56%|█████▌    | 28/50 [01:24<01:04,  2.95s/it]"
     ]
    },
    {
     "name": "stdout",
     "output_type": "stream",
     "text": [
      "[I 2025-08-21 00:30:26,723] Trial 27 finished with value: 0.08776521408826964 and parameters: {'lr': 0.004522038997653474, 'num_epochs': 6, 'batch_size': 256, 'num_neighbors': 10, 'lr_decay': 0.993828147487528}. Best is trial 11 with value: 0.09015338703910307.\n"
     ]
    },
    {
     "name": "stderr",
     "output_type": "stream",
     "text": [
      "Best trial: 11. Best value: 0.0901534:  58%|█████▊    | 29/50 [01:27<01:00,  2.89s/it]"
     ]
    },
    {
     "name": "stdout",
     "output_type": "stream",
     "text": [
      "[I 2025-08-21 00:30:29,489] Trial 28 finished with value: 0.08766976684073464 and parameters: {'lr': 0.002331797225117979, 'num_epochs': 8, 'batch_size': 512, 'num_neighbors': 6, 'lr_decay': 0.9141724921146779}. Best is trial 11 with value: 0.09015338703910307.\n"
     ]
    },
    {
     "name": "stderr",
     "output_type": "stream",
     "text": [
      "Best trial: 11. Best value: 0.0901534:  60%|██████    | 30/50 [01:29<00:57,  2.86s/it]"
     ]
    },
    {
     "name": "stdout",
     "output_type": "stream",
     "text": [
      "[I 2025-08-21 00:30:32,269] Trial 29 finished with value: 0.08766607926866288 and parameters: {'lr': 0.000991993256435088, 'num_epochs': 3, 'batch_size': 256, 'num_neighbors': 15, 'lr_decay': 0.9697535208172091}. Best is trial 11 with value: 0.09015338703910307.\n"
     ]
    },
    {
     "name": "stderr",
     "output_type": "stream",
     "text": [
      "Best trial: 11. Best value: 0.0901534:  62%|██████▏   | 31/50 [01:32<00:54,  2.87s/it]"
     ]
    },
    {
     "name": "stdout",
     "output_type": "stream",
     "text": [
      "[I 2025-08-21 00:30:35,156] Trial 30 finished with value: 0.0880063451996381 and parameters: {'lr': 0.0043097330636336665, 'num_epochs': 5, 'batch_size': 64, 'num_neighbors': 9, 'lr_decay': 0.8453521306148056}. Best is trial 11 with value: 0.09015338703910307.\n"
     ]
    },
    {
     "name": "stderr",
     "output_type": "stream",
     "text": [
      "Best trial: 11. Best value: 0.0901534:  64%|██████▍   | 32/50 [01:35<00:52,  2.89s/it]"
     ]
    },
    {
     "name": "stdout",
     "output_type": "stream",
     "text": [
      "[I 2025-08-21 00:30:38,098] Trial 31 finished with value: 0.08952865999185977 and parameters: {'lr': 0.0077803037017705415, 'num_epochs': 6, 'batch_size': 64, 'num_neighbors': 8, 'lr_decay': 0.9043690604942639}. Best is trial 11 with value: 0.09015338703910307.\n"
     ]
    },
    {
     "name": "stderr",
     "output_type": "stream",
     "text": [
      "Best trial: 32. Best value: 0.0906061:  66%|██████▌   | 33/50 [01:39<00:55,  3.28s/it]"
     ]
    },
    {
     "name": "stdout",
     "output_type": "stream",
     "text": [
      "[I 2025-08-21 00:30:42,282] Trial 32 finished with value: 0.0906060892846209 and parameters: {'lr': 0.00967793505055993, 'num_epochs': 7, 'batch_size': 64, 'num_neighbors': 8, 'lr_decay': 0.9380162397369879}. Best is trial 32 with value: 0.0906060892846209.\n"
     ]
    },
    {
     "name": "stderr",
     "output_type": "stream",
     "text": [
      "Best trial: 32. Best value: 0.0906061:  68%|██████▊   | 34/50 [01:42<00:51,  3.20s/it]"
     ]
    },
    {
     "name": "stdout",
     "output_type": "stream",
     "text": [
      "[I 2025-08-21 00:30:45,291] Trial 33 finished with value: 0.08929874845044276 and parameters: {'lr': 0.005418279000131808, 'num_epochs': 7, 'batch_size': 64, 'num_neighbors': 11, 'lr_decay': 0.9763901771186991}. Best is trial 32 with value: 0.0906060892846209.\n"
     ]
    },
    {
     "name": "stderr",
     "output_type": "stream",
     "text": [
      "Best trial: 32. Best value: 0.0906061:  70%|███████   | 35/50 [01:45<00:47,  3.16s/it]"
     ]
    },
    {
     "name": "stdout",
     "output_type": "stream",
     "text": [
      "[I 2025-08-21 00:30:48,378] Trial 34 finished with value: 0.09045542088916031 and parameters: {'lr': 0.0075264612927146346, 'num_epochs': 9, 'batch_size': 64, 'num_neighbors': 7, 'lr_decay': 0.937506923822282}. Best is trial 32 with value: 0.0906060892846209.\n"
     ]
    },
    {
     "name": "stderr",
     "output_type": "stream",
     "text": [
      "Best trial: 32. Best value: 0.0906061:  72%|███████▏  | 36/50 [01:48<00:43,  3.09s/it]"
     ]
    },
    {
     "name": "stdout",
     "output_type": "stream",
     "text": [
      "[I 2025-08-21 00:30:51,309] Trial 35 finished with value: 0.08904043594350616 and parameters: {'lr': 0.007477573542198607, 'num_epochs': 9, 'batch_size': 128, 'num_neighbors': 6, 'lr_decay': 0.9369463002135602}. Best is trial 32 with value: 0.0906060892846209.\n"
     ]
    },
    {
     "name": "stderr",
     "output_type": "stream",
     "text": [
      "Best trial: 32. Best value: 0.0906061:  74%|███████▍  | 37/50 [01:51<00:39,  3.02s/it]"
     ]
    },
    {
     "name": "stdout",
     "output_type": "stream",
     "text": [
      "[I 2025-08-21 00:30:54,150] Trial 36 finished with value: 0.08775195245923342 and parameters: {'lr': 0.0045522708330151184, 'num_epochs': 10, 'batch_size': 512, 'num_neighbors': 7, 'lr_decay': 0.9508426536028238}. Best is trial 32 with value: 0.0906060892846209.\n"
     ]
    },
    {
     "name": "stderr",
     "output_type": "stream",
     "text": [
      "Best trial: 32. Best value: 0.0906061:  76%|███████▌  | 38/50 [01:54<00:36,  3.02s/it]"
     ]
    },
    {
     "name": "stdout",
     "output_type": "stream",
     "text": [
      "[I 2025-08-21 00:30:57,167] Trial 37 finished with value: 0.09049461923133506 and parameters: {'lr': 0.007338782207913997, 'num_epochs': 8, 'batch_size': 64, 'num_neighbors': 3, 'lr_decay': 0.9649387094570409}. Best is trial 32 with value: 0.0906060892846209.\n"
     ]
    },
    {
     "name": "stderr",
     "output_type": "stream",
     "text": [
      "Best trial: 32. Best value: 0.0906061:  78%|███████▊  | 39/50 [01:57<00:33,  3.03s/it]"
     ]
    },
    {
     "name": "stdout",
     "output_type": "stream",
     "text": [
      "[I 2025-08-21 00:31:00,240] Trial 38 finished with value: 0.0883402129411722 and parameters: {'lr': 0.0026387957939551965, 'num_epochs': 9, 'batch_size': 64, 'num_neighbors': 5, 'lr_decay': 0.9597558558839142}. Best is trial 32 with value: 0.0906060892846209.\n"
     ]
    },
    {
     "name": "stderr",
     "output_type": "stream",
     "text": [
      "Best trial: 32. Best value: 0.0906061:  80%|████████  | 40/50 [02:00<00:30,  3.04s/it]"
     ]
    },
    {
     "name": "stdout",
     "output_type": "stream",
     "text": [
      "[I 2025-08-21 00:31:03,293] Trial 39 finished with value: 0.08861462958523518 and parameters: {'lr': 0.003487589220394288, 'num_epochs': 8, 'batch_size': 64, 'num_neighbors': 4, 'lr_decay': 0.9733828638648204}. Best is trial 32 with value: 0.0906060892846209.\n"
     ]
    },
    {
     "name": "stderr",
     "output_type": "stream",
     "text": [
      "Best trial: 32. Best value: 0.0906061:  82%|████████▏ | 41/50 [02:03<00:26,  3.00s/it]"
     ]
    },
    {
     "name": "stdout",
     "output_type": "stream",
     "text": [
      "[I 2025-08-21 00:31:06,194] Trial 40 finished with value: 0.08875934181670052 and parameters: {'lr': 0.007728831910449689, 'num_epochs': 8, 'batch_size': 128, 'num_neighbors': 12, 'lr_decay': 0.9417199482574399}. Best is trial 32 with value: 0.0906060892846209.\n"
     ]
    },
    {
     "name": "stderr",
     "output_type": "stream",
     "text": [
      "Best trial: 32. Best value: 0.0906061:  84%|████████▍ | 42/50 [02:06<00:24,  3.00s/it]"
     ]
    },
    {
     "name": "stdout",
     "output_type": "stream",
     "text": [
      "[I 2025-08-21 00:31:09,214] Trial 41 finished with value: 0.08955765779072469 and parameters: {'lr': 0.005492370049746102, 'num_epochs': 7, 'batch_size': 64, 'num_neighbors': 3, 'lr_decay': 0.9850540984866103}. Best is trial 32 with value: 0.0906060892846209.\n"
     ]
    },
    {
     "name": "stderr",
     "output_type": "stream",
     "text": [
      "Best trial: 32. Best value: 0.0906061:  86%|████████▌ | 43/50 [02:10<00:23,  3.34s/it]"
     ]
    },
    {
     "name": "stdout",
     "output_type": "stream",
     "text": [
      "[I 2025-08-21 00:31:13,314] Trial 42 finished with value: 0.09011811441359481 and parameters: {'lr': 0.007964779009325322, 'num_epochs': 7, 'batch_size': 64, 'num_neighbors': 3, 'lr_decay': 0.9290819632771724}. Best is trial 32 with value: 0.0906060892846209.\n"
     ]
    },
    {
     "name": "stderr",
     "output_type": "stream",
     "text": [
      "Best trial: 32. Best value: 0.0906061:  88%|████████▊ | 44/50 [02:14<00:19,  3.27s/it]"
     ]
    },
    {
     "name": "stdout",
     "output_type": "stream",
     "text": [
      "[I 2025-08-21 00:31:16,450] Trial 43 finished with value: 0.0893147902570951 and parameters: {'lr': 0.00635039349996572, 'num_epochs': 9, 'batch_size': 64, 'num_neighbors': 4, 'lr_decay': 0.8742830137638211}. Best is trial 32 with value: 0.0906060892846209.\n"
     ]
    },
    {
     "name": "stderr",
     "output_type": "stream",
     "text": [
      "Best trial: 32. Best value: 0.0906061:  90%|█████████ | 45/50 [02:17<00:15,  3.20s/it]"
     ]
    },
    {
     "name": "stdout",
     "output_type": "stream",
     "text": [
      "[I 2025-08-21 00:31:19,468] Trial 44 finished with value: 0.087673798943874 and parameters: {'lr': 0.0003356878561867909, 'num_epochs': 8, 'batch_size': 64, 'num_neighbors': 3, 'lr_decay': 0.8206134892299504}. Best is trial 32 with value: 0.0906060892846209.\n"
     ]
    },
    {
     "name": "stderr",
     "output_type": "stream",
     "text": [
      "Best trial: 32. Best value: 0.0906061:  92%|█████████▏| 46/50 [02:20<00:12,  3.13s/it]"
     ]
    },
    {
     "name": "stdout",
     "output_type": "stream",
     "text": [
      "[I 2025-08-21 00:31:22,433] Trial 45 finished with value: 0.08768287479821146 and parameters: {'lr': 0.000656039231324301, 'num_epochs': 10, 'batch_size': 128, 'num_neighbors': 7, 'lr_decay': 0.9185203007529297}. Best is trial 32 with value: 0.0906060892846209.\n"
     ]
    },
    {
     "name": "stderr",
     "output_type": "stream",
     "text": [
      "Best trial: 32. Best value: 0.0906061:  94%|█████████▍| 47/50 [02:22<00:09,  3.02s/it]"
     ]
    },
    {
     "name": "stdout",
     "output_type": "stream",
     "text": [
      "[I 2025-08-21 00:31:25,204] Trial 46 finished with value: 0.08780179185548732 and parameters: {'lr': 0.008018128237571523, 'num_epochs': 7, 'batch_size': 512, 'num_neighbors': 5, 'lr_decay': 0.956283102608702}. Best is trial 32 with value: 0.0906060892846209.\n"
     ]
    },
    {
     "name": "stderr",
     "output_type": "stream",
     "text": [
      "Best trial: 32. Best value: 0.0906061:  96%|█████████▌| 48/50 [02:25<00:06,  3.04s/it]"
     ]
    },
    {
     "name": "stdout",
     "output_type": "stream",
     "text": [
      "[I 2025-08-21 00:31:28,279] Trial 47 finished with value: 0.08944453225278315 and parameters: {'lr': 0.005045915604755429, 'num_epochs': 8, 'batch_size': 64, 'num_neighbors': 10, 'lr_decay': 0.9664851947171083}. Best is trial 32 with value: 0.0906060892846209.\n"
     ]
    },
    {
     "name": "stderr",
     "output_type": "stream",
     "text": [
      "Best trial: 32. Best value: 0.0906061:  98%|█████████▊| 49/50 [02:28<00:03,  3.05s/it]"
     ]
    },
    {
     "name": "stdout",
     "output_type": "stream",
     "text": [
      "[I 2025-08-21 00:31:31,360] Trial 48 finished with value: 0.08837001718757051 and parameters: {'lr': 0.0038102368220423377, 'num_epochs': 8, 'batch_size': 64, 'num_neighbors': 11, 'lr_decay': 0.8946107770782442}. Best is trial 32 with value: 0.0906060892846209.\n"
     ]
    },
    {
     "name": "stderr",
     "output_type": "stream",
     "text": [
      "Best trial: 32. Best value: 0.0906061: 100%|██████████| 50/50 [02:31<00:00,  3.04s/it]\n"
     ]
    },
    {
     "name": "stdout",
     "output_type": "stream",
     "text": [
      "[I 2025-08-21 00:31:34,240] Trial 49 finished with value: 0.08825036887888418 and parameters: {'lr': 0.00992646935365565, 'num_epochs': 9, 'batch_size': 256, 'num_neighbors': 9, 'lr_decay': 0.8829130592707173}. Best is trial 32 with value: 0.0906060892846209.\n"
     ]
    },
    {
     "name": "stderr",
     "output_type": "stream",
     "text": [
      "[I 2025-08-21 00:31:50,423] A new study created in memory with name: no-name-f7e274b5-369d-455c-af1e-6fbf34dca605\n",
      "Best trial: 0. Best value: 0.0928332:   2%|▏         | 1/50 [00:06<04:54,  6.00s/it]"
     ]
    },
    {
     "name": "stdout",
     "output_type": "stream",
     "text": [
      "[I 2025-08-21 00:31:56,424] Trial 0 finished with value: 0.0928331888828201 and parameters: {'lr': 0.00967793505055993, 'num_epochs': 7, 'batch_size': 64, 'num_neighbors': 8, 'lr_decay': 0.9380162397369879}. Best is trial 0 with value: 0.0928331888828201.\n"
     ]
    },
    {
     "name": "stderr",
     "output_type": "stream",
     "text": [
      "Best trial: 0. Best value: 0.0928332:   4%|▍         | 2/50 [00:11<04:46,  5.97s/it]"
     ]
    },
    {
     "name": "stdout",
     "output_type": "stream",
     "text": [
      "[I 2025-08-21 00:32:02,372] Trial 1 finished with value: 0.09070020935215543 and parameters: {'lr': 0.0007329333078943832, 'num_epochs': 10, 'batch_size': 128, 'num_neighbors': 6, 'lr_decay': 0.8275660644321832}. Best is trial 0 with value: 0.0928331888828201.\n"
     ]
    },
    {
     "name": "stderr",
     "output_type": "stream",
     "text": [
      "Best trial: 0. Best value: 0.0928332:   6%|▌         | 3/50 [00:17<04:33,  5.81s/it]"
     ]
    },
    {
     "name": "stdout",
     "output_type": "stream",
     "text": [
      "[I 2025-08-21 00:32:08,002] Trial 2 finished with value: 0.09064266495639717 and parameters: {'lr': 0.0012157388212658772, 'num_epochs': 2, 'batch_size': 128, 'num_neighbors': 15, 'lr_decay': 0.9856127886581864}. Best is trial 0 with value: 0.0928331888828201.\n"
     ]
    },
    {
     "name": "stderr",
     "output_type": "stream",
     "text": [
      "Best trial: 0. Best value: 0.0928332:   8%|▊         | 4/50 [00:24<04:55,  6.43s/it]"
     ]
    },
    {
     "name": "stdout",
     "output_type": "stream",
     "text": [
      "[I 2025-08-21 00:32:15,371] Trial 3 finished with value: 0.09097177970729024 and parameters: {'lr': 0.0010496302312454076, 'num_epochs': 8, 'batch_size': 64, 'num_neighbors': 7, 'lr_decay': 0.9701905222595582}. Best is trial 0 with value: 0.0928331888828201.\n"
     ]
    },
    {
     "name": "stderr",
     "output_type": "stream",
     "text": [
      "Best trial: 0. Best value: 0.0928332:  10%|█         | 5/50 [00:30<04:38,  6.19s/it]"
     ]
    },
    {
     "name": "stdout",
     "output_type": "stream",
     "text": [
      "[I 2025-08-21 00:32:21,133] Trial 4 finished with value: 0.0908258283447623 and parameters: {'lr': 0.002498183114573306, 'num_epochs': 2, 'batch_size': 64, 'num_neighbors': 3, 'lr_decay': 0.829937694885424}. Best is trial 0 with value: 0.0928331888828201.\n"
     ]
    },
    {
     "name": "stderr",
     "output_type": "stream",
     "text": [
      "Best trial: 0. Best value: 0.0928332:  12%|█▏        | 6/50 [00:36<04:21,  5.95s/it]"
     ]
    },
    {
     "name": "stdout",
     "output_type": "stream",
     "text": [
      "[I 2025-08-21 00:32:26,636] Trial 5 finished with value: 0.09068111665865278 and parameters: {'lr': 0.00266867158707067, 'num_epochs': 2, 'batch_size': 512, 'num_neighbors': 6, 'lr_decay': 0.9892686528928818}. Best is trial 0 with value: 0.0928331888828201.\n"
     ]
    },
    {
     "name": "stderr",
     "output_type": "stream",
     "text": [
      "Best trial: 0. Best value: 0.0928332:  14%|█▍        | 7/50 [00:41<04:11,  5.84s/it]"
     ]
    },
    {
     "name": "stdout",
     "output_type": "stream",
     "text": [
      "[I 2025-08-21 00:32:32,232] Trial 6 finished with value: 0.09066292504495752 and parameters: {'lr': 0.00010311225616565616, 'num_epochs': 6, 'batch_size': 512, 'num_neighbors': 5, 'lr_decay': 0.9189116448774239}. Best is trial 0 with value: 0.0928331888828201.\n"
     ]
    },
    {
     "name": "stderr",
     "output_type": "stream",
     "text": [
      "Best trial: 0. Best value: 0.0928332:  16%|█▌        | 8/50 [00:47<04:01,  5.75s/it]"
     ]
    },
    {
     "name": "stdout",
     "output_type": "stream",
     "text": [
      "[I 2025-08-21 00:32:37,779] Trial 7 finished with value: 0.09085744888859638 and parameters: {'lr': 0.006182935708190667, 'num_epochs': 1, 'batch_size': 64, 'num_neighbors': 14, 'lr_decay': 0.8089864693206275}. Best is trial 0 with value: 0.0928331888828201.\n"
     ]
    },
    {
     "name": "stderr",
     "output_type": "stream",
     "text": [
      "Best trial: 0. Best value: 0.0928332:  18%|█▊        | 9/50 [00:52<03:52,  5.68s/it]"
     ]
    },
    {
     "name": "stdout",
     "output_type": "stream",
     "text": [
      "[I 2025-08-21 00:32:43,313] Trial 8 finished with value: 0.09066496457702132 and parameters: {'lr': 0.00015179863544859367, 'num_epochs': 3, 'batch_size': 256, 'num_neighbors': 7, 'lr_decay': 0.8556437074699429}. Best is trial 0 with value: 0.0928331888828201.\n"
     ]
    },
    {
     "name": "stderr",
     "output_type": "stream",
     "text": [
      "Best trial: 0. Best value: 0.0928332:  20%|██        | 10/50 [00:59<04:04,  6.11s/it]"
     ]
    },
    {
     "name": "stdout",
     "output_type": "stream",
     "text": [
      "[I 2025-08-21 00:32:50,383] Trial 9 finished with value: 0.0914137445719202 and parameters: {'lr': 0.0032477426779553317, 'num_epochs': 5, 'batch_size': 64, 'num_neighbors': 14, 'lr_decay': 0.960264249844577}. Best is trial 0 with value: 0.0928331888828201.\n"
     ]
    },
    {
     "name": "stderr",
     "output_type": "stream",
     "text": [
      "Best trial: 0. Best value: 0.0928332:  22%|██▏       | 11/50 [01:05<03:53,  5.99s/it]"
     ]
    },
    {
     "name": "stdout",
     "output_type": "stream",
     "text": [
      "[I 2025-08-21 00:32:56,107] Trial 10 finished with value: 0.09183117426518368 and parameters: {'lr': 0.009980941948868772, 'num_epochs': 7, 'batch_size': 256, 'num_neighbors': 11, 'lr_decay': 0.9150362698495399}. Best is trial 0 with value: 0.0928331888828201.\n"
     ]
    },
    {
     "name": "stderr",
     "output_type": "stream",
     "text": [
      "Best trial: 0. Best value: 0.0928332:  24%|██▍       | 12/50 [01:11<03:44,  5.91s/it]"
     ]
    },
    {
     "name": "stdout",
     "output_type": "stream",
     "text": [
      "[I 2025-08-21 00:33:01,825] Trial 11 finished with value: 0.09169786972819678 and parameters: {'lr': 0.008600656487442543, 'num_epochs': 7, 'batch_size': 256, 'num_neighbors': 11, 'lr_decay': 0.9143398159001738}. Best is trial 0 with value: 0.0928331888828201.\n"
     ]
    },
    {
     "name": "stderr",
     "output_type": "stream",
     "text": [
      "Best trial: 0. Best value: 0.0928332:  26%|██▌       | 13/50 [01:17<03:36,  5.86s/it]"
     ]
    },
    {
     "name": "stdout",
     "output_type": "stream",
     "text": [
      "[I 2025-08-21 00:33:07,567] Trial 12 finished with value: 0.09177120341896373 and parameters: {'lr': 0.009637641565937768, 'num_epochs': 9, 'batch_size': 256, 'num_neighbors': 10, 'lr_decay': 0.8820321331409999}. Best is trial 0 with value: 0.0928331888828201.\n"
     ]
    },
    {
     "name": "stderr",
     "output_type": "stream",
     "text": [
      "Best trial: 0. Best value: 0.0928332:  28%|██▊       | 14/50 [01:22<03:28,  5.80s/it]"
     ]
    },
    {
     "name": "stdout",
     "output_type": "stream",
     "text": [
      "[I 2025-08-21 00:33:13,234] Trial 13 finished with value: 0.09092004530310911 and parameters: {'lr': 0.004780628337731958, 'num_epochs': 5, 'batch_size': 256, 'num_neighbors': 12, 'lr_decay': 0.9420063551082946}. Best is trial 0 with value: 0.0928331888828201.\n"
     ]
    },
    {
     "name": "stderr",
     "output_type": "stream",
     "text": [
      "Best trial: 0. Best value: 0.0928332:  30%|███       | 15/50 [01:29<03:37,  6.22s/it]"
     ]
    },
    {
     "name": "stdout",
     "output_type": "stream",
     "text": [
      "[I 2025-08-21 00:33:20,415] Trial 14 finished with value: 0.09069106256439062 and parameters: {'lr': 0.000343069601268587, 'num_epochs': 7, 'batch_size': 64, 'num_neighbors': 9, 'lr_decay': 0.8936685771339182}. Best is trial 0 with value: 0.0928331888828201.\n"
     ]
    },
    {
     "name": "stderr",
     "output_type": "stream",
     "text": [
      "Best trial: 0. Best value: 0.0928332:  32%|███▏      | 16/50 [01:35<03:25,  6.04s/it]"
     ]
    },
    {
     "name": "stdout",
     "output_type": "stream",
     "text": [
      "[I 2025-08-21 00:33:26,053] Trial 15 finished with value: 0.09087692404513584 and parameters: {'lr': 0.004415096360995175, 'num_epochs': 4, 'batch_size': 256, 'num_neighbors': 9, 'lr_decay': 0.9387003432602078}. Best is trial 0 with value: 0.0928331888828201.\n"
     ]
    },
    {
     "name": "stderr",
     "output_type": "stream",
     "text": [
      "Best trial: 0. Best value: 0.0928332:  34%|███▍      | 17/50 [01:41<03:17,  5.99s/it]"
     ]
    },
    {
     "name": "stdout",
     "output_type": "stream",
     "text": [
      "[I 2025-08-21 00:33:31,911] Trial 16 finished with value: 0.0908793707331866 and parameters: {'lr': 0.0017685960189376812, 'num_epochs': 8, 'batch_size': 128, 'num_neighbors': 12, 'lr_decay': 0.8722707816241946}. Best is trial 0 with value: 0.0928331888828201.\n"
     ]
    },
    {
     "name": "stderr",
     "output_type": "stream",
     "text": [
      "Best trial: 0. Best value: 0.0928332:  36%|███▌      | 18/50 [01:47<03:08,  5.88s/it]"
     ]
    },
    {
     "name": "stdout",
     "output_type": "stream",
     "text": [
      "[I 2025-08-21 00:33:37,530] Trial 17 finished with value: 0.09065816425484338 and parameters: {'lr': 0.0004837565305290414, 'num_epochs': 6, 'batch_size': 512, 'num_neighbors': 8, 'lr_decay': 0.9244433531886771}. Best is trial 0 with value: 0.0928331888828201.\n"
     ]
    },
    {
     "name": "stderr",
     "output_type": "stream",
     "text": [
      "Best trial: 0. Best value: 0.0928332:  38%|███▊      | 19/50 [01:52<03:01,  5.85s/it]"
     ]
    },
    {
     "name": "stdout",
     "output_type": "stream",
     "text": [
      "[I 2025-08-21 00:33:43,320] Trial 18 finished with value: 0.09191320913901013 and parameters: {'lr': 0.006859862712044355, 'num_epochs': 10, 'batch_size': 256, 'num_neighbors': 12, 'lr_decay': 0.9554614752590533}. Best is trial 0 with value: 0.0928331888828201.\n"
     ]
    },
    {
     "name": "stderr",
     "output_type": "stream",
     "text": [
      "Best trial: 0. Best value: 0.0928332:  40%|████      | 20/50 [02:00<03:10,  6.35s/it]"
     ]
    },
    {
     "name": "stdout",
     "output_type": "stream",
     "text": [
      "[I 2025-08-21 00:33:50,832] Trial 19 finished with value: 0.09282154878350872 and parameters: {'lr': 0.005880770792876503, 'num_epochs': 10, 'batch_size': 64, 'num_neighbors': 13, 'lr_decay': 0.9571457840622918}. Best is trial 0 with value: 0.0928331888828201.\n"
     ]
    },
    {
     "name": "stderr",
     "output_type": "stream",
     "text": [
      "Best trial: 20. Best value: 0.092924:  42%|████▏     | 21/50 [02:06<03:02,  6.30s/it]"
     ]
    },
    {
     "name": "stdout",
     "output_type": "stream",
     "text": [
      "[I 2025-08-21 00:33:57,006] Trial 20 finished with value: 0.09292396158207317 and parameters: {'lr': 0.004070408099860387, 'num_epochs': 9, 'batch_size': 64, 'num_neighbors': 4, 'lr_decay': 0.9698582101759192}. Best is trial 20 with value: 0.09292396158207317.\n"
     ]
    },
    {
     "name": "stderr",
     "output_type": "stream",
     "text": [
      "Best trial: 20. Best value: 0.092924:  44%|████▍     | 22/50 [02:12<02:55,  6.26s/it]"
     ]
    },
    {
     "name": "stdout",
     "output_type": "stream",
     "text": [
      "[I 2025-08-21 00:34:03,186] Trial 21 finished with value: 0.09285710238187195 and parameters: {'lr': 0.00444650845239077, 'num_epochs': 9, 'batch_size': 64, 'num_neighbors': 3, 'lr_decay': 0.9969425635328002}. Best is trial 20 with value: 0.09292396158207317.\n"
     ]
    },
    {
     "name": "stderr",
     "output_type": "stream",
     "text": [
      "Best trial: 20. Best value: 0.092924:  46%|████▌     | 23/50 [02:18<02:48,  6.24s/it]"
     ]
    },
    {
     "name": "stdout",
     "output_type": "stream",
     "text": [
      "[I 2025-08-21 00:34:09,372] Trial 22 finished with value: 0.09262768419663477 and parameters: {'lr': 0.004024123433957068, 'num_epochs': 9, 'batch_size': 64, 'num_neighbors': 3, 'lr_decay': 0.9982377170446775}. Best is trial 20 with value: 0.09292396158207317.\n"
     ]
    },
    {
     "name": "stderr",
     "output_type": "stream",
     "text": [
      "Best trial: 20. Best value: 0.092924:  48%|████▊     | 24/50 [02:25<02:41,  6.20s/it]"
     ]
    },
    {
     "name": "stdout",
     "output_type": "stream",
     "text": [
      "[I 2025-08-21 00:34:15,475] Trial 23 finished with value: 0.09151416893861966 and parameters: {'lr': 0.0018450969470989289, 'num_epochs': 8, 'batch_size': 64, 'num_neighbors': 4, 'lr_decay': 0.979168474200976}. Best is trial 20 with value: 0.09292396158207317.\n"
     ]
    },
    {
     "name": "stderr",
     "output_type": "stream",
     "text": [
      "Best trial: 20. Best value: 0.092924:  50%|█████     | 25/50 [02:32<02:43,  6.54s/it]"
     ]
    },
    {
     "name": "stdout",
     "output_type": "stream",
     "text": [
      "[I 2025-08-21 00:34:22,801] Trial 24 finished with value: 0.0914281532143431 and parameters: {'lr': 0.001915832084307835, 'num_epochs': 9, 'batch_size': 64, 'num_neighbors': 4, 'lr_decay': 0.9426495114880001}. Best is trial 20 with value: 0.09292396158207317.\n"
     ]
    },
    {
     "name": "stderr",
     "output_type": "stream",
     "text": [
      "Best trial: 20. Best value: 0.092924:  52%|█████▏    | 26/50 [02:38<02:34,  6.44s/it]"
     ]
    },
    {
     "name": "stdout",
     "output_type": "stream",
     "text": [
      "[I 2025-08-21 00:34:29,021] Trial 25 finished with value: 0.09238124255987011 and parameters: {'lr': 0.0034652759537670583, 'num_epochs': 9, 'batch_size': 64, 'num_neighbors': 5, 'lr_decay': 0.9695989807956923}. Best is trial 20 with value: 0.09292396158207317.\n"
     ]
    },
    {
     "name": "stderr",
     "output_type": "stream",
     "text": [
      "Best trial: 20. Best value: 0.092924:  54%|█████▍    | 27/50 [02:44<02:26,  6.37s/it]"
     ]
    },
    {
     "name": "stdout",
     "output_type": "stream",
     "text": [
      "[I 2025-08-21 00:34:35,221] Trial 26 finished with value: 0.09228324409164197 and parameters: {'lr': 0.006487073604837897, 'num_epochs': 8, 'batch_size': 64, 'num_neighbors': 4, 'lr_decay': 0.9923239318567999}. Best is trial 20 with value: 0.09292396158207317.\n"
     ]
    },
    {
     "name": "stderr",
     "output_type": "stream",
     "text": [
      "Best trial: 20. Best value: 0.092924:  56%|█████▌    | 28/50 [02:50<02:18,  6.31s/it]"
     ]
    },
    {
     "name": "stdout",
     "output_type": "stream",
     "text": [
      "[I 2025-08-21 00:34:41,394] Trial 27 finished with value: 0.09239410613854906 and parameters: {'lr': 0.005004120298560806, 'num_epochs': 7, 'batch_size': 64, 'num_neighbors': 3, 'lr_decay': 0.9758595732271718}. Best is trial 20 with value: 0.09292396158207317.\n"
     ]
    },
    {
     "name": "stderr",
     "output_type": "stream",
     "text": [
      "Best trial: 20. Best value: 0.092924:  58%|█████▊    | 29/50 [02:57<02:12,  6.29s/it]"
     ]
    },
    {
     "name": "stdout",
     "output_type": "stream",
     "text": [
      "[I 2025-08-21 00:34:47,644] Trial 28 finished with value: 0.09218535623955983 and parameters: {'lr': 0.0025130198609096136, 'num_epochs': 9, 'batch_size': 64, 'num_neighbors': 5, 'lr_decay': 0.9998310044209748}. Best is trial 20 with value: 0.09292396158207317.\n"
     ]
    },
    {
     "name": "stderr",
     "output_type": "stream",
     "text": [
      "Best trial: 20. Best value: 0.092924:  60%|██████    | 30/50 [03:04<02:10,  6.52s/it]"
     ]
    },
    {
     "name": "stdout",
     "output_type": "stream",
     "text": [
      "[I 2025-08-21 00:34:54,700] Trial 29 finished with value: 0.09091358453450607 and parameters: {'lr': 0.001266247067661524, 'num_epochs': 10, 'batch_size': 128, 'num_neighbors': 6, 'lr_decay': 0.9341535365214252}. Best is trial 20 with value: 0.09292396158207317.\n"
     ]
    },
    {
     "name": "stderr",
     "output_type": "stream",
     "text": [
      "Best trial: 20. Best value: 0.092924:  62%|██████▏   | 31/50 [03:10<02:00,  6.36s/it]"
     ]
    },
    {
     "name": "stdout",
     "output_type": "stream",
     "text": [
      "[I 2025-08-21 00:35:00,702] Trial 30 finished with value: 0.09078166682874307 and parameters: {'lr': 0.0006630014389136794, 'num_epochs': 6, 'batch_size': 64, 'num_neighbors': 7, 'lr_decay': 0.9509809525056548}. Best is trial 20 with value: 0.09292396158207317.\n"
     ]
    },
    {
     "name": "stderr",
     "output_type": "stream",
     "text": [
      "Best trial: 20. Best value: 0.092924:  64%|██████▍   | 32/50 [03:16<01:54,  6.35s/it]"
     ]
    },
    {
     "name": "stdout",
     "output_type": "stream",
     "text": [
      "[I 2025-08-21 00:35:07,019] Trial 31 finished with value: 0.09253116559151135 and parameters: {'lr': 0.007041052946881931, 'num_epochs': 10, 'batch_size': 64, 'num_neighbors': 13, 'lr_decay': 0.9637544417552886}. Best is trial 20 with value: 0.09292396158207317.\n"
     ]
    },
    {
     "name": "stderr",
     "output_type": "stream",
     "text": [
      "Best trial: 32. Best value: 0.0929949:  66%|██████▌   | 33/50 [03:22<01:47,  6.32s/it]"
     ]
    },
    {
     "name": "stdout",
     "output_type": "stream",
     "text": [
      "[I 2025-08-21 00:35:13,264] Trial 32 finished with value: 0.09299490474741749 and parameters: {'lr': 0.005895350713116197, 'num_epochs': 10, 'batch_size': 64, 'num_neighbors': 8, 'lr_decay': 0.9823036023950426}. Best is trial 32 with value: 0.09299490474741749.\n"
     ]
    },
    {
     "name": "stderr",
     "output_type": "stream",
     "text": [
      "Best trial: 32. Best value: 0.0929949:  68%|██████▊   | 34/50 [03:28<01:38,  6.19s/it]"
     ]
    },
    {
     "name": "stdout",
     "output_type": "stream",
     "text": [
      "[I 2025-08-21 00:35:19,145] Trial 33 finished with value: 0.0927271967192579 and parameters: {'lr': 0.007932404519322487, 'num_epochs': 8, 'batch_size': 128, 'num_neighbors': 8, 'lr_decay': 0.9831788450618478}. Best is trial 32 with value: 0.09299490474741749.\n"
     ]
    },
    {
     "name": "stderr",
     "output_type": "stream",
     "text": [
      "Best trial: 32. Best value: 0.0929949:  70%|███████   | 35/50 [03:36<01:38,  6.56s/it]"
     ]
    },
    {
     "name": "stdout",
     "output_type": "stream",
     "text": [
      "[I 2025-08-21 00:35:26,564] Trial 34 finished with value: 0.0927357614719927 and parameters: {'lr': 0.003997629775083896, 'num_epochs': 10, 'batch_size': 64, 'num_neighbors': 8, 'lr_decay': 0.9743544743503785}. Best is trial 32 with value: 0.09299490474741749.\n"
     ]
    },
    {
     "name": "stderr",
     "output_type": "stream",
     "text": [
      "Best trial: 32. Best value: 0.0929949:  72%|███████▏  | 36/50 [03:42<01:30,  6.46s/it]"
     ]
    },
    {
     "name": "stdout",
     "output_type": "stream",
     "text": [
      "[I 2025-08-21 00:35:32,814] Trial 35 finished with value: 0.09211341118357248 and parameters: {'lr': 0.0029214930415795625, 'num_epochs': 9, 'batch_size': 64, 'num_neighbors': 6, 'lr_decay': 0.984641579176817}. Best is trial 32 with value: 0.09299490474741749.\n"
     ]
    },
    {
     "name": "stderr",
     "output_type": "stream",
     "text": [
      "Best trial: 32. Best value: 0.0929949:  74%|███████▍  | 37/50 [03:48<01:20,  6.22s/it]"
     ]
    },
    {
     "name": "stdout",
     "output_type": "stream",
     "text": [
      "[I 2025-08-21 00:35:38,461] Trial 36 finished with value: 0.09123727300006337 and parameters: {'lr': 0.005193359863666673, 'num_epochs': 8, 'batch_size': 512, 'num_neighbors': 7, 'lr_decay': 0.9676454862109612}. Best is trial 32 with value: 0.09299490474741749.\n"
     ]
    },
    {
     "name": "stderr",
     "output_type": "stream",
     "text": [
      "Best trial: 32. Best value: 0.0929949:  76%|███████▌  | 38/50 [03:54<01:15,  6.28s/it]"
     ]
    },
    {
     "name": "stdout",
     "output_type": "stream",
     "text": [
      "[I 2025-08-21 00:35:44,868] Trial 37 finished with value: 0.09182900976107447 and parameters: {'lr': 0.0020353362551201164, 'num_epochs': 10, 'batch_size': 64, 'num_neighbors': 10, 'lr_decay': 0.9910822163089141}. Best is trial 32 with value: 0.09299490474741749.\n"
     ]
    },
    {
     "name": "stderr",
     "output_type": "stream",
     "text": [
      "Best trial: 32. Best value: 0.0929949:  78%|███████▊  | 39/50 [04:01<01:12,  6.62s/it]"
     ]
    },
    {
     "name": "stdout",
     "output_type": "stream",
     "text": [
      "[I 2025-08-21 00:35:52,286] Trial 38 finished with value: 0.09129886674037534 and parameters: {'lr': 0.0014084195035029513, 'num_epochs': 9, 'batch_size': 64, 'num_neighbors': 3, 'lr_decay': 0.9810932680412976}. Best is trial 32 with value: 0.09299490474741749.\n"
     ]
    },
    {
     "name": "stderr",
     "output_type": "stream",
     "text": [
      "Best trial: 32. Best value: 0.0929949:  80%|████████  | 40/50 [04:07<01:03,  6.33s/it]"
     ]
    },
    {
     "name": "stdout",
     "output_type": "stream",
     "text": [
      "[I 2025-08-21 00:35:57,933] Trial 39 finished with value: 0.09099856164902062 and parameters: {'lr': 0.007700904862278288, 'num_epochs': 7, 'batch_size': 512, 'num_neighbors': 5, 'lr_decay': 0.949927413357724}. Best is trial 32 with value: 0.09299490474741749.\n"
     ]
    },
    {
     "name": "stderr",
     "output_type": "stream",
     "text": [
      "Best trial: 32. Best value: 0.0929949:  82%|████████▏ | 41/50 [04:13<00:55,  6.15s/it]"
     ]
    },
    {
     "name": "stdout",
     "output_type": "stream",
     "text": [
      "[I 2025-08-21 00:36:03,665] Trial 40 finished with value: 0.09078725937428106 and parameters: {'lr': 0.000874389618199897, 'num_epochs': 6, 'batch_size': 128, 'num_neighbors': 4, 'lr_decay': 0.9245787751654818}. Best is trial 32 with value: 0.09299490474741749.\n"
     ]
    },
    {
     "name": "stderr",
     "output_type": "stream",
     "text": [
      "Best trial: 32. Best value: 0.0929949:  84%|████████▍ | 42/50 [04:19<00:49,  6.21s/it]"
     ]
    },
    {
     "name": "stdout",
     "output_type": "stream",
     "text": [
      "[I 2025-08-21 00:36:10,028] Trial 41 finished with value: 0.09245132433920468 and parameters: {'lr': 0.005689199887760583, 'num_epochs': 10, 'batch_size': 64, 'num_neighbors': 15, 'lr_decay': 0.959759153604766}. Best is trial 32 with value: 0.09299490474741749.\n"
     ]
    },
    {
     "name": "stderr",
     "output_type": "stream",
     "text": [
      "Best trial: 32. Best value: 0.0929949:  86%|████████▌ | 43/50 [04:25<00:43,  6.25s/it]"
     ]
    },
    {
     "name": "stdout",
     "output_type": "stream",
     "text": [
      "[I 2025-08-21 00:36:16,348] Trial 42 finished with value: 0.0925961782834534 and parameters: {'lr': 0.003654951265943435, 'num_epochs': 10, 'batch_size': 64, 'num_neighbors': 9, 'lr_decay': 0.9701218643706592}. Best is trial 32 with value: 0.09299490474741749.\n"
     ]
    },
    {
     "name": "stderr",
     "output_type": "stream",
     "text": [
      "Best trial: 32. Best value: 0.0929949:  88%|████████▊ | 44/50 [04:33<00:39,  6.61s/it]"
     ]
    },
    {
     "name": "stdout",
     "output_type": "stream",
     "text": [
      "[I 2025-08-21 00:36:23,802] Trial 43 finished with value: 0.09271179552710464 and parameters: {'lr': 0.005649157107870741, 'num_epochs': 9, 'batch_size': 64, 'num_neighbors': 14, 'lr_decay': 0.9051446078745062}. Best is trial 32 with value: 0.09299490474741749.\n"
     ]
    },
    {
     "name": "stderr",
     "output_type": "stream",
     "text": [
      "Best trial: 32. Best value: 0.0929949:  90%|█████████ | 45/50 [04:39<00:32,  6.48s/it]"
     ]
    },
    {
     "name": "stdout",
     "output_type": "stream",
     "text": [
      "[W 2025-08-21 00:36:29,996] Trial 44 failed with parameters: {'lr': 0.009415770707285276, 'num_epochs': 8, 'batch_size': 64, 'num_neighbors': 10, 'lr_decay': 0.9502254422360972} because of the following error: The value [nan] is not acceptable.\n",
      "[W 2025-08-21 00:36:30,000] Trial 44 failed with value array([nan]).\n"
     ]
    },
    {
     "name": "stderr",
     "output_type": "stream",
     "text": [
      "Best trial: 32. Best value: 0.0929949:  92%|█████████▏| 46/50 [04:45<00:25,  6.39s/it]"
     ]
    },
    {
     "name": "stdout",
     "output_type": "stream",
     "text": [
      "[I 2025-08-21 00:36:36,170] Trial 45 finished with value: 0.09282875641965727 and parameters: {'lr': 0.009179685890004823, 'num_epochs': 8, 'batch_size': 64, 'num_neighbors': 8, 'lr_decay': 0.9321473143798327}. Best is trial 32 with value: 0.09299490474741749.\n"
     ]
    },
    {
     "name": "stderr",
     "output_type": "stream",
     "text": [
      "Best trial: 32. Best value: 0.0929949:  94%|█████████▍| 47/50 [04:51<00:18,  6.32s/it]"
     ]
    },
    {
     "name": "stdout",
     "output_type": "stream",
     "text": [
      "[I 2025-08-21 00:36:42,311] Trial 46 finished with value: 0.09261550460150934 and parameters: {'lr': 0.009189920942660378, 'num_epochs': 8, 'batch_size': 64, 'num_neighbors': 10, 'lr_decay': 0.9292304410949273}. Best is trial 32 with value: 0.09299490474741749.\n"
     ]
    },
    {
     "name": "stderr",
     "output_type": "stream",
     "text": [
      "Best trial: 47. Best value: 0.0930918:  96%|█████████▌| 48/50 [04:58<00:12,  6.26s/it]"
     ]
    },
    {
     "name": "stdout",
     "output_type": "stream",
     "text": [
      "[I 2025-08-21 00:36:48,455] Trial 47 finished with value: 0.09309184257302563 and parameters: {'lr': 0.00959986889748148, 'num_epochs': 8, 'batch_size': 64, 'num_neighbors': 7, 'lr_decay': 0.8406138608121959}. Best is trial 47 with value: 0.09309184257302563.\n"
     ]
    },
    {
     "name": "stderr",
     "output_type": "stream",
     "text": [
      "Best trial: 47. Best value: 0.0930918:  98%|█████████▊| 49/50 [05:05<00:06,  6.55s/it]"
     ]
    },
    {
     "name": "stdout",
     "output_type": "stream",
     "text": [
      "[I 2025-08-21 00:36:55,676] Trial 48 finished with value: 0.09067563078633278 and parameters: {'lr': 0.00022580901036334087, 'num_epochs': 7, 'batch_size': 64, 'num_neighbors': 6, 'lr_decay': 0.8289330887301152}. Best is trial 47 with value: 0.09309184257302563.\n"
     ]
    },
    {
     "name": "stderr",
     "output_type": "stream",
     "text": [
      "Best trial: 47. Best value: 0.0930918: 100%|██████████| 50/50 [05:10<00:00,  6.22s/it]\n"
     ]
    },
    {
     "name": "stdout",
     "output_type": "stream",
     "text": [
      "[I 2025-08-21 00:37:01,340] Trial 49 finished with value: 0.09074768847666542 and parameters: {'lr': 0.0029861193091289587, 'num_epochs': 8, 'batch_size': 512, 'num_neighbors': 7, 'lr_decay': 0.8064038726341657}. Best is trial 47 with value: 0.09309184257302563.\n"
     ]
    },
    {
     "name": "stderr",
     "output_type": "stream",
     "text": [
      "[I 2025-08-21 00:37:31,752] A new study created in memory with name: no-name-139faeb6-7376-4e66-8973-41479a22113f\n",
      "  2%|▏         | 1/50 [00:36<30:00, 36.75s/it]"
     ]
    },
    {
     "name": "stdout",
     "output_type": "stream",
     "text": [
      "[W 2025-08-21 00:38:08,501] Trial 0 failed with parameters: {'lr': 0.00959986889748148, 'num_epochs': 8, 'batch_size': 64, 'num_neighbors': 7, 'lr_decay': 0.8406138608121959} because of the following error: The value [nan] is not acceptable.\n",
      "[W 2025-08-21 00:38:08,506] Trial 0 failed with value array([nan]).\n"
     ]
    },
    {
     "name": "stderr",
     "output_type": "stream",
     "text": [
      "  4%|▍         | 2/50 [01:12<28:52, 36.09s/it]"
     ]
    },
    {
     "name": "stdout",
     "output_type": "stream",
     "text": [
      "[W 2025-08-21 00:38:44,128] Trial 1 failed with parameters: {'lr': 0.0033775236110145483, 'num_epochs': 9, 'batch_size': 128, 'num_neighbors': 7, 'lr_decay': 0.9166969246205543} because of the following error: The value [nan] is not acceptable.\n",
      "[W 2025-08-21 00:38:44,132] Trial 1 failed with value array([nan]).\n"
     ]
    },
    {
     "name": "stderr",
     "output_type": "stream",
     "text": [
      "Best trial: 2. Best value: 0.092663:   6%|▌         | 3/50 [01:47<27:47, 35.48s/it]"
     ]
    },
    {
     "name": "stdout",
     "output_type": "stream",
     "text": [
      "[I 2025-08-21 00:39:18,893] Trial 2 finished with value: 0.09266300479261394 and parameters: {'lr': 0.0001974200612021673, 'num_epochs': 10, 'batch_size': 256, 'num_neighbors': 10, 'lr_decay': 0.9811894365414371}. Best is trial 2 with value: 0.09266300479261394.\n"
     ]
    },
    {
     "name": "stderr",
     "output_type": "stream",
     "text": [
      "Best trial: 3. Best value: 0.092711:   8%|▊         | 4/50 [02:21<26:45, 34.90s/it]"
     ]
    },
    {
     "name": "stdout",
     "output_type": "stream",
     "text": [
      "[I 2025-08-21 00:39:52,889] Trial 3 finished with value: 0.09271099482681441 and parameters: {'lr': 0.00011621331359312306, 'num_epochs': 4, 'batch_size': 256, 'num_neighbors': 9, 'lr_decay': 0.825467686666892}. Best is trial 3 with value: 0.09271099482681441.\n"
     ]
    },
    {
     "name": "stderr",
     "output_type": "stream",
     "text": [
      "Best trial: 3. Best value: 0.092711:  10%|█         | 5/50 [02:55<26:05, 34.80s/it]"
     ]
    },
    {
     "name": "stdout",
     "output_type": "stream",
     "text": [
      "[I 2025-08-21 00:40:27,514] Trial 4 finished with value: 0.09017214699976261 and parameters: {'lr': 0.0026284435291000084, 'num_epochs': 9, 'batch_size': 256, 'num_neighbors': 11, 'lr_decay': 0.9323727209680521}. Best is trial 3 with value: 0.09271099482681441.\n"
     ]
    },
    {
     "name": "stderr",
     "output_type": "stream",
     "text": [
      "Best trial: 3. Best value: 0.092711:  12%|█▏        | 6/50 [03:29<25:20, 34.57s/it]"
     ]
    },
    {
     "name": "stdout",
     "output_type": "stream",
     "text": [
      "[I 2025-08-21 00:41:01,631] Trial 5 finished with value: 0.09263586986455462 and parameters: {'lr': 0.0006908868942902913, 'num_epochs': 8, 'batch_size': 512, 'num_neighbors': 6, 'lr_decay': 0.8258061417532793}. Best is trial 3 with value: 0.09271099482681441.\n"
     ]
    },
    {
     "name": "stderr",
     "output_type": "stream",
     "text": [
      "Best trial: 3. Best value: 0.092711:  14%|█▍        | 7/50 [04:05<25:02, 34.95s/it]"
     ]
    },
    {
     "name": "stdout",
     "output_type": "stream",
     "text": [
      "[I 2025-08-21 00:41:37,362] Trial 6 finished with value: 0.09095579409349079 and parameters: {'lr': 0.0013470151213238184, 'num_epochs': 3, 'batch_size': 64, 'num_neighbors': 6, 'lr_decay': 0.9429969184034729}. Best is trial 3 with value: 0.09271099482681441.\n"
     ]
    },
    {
     "name": "stderr",
     "output_type": "stream",
     "text": [
      "Best trial: 3. Best value: 0.092711:  16%|█▌        | 8/50 [04:39<24:15, 34.66s/it]"
     ]
    },
    {
     "name": "stdout",
     "output_type": "stream",
     "text": [
      "[I 2025-08-21 00:42:11,416] Trial 7 finished with value: 0.09264835081288082 and parameters: {'lr': 0.00150190071996867, 'num_epochs': 4, 'batch_size': 512, 'num_neighbors': 11, 'lr_decay': 0.9894634704021761}. Best is trial 3 with value: 0.09271099482681441.\n"
     ]
    },
    {
     "name": "stderr",
     "output_type": "stream",
     "text": [
      "Best trial: 3. Best value: 0.092711:  18%|█▊        | 9/50 [05:15<23:57, 35.06s/it]"
     ]
    },
    {
     "name": "stdout",
     "output_type": "stream",
     "text": [
      "[W 2025-08-21 00:42:47,339] Trial 8 failed with parameters: {'lr': 0.007554858034419314, 'num_epochs': 6, 'batch_size': 64, 'num_neighbors': 6, 'lr_decay': 0.957624570735697} because of the following error: The value [nan] is not acceptable.\n",
      "[W 2025-08-21 00:42:47,342] Trial 8 failed with value array([nan]).\n"
     ]
    },
    {
     "name": "stderr",
     "output_type": "stream",
     "text": [
      "Best trial: 3. Best value: 0.092711:  20%|██        | 10/50 [05:49<23:13, 34.84s/it]"
     ]
    },
    {
     "name": "stdout",
     "output_type": "stream",
     "text": [
      "[I 2025-08-21 00:43:21,689] Trial 9 finished with value: 0.09270153857960892 and parameters: {'lr': 0.0002314748961198708, 'num_epochs': 6, 'batch_size': 256, 'num_neighbors': 13, 'lr_decay': 0.9926170211610039}. Best is trial 3 with value: 0.09271099482681441.\n"
     ]
    },
    {
     "name": "stderr",
     "output_type": "stream",
     "text": [
      "Best trial: 3. Best value: 0.092711:  22%|██▏       | 11/50 [06:23<22:28, 34.57s/it]"
     ]
    },
    {
     "name": "stdout",
     "output_type": "stream",
     "text": [
      "[I 2025-08-21 00:43:55,648] Trial 10 finished with value: 0.09269866426093293 and parameters: {'lr': 0.00028198095767398995, 'num_epochs': 4, 'batch_size': 512, 'num_neighbors': 8, 'lr_decay': 0.9311400273589896}. Best is trial 3 with value: 0.09271099482681441.\n"
     ]
    },
    {
     "name": "stderr",
     "output_type": "stream",
     "text": [
      "Best trial: 3. Best value: 0.092711:  24%|██▍       | 12/50 [07:00<22:19, 35.26s/it]"
     ]
    },
    {
     "name": "stdout",
     "output_type": "stream",
     "text": [
      "[I 2025-08-21 00:44:32,482] Trial 11 finished with value: 0.09180060307715392 and parameters: {'lr': 0.0005642964850650179, 'num_epochs': 8, 'batch_size': 64, 'num_neighbors': 12, 'lr_decay': 0.8230441286742194}. Best is trial 3 with value: 0.09271099482681441.\n"
     ]
    },
    {
     "name": "stderr",
     "output_type": "stream",
     "text": [
      "Best trial: 3. Best value: 0.092711:  26%|██▌       | 13/50 [07:35<21:38, 35.09s/it]"
     ]
    },
    {
     "name": "stdout",
     "output_type": "stream",
     "text": [
      "[I 2025-08-21 00:45:07,180] Trial 12 finished with value: 0.09119791075195482 and parameters: {'lr': 0.0021304256481622028, 'num_epochs': 8, 'batch_size': 256, 'num_neighbors': 9, 'lr_decay': 0.8760181789580301}. Best is trial 3 with value: 0.09271099482681441.\n"
     ]
    },
    {
     "name": "stderr",
     "output_type": "stream",
     "text": [
      "Best trial: 3. Best value: 0.092711:  28%|██▊       | 14/50 [08:09<20:53, 34.82s/it]"
     ]
    },
    {
     "name": "stdout",
     "output_type": "stream",
     "text": [
      "[I 2025-08-21 00:45:41,393] Trial 13 finished with value: 0.08881157304822776 and parameters: {'lr': 0.009215508232680901, 'num_epochs': 2, 'batch_size': 128, 'num_neighbors': 15, 'lr_decay': 0.8657167042068359}. Best is trial 3 with value: 0.09271099482681441.\n"
     ]
    },
    {
     "name": "stderr",
     "output_type": "stream",
     "text": [
      "Best trial: 3. Best value: 0.092711:  30%|███       | 15/50 [08:45<20:25, 35.03s/it]"
     ]
    },
    {
     "name": "stdout",
     "output_type": "stream",
     "text": [
      "[I 2025-08-21 00:46:16,891] Trial 14 finished with value: 0.0927087058454921 and parameters: {'lr': 0.00010367275666383458, 'num_epochs': 6, 'batch_size': 256, 'num_neighbors': 3, 'lr_decay': 0.8049545079700914}. Best is trial 3 with value: 0.09271099482681441.\n"
     ]
    },
    {
     "name": "stderr",
     "output_type": "stream",
     "text": [
      "Best trial: 3. Best value: 0.092711:  32%|███▏      | 16/50 [09:19<19:43, 34.82s/it]"
     ]
    },
    {
     "name": "stdout",
     "output_type": "stream",
     "text": [
      "[I 2025-08-21 00:46:51,233] Trial 15 finished with value: 0.09270892890769622 and parameters: {'lr': 0.00010079142970072679, 'num_epochs': 6, 'batch_size': 256, 'num_neighbors': 3, 'lr_decay': 0.8093470057485267}. Best is trial 3 with value: 0.09271099482681441.\n"
     ]
    },
    {
     "name": "stderr",
     "output_type": "stream",
     "text": [
      "Best trial: 16. Best value: 0.0927176:  34%|███▍      | 17/50 [09:53<18:57, 34.45s/it]"
     ]
    },
    {
     "name": "stdout",
     "output_type": "stream",
     "text": [
      "[I 2025-08-21 00:47:24,836] Trial 16 finished with value: 0.0927176286558721 and parameters: {'lr': 0.00010458811468682857, 'num_epochs': 1, 'batch_size': 128, 'num_neighbors': 4, 'lr_decay': 0.8529326353770746}. Best is trial 16 with value: 0.0927176286558721.\n"
     ]
    },
    {
     "name": "stderr",
     "output_type": "stream",
     "text": [
      "Best trial: 16. Best value: 0.0927176:  36%|███▌      | 18/50 [10:26<18:15, 34.22s/it]"
     ]
    },
    {
     "name": "stdout",
     "output_type": "stream",
     "text": [
      "[I 2025-08-21 00:47:58,514] Trial 17 finished with value: 0.0927066606100248 and parameters: {'lr': 0.0003840091554314159, 'num_epochs': 1, 'batch_size': 128, 'num_neighbors': 6, 'lr_decay': 0.8523421854648848}. Best is trial 16 with value: 0.0927176286558721.\n"
     ]
    },
    {
     "name": "stderr",
     "output_type": "stream",
     "text": [
      "Best trial: 18. Best value: 0.0927178:  38%|███▊      | 19/50 [11:00<17:38, 34.14s/it]"
     ]
    },
    {
     "name": "stdout",
     "output_type": "stream",
     "text": [
      "[I 2025-08-21 00:48:32,457] Trial 18 finished with value: 0.0927178006040795 and parameters: {'lr': 0.00015405122066526142, 'num_epochs': 1, 'batch_size': 128, 'num_neighbors': 5, 'lr_decay': 0.8425741113224197}. Best is trial 18 with value: 0.0927178006040795.\n"
     ]
    },
    {
     "name": "stderr",
     "output_type": "stream",
     "text": [
      "Best trial: 18. Best value: 0.0927178:  40%|████      | 20/50 [11:34<16:59, 33.98s/it]"
     ]
    },
    {
     "name": "stdout",
     "output_type": "stream",
     "text": [
      "[I 2025-08-21 00:49:06,076] Trial 19 finished with value: 0.0927120874843292 and parameters: {'lr': 0.00017366649147410675, 'num_epochs': 1, 'batch_size': 128, 'num_neighbors': 4, 'lr_decay': 0.894003275557091}. Best is trial 18 with value: 0.0927178006040795.\n"
     ]
    },
    {
     "name": "stderr",
     "output_type": "stream",
     "text": [
      "Best trial: 18. Best value: 0.0927178:  42%|████▏     | 21/50 [12:08<16:24, 33.95s/it]"
     ]
    },
    {
     "name": "stdout",
     "output_type": "stream",
     "text": [
      "[I 2025-08-21 00:49:39,948] Trial 20 finished with value: 0.09267673162017986 and parameters: {'lr': 0.00040580353822445143, 'num_epochs': 2, 'batch_size': 128, 'num_neighbors': 5, 'lr_decay': 0.8502934375111919}. Best is trial 18 with value: 0.0927178006040795.\n"
     ]
    },
    {
     "name": "stderr",
     "output_type": "stream",
     "text": [
      "Best trial: 18. Best value: 0.0927178:  44%|████▍     | 22/50 [12:42<15:51, 33.99s/it]"
     ]
    },
    {
     "name": "stdout",
     "output_type": "stream",
     "text": [
      "[I 2025-08-21 00:50:14,043] Trial 21 finished with value: 0.08931940026975135 and parameters: {'lr': 0.005999761034805141, 'num_epochs': 2, 'batch_size': 128, 'num_neighbors': 7, 'lr_decay': 0.9021654850907483}. Best is trial 18 with value: 0.0927178006040795.\n"
     ]
    },
    {
     "name": "stderr",
     "output_type": "stream",
     "text": [
      "Best trial: 18. Best value: 0.0927178:  46%|████▌     | 23/50 [13:16<15:19, 34.04s/it]"
     ]
    },
    {
     "name": "stdout",
     "output_type": "stream",
     "text": [
      "[I 2025-08-21 00:50:48,189] Trial 22 finished with value: 0.09270005168054488 and parameters: {'lr': 0.00018290468710038967, 'num_epochs': 3, 'batch_size': 128, 'num_neighbors': 4, 'lr_decay': 0.8451528315901539}. Best is trial 18 with value: 0.0927178006040795.\n"
     ]
    },
    {
     "name": "stderr",
     "output_type": "stream",
     "text": [
      "Best trial: 18. Best value: 0.0927178:  48%|████▊     | 24/50 [13:50<14:42, 33.95s/it]"
     ]
    },
    {
     "name": "stdout",
     "output_type": "stream",
     "text": [
      "[I 2025-08-21 00:51:21,939] Trial 23 finished with value: 0.09267508432315746 and parameters: {'lr': 0.0007462317617394901, 'num_epochs': 1, 'batch_size': 128, 'num_neighbors': 5, 'lr_decay': 0.8839139655053289}. Best is trial 18 with value: 0.0927178006040795.\n"
     ]
    },
    {
     "name": "stderr",
     "output_type": "stream",
     "text": [
      "Best trial: 18. Best value: 0.0927178:  50%|█████     | 25/50 [14:24<14:15, 34.21s/it]"
     ]
    },
    {
     "name": "stdout",
     "output_type": "stream",
     "text": [
      "[I 2025-08-21 00:51:56,746] Trial 24 finished with value: 0.09271487670010524 and parameters: {'lr': 0.0001648961858124331, 'num_epochs': 1, 'batch_size': 128, 'num_neighbors': 4, 'lr_decay': 0.8978085605174945}. Best is trial 18 with value: 0.0927178006040795.\n"
     ]
    },
    {
     "name": "stderr",
     "output_type": "stream",
     "text": [
      "Best trial: 18. Best value: 0.0927178:  52%|█████▏    | 26/50 [14:58<13:37, 34.08s/it]"
     ]
    },
    {
     "name": "stdout",
     "output_type": "stream",
     "text": [
      "[I 2025-08-21 00:52:30,522] Trial 25 finished with value: 0.09271165697084607 and parameters: {'lr': 0.00015596352835849184, 'num_epochs': 1, 'batch_size': 128, 'num_neighbors': 4, 'lr_decay': 0.9109204136692161}. Best is trial 18 with value: 0.0927178006040795.\n"
     ]
    },
    {
     "name": "stderr",
     "output_type": "stream",
     "text": [
      "Best trial: 18. Best value: 0.0927178:  54%|█████▍    | 27/50 [15:32<13:03, 34.09s/it]"
     ]
    },
    {
     "name": "stdout",
     "output_type": "stream",
     "text": [
      "[I 2025-08-21 00:53:04,620] Trial 26 finished with value: 0.09266798291547335 and parameters: {'lr': 0.0003257309058649371, 'num_epochs': 3, 'batch_size': 128, 'num_neighbors': 3, 'lr_decay': 0.8645273359099976}. Best is trial 18 with value: 0.0927178006040795.\n"
     ]
    },
    {
     "name": "stderr",
     "output_type": "stream",
     "text": [
      "Best trial: 18. Best value: 0.0927178:  56%|█████▌    | 28/50 [16:07<12:31, 34.14s/it]"
     ]
    },
    {
     "name": "stdout",
     "output_type": "stream",
     "text": [
      "[I 2025-08-21 00:53:38,891] Trial 27 finished with value: 0.09271152007832792 and parameters: {'lr': 0.00014004764875152434, 'num_epochs': 2, 'batch_size': 128, 'num_neighbors': 7, 'lr_decay': 0.8387619520655237}. Best is trial 18 with value: 0.0927178006040795.\n"
     ]
    },
    {
     "name": "stderr",
     "output_type": "stream",
     "text": [
      "Best trial: 18. Best value: 0.0927178:  58%|█████▊    | 29/50 [16:42<12:05, 34.55s/it]"
     ]
    },
    {
     "name": "stdout",
     "output_type": "stream",
     "text": [
      "[I 2025-08-21 00:54:14,404] Trial 28 finished with value: 0.09264005802135568 and parameters: {'lr': 0.00025396551411013043, 'num_epochs': 5, 'batch_size': 64, 'num_neighbors': 5, 'lr_decay': 0.9179723325507135}. Best is trial 18 with value: 0.0927178006040795.\n"
     ]
    },
    {
     "name": "stderr",
     "output_type": "stream",
     "text": [
      "Best trial: 18. Best value: 0.0927178:  60%|██████    | 30/50 [17:16<11:26, 34.34s/it]"
     ]
    },
    {
     "name": "stdout",
     "output_type": "stream",
     "text": [
      "[I 2025-08-21 00:54:48,258] Trial 29 finished with value: 0.09271335451662478 and parameters: {'lr': 0.00014757046982459391, 'num_epochs': 1, 'batch_size': 128, 'num_neighbors': 7, 'lr_decay': 0.9666934795413837}. Best is trial 18 with value: 0.0927178006040795.\n"
     ]
    },
    {
     "name": "stderr",
     "output_type": "stream",
     "text": [
      "Best trial: 18. Best value: 0.0927178:  62%|██████▏   | 31/50 [17:50<10:49, 34.18s/it]"
     ]
    },
    {
     "name": "stdout",
     "output_type": "stream",
     "text": [
      "[I 2025-08-21 00:55:22,057] Trial 30 finished with value: 0.09266414372300183 and parameters: {'lr': 0.0004711538677189089, 'num_epochs': 2, 'batch_size': 128, 'num_neighbors': 4, 'lr_decay': 0.8797876392464583}. Best is trial 18 with value: 0.0927178006040795.\n"
     ]
    },
    {
     "name": "stderr",
     "output_type": "stream",
     "text": [
      "Best trial: 18. Best value: 0.0927178:  64%|██████▍   | 32/50 [18:24<10:14, 34.13s/it]"
     ]
    },
    {
     "name": "stdout",
     "output_type": "stream",
     "text": [
      "[I 2025-08-21 00:55:56,057] Trial 31 finished with value: 0.09270815992969912 and parameters: {'lr': 0.00023913459215387303, 'num_epochs': 3, 'batch_size': 128, 'num_neighbors': 5, 'lr_decay': 0.8652866616132583}. Best is trial 18 with value: 0.0927178006040795.\n"
     ]
    },
    {
     "name": "stderr",
     "output_type": "stream",
     "text": [
      "Best trial: 18. Best value: 0.0927178:  66%|██████▌   | 33/50 [18:59<09:47, 34.55s/it]"
     ]
    },
    {
     "name": "stdout",
     "output_type": "stream",
     "text": [
      "[I 2025-08-21 00:56:31,613] Trial 32 finished with value: 0.09266094809007541 and parameters: {'lr': 0.00019387848249807733, 'num_epochs': 10, 'batch_size': 128, 'num_neighbors': 8, 'lr_decay': 0.8947170534806015}. Best is trial 18 with value: 0.0927178006040795.\n"
     ]
    },
    {
     "name": "stderr",
     "output_type": "stream",
     "text": [
      "Best trial: 18. Best value: 0.0927178:  68%|██████▊   | 34/50 [19:33<09:09, 34.36s/it]"
     ]
    },
    {
     "name": "stdout",
     "output_type": "stream",
     "text": [
      "[I 2025-08-21 00:57:05,533] Trial 33 finished with value: 0.0927126991065106 and parameters: {'lr': 0.00013269463664826613, 'num_epochs': 1, 'batch_size': 64, 'num_neighbors': 3, 'lr_decay': 0.9700791400744956}. Best is trial 18 with value: 0.0927178006040795.\n"
     ]
    },
    {
     "name": "stderr",
     "output_type": "stream",
     "text": [
      "Best trial: 18. Best value: 0.0927178:  70%|███████   | 35/50 [20:08<08:37, 34.51s/it]"
     ]
    },
    {
     "name": "stdout",
     "output_type": "stream",
     "text": [
      "[I 2025-08-21 00:57:40,382] Trial 34 finished with value: 0.0927147158734384 and parameters: {'lr': 0.00014160191698620782, 'num_epochs': 1, 'batch_size': 128, 'num_neighbors': 7, 'lr_decay': 0.9561372476539439}. Best is trial 18 with value: 0.0927178006040795.\n"
     ]
    },
    {
     "name": "stderr",
     "output_type": "stream",
     "text": [
      "Best trial: 18. Best value: 0.0927178:  72%|███████▏  | 36/50 [20:42<08:00, 34.32s/it]"
     ]
    },
    {
     "name": "stdout",
     "output_type": "stream",
     "text": [
      "[I 2025-08-21 00:58:14,277] Trial 35 finished with value: 0.09271287706539212 and parameters: {'lr': 0.00010037688934684877, 'num_epochs': 2, 'batch_size': 128, 'num_neighbors': 6, 'lr_decay': 0.9516853605289262}. Best is trial 18 with value: 0.0927178006040795.\n"
     ]
    },
    {
     "name": "stderr",
     "output_type": "stream",
     "text": [
      "Best trial: 18. Best value: 0.0927178:  74%|███████▍  | 37/50 [21:16<07:24, 34.20s/it]"
     ]
    },
    {
     "name": "stdout",
     "output_type": "stream",
     "text": [
      "[I 2025-08-21 00:58:48,175] Trial 36 finished with value: 0.09271547003771259 and parameters: {'lr': 0.00020067083418549947, 'num_epochs': 1, 'batch_size': 128, 'num_neighbors': 5, 'lr_decay': 0.8364112593449978}. Best is trial 18 with value: 0.0927178006040795.\n"
     ]
    },
    {
     "name": "stderr",
     "output_type": "stream",
     "text": [
      "Best trial: 37. Best value: 0.0927192:  76%|███████▌  | 38/50 [21:50<06:48, 34.03s/it]"
     ]
    },
    {
     "name": "stdout",
     "output_type": "stream",
     "text": [
      "[I 2025-08-21 00:59:21,812] Trial 37 finished with value: 0.09271916746741911 and parameters: {'lr': 0.00032505423418969885, 'num_epochs': 2, 'batch_size': 512, 'num_neighbors': 4, 'lr_decay': 0.8345124210547515}. Best is trial 37 with value: 0.09271916746741911.\n"
     ]
    },
    {
     "name": "stderr",
     "output_type": "stream",
     "text": [
      "Best trial: 37. Best value: 0.0927192:  78%|███████▊  | 39/50 [22:24<06:14, 34.01s/it]"
     ]
    },
    {
     "name": "stdout",
     "output_type": "stream",
     "text": [
      "[I 2025-08-21 00:59:55,766] Trial 38 finished with value: 0.09271035943809916 and parameters: {'lr': 0.00031148427577159794, 'num_epochs': 3, 'batch_size': 512, 'num_neighbors': 5, 'lr_decay': 0.8334199332869733}. Best is trial 37 with value: 0.09271916746741911.\n"
     ]
    },
    {
     "name": "stderr",
     "output_type": "stream",
     "text": [
      "Best trial: 37. Best value: 0.0927192:  80%|████████  | 40/50 [22:57<05:39, 34.00s/it]"
     ]
    },
    {
     "name": "stdout",
     "output_type": "stream",
     "text": [
      "[I 2025-08-21 01:00:29,741] Trial 39 finished with value: 0.09266004273296173 and parameters: {'lr': 0.000892686698577342, 'num_epochs': 5, 'batch_size': 512, 'num_neighbors': 6, 'lr_decay': 0.8177933846597767}. Best is trial 37 with value: 0.09271916746741911.\n"
     ]
    },
    {
     "name": "stderr",
     "output_type": "stream",
     "text": [
      "Best trial: 37. Best value: 0.0927192:  82%|████████▏ | 41/50 [23:31<05:05, 33.96s/it]"
     ]
    },
    {
     "name": "stdout",
     "output_type": "stream",
     "text": [
      "[I 2025-08-21 01:01:03,599] Trial 40 finished with value: 0.09271811078707688 and parameters: {'lr': 0.00021132843808334214, 'num_epochs': 2, 'batch_size': 512, 'num_neighbors': 10, 'lr_decay': 0.8367029683780833}. Best is trial 37 with value: 0.09271916746741911.\n"
     ]
    },
    {
     "name": "stderr",
     "output_type": "stream",
     "text": [
      "Best trial: 37. Best value: 0.0927192:  84%|████████▍ | 42/50 [24:05<04:31, 33.92s/it]"
     ]
    },
    {
     "name": "stdout",
     "output_type": "stream",
     "text": [
      "[I 2025-08-21 01:01:37,442] Trial 41 finished with value: 0.09269193987276117 and parameters: {'lr': 0.0005699409655419329, 'num_epochs': 4, 'batch_size': 512, 'num_neighbors': 10, 'lr_decay': 0.8136607340051787}. Best is trial 37 with value: 0.09271916746741911.\n"
     ]
    },
    {
     "name": "stderr",
     "output_type": "stream",
     "text": [
      "Best trial: 37. Best value: 0.0927192:  86%|████████▌ | 43/50 [24:39<03:57, 33.90s/it]"
     ]
    },
    {
     "name": "stdout",
     "output_type": "stream",
     "text": [
      "[I 2025-08-21 01:02:11,284] Trial 42 finished with value: 0.09271319035983074 and parameters: {'lr': 0.00023610360660211493, 'num_epochs': 4, 'batch_size': 512, 'num_neighbors': 10, 'lr_decay': 0.8013758342956379}. Best is trial 37 with value: 0.09271916746741911.\n"
     ]
    },
    {
     "name": "stderr",
     "output_type": "stream",
     "text": [
      "Best trial: 37. Best value: 0.0927192:  88%|████████▊ | 44/50 [25:13<03:23, 33.89s/it]"
     ]
    },
    {
     "name": "stdout",
     "output_type": "stream",
     "text": [
      "[I 2025-08-21 01:02:45,159] Trial 43 finished with value: 0.09268142198547091 and parameters: {'lr': 0.0012024040879474909, 'num_epochs': 3, 'batch_size': 512, 'num_neighbors': 11, 'lr_decay': 0.8561267852961105}. Best is trial 37 with value: 0.09271916746741911.\n"
     ]
    },
    {
     "name": "stderr",
     "output_type": "stream",
     "text": [
      "Best trial: 37. Best value: 0.0927192:  90%|█████████ | 45/50 [25:47<02:49, 33.81s/it]"
     ]
    },
    {
     "name": "stdout",
     "output_type": "stream",
     "text": [
      "[I 2025-08-21 01:03:18,780] Trial 44 finished with value: 0.0927165376870594 and parameters: {'lr': 0.00020407783920632793, 'num_epochs': 2, 'batch_size': 512, 'num_neighbors': 8, 'lr_decay': 0.8303012730752862}. Best is trial 37 with value: 0.09271916746741911.\n"
     ]
    },
    {
     "name": "stderr",
     "output_type": "stream",
     "text": [
      "Best trial: 37. Best value: 0.0927192:  92%|█████████▏| 46/50 [26:21<02:16, 34.14s/it]"
     ]
    },
    {
     "name": "stdout",
     "output_type": "stream",
     "text": [
      "[I 2025-08-21 01:03:53,692] Trial 45 finished with value: 0.09271645646499349 and parameters: {'lr': 0.0001261694410371433, 'num_epochs': 2, 'batch_size': 512, 'num_neighbors': 8, 'lr_decay': 0.8284869529289653}. Best is trial 37 with value: 0.09271916746741911.\n"
     ]
    },
    {
     "name": "stderr",
     "output_type": "stream",
     "text": [
      "Best trial: 37. Best value: 0.0927192:  94%|█████████▍| 47/50 [26:56<01:42, 34.17s/it]"
     ]
    },
    {
     "name": "stdout",
     "output_type": "stream",
     "text": [
      "[I 2025-08-21 01:04:27,917] Trial 46 finished with value: 0.09270351513327581 and parameters: {'lr': 0.00033803727363607096, 'num_epochs': 7, 'batch_size': 512, 'num_neighbors': 9, 'lr_decay': 0.8218832742502469}. Best is trial 37 with value: 0.09271916746741911.\n"
     ]
    },
    {
     "name": "stderr",
     "output_type": "stream",
     "text": [
      "Best trial: 37. Best value: 0.0927192:  96%|█████████▌| 48/50 [27:30<01:08, 34.12s/it]"
     ]
    },
    {
     "name": "stdout",
     "output_type": "stream",
     "text": [
      "[I 2025-08-21 01:05:01,940] Trial 47 finished with value: 0.0927154823326442 and parameters: {'lr': 0.0002064084712639497, 'num_epochs': 2, 'batch_size': 512, 'num_neighbors': 12, 'lr_decay': 0.8426728766556636}. Best is trial 37 with value: 0.09271916746741911.\n"
     ]
    },
    {
     "name": "stderr",
     "output_type": "stream",
     "text": [
      "Best trial: 37. Best value: 0.0927192:  98%|█████████▊| 49/50 [28:03<00:34, 34.03s/it]"
     ]
    },
    {
     "name": "stdout",
     "output_type": "stream",
     "text": [
      "[I 2025-08-21 01:05:35,751] Trial 48 finished with value: 0.09270917611353714 and parameters: {'lr': 0.0002783876967512804, 'num_epochs': 3, 'batch_size': 512, 'num_neighbors': 14, 'lr_decay': 0.8295615013477151}. Best is trial 37 with value: 0.09271916746741911.\n"
     ]
    },
    {
     "name": "stderr",
     "output_type": "stream",
     "text": [
      "Best trial: 37. Best value: 0.0927192: 100%|██████████| 50/50 [28:37<00:00, 34.35s/it]\n"
     ]
    },
    {
     "name": "stdout",
     "output_type": "stream",
     "text": [
      "[I 2025-08-21 01:06:09,486] Trial 49 finished with value: 0.09271799533601996 and parameters: {'lr': 0.00011754660773726577, 'num_epochs': 2, 'batch_size': 512, 'num_neighbors': 9, 'lr_decay': 0.8595547454520222}. Best is trial 37 with value: 0.09271916746741911.\n"
     ]
    },
    {
     "name": "stderr",
     "output_type": "stream",
     "text": [
      "[I 2025-08-21 01:09:08,004] A new study created in memory with name: no-name-2895d996-ed73-4be9-b10f-8665c55869de\n",
      "Best trial: 0. Best value: 0.0926288:   2%|▏         | 1/50 [01:14<1:00:38, 74.26s/it]"
     ]
    },
    {
     "name": "stdout",
     "output_type": "stream",
     "text": [
      "[I 2025-08-21 01:10:22,264] Trial 0 finished with value: 0.09262876183632043 and parameters: {'lr': 0.00032505423418969885, 'num_epochs': 2, 'batch_size': 512, 'num_neighbors': 4, 'lr_decay': 0.8345124210547515}. Best is trial 0 with value: 0.09262876183632043.\n"
     ]
    },
    {
     "name": "stderr",
     "output_type": "stream",
     "text": [
      "Best trial: 0. Best value: 0.0926288:   4%|▍         | 2/50 [02:29<59:59, 74.99s/it]  "
     ]
    },
    {
     "name": "stdout",
     "output_type": "stream",
     "text": [
      "[I 2025-08-21 01:11:37,760] Trial 1 finished with value: 0.09163230081151949 and parameters: {'lr': 0.004875560939621077, 'num_epochs': 1, 'batch_size': 256, 'num_neighbors': 12, 'lr_decay': 0.8242030980000079}. Best is trial 0 with value: 0.09262876183632043.\n"
     ]
    },
    {
     "name": "stderr",
     "output_type": "stream",
     "text": [
      "Best trial: 0. Best value: 0.0926288:   6%|▌         | 3/50 [03:43<58:25, 74.58s/it]"
     ]
    },
    {
     "name": "stdout",
     "output_type": "stream",
     "text": [
      "[I 2025-08-21 01:12:51,849] Trial 2 finished with value: 0.09060467479299894 and parameters: {'lr': 0.008642584912661826, 'num_epochs': 2, 'batch_size': 256, 'num_neighbors': 13, 'lr_decay': 0.8448327852375962}. Best is trial 0 with value: 0.09262876183632043.\n"
     ]
    },
    {
     "name": "stderr",
     "output_type": "stream",
     "text": [
      "Best trial: 0. Best value: 0.0926288:   8%|▊         | 4/50 [04:59<57:22, 74.83s/it]"
     ]
    },
    {
     "name": "stdout",
     "output_type": "stream",
     "text": [
      "[I 2025-08-21 01:14:07,068] Trial 3 finished with value: 0.0919564517780204 and parameters: {'lr': 0.0007132353694692949, 'num_epochs': 10, 'batch_size': 512, 'num_neighbors': 6, 'lr_decay': 0.9387117975457273}. Best is trial 0 with value: 0.09262876183632043.\n"
     ]
    },
    {
     "name": "stderr",
     "output_type": "stream",
     "text": [
      "Best trial: 0. Best value: 0.0926288:  10%|█         | 5/50 [06:14<56:21, 75.14s/it]"
     ]
    },
    {
     "name": "stdout",
     "output_type": "stream",
     "text": [
      "[I 2025-08-21 01:15:22,745] Trial 4 finished with value: 0.09233556100540917 and parameters: {'lr': 0.000634858336608902, 'num_epochs': 2, 'batch_size': 128, 'num_neighbors': 12, 'lr_decay': 0.8596006246474739}. Best is trial 0 with value: 0.09262876183632043.\n"
     ]
    },
    {
     "name": "stderr",
     "output_type": "stream",
     "text": [
      "Best trial: 0. Best value: 0.0926288:  12%|█▏        | 6/50 [07:30<55:08, 75.20s/it]"
     ]
    },
    {
     "name": "stdout",
     "output_type": "stream",
     "text": [
      "[W 2025-08-21 01:16:38,074] Trial 5 failed with parameters: {'lr': 0.00609751932464538, 'num_epochs': 2, 'batch_size': 64, 'num_neighbors': 5, 'lr_decay': 0.8572788427621002} because of the following error: The value [nan] is not acceptable.\n",
      "[W 2025-08-21 01:16:38,079] Trial 5 failed with value array([nan]).\n"
     ]
    },
    {
     "name": "stderr",
     "output_type": "stream",
     "text": [
      "Best trial: 0. Best value: 0.0926288:  14%|█▍        | 7/50 [08:46<54:08, 75.54s/it]"
     ]
    },
    {
     "name": "stdout",
     "output_type": "stream",
     "text": [
      "[I 2025-08-21 01:17:54,323] Trial 6 finished with value: 0.09211574836322038 and parameters: {'lr': 0.0010208295051650704, 'num_epochs': 5, 'batch_size': 512, 'num_neighbors': 11, 'lr_decay': 0.9697808071304344}. Best is trial 0 with value: 0.09262876183632043.\n"
     ]
    },
    {
     "name": "stderr",
     "output_type": "stream",
     "text": [
      "Best trial: 0. Best value: 0.0926288:  16%|█▌        | 8/50 [10:00<52:39, 75.24s/it]"
     ]
    },
    {
     "name": "stdout",
     "output_type": "stream",
     "text": [
      "[I 2025-08-21 01:19:08,899] Trial 7 finished with value: 0.09250188633564677 and parameters: {'lr': 0.0004227346718894145, 'num_epochs': 2, 'batch_size': 128, 'num_neighbors': 14, 'lr_decay': 0.9403188137481719}. Best is trial 0 with value: 0.09262876183632043.\n"
     ]
    },
    {
     "name": "stderr",
     "output_type": "stream",
     "text": [
      "Best trial: 0. Best value: 0.0926288:  18%|█▊        | 9/50 [11:16<51:26, 75.29s/it]"
     ]
    },
    {
     "name": "stdout",
     "output_type": "stream",
     "text": [
      "[I 2025-08-21 01:20:24,299] Trial 8 finished with value: 0.09256589372617771 and parameters: {'lr': 0.0001952032228609657, 'num_epochs': 2, 'batch_size': 64, 'num_neighbors': 6, 'lr_decay': 0.9814524955314918}. Best is trial 0 with value: 0.09262876183632043.\n"
     ]
    },
    {
     "name": "stderr",
     "output_type": "stream",
     "text": [
      "Best trial: 0. Best value: 0.0926288:  20%|██        | 10/50 [12:32<50:28, 75.72s/it]"
     ]
    },
    {
     "name": "stdout",
     "output_type": "stream",
     "text": [
      "[I 2025-08-21 01:21:40,993] Trial 9 finished with value: 0.08988820501167083 and parameters: {'lr': 0.0014829188527162166, 'num_epochs': 2, 'batch_size': 64, 'num_neighbors': 5, 'lr_decay': 0.9061236742274442}. Best is trial 0 with value: 0.09262876183632043.\n"
     ]
    },
    {
     "name": "stderr",
     "output_type": "stream",
     "text": [
      "Best trial: 0. Best value: 0.0926288:  22%|██▏       | 11/50 [13:48<49:10, 75.64s/it]"
     ]
    },
    {
     "name": "stdout",
     "output_type": "stream",
     "text": [
      "[I 2025-08-21 01:22:56,463] Trial 10 finished with value: 0.09252173430348719 and parameters: {'lr': 0.00034294429381564263, 'num_epochs': 10, 'batch_size': 512, 'num_neighbors': 4, 'lr_decay': 0.8840858359476912}. Best is trial 0 with value: 0.09262876183632043.\n"
     ]
    },
    {
     "name": "stderr",
     "output_type": "stream",
     "text": [
      "Best trial: 11. Best value: 0.0926459:  24%|██▍       | 12/50 [15:04<48:02, 75.85s/it]"
     ]
    },
    {
     "name": "stdout",
     "output_type": "stream",
     "text": [
      "[I 2025-08-21 01:24:12,788] Trial 11 finished with value: 0.09264593871990405 and parameters: {'lr': 0.0001215620179648674, 'num_epochs': 5, 'batch_size': 512, 'num_neighbors': 8, 'lr_decay': 0.8197124082294193}. Best is trial 11 with value: 0.09264593871990405.\n"
     ]
    },
    {
     "name": "stderr",
     "output_type": "stream",
     "text": [
      "Best trial: 12. Best value: 0.0926481:  26%|██▌       | 13/50 [16:19<46:32, 75.47s/it]"
     ]
    },
    {
     "name": "stdout",
     "output_type": "stream",
     "text": [
      "[I 2025-08-21 01:25:27,367] Trial 12 finished with value: 0.0926481088444343 and parameters: {'lr': 0.00011137673984575145, 'num_epochs': 5, 'batch_size': 512, 'num_neighbors': 8, 'lr_decay': 0.8065841372381689}. Best is trial 12 with value: 0.0926481088444343.\n"
     ]
    },
    {
     "name": "stderr",
     "output_type": "stream",
     "text": [
      "Best trial: 12. Best value: 0.0926481:  28%|██▊       | 14/50 [17:35<45:20, 75.56s/it]"
     ]
    },
    {
     "name": "stdout",
     "output_type": "stream",
     "text": [
      "[I 2025-08-21 01:26:43,138] Trial 13 finished with value: 0.0926454249644767 and parameters: {'lr': 0.00010518338352168378, 'num_epochs': 6, 'batch_size': 512, 'num_neighbors': 9, 'lr_decay': 0.8024239394371778}. Best is trial 12 with value: 0.0926481088444343.\n"
     ]
    },
    {
     "name": "stderr",
     "output_type": "stream",
     "text": [
      "Best trial: 14. Best value: 0.0926482:  30%|███       | 15/50 [18:49<43:56, 75.33s/it]"
     ]
    },
    {
     "name": "stdout",
     "output_type": "stream",
     "text": [
      "[I 2025-08-21 01:27:57,925] Trial 14 finished with value: 0.09264820887275199 and parameters: {'lr': 0.00010184751686400279, 'num_epochs': 5, 'batch_size': 512, 'num_neighbors': 8, 'lr_decay': 0.8060342569611022}. Best is trial 14 with value: 0.09264820887275199.\n"
     ]
    },
    {
     "name": "stderr",
     "output_type": "stream",
     "text": [
      "Best trial: 14. Best value: 0.0926482:  32%|███▏      | 16/50 [20:06<42:49, 75.58s/it]"
     ]
    },
    {
     "name": "stdout",
     "output_type": "stream",
     "text": [
      "[I 2025-08-21 01:29:14,087] Trial 15 finished with value: 0.09262201623352018 and parameters: {'lr': 0.00018785561281252946, 'num_epochs': 7, 'batch_size': 512, 'num_neighbors': 8, 'lr_decay': 0.8012941865031071}. Best is trial 14 with value: 0.09264820887275199.\n"
     ]
    },
    {
     "name": "stderr",
     "output_type": "stream",
     "text": [
      "Best trial: 14. Best value: 0.0926482:  34%|███▍      | 17/50 [21:20<41:23, 75.25s/it]"
     ]
    },
    {
     "name": "stdout",
     "output_type": "stream",
     "text": [
      "[I 2025-08-21 01:30:28,567] Trial 16 finished with value: 0.09202972424654357 and parameters: {'lr': 0.0023567306478691997, 'num_epochs': 4, 'batch_size': 512, 'num_neighbors': 10, 'lr_decay': 0.8699466377319178}. Best is trial 14 with value: 0.09264820887275199.\n"
     ]
    },
    {
     "name": "stderr",
     "output_type": "stream",
     "text": [
      "Best trial: 14. Best value: 0.0926482:  36%|███▌      | 18/50 [22:40<40:50, 76.56s/it]"
     ]
    },
    {
     "name": "stdout",
     "output_type": "stream",
     "text": [
      "[I 2025-08-21 01:31:48,194] Trial 17 finished with value: 0.09191165648013376 and parameters: {'lr': 0.00020083541135066272, 'num_epochs': 7, 'batch_size': 64, 'num_neighbors': 7, 'lr_decay': 0.9032516103716117}. Best is trial 14 with value: 0.09264820887275199.\n"
     ]
    },
    {
     "name": "stderr",
     "output_type": "stream",
     "text": [
      "Best trial: 14. Best value: 0.0926482:  38%|███▊      | 19/50 [23:55<39:23, 76.23s/it]"
     ]
    },
    {
     "name": "stdout",
     "output_type": "stream",
     "text": [
      "[I 2025-08-21 01:33:03,641] Trial 18 finished with value: 0.09263246261176508 and parameters: {'lr': 0.00010986155458668304, 'num_epochs': 4, 'batch_size': 256, 'num_neighbors': 9, 'lr_decay': 0.8513933875796412}. Best is trial 14 with value: 0.09264820887275199.\n"
     ]
    },
    {
     "name": "stderr",
     "output_type": "stream",
     "text": [
      "Best trial: 14. Best value: 0.0926482:  40%|████      | 20/50 [25:12<38:16, 76.55s/it]"
     ]
    },
    {
     "name": "stdout",
     "output_type": "stream",
     "text": [
      "[I 2025-08-21 01:34:20,947] Trial 19 finished with value: 0.09244521856737058 and parameters: {'lr': 0.00023845813437011065, 'num_epochs': 8, 'batch_size': 128, 'num_neighbors': 10, 'lr_decay': 0.8169873692067924}. Best is trial 14 with value: 0.09264820887275199.\n"
     ]
    },
    {
     "name": "stderr",
     "output_type": "stream",
     "text": [
      "Best trial: 14. Best value: 0.0926482:  42%|████▏     | 21/50 [26:28<36:51, 76.26s/it]"
     ]
    },
    {
     "name": "stdout",
     "output_type": "stream",
     "text": [
      "[I 2025-08-21 01:35:36,527] Trial 20 finished with value: 0.0923700005811887 and parameters: {'lr': 0.0031960472607475993, 'num_epochs': 4, 'batch_size': 512, 'num_neighbors': 3, 'lr_decay': 0.9311129632920484}. Best is trial 14 with value: 0.09264820887275199.\n"
     ]
    },
    {
     "name": "stderr",
     "output_type": "stream",
     "text": [
      "Best trial: 14. Best value: 0.0926482:  44%|████▍     | 22/50 [27:43<35:24, 75.87s/it]"
     ]
    },
    {
     "name": "stdout",
     "output_type": "stream",
     "text": [
      "[I 2025-08-21 01:36:51,490] Trial 21 finished with value: 0.09233011924526684 and parameters: {'lr': 0.0004764372845104397, 'num_epochs': 8, 'batch_size': 512, 'num_neighbors': 7, 'lr_decay': 0.8806624888809789}. Best is trial 14 with value: 0.09264820887275199.\n"
     ]
    },
    {
     "name": "stderr",
     "output_type": "stream",
     "text": [
      "Best trial: 22. Best value: 0.092649:  46%|████▌     | 23/50 [28:59<34:05, 75.77s/it] "
     ]
    },
    {
     "name": "stdout",
     "output_type": "stream",
     "text": [
      "[I 2025-08-21 01:38:07,033] Trial 22 finished with value: 0.09264898023263521 and parameters: {'lr': 0.00011800046245072077, 'num_epochs': 5, 'batch_size': 512, 'num_neighbors': 8, 'lr_decay': 0.8198049930227814}. Best is trial 22 with value: 0.09264898023263521.\n"
     ]
    },
    {
     "name": "stderr",
     "output_type": "stream",
     "text": [
      "Best trial: 22. Best value: 0.092649:  48%|████▊     | 24/50 [30:13<32:41, 75.45s/it]"
     ]
    },
    {
     "name": "stdout",
     "output_type": "stream",
     "text": [
      "[I 2025-08-21 01:39:21,722] Trial 23 finished with value: 0.09263487992016979 and parameters: {'lr': 0.000146744251924496, 'num_epochs': 6, 'batch_size': 512, 'num_neighbors': 8, 'lr_decay': 0.8357259619141874}. Best is trial 22 with value: 0.09264898023263521.\n"
     ]
    },
    {
     "name": "stderr",
     "output_type": "stream",
     "text": [
      "Best trial: 22. Best value: 0.092649:  50%|█████     | 25/50 [31:29<31:26, 75.47s/it]"
     ]
    },
    {
     "name": "stdout",
     "output_type": "stream",
     "text": [
      "[I 2025-08-21 01:40:37,247] Trial 24 finished with value: 0.09264649975957068 and parameters: {'lr': 0.00015484799187156934, 'num_epochs': 4, 'batch_size': 512, 'num_neighbors': 10, 'lr_decay': 0.8012942348044189}. Best is trial 22 with value: 0.09264898023263521.\n"
     ]
    },
    {
     "name": "stderr",
     "output_type": "stream",
     "text": [
      "Best trial: 22. Best value: 0.092649:  52%|█████▏    | 26/50 [32:44<30:06, 75.28s/it]"
     ]
    },
    {
     "name": "stdout",
     "output_type": "stream",
     "text": [
      "[I 2025-08-21 01:41:52,084] Trial 25 finished with value: 0.09261625757540404 and parameters: {'lr': 0.00028276204684095845, 'num_epochs': 5, 'batch_size': 512, 'num_neighbors': 7, 'lr_decay': 0.823957215951623}. Best is trial 22 with value: 0.09264898023263521.\n"
     ]
    },
    {
     "name": "stderr",
     "output_type": "stream",
     "text": [
      "Best trial: 26. Best value: 0.0926499:  54%|█████▍    | 27/50 [33:58<28:43, 74.94s/it]"
     ]
    },
    {
     "name": "stdout",
     "output_type": "stream",
     "text": [
      "[I 2025-08-21 01:43:06,232] Trial 26 finished with value: 0.09264985110414604 and parameters: {'lr': 0.00010598296995889306, 'num_epochs': 3, 'batch_size': 512, 'num_neighbors': 6, 'lr_decay': 0.8141076309635898}. Best is trial 26 with value: 0.09264985110414604.\n"
     ]
    },
    {
     "name": "stderr",
     "output_type": "stream",
     "text": [
      "Best trial: 26. Best value: 0.0926499:  56%|█████▌    | 28/50 [35:13<27:31, 75.07s/it]"
     ]
    },
    {
     "name": "stdout",
     "output_type": "stream",
     "text": [
      "[I 2025-08-21 01:44:21,605] Trial 27 finished with value: 0.09263999964435346 and parameters: {'lr': 0.00015674175591744342, 'num_epochs': 3, 'batch_size': 256, 'num_neighbors': 6, 'lr_decay': 0.8393297226518434}. Best is trial 26 with value: 0.09264985110414604.\n"
     ]
    },
    {
     "name": "stderr",
     "output_type": "stream",
     "text": [
      "Best trial: 26. Best value: 0.0926499:  58%|█████▊    | 29/50 [36:29<26:23, 75.42s/it]"
     ]
    },
    {
     "name": "stdout",
     "output_type": "stream",
     "text": [
      "[I 2025-08-21 01:45:37,837] Trial 28 finished with value: 0.09262115302336964 and parameters: {'lr': 0.00010071823517842699, 'num_epochs': 3, 'batch_size': 64, 'num_neighbors': 5, 'lr_decay': 0.8568915415925897}. Best is trial 26 with value: 0.09264985110414604.\n"
     ]
    },
    {
     "name": "stderr",
     "output_type": "stream",
     "text": [
      "Best trial: 26. Best value: 0.0926499:  60%|██████    | 30/50 [37:46<25:13, 75.66s/it]"
     ]
    },
    {
     "name": "stdout",
     "output_type": "stream",
     "text": [
      "[I 2025-08-21 01:46:54,053] Trial 29 finished with value: 0.09256129332452968 and parameters: {'lr': 0.00023887640877795252, 'num_epochs': 3, 'batch_size': 128, 'num_neighbors': 5, 'lr_decay': 0.8159830785834261}. Best is trial 26 with value: 0.09264985110414604.\n"
     ]
    },
    {
     "name": "stderr",
     "output_type": "stream",
     "text": [
      "Best trial: 30. Best value: 0.0926569:  62%|██████▏   | 31/50 [38:59<23:47, 75.14s/it]"
     ]
    },
    {
     "name": "stdout",
     "output_type": "stream",
     "text": [
      "[I 2025-08-21 01:48:07,994] Trial 30 finished with value: 0.09265694131245092 and parameters: {'lr': 0.0003205277537648698, 'num_epochs': 1, 'batch_size': 512, 'num_neighbors': 3, 'lr_decay': 0.8342838084587891}. Best is trial 30 with value: 0.09265694131245092.\n"
     ]
    },
    {
     "name": "stderr",
     "output_type": "stream",
     "text": [
      "Best trial: 30. Best value: 0.0926569:  64%|██████▍   | 32/50 [40:13<22:25, 74.77s/it]"
     ]
    },
    {
     "name": "stdout",
     "output_type": "stream",
     "text": [
      "[I 2025-08-21 01:49:21,907] Trial 31 finished with value: 0.09264309155565467 and parameters: {'lr': 0.00035280319863864183, 'num_epochs': 1, 'batch_size': 512, 'num_neighbors': 3, 'lr_decay': 0.8322495558641084}. Best is trial 30 with value: 0.09265694131245092.\n"
     ]
    },
    {
     "name": "stderr",
     "output_type": "stream",
     "text": [
      "Best trial: 30. Best value: 0.0926569:  66%|██████▌   | 33/50 [41:29<21:13, 74.89s/it]"
     ]
    },
    {
     "name": "stdout",
     "output_type": "stream",
     "text": [
      "[I 2025-08-21 01:50:37,056] Trial 32 finished with value: 0.09265448277355576 and parameters: {'lr': 0.00014874690293955012, 'num_epochs': 1, 'batch_size': 512, 'num_neighbors': 4, 'lr_decay': 0.8298961248118474}. Best is trial 30 with value: 0.09265694131245092.\n"
     ]
    },
    {
     "name": "stderr",
     "output_type": "stream",
     "text": [
      "Best trial: 33. Best value: 0.0926591:  68%|██████▊   | 34/50 [42:42<19:52, 74.54s/it]"
     ]
    },
    {
     "name": "stdout",
     "output_type": "stream",
     "text": [
      "[I 2025-08-21 01:51:50,792] Trial 33 finished with value: 0.09265905690665296 and parameters: {'lr': 0.0001402051883682853, 'num_epochs': 1, 'batch_size': 512, 'num_neighbors': 4, 'lr_decay': 0.8317310691730115}. Best is trial 33 with value: 0.09265905690665296.\n"
     ]
    },
    {
     "name": "stderr",
     "output_type": "stream",
     "text": [
      "Best trial: 33. Best value: 0.0926591:  70%|███████   | 35/50 [43:57<18:38, 74.56s/it]"
     ]
    },
    {
     "name": "stdout",
     "output_type": "stream",
     "text": [
      "[I 2025-08-21 01:53:05,395] Trial 34 finished with value: 0.09265365699620501 and parameters: {'lr': 0.00028522485827556335, 'num_epochs': 1, 'batch_size': 512, 'num_neighbors': 4, 'lr_decay': 0.8468394635921107}. Best is trial 33 with value: 0.09265905690665296.\n"
     ]
    },
    {
     "name": "stderr",
     "output_type": "stream",
     "text": [
      "Best trial: 33. Best value: 0.0926591:  72%|███████▏  | 36/50 [45:11<17:20, 74.36s/it]"
     ]
    },
    {
     "name": "stdout",
     "output_type": "stream",
     "text": [
      "[I 2025-08-21 01:54:19,275] Trial 35 finished with value: 0.09261435264503438 and parameters: {'lr': 0.0005432358375430016, 'num_epochs': 1, 'batch_size': 256, 'num_neighbors': 4, 'lr_decay': 0.8436057999832691}. Best is trial 33 with value: 0.09265905690665296.\n"
     ]
    },
    {
     "name": "stderr",
     "output_type": "stream",
     "text": [
      "Best trial: 33. Best value: 0.0926591:  74%|███████▍  | 37/50 [46:25<16:04, 74.22s/it]"
     ]
    },
    {
     "name": "stdout",
     "output_type": "stream",
     "text": [
      "[I 2025-08-21 01:55:33,188] Trial 36 finished with value: 0.09262284208677433 and parameters: {'lr': 0.0007750639697499503, 'num_epochs': 1, 'batch_size': 512, 'num_neighbors': 3, 'lr_decay': 0.8690348905345311}. Best is trial 33 with value: 0.09265905690665296.\n"
     ]
    },
    {
     "name": "stderr",
     "output_type": "stream",
     "text": [
      "Best trial: 33. Best value: 0.0926591:  76%|███████▌  | 38/50 [47:40<14:53, 74.46s/it]"
     ]
    },
    {
     "name": "stdout",
     "output_type": "stream",
     "text": [
      "[I 2025-08-21 01:56:48,190] Trial 37 finished with value: 0.09264734749033625 and parameters: {'lr': 0.000283298155455103, 'num_epochs': 1, 'batch_size': 512, 'num_neighbors': 4, 'lr_decay': 0.8322876602427816}. Best is trial 33 with value: 0.09265905690665296.\n"
     ]
    },
    {
     "name": "stderr",
     "output_type": "stream",
     "text": [
      "Best trial: 33. Best value: 0.0926591:  78%|███████▊  | 39/50 [48:54<13:38, 74.37s/it]"
     ]
    },
    {
     "name": "stdout",
     "output_type": "stream",
     "text": [
      "[I 2025-08-21 01:58:02,376] Trial 38 finished with value: 0.08864147386605996 and parameters: {'lr': 0.007600913365196615, 'num_epochs': 1, 'batch_size': 128, 'num_neighbors': 3, 'lr_decay': 0.8491081439378111}. Best is trial 33 with value: 0.09265905690665296.\n"
     ]
    },
    {
     "name": "stderr",
     "output_type": "stream",
     "text": [
      "Best trial: 33. Best value: 0.0926591:  80%|████████  | 40/50 [50:09<12:27, 74.74s/it]"
     ]
    },
    {
     "name": "stdout",
     "output_type": "stream",
     "text": [
      "[I 2025-08-21 01:59:17,955] Trial 39 finished with value: 0.0925470621361811 and parameters: {'lr': 0.0010233553486647489, 'num_epochs': 2, 'batch_size': 256, 'num_neighbors': 5, 'lr_decay': 0.8655447642140238}. Best is trial 33 with value: 0.09265905690665296.\n"
     ]
    },
    {
     "name": "stderr",
     "output_type": "stream",
     "text": [
      "Best trial: 33. Best value: 0.0926591:  82%|████████▏ | 41/50 [51:23<11:10, 74.48s/it]"
     ]
    },
    {
     "name": "stdout",
     "output_type": "stream",
     "text": [
      "[I 2025-08-21 02:00:31,828] Trial 40 finished with value: 0.09264739689666465 and parameters: {'lr': 0.000386102290664822, 'num_epochs': 2, 'batch_size': 512, 'num_neighbors': 15, 'lr_decay': 0.8820649483157125}. Best is trial 33 with value: 0.09265905690665296.\n"
     ]
    },
    {
     "name": "stderr",
     "output_type": "stream",
     "text": [
      "Best trial: 33. Best value: 0.0926591:  84%|████████▍ | 42/50 [52:38<09:55, 74.49s/it]"
     ]
    },
    {
     "name": "stdout",
     "output_type": "stream",
     "text": [
      "[I 2025-08-21 02:01:46,336] Trial 41 finished with value: 0.09262797757444605 and parameters: {'lr': 0.00023116481231062028, 'num_epochs': 1, 'batch_size': 64, 'num_neighbors': 4, 'lr_decay': 0.8296286777584554}. Best is trial 33 with value: 0.09265905690665296.\n"
     ]
    },
    {
     "name": "stderr",
     "output_type": "stream",
     "text": [
      "Best trial: 33. Best value: 0.0926591:  86%|████████▌ | 43/50 [53:53<08:43, 74.77s/it]"
     ]
    },
    {
     "name": "stdout",
     "output_type": "stream",
     "text": [
      "[I 2025-08-21 02:03:01,783] Trial 42 finished with value: 0.09264908593757203 and parameters: {'lr': 0.00015008055783854543, 'num_epochs': 3, 'batch_size': 512, 'num_neighbors': 4, 'lr_decay': 0.8440998861399883}. Best is trial 33 with value: 0.09265905690665296.\n"
     ]
    },
    {
     "name": "stderr",
     "output_type": "stream",
     "text": [
      "Best trial: 33. Best value: 0.0926591:  88%|████████▊ | 44/50 [55:07<07:27, 74.57s/it]"
     ]
    },
    {
     "name": "stdout",
     "output_type": "stream",
     "text": [
      "[I 2025-08-21 02:04:15,871] Trial 43 finished with value: 0.09264851889621278 and parameters: {'lr': 0.00018479489287821495, 'num_epochs': 2, 'batch_size': 512, 'num_neighbors': 5, 'lr_decay': 0.8155991042481967}. Best is trial 33 with value: 0.09265905690665296.\n"
     ]
    },
    {
     "name": "stderr",
     "output_type": "stream",
     "text": [
      "Best trial: 33. Best value: 0.0926591:  90%|█████████ | 45/50 [56:22<06:13, 74.67s/it]"
     ]
    },
    {
     "name": "stdout",
     "output_type": "stream",
     "text": [
      "[I 2025-08-21 02:05:30,791] Trial 44 finished with value: 0.09264510823606588 and parameters: {'lr': 0.00028043831802496773, 'num_epochs': 1, 'batch_size': 512, 'num_neighbors': 6, 'lr_decay': 0.8499196215747137}. Best is trial 33 with value: 0.09265905690665296.\n"
     ]
    },
    {
     "name": "stderr",
     "output_type": "stream",
     "text": [
      "Best trial: 33. Best value: 0.0926591:  92%|█████████▏| 46/50 [57:36<04:57, 74.43s/it]"
     ]
    },
    {
     "name": "stdout",
     "output_type": "stream",
     "text": [
      "[I 2025-08-21 02:06:44,643] Trial 45 finished with value: 0.09264938863410571 and parameters: {'lr': 0.0001600478883309949, 'num_epochs': 3, 'batch_size': 512, 'num_neighbors': 3, 'lr_decay': 0.8278334937645174}. Best is trial 33 with value: 0.09265905690665296.\n"
     ]
    },
    {
     "name": "stderr",
     "output_type": "stream",
     "text": [
      "Best trial: 33. Best value: 0.0926591:  94%|█████████▍| 47/50 [58:50<03:42, 74.31s/it]"
     ]
    },
    {
     "name": "stdout",
     "output_type": "stream",
     "text": [
      "[I 2025-08-21 02:07:58,671] Trial 46 finished with value: 0.09265241900842233 and parameters: {'lr': 0.00013428599647339587, 'num_epochs': 2, 'batch_size': 512, 'num_neighbors': 5, 'lr_decay': 0.9228944716897408}. Best is trial 33 with value: 0.09265905690665296.\n"
     ]
    },
    {
     "name": "stderr",
     "output_type": "stream",
     "text": [
      "Best trial: 33. Best value: 0.0926591:  96%|█████████▌| 48/50 [1:00:06<02:29, 74.64s/it]"
     ]
    },
    {
     "name": "stdout",
     "output_type": "stream",
     "text": [
      "[I 2025-08-21 02:09:14,097] Trial 47 finished with value: 0.09265429331378013 and parameters: {'lr': 0.00013648438778968, 'num_epochs': 2, 'batch_size': 512, 'num_neighbors': 4, 'lr_decay': 0.9270081241919003}. Best is trial 33 with value: 0.09265905690665296.\n"
     ]
    },
    {
     "name": "stderr",
     "output_type": "stream",
     "text": [
      "Best trial: 33. Best value: 0.0926591:  98%|█████████▊| 49/50 [1:01:19<01:14, 74.41s/it]"
     ]
    },
    {
     "name": "stdout",
     "output_type": "stream",
     "text": [
      "[I 2025-08-21 02:10:27,958] Trial 48 finished with value: 0.09264237702798647 and parameters: {'lr': 0.0004434178432870984, 'num_epochs': 1, 'batch_size': 512, 'num_neighbors': 4, 'lr_decay': 0.95812101960745}. Best is trial 33 with value: 0.09265905690665296.\n"
     ]
    },
    {
     "name": "stderr",
     "output_type": "stream",
     "text": [
      "Best trial: 33. Best value: 0.0926591: 100%|██████████| 50/50 [1:02:35<00:00, 75.11s/it]\n"
     ]
    },
    {
     "name": "stdout",
     "output_type": "stream",
     "text": [
      "[I 2025-08-21 02:11:43,287] Trial 49 finished with value: 0.09264664905824879 and parameters: {'lr': 0.00022264094585198703, 'num_epochs': 1, 'batch_size': 128, 'num_neighbors': 3, 'lr_decay': 0.8935792840063818}. Best is trial 33 with value: 0.09265905690665296.\n",
      "\n",
      "=== BEST HYPERPARAMETERS BY TRAINING SIZE ===\n",
      "\n",
      "Training Size: 500\n",
      "Best Reward: 0.087315\n",
      "Parameters:\n",
      "  lr: 0.009772096330768315\n",
      "  num_epochs: 7\n",
      "  batch_size: 64\n",
      "  num_neighbors: 3\n",
      "  lr_decay: 0.8620535157262116\n",
      "\n",
      "Training Size: 1000\n",
      "Best Reward: 0.090606\n",
      "Parameters:\n",
      "  lr: 0.00967793505055993\n",
      "  num_epochs: 7\n",
      "  batch_size: 64\n",
      "  num_neighbors: 8\n",
      "  lr_decay: 0.9380162397369879\n",
      "\n",
      "Training Size: 2000\n",
      "Best Reward: 0.093092\n",
      "Parameters:\n",
      "  lr: 0.00959986889748148\n",
      "  num_epochs: 8\n",
      "  batch_size: 64\n",
      "  num_neighbors: 7\n",
      "  lr_decay: 0.8406138608121959\n",
      "\n",
      "Training Size: 10000\n",
      "Best Reward: 0.092719\n",
      "Parameters:\n",
      "  lr: 0.00032505423418969885\n",
      "  num_epochs: 2\n",
      "  batch_size: 512\n",
      "  num_neighbors: 4\n",
      "  lr_decay: 0.8345124210547515\n",
      "\n",
      "Training Size: 20000\n",
      "Best Reward: 0.092659\n",
      "Parameters:\n",
      "  lr: 0.0001402051883682853\n",
      "  num_epochs: 1\n",
      "  batch_size: 512\n",
      "  num_neighbors: 4\n",
      "  lr_decay: 0.8317310691730115\n",
      "===========================\n",
      "\n"
     ]
    },
    {
     "data": {
      "text/html": [
       "<div>\n",
       "<style scoped>\n",
       "    .dataframe tbody tr th:only-of-type {\n",
       "        vertical-align: middle;\n",
       "    }\n",
       "\n",
       "    .dataframe tbody tr th {\n",
       "        vertical-align: top;\n",
       "    }\n",
       "\n",
       "    .dataframe thead th {\n",
       "        text-align: right;\n",
       "    }\n",
       "</style>\n",
       "<table border=\"1\" class=\"dataframe\">\n",
       "  <thead>\n",
       "    <tr style=\"text-align: right;\">\n",
       "      <th></th>\n",
       "      <th>policy_rewards</th>\n",
       "      <th>ipw</th>\n",
       "      <th>reg_dm</th>\n",
       "      <th>conv_dm</th>\n",
       "      <th>conv_dr</th>\n",
       "      <th>conv_sndr</th>\n",
       "      <th>action_diff_to_real</th>\n",
       "      <th>action_delta</th>\n",
       "      <th>context_diff_to_real</th>\n",
       "      <th>context_delta</th>\n",
       "    </tr>\n",
       "  </thead>\n",
       "  <tbody>\n",
       "    <tr>\n",
       "      <th>0</th>\n",
       "      <td>0.08610747</td>\n",
       "      <td>0.10697090</td>\n",
       "      <td>0.09051612</td>\n",
       "      <td>0.09112201</td>\n",
       "      <td>0.09452505</td>\n",
       "      <td>0.10672373</td>\n",
       "      <td>0.75692870</td>\n",
       "      <td>0.00000000</td>\n",
       "      <td>0.87627132</td>\n",
       "      <td>0.00000000</td>\n",
       "    </tr>\n",
       "    <tr>\n",
       "      <th>500</th>\n",
       "      <td>0.08705604</td>\n",
       "      <td>0.09221834</td>\n",
       "      <td>NaN</td>\n",
       "      <td>0.08299331</td>\n",
       "      <td>0.08198609</td>\n",
       "      <td>0.07599146</td>\n",
       "      <td>0.79170973</td>\n",
       "      <td>0.24615559</td>\n",
       "      <td>0.88427728</td>\n",
       "      <td>0.08661758</td>\n",
       "    </tr>\n",
       "    <tr>\n",
       "      <th>1000</th>\n",
       "      <td>0.08939145</td>\n",
       "      <td>0.11301958</td>\n",
       "      <td>NaN</td>\n",
       "      <td>0.08679147</td>\n",
       "      <td>0.09052395</td>\n",
       "      <td>0.10668506</td>\n",
       "      <td>1.01853061</td>\n",
       "      <td>0.76340735</td>\n",
       "      <td>0.91464524</td>\n",
       "      <td>0.19321758</td>\n",
       "    </tr>\n",
       "    <tr>\n",
       "      <th>2000</th>\n",
       "      <td>0.09251861</td>\n",
       "      <td>0.10603409</td>\n",
       "      <td>NaN</td>\n",
       "      <td>0.09028676</td>\n",
       "      <td>0.15397776</td>\n",
       "      <td>0.10628439</td>\n",
       "      <td>1.73862067</td>\n",
       "      <td>1.70789298</td>\n",
       "      <td>0.99652312</td>\n",
       "      <td>0.34170287</td>\n",
       "    </tr>\n",
       "    <tr>\n",
       "      <th>10000</th>\n",
       "      <td>0.09268524</td>\n",
       "      <td>0.09704712</td>\n",
       "      <td>NaN</td>\n",
       "      <td>0.09829317</td>\n",
       "      <td>0.09539229</td>\n",
       "      <td>0.09257621</td>\n",
       "      <td>2.18938809</td>\n",
       "      <td>2.22344507</td>\n",
       "      <td>1.03555944</td>\n",
       "      <td>0.40151858</td>\n",
       "    </tr>\n",
       "    <tr>\n",
       "      <th>20000</th>\n",
       "      <td>0.09264639</td>\n",
       "      <td>0.09493701</td>\n",
       "      <td>NaN</td>\n",
       "      <td>0.09216787</td>\n",
       "      <td>0.09134166</td>\n",
       "      <td>0.09056984</td>\n",
       "      <td>2.21242505</td>\n",
       "      <td>2.24879912</td>\n",
       "      <td>1.03520993</td>\n",
       "      <td>0.40065441</td>\n",
       "    </tr>\n",
       "  </tbody>\n",
       "</table>\n",
       "</div>"
      ],
      "text/plain": [
       "       policy_rewards        ipw     reg_dm    conv_dm    conv_dr  conv_sndr  \\\n",
       "0          0.08610747 0.10697090 0.09051612 0.09112201 0.09452505 0.10672373   \n",
       "500        0.08705604 0.09221834        NaN 0.08299331 0.08198609 0.07599146   \n",
       "1000       0.08939145 0.11301958        NaN 0.08679147 0.09052395 0.10668506   \n",
       "2000       0.09251861 0.10603409        NaN 0.09028676 0.15397776 0.10628439   \n",
       "10000      0.09268524 0.09704712        NaN 0.09829317 0.09539229 0.09257621   \n",
       "20000      0.09264639 0.09493701        NaN 0.09216787 0.09134166 0.09056984   \n",
       "\n",
       "       action_diff_to_real  action_delta  context_diff_to_real  context_delta  \n",
       "0               0.75692870    0.00000000            0.87627132     0.00000000  \n",
       "500             0.79170973    0.24615559            0.88427728     0.08661758  \n",
       "1000            1.01853061    0.76340735            0.91464524     0.19321758  \n",
       "2000            1.73862067    1.70789298            0.99652312     0.34170287  \n",
       "10000           2.18938809    2.22344507            1.03555944     0.40151858  \n",
       "20000           2.21242505    2.24879912            1.03520993     0.40065441  "
      ]
     },
     "execution_count": 6,
     "metadata": {},
     "output_type": "execute_result"
    }
   ],
   "source": [
    "print(\"Value of num_rounds_list:\", num_rounds_list)\n",
    "\n",
    "# Run the optimization\n",
    "df4, best_hyperparams_by_size = trainer_trial(num_runs, num_neighbors, num_rounds_list, train_dataset, batch_size, val_size=2000, n_trials=n_trials_for_optuna,prev_best_params=best_params_to_use)\n",
    "\n",
    "# Print best hyperparameters for each training size\n",
    "print(\"\\n=== BEST HYPERPARAMETERS BY TRAINING SIZE ===\")\n",
    "for train_size, params in best_hyperparams_by_size.items():\n",
    "    print(f\"\\nTraining Size: {train_size}\")\n",
    "    print(f\"Best Reward: {params['reward']:.6f}\")\n",
    "    print(\"Parameters:\")\n",
    "    for param_name, value in params['params'].items():\n",
    "        print(f\"  {param_name}: {value}\")\n",
    "print(\"===========================\\n\")\n",
    "\n",
    "# Show the performance metrics\n",
    "df4[['policy_rewards', 'ipw', 'reg_dm', 'conv_dm', 'conv_dr', 'conv_sndr', 'action_diff_to_real', 'action_delta', 'context_diff_to_real', 'context_delta']]\n",
    "\n"
   ]
  },
  {
   "cell_type": "code",
   "execution_count": 7,
   "metadata": {},
   "outputs": [
    {
     "data": {
      "text/html": [
       "<div>\n",
       "<style scoped>\n",
       "    .dataframe tbody tr th:only-of-type {\n",
       "        vertical-align: middle;\n",
       "    }\n",
       "\n",
       "    .dataframe tbody tr th {\n",
       "        vertical-align: top;\n",
       "    }\n",
       "\n",
       "    .dataframe thead th {\n",
       "        text-align: right;\n",
       "    }\n",
       "</style>\n",
       "<table border=\"1\" class=\"dataframe\">\n",
       "  <thead>\n",
       "    <tr style=\"text-align: right;\">\n",
       "      <th></th>\n",
       "      <th>policy_rewards</th>\n",
       "      <th>ipw</th>\n",
       "      <th>reg_dm</th>\n",
       "      <th>conv_dm</th>\n",
       "      <th>conv_dr</th>\n",
       "      <th>conv_sndr</th>\n",
       "      <th>action_diff_to_real</th>\n",
       "      <th>action_delta</th>\n",
       "      <th>context_diff_to_real</th>\n",
       "      <th>context_delta</th>\n",
       "    </tr>\n",
       "  </thead>\n",
       "  <tbody>\n",
       "    <tr>\n",
       "      <th>0</th>\n",
       "      <td>0.08610747</td>\n",
       "      <td>0.10697090</td>\n",
       "      <td>0.09051612</td>\n",
       "      <td>0.09112201</td>\n",
       "      <td>0.09452505</td>\n",
       "      <td>0.10672373</td>\n",
       "      <td>0.75692870</td>\n",
       "      <td>0.00000000</td>\n",
       "      <td>0.87627132</td>\n",
       "      <td>0.00000000</td>\n",
       "    </tr>\n",
       "    <tr>\n",
       "      <th>500</th>\n",
       "      <td>0.08705604</td>\n",
       "      <td>0.09221834</td>\n",
       "      <td>NaN</td>\n",
       "      <td>0.08299331</td>\n",
       "      <td>0.08198609</td>\n",
       "      <td>0.07599146</td>\n",
       "      <td>0.79170973</td>\n",
       "      <td>0.24615559</td>\n",
       "      <td>0.88427728</td>\n",
       "      <td>0.08661758</td>\n",
       "    </tr>\n",
       "    <tr>\n",
       "      <th>1000</th>\n",
       "      <td>0.08939145</td>\n",
       "      <td>0.11301958</td>\n",
       "      <td>NaN</td>\n",
       "      <td>0.08679147</td>\n",
       "      <td>0.09052395</td>\n",
       "      <td>0.10668506</td>\n",
       "      <td>1.01853061</td>\n",
       "      <td>0.76340735</td>\n",
       "      <td>0.91464524</td>\n",
       "      <td>0.19321758</td>\n",
       "    </tr>\n",
       "    <tr>\n",
       "      <th>2000</th>\n",
       "      <td>0.09251861</td>\n",
       "      <td>0.10603409</td>\n",
       "      <td>NaN</td>\n",
       "      <td>0.09028676</td>\n",
       "      <td>0.15397776</td>\n",
       "      <td>0.10628439</td>\n",
       "      <td>1.73862067</td>\n",
       "      <td>1.70789298</td>\n",
       "      <td>0.99652312</td>\n",
       "      <td>0.34170287</td>\n",
       "    </tr>\n",
       "    <tr>\n",
       "      <th>10000</th>\n",
       "      <td>0.09268524</td>\n",
       "      <td>0.09704712</td>\n",
       "      <td>NaN</td>\n",
       "      <td>0.09829317</td>\n",
       "      <td>0.09539229</td>\n",
       "      <td>0.09257621</td>\n",
       "      <td>2.18938809</td>\n",
       "      <td>2.22344507</td>\n",
       "      <td>1.03555944</td>\n",
       "      <td>0.40151858</td>\n",
       "    </tr>\n",
       "    <tr>\n",
       "      <th>20000</th>\n",
       "      <td>0.09264639</td>\n",
       "      <td>0.09493701</td>\n",
       "      <td>NaN</td>\n",
       "      <td>0.09216787</td>\n",
       "      <td>0.09134166</td>\n",
       "      <td>0.09056984</td>\n",
       "      <td>2.21242505</td>\n",
       "      <td>2.24879912</td>\n",
       "      <td>1.03520993</td>\n",
       "      <td>0.40065441</td>\n",
       "    </tr>\n",
       "  </tbody>\n",
       "</table>\n",
       "</div>"
      ],
      "text/plain": [
       "       policy_rewards        ipw     reg_dm    conv_dm    conv_dr  conv_sndr  \\\n",
       "0          0.08610747 0.10697090 0.09051612 0.09112201 0.09452505 0.10672373   \n",
       "500        0.08705604 0.09221834        NaN 0.08299331 0.08198609 0.07599146   \n",
       "1000       0.08939145 0.11301958        NaN 0.08679147 0.09052395 0.10668506   \n",
       "2000       0.09251861 0.10603409        NaN 0.09028676 0.15397776 0.10628439   \n",
       "10000      0.09268524 0.09704712        NaN 0.09829317 0.09539229 0.09257621   \n",
       "20000      0.09264639 0.09493701        NaN 0.09216787 0.09134166 0.09056984   \n",
       "\n",
       "       action_diff_to_real  action_delta  context_diff_to_real  context_delta  \n",
       "0               0.75692870    0.00000000            0.87627132     0.00000000  \n",
       "500             0.79170973    0.24615559            0.88427728     0.08661758  \n",
       "1000            1.01853061    0.76340735            0.91464524     0.19321758  \n",
       "2000            1.73862067    1.70789298            0.99652312     0.34170287  \n",
       "10000           2.18938809    2.22344507            1.03555944     0.40151858  \n",
       "20000           2.21242505    2.24879912            1.03520993     0.40065441  "
      ]
     },
     "execution_count": 7,
     "metadata": {},
     "output_type": "execute_result"
    }
   ],
   "source": [
    "# Show the performance metrics\n",
    "df4[['policy_rewards', 'ipw', 'reg_dm', 'conv_dm', 'conv_dr', 'conv_sndr', 'action_diff_to_real', 'action_delta', 'context_diff_to_real', 'context_delta']]\n"
   ]
  }
 ],
 "metadata": {
  "kernelspec": {
   "display_name": "OBPEnv",
   "language": "python",
   "name": "python3"
  },
  "language_info": {
   "codemirror_mode": {
    "name": "ipython",
    "version": 3
   },
   "file_extension": ".py",
   "mimetype": "text/x-python",
   "name": "python",
   "nbconvert_exporter": "python",
   "pygments_lexer": "ipython3",
   "version": "3.10.12"
  }
 },
 "nbformat": 4,
 "nbformat_minor": 2
}
